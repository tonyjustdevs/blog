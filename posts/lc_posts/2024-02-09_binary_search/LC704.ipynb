{
 "cells": [
  {
   "cell_type": "raw",
   "metadata": {},
   "source": [
    "---\n",
    "title: \"LC 704. Binary Search\"\n",
    "author: \"Tony Phung\"\n",
    "date: \"2024-02-09\"\n",
    "categories: [leetcode]\n",
    "image: \"binsearch.jpg\"\n",
    "toc: true\n",
    "description: \"First binary search question\"\n",
    "---\n",
    "![](binsearch.jpg)\n",
    "[link to my leetcode profile](https://leetcode.com/tonyjustdevs/)"
   ]
  },
  {
   "cell_type": "markdown",
   "metadata": {},
   "source": [
    "## 1. Problem Description\n",
    "\n",
    "\n",
    "Given an array of integers nums which is sorted in: \n",
    "- **ascending order**, and an \n",
    "- **integer target**, \n",
    "- write a function to search target in **nums**. \n",
    "- If target exists, then \n",
    "    - return its **index**. Otherwise, \n",
    "    - return **-1**\n",
    "\n",
    "You must write an algorithm with **O(log n)** runtime complexity.\n",
    "\n",
    "### 1.1 Example 1:\n",
    "Input: nums = `[-1,0,3,5,9,12]`    \n",
    "target = `9`  \n",
    "Output: `4`  \n",
    "Explanation: `9` exists in nums and its index is `4`  \n",
    "\n",
    "### 1.2 Example 2:\n",
    "Input: nums = `[-1,0,3,5,9,12]`  \n",
    "target = `2`  \n",
    "Output: `-1`  \n",
    "Explanation: `2` does not exist in nums so return `-1`"
   ]
  },
  {
   "cell_type": "markdown",
   "metadata": {},
   "source": [
    "## 3. Code\n",
    "\n",
    "Test the cases that its larger, smaller and on the split.\n",
    "\n",
    "### 3.1 larger that binary split"
   ]
  },
  {
   "cell_type": "code",
   "execution_count": 6,
   "metadata": {},
   "outputs": [
    {
     "data": {
      "text/plain": [
       "4"
      ]
     },
     "execution_count": 6,
     "metadata": {},
     "output_type": "execute_result"
    }
   ],
   "source": [
    "class Solution:\n",
    "    def search(self, nums: [int], target: int) -> int:\n",
    "        l = 0\n",
    "        r = len(nums)\n",
    "\n",
    "        while l<r:\n",
    "            m = (l+r)//2\n",
    "           # [[0],  1, {2}, 3, *4*, [5]]\n",
    "           # [[-1], 0, {3}, 5, *9*, [12]] \n",
    "            if nums[m]<target: #if 3<9:\n",
    "                l = m + 1\n",
    "           # [[3], *4*, [5]]\n",
    "           # [[5], *9*, [12]] \n",
    "            elif nums[m]>target:\n",
    "                r = m\n",
    "            else:\n",
    "                return m\n",
    "        return -1\n",
    "    \n",
    "arr = [-1,0,3,5,9,12]\n",
    "soln = Solution()\n",
    "soln.search(arr, 9)"
   ]
  },
  {
   "cell_type": "markdown",
   "metadata": {},
   "source": [
    "### 3.2 less than binary split"
   ]
  },
  {
   "cell_type": "code",
   "execution_count": 7,
   "metadata": {},
   "outputs": [
    {
     "data": {
      "text/plain": [
       "1"
      ]
     },
     "execution_count": 7,
     "metadata": {},
     "output_type": "execute_result"
    }
   ],
   "source": [
    "class Solution:\n",
    "    def search(self, nums: [int], target: int) -> int:\n",
    "        l = 0\n",
    "        r = len(nums)\n",
    "\n",
    "        while l<r:\n",
    "            m = (l+r)//2\n",
    "           # [[0],1,{2},3,*4*,[5]]\n",
    "           # [{-1}, 9, {10}, 11, 12, [12]] \n",
    "            \n",
    "            if nums[m]<target:\n",
    "                l = m + 1\n",
    "\n",
    "           # [[0],*1*,{2},3,*4*,[5]]\n",
    "           # [{-1}, *9*, {10}, 11, 12, [12]] \n",
    "                \n",
    "            elif nums[m]>target:\n",
    "                \n",
    "           # [[0],*1*,[2],3,*4*,[5]]\n",
    "           # [{-1}, *9*, [10], 11, 12, [12]]                \n",
    "                r = m\n",
    "            else:\n",
    "                return m\n",
    "        return -1\n",
    "\n",
    "arr = [-1,9,10,11,12,12]\n",
    "soln = Solution()\n",
    "soln.search(arr, 9)"
   ]
  },
  {
   "cell_type": "markdown",
   "metadata": {},
   "source": [
    "### 3.3 On a split"
   ]
  },
  {
   "cell_type": "code",
   "execution_count": 11,
   "metadata": {},
   "outputs": [
    {
     "data": {
      "text/plain": [
       "2"
      ]
     },
     "execution_count": 11,
     "metadata": {},
     "output_type": "execute_result"
    }
   ],
   "source": [
    "class Solution:\n",
    "    def search(self, nums: [int], target: int) -> int:\n",
    "        l = 0\n",
    "        r = len(nums)\n",
    "\n",
    "        while l<r:\n",
    "            m = (l+r)//2\n",
    "           # [[0],1,{2},3,*4*,[5]]\n",
    "           # [{7}, 8, {*9*}, 11, 12, [13]] \n",
    "            \n",
    "            if nums[m]<target:\n",
    "                l = m + 1                \n",
    "            elif nums[m]>target:          \n",
    "                r = m\n",
    "            else:\n",
    "                return m\n",
    "        return -1\n",
    "    \n",
    "\n",
    "arr = [7,7,9,11,12,13]\n",
    "soln = Solution()\n",
    "soln.search(arr, 9)"
   ]
  },
  {
   "cell_type": "markdown",
   "metadata": {},
   "source": [
    "### 4.4 Clean version"
   ]
  },
  {
   "cell_type": "code",
   "execution_count": 12,
   "metadata": {},
   "outputs": [],
   "source": [
    "class Solution:\n",
    "    def search(self, nums: [int], target: int) -> int:\n",
    "        l = 0\n",
    "        r = len(nums)\n",
    "\n",
    "        while l<r:\n",
    "            m = (l+r)//2\n",
    "            if nums[m]<target:\n",
    "                l = m + 1                \n",
    "            elif nums[m]>target:\n",
    "                r = m\n",
    "            else:\n",
    "                return m\n",
    "        return -1\n"
   ]
  },
  {
   "cell_type": "markdown",
   "metadata": {},
   "source": [
    "## 6. Submit\n",
    "Middle of the pack\n",
    "![](results.jpg)\n",
    "\n",
    "[Go to Main Blog](https://tonyjustdevs.github.io/blog/)  \n",
    "[Go to LeetCode Blog](https://tonyjustdevs.github.io/blog/leetcode.html)"
   ]
  }
 ],
 "metadata": {
  "kernelspec": {
   "display_name": "leet_venv",
   "language": "python",
   "name": "python3"
  },
  "language_info": {
   "codemirror_mode": {
    "name": "ipython",
    "version": 3
   },
   "file_extension": ".py",
   "mimetype": "text/x-python",
   "name": "python",
   "nbconvert_exporter": "python",
   "pygments_lexer": "ipython3",
   "version": "3.11.5"
  }
 },
 "nbformat": 4,
 "nbformat_minor": 2
}
