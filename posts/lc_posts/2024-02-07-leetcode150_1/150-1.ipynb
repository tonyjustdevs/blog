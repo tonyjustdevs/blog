{
 "cells": [
  {
   "cell_type": "raw",
   "metadata": {},
   "source": [
    "---\n",
    "title: \"LC 150.  Evaluate Reverse Polish Notation (attempt 1)\"\n",
    "author: \"Tony Phung\"\n",
    "date: \"2024-02-07\"\n",
    "categories: [leetcode solved, medium difficulty]\n",
    "image: \"rpn.jpg\"\n",
    "toc: true\n",
    "description: \"Implement a stack using postfix notation\"\n",
    "---\n",
    "![](rpn.jpg)\n",
    "\n",
    "[link to the submission, you can see the question but a login is required to see my results](https://leetcode.com/problems/min-stack/submissions/1167760374/)\n",
    "[link to my leetcode profile](https://leetcode.com/tonyjustdevs/)"
   ]
  },
  {
   "cell_type": "markdown",
   "metadata": {},
   "source": [
    "## 1. Problem Description\n",
    "You are given an array of strings tokens that represents an arithmetic expression in a [Reverse Polish Notation](http://en.wikipedia.org/wiki/Reverse_Polish_notation) (RPN).\n",
    "\n",
    "Input: Evaluate the input **RPN arithmetic expression**.   \n",
    "\n",
    "Output: Return an ***integer that represents the value of the expression.***\n",
    "\n",
    "Note that:\n",
    "\n",
    "1. The valid operators are '`+`', '`-`', '`*`', and '`/`'.  \n",
    "2. Each `operand` may be an integer or another expression.  \n",
    "3. The `division` between two integers always **truncates toward zero**  \n",
    "4. There will not be any division by zero.  \n",
    "5. The input represents a *valid arithmetic expression in a reverse polish notation*.  \n",
    "6. The answer and all the intermediate calculations can be represented in a **32-bit** integer."
   ]
  },
  {
   "cell_type": "markdown",
   "metadata": {},
   "source": [
    "## 2. LeetCode Examples  \n",
    "### 2.1 Example 1\n",
    "Input: tokens = `[\"2\",\"1\",\"+\",\"3\",\"*\"]`  \n",
    "Output: `9`  \n",
    "Explanation: `((2 + 1) * 3) = 9`\n",
    "\n",
    "### 2.2 Example 2\n",
    "Input: tokens = `[\"4\",\"13\",\"5\",\"/\",\"+\"]`  \n",
    "Output: `6`  \n",
    "Explanation: `(4 + (13 / 5)) = 6`\n",
    "\n",
    "### 2.3 Example 3\n",
    "Input: tokens = `[\"10\",\"6\",\"9\",\"3\",\"+\",\"-11\",\"*\",\"/\",\"*\",\"17\",\"+\",\"5\",\"+\"]`  \n",
    "Output: `22`  \n",
    "Explanation:  \n",
    "`((10 * (6 / ((9 + 3) * -11))) + 17) + 5`  \n",
    "`= ((10 * (6 / (12 * -11))) + 17) + 5`  \n",
    "`= ((10 * (6 / -132)) + 17) + 5`  \n",
    "`= ((10 * 0) + 17) + 5`  \n",
    "`= (0 + 17) + 5`  \n",
    "`= 17 + 5`  \n",
    "`= 22`  \n",
    "\n"
   ]
  },
  {
   "cell_type": "markdown",
   "metadata": {},
   "source": [
    "## 2. Background and Analysis \n",
    "\n",
    "The [wiki](https://en.wikipedia.org/wiki/Reverse_Polish_notation) explains this is also known as *postfix notation*, the **operators** follow their **operands**, in contrast to **prefix (Polish) notation** (operators precede their operands).\n"
   ]
  },
  {
   "cell_type": "markdown",
   "metadata": {},
   "source": [
    "### 2.1 Wiki Example\n",
    "To add 3 and 4 together, the expression is `[3 4 +]` rather than `[3 + 4]`.  \n",
    "- The conventional notation expression `[3 − 4 + 5]` becomes `[3 4 − 5 +]`  in reverse Polish notation:  \n",
    "    - 4 is first subtracted from 3, then \n",
    "    - 5 is added to it."
   ]
  },
  {
   "cell_type": "markdown",
   "metadata": {},
   "source": [
    "\n",
    "### 2.2 Stack explanation\n",
    "The concept of a stack, a `last-in/first-out` construct.\n",
    "In the example `[3 4 −]`:  \n",
    "1. **push** `3` to stack: `[3]`\n",
    "2. **push** `4` to stack; ie  `4` is now on top, `3` below it: `[3 4]`\n",
    "3. apply **subtraction** operator:\n",
    "    - **Remove** `top two` items  from the stack: \n",
    "        - performs `3 − 4`, and \n",
    "4. **push** the `result` of `−1` to top of stack."
   ]
  },
  {
   "cell_type": "markdown",
   "metadata": {},
   "source": [
    "### 2.3 Stack table explanation\n",
    "Input `[3 4 −]`:  \n",
    "\n",
    "| Python_Executed                   | Stack_Expected | Output_Expected | Comments |\n",
    "|-----------------------------------|----------------|-----------------|----------|\n",
    "| rpn_obj = rpn_cls()               | [  ]           | null            |initialise stack |\n",
    "| rpn_obj.push(`3`)                 | [`3`]          | null            |push `3` to top of stack |\n",
    "| rpn_obj.push(`4`)                 | [`3`,`4`]      | null            |push `4` to top of stack |\n",
    "| rpn_obj.op()[pt_1]: .pop(top 2)   | [  ]           | `[3,4]`         |remove [`3`] [`4`] top_2 of stack |\n",
    "| rpn_obj.op()[pt_2]: .op(top 2)    | [`-1`]         | null            |operate(`3`,`4`,`-`) |\n",
    "| rpn_obj.op()[pt_3]: .return()     | [`-1`]         | `-1`            |return above `result` |\n",
    "| rpn_obj.op()[pt_4]: .push(result) | [`-1`]         |                 |push `results` to top of stack |"
   ]
  },
  {
   "cell_type": "markdown",
   "metadata": {},
   "source": [
    "\n",
    "\n",
    "\n",
    "1. the `3` is put onto the stack: `[3]`\n",
    "2. then the `4`; the `4` is now on top and the 3 below it: `[3 4]`\n",
    "3. the `subtraction` `***removes the top two items***` from the stack: \n",
    "    - performs `3 − 4`, and \n",
    "    - puts the result of `−1` onto the stack.\n",
    "\n",
    "### 2.3 Why?\n",
    "*The advantage of reverse Polish notation is that it removes the need for order of operations and parentheses that are required by infix notation and can be evaluated linearly, left-to-right.  \n",
    "For example, the infix expression (3 × 4) + (5 × 6) becomes 3 4 × 5 6 × + in reverse Polish notation.*\n",
    "\n",
    "\n"
   ]
  },
  {
   "cell_type": "markdown",
   "metadata": {},
   "source": [
    "\n",
    "### 2.1 Summary Table + Psuedo-Code\n",
    "\n",
    "| Python_Executed | Stack_Expected | Output_Expected | Comments |\n",
    "|-------------------------|----------|----------|----------|\n",
    "| rpn_obj = rpn_class()   | []       | null  | initialise stack |\n",
    "| minStack.push(-2);           |  [-2]  |null |asdf |\n"
   ]
  },
  {
   "cell_type": "markdown",
   "metadata": {},
   "source": [
    "## 3. Code\n",
    "\n",
    "Implement Reverse Polish Notation as a stack"
   ]
  },
  {
   "cell_type": "code",
   "execution_count": 10,
   "metadata": {},
   "outputs": [],
   "source": [
    "class Solution:\n",
    "    def evalRPN(self, tokens: [str]) -> int:\n",
    "        Return None\n",
    "        "
   ]
  },
  {
   "cell_type": "markdown",
   "metadata": {},
   "source": [
    "## 4. Test Functionality"
   ]
  },
  {
   "cell_type": "markdown",
   "metadata": {},
   "source": [
    "## 5. Submit\n",
    "\n",
    "![](results-150-1.jpg)"
   ]
  },
  {
   "cell_type": "markdown",
   "metadata": {},
   "source": [
    "## 6. Some Commentary  \n"
   ]
  }
 ],
 "metadata": {
  "kernelspec": {
   "display_name": "leet_venv",
   "language": "python",
   "name": "python3"
  },
  "language_info": {
   "codemirror_mode": {
    "name": "ipython",
    "version": 3
   },
   "file_extension": ".py",
   "mimetype": "text/x-python",
   "name": "python",
   "nbconvert_exporter": "python",
   "pygments_lexer": "ipython3",
   "version": "3.11.5"
  }
 },
 "nbformat": 4,
 "nbformat_minor": 2
}
