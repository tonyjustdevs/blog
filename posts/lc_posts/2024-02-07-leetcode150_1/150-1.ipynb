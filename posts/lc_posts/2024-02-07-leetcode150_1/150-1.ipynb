{
 "cells": [
  {
   "cell_type": "raw",
   "metadata": {},
   "source": [
    "---\n",
    "title: \"LC 150.  Evaluate Reverse Polish Notation (attempt 1)\"\n",
    "author: \"Tony Phung\"\n",
    "date: \"2024-02-07\"\n",
    "categories: [leetcode solved, medium difficulty]\n",
    "image: \"rpn.jpg\"\n",
    "toc: true\n",
    "description: \"Implement a stack using postfix notation\"\n",
    "---\n",
    "![](rpn.jpg)\n",
    "\n",
    "[link to the submission, you can see the question but a login is required to see my results](https://leetcode.com/problems/min-stack/submissions/1167760374/)\n",
    "[link to my leetcode profile](https://leetcode.com/tonyjustdevs/)"
   ]
  },
  {
   "cell_type": "markdown",
   "metadata": {},
   "source": [
    "## 1. Problem Description\n",
    "You are given an array of strings tokens that represents an arithmetic expression in a [Reverse Polish Notation](http://en.wikipedia.org/wiki/Reverse_Polish_notation) (RPN).\n",
    "\n",
    "Input: Evaluate the input **RPN arithmetic expression**.   \n",
    "\n",
    "Output: Return an ***integer that represents the value of the expression.***\n",
    "\n",
    "Rules:  \n",
    "1. The valid operators are '`+`', '`-`', '`*`', and '`/`'.  \n",
    "2. Each `operand` may be an integer or another expression.  \n",
    "3. The `division` between two integers always **truncates toward zero**  \n",
    "4. There will not be any division by zero.  \n",
    "5. The input represents a *valid arithmetic expression in a reverse polish notation*.  \n",
    "6. The answer and all the intermediate calculations can be represented in a **32-bit** integer."
   ]
  },
  {
   "cell_type": "markdown",
   "metadata": {},
   "source": [
    "## 2. LeetCode Examples  \n",
    "### 2.1 Example 1\n",
    "Input: tokens = `[\"2\",\"1\",\"+\",\"3\",\"*\"]`  \n",
    "Output: `9`  \n",
    "Explanation: `((2 + 1) * 3) = 9`\n",
    "\n",
    "### 2.2 Example 2\n",
    "Input: tokens = `[\"4\",\"13\",\"5\",\"/\",\"+\"]`  \n",
    "Output: `6`  \n",
    "Explanation: `(4 + (13 / 5)) = 6`\n",
    "\n",
    "### 2.3 Example 3\n",
    "Input: tokens = `[\"10\",\"6\",\"9\",\"3\",\"+\",\"-11\",\"*\",\"/\",\"*\",\"17\",\"+\",\"5\",\"+\"]`  \n",
    "Output: `22`  \n",
    "Explanation:  \n",
    "`((10 * (6 / ((9 + 3) * -11))) + 17) + 5`  \n",
    "`= ((10 * (6 / (12 * -11))) + 17) + 5`  \n",
    "`= ((10 * (6 / -132)) + 17) + 5`  \n",
    "`= ((10 * 0) + 17) + 5`  \n",
    "`= (0 + 17) + 5`  \n",
    "`= 17 + 5`  \n",
    "`= 22`  \n",
    "\n"
   ]
  },
  {
   "cell_type": "markdown",
   "metadata": {},
   "source": [
    "## 2. Background and Analysis \n",
    "\n",
    "The [wiki](https://en.wikipedia.org/wiki/Reverse_Polish_notation) explains this is also known as *postfix notation*, the **operators** follow their **operands**, in contrast to **prefix (Polish) notation** (operators precede their operands).\n"
   ]
  },
  {
   "cell_type": "markdown",
   "metadata": {},
   "source": [
    "### 2.1 Wiki Example\n",
    "To add 3 and 4 together, the expression is `[3 4 +]` rather than `[3 + 4]`.  \n",
    "- The conventional notation expression `[3 − 4 + 5]` becomes `[3 4 − 5 +]`  in reverse Polish notation:  \n",
    "    - 4 is first subtracted from 3, then \n",
    "    - 5 is added to it."
   ]
  },
  {
   "cell_type": "markdown",
   "metadata": {},
   "source": [
    "### 2.2 Stack Explanation\n",
    "The concept of a stack, a `last-in/first-out` construct. In the example `[3 4 −]`:  \n",
    "1. **push** `3` to stack: `[3]`\n",
    "2. **push** `4` to stack; ie  `4` is now on top, `3` below it: `[3 4]`\n",
    "3. apply **subtraction** operator:\n",
    "    - **Remove** `top two` items  from the stack: \n",
    "        - performs `3 − 4`, and \n",
    "4. **push** the `result` of `−1` to top of stack."
   ]
  },
  {
   "cell_type": "markdown",
   "metadata": {},
   "source": [
    "### 2.3 Stack Explanation Table\n",
    "\n",
    "#### 2.3.1 Example 1: `[3 4 −]` with all steps\n",
    "Input: \n",
    "Output `[-1]`  \n",
    "| Python Pseudocode                 | Stack_Expected | Output_Expected | Comments |\n",
    "|-----------------------------------|----------------|-----------------|----------|\n",
    "| rpn_obj = rpn_cls()               | `[  ]`         | null            |initialise stack |\n",
    "| rpn_obj.push(`3`)                 | `[3]`          | null            |push `3` to stack_top |\n",
    "| rpn_obj.push(`4`)                 | `[3,4]`        | null            |push `4` to stack_top |\n",
    "| rpn_obj.op()[pt_1]: .pop(top 2)   | `[  ]`         | `[3,4]`         |pop [`3`] [`4`] stack_top_2 |\n",
    "| rpn_obj.op()[pt_2]: .op(top 2)    | `[-1]`         | `[3,4]`         |operate(`3`,`4`,`-`) on stack_top_2 |\n",
    "| rpn_obj.op()[pt_3]: .truncate(res)| `[-1]`         | `-1`            |int(`result`), truncate to zero as per Rule_3 |\n",
    "| rpn_obj.op()[pt_4]: .return()     | `[-1]`         | `-1`            |return operated `result`|\n",
    "| rpn_obj.op()[pt_5]: .push(result) | `[-1]`         | null            |push `results` stack_top|"
   ]
  },
  {
   "cell_type": "markdown",
   "metadata": {},
   "source": [
    "#### 2.3.2 Example 2: `[3 4 × 5 6 × +]` with concise cteps\n",
    "\n",
    "| Python Pseudocode                 | Stack_Expected | Output_Expected | Comments |\n",
    "|-----------------------------------|----------------|-----------------|----------|\n",
    "| rpn_obj = rpn_cls()               | `[  ]`         | null            |initialise stack |\n",
    "| rpn_obj.push(`3`)                 | `[3]`          | null            |push `3` to stack_top |\n",
    "| rpn_obj.push(`4`)                 | `[3,4]`        | null            |push `4` to stack_top |\n",
    "| rpn_obj.op(`x`)                   | `[12]`         | null            |rem top_2 `3,4`, op `3*4`, push top `12`|\n",
    "| rpn_obj.push(`5`)                 | `[12,5]`       | null            |push `5` to stack_top |\n",
    "| rpn_obj.push(`6`)                 | `[12,5,6]`     | null            |push `6` to stack_top |\n",
    "| rpn_obj.op(`x`)                   | `[12,30]`      | null            |rem top_2 `5,6`, op `5*6`, push top `30`|\n",
    "| rpn_obj.op(`+`)             | `[meaning of life]`  | null            |rem top_2 `12,30`, op `12+30`, push top `42`|\n"
   ]
  },
  {
   "cell_type": "markdown",
   "metadata": {},
   "source": [
    "### 2.3 Why?\n",
    "The **advantage** of **RPN** is it:  \n",
    "- removes the need for order of operations and parentheses that are required by infix notation and   \n",
    "- can be evaluated linearly, left-to-right.  \n",
    "\n",
    "For example, the infix expression `(3 × 4) + (5 × 6)` becomes `[3 4 × 5 6 × +]` in reverse Polish notation.*"
   ]
  },
  {
   "cell_type": "markdown",
   "metadata": {},
   "source": [
    "## 3. Code"
   ]
  },
  {
   "cell_type": "code",
   "execution_count": 10,
   "metadata": {},
   "outputs": [],
   "source": [
    "class Solution:\n",
    "    def evalRPN(self, tokens: [str]) -> int:\n",
    "        Return None\n",
    "\n",
    "\n",
    "# [\"2\",\"1\",\"+\",\"3\",\"*\"]  \n",
    "# 9\n",
    "        \n",
    "# [\"4\",\"13\",\"5\",\"/\",\"+\"]\n",
    "# 6\n",
    "        \n",
    "# [\"10\",\"6\",\"9\",\"3\",\"+\",\"-11\",\"*\",\"/\",\"*\",\"17\",\"+\",\"5\",\"+\"]\n",
    "# 22        "
   ]
  },
  {
   "cell_type": "markdown",
   "metadata": {},
   "source": [
    "## 4. Test Functionality"
   ]
  },
  {
   "cell_type": "markdown",
   "metadata": {},
   "source": [
    "## 5. Submit\n",
    "[\"2\",\"1\",\"+\",\"3\",\"*\"]\n",
    "[\"4\",\"13\",\"5\",\"/\",\"+\"]\n",
    "[\"4\",\"13\",\"5\",\"/\",\"+\"]\n",
    "![](results-150-1.jpg)"
   ]
  },
  {
   "cell_type": "markdown",
   "metadata": {},
   "source": [
    "## 6. Some Commentary  \n"
   ]
  }
 ],
 "metadata": {
  "kernelspec": {
   "display_name": "leet_venv",
   "language": "python",
   "name": "python3"
  },
  "language_info": {
   "codemirror_mode": {
    "name": "ipython",
    "version": 3
   },
   "file_extension": ".py",
   "mimetype": "text/x-python",
   "name": "python",
   "nbconvert_exporter": "python",
   "pygments_lexer": "ipython3",
   "version": "3.11.5"
  }
 },
 "nbformat": 4,
 "nbformat_minor": 2
}
