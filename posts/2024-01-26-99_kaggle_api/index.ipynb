{
 "cells": [
  {
   "cell_type": "raw",
   "metadata": {},
   "source": [
    "---\n",
    "title: \"How To Setup a Kaggle API\"\n",
    "author: \"Tony Phung\"\n",
    "date: \"2024-01-26\"\n",
    "categories: [kaggle, api]\n",
    "image: \"kaggle.jpg\"\n",
    "toc: true\n",
    "description: \"Compete on the world stage on Kaggle\"\n",
    "---\n",
    "\n",
    "![](kaggle.jpg)\n"
   ]
  },
  {
   "cell_type": "markdown",
   "metadata": {},
   "source": [
    "This is how I set up my Kaggle API"
   ]
  },
  {
   "cell_type": "markdown",
   "metadata": {},
   "source": [
    "## 1. Install Library\n",
    "`pip install python`"
   ]
  },
  {
   "cell_type": "markdown",
   "metadata": {},
   "source": [
    "## 2. Get API token\n",
    "1. Go to Kaggle\n",
    "2. Settings  \n",
    "3. Create New Token\n",
    "4. Save \"kaggle.json\" file\n",
    "\n"
   ]
  },
  {
   "cell_type": "markdown",
   "metadata": {},
   "source": [
    "## 3. Place the downloded JSON file into your local .kaggle folder (Windows)\n",
    "\n",
    "Location: `C:\\Users\\<Windows-username>\\.kaggle\\kaggle.json`  \n",
    "[Github Reference](https://github.com/Kaggle/kaggle-api)\n"
   ]
  },
  {
   "cell_type": "markdown",
   "metadata": {},
   "source": [
    "### 3.1 Pasted into the wrong folder?\n",
    "If you forgot to paste it into the folder and ran `kaggle` in the terminal, you'll an error to tell you exactly where to put it \n",
    "\n",
    "![](kaggle_error.jpg)"
   ]
  },
  {
   "cell_type": "markdown",
   "metadata": {},
   "source": [
    "## 4 Start Kaggling"
   ]
  },
  {
   "cell_type": "code",
   "execution_count": 7,
   "metadata": {},
   "outputs": [
    {
     "name": "stdout",
     "output_type": "stream",
     "text": [
      "\u001b[1;31mType:\u001b[0m        module\n",
      "\u001b[1;31mString form:\u001b[0m <module 'kaggle' from 'c:\\\\Users\\\\tonyp\\\\miniconda3\\\\envs\\\\fastai\\\\Lib\\\\site-packages\\\\kaggle\\\\__init__.py'>\n",
      "\u001b[1;31mFile:\u001b[0m        c:\\users\\tonyp\\miniconda3\\envs\\fastai\\lib\\site-packages\\kaggle\\__init__.py\n",
      "\u001b[1;31mSource:\u001b[0m     \n",
      "\u001b[1;31m#!/usr/bin/python\u001b[0m\u001b[1;33m\n",
      "\u001b[0m\u001b[1;31m#\u001b[0m\u001b[1;33m\n",
      "\u001b[0m\u001b[1;31m# Copyright 2024 Kaggle Inc\u001b[0m\u001b[1;33m\n",
      "\u001b[0m\u001b[1;31m#\u001b[0m\u001b[1;33m\n",
      "\u001b[0m\u001b[1;31m# Licensed under the Apache License, Version 2.0 (the \"License\");\u001b[0m\u001b[1;33m\n",
      "\u001b[0m\u001b[1;31m# you may not use this file except in compliance with the License.\u001b[0m\u001b[1;33m\n",
      "\u001b[0m\u001b[1;31m# You may obtain a copy of the License at\u001b[0m\u001b[1;33m\n",
      "\u001b[0m\u001b[1;31m#\u001b[0m\u001b[1;33m\n",
      "\u001b[0m\u001b[1;31m#      http://www.apache.org/licenses/LICENSE-2.0\u001b[0m\u001b[1;33m\n",
      "\u001b[0m\u001b[1;31m#\u001b[0m\u001b[1;33m\n",
      "\u001b[0m\u001b[1;31m# Unless required by applicable law or agreed to in writing, software\u001b[0m\u001b[1;33m\n",
      "\u001b[0m\u001b[1;31m# distributed under the License is distributed on an \"AS IS\" BASIS,\u001b[0m\u001b[1;33m\n",
      "\u001b[0m\u001b[1;31m# WITHOUT WARRANTIES OR CONDITIONS OF ANY KIND, either express or implied.\u001b[0m\u001b[1;33m\n",
      "\u001b[0m\u001b[1;31m# See the License for the specific language governing permissions and\u001b[0m\u001b[1;33m\n",
      "\u001b[0m\u001b[1;31m# limitations under the License.\u001b[0m\u001b[1;33m\n",
      "\u001b[0m\u001b[1;33m\n",
      "\u001b[0m\u001b[1;31m# coding=utf-8\u001b[0m\u001b[1;33m\n",
      "\u001b[0m\u001b[1;32mfrom\u001b[0m \u001b[0m__future__\u001b[0m \u001b[1;32mimport\u001b[0m \u001b[0mabsolute_import\u001b[0m\u001b[1;33m\n",
      "\u001b[0m\u001b[1;32mfrom\u001b[0m \u001b[0mkaggle\u001b[0m\u001b[1;33m.\u001b[0m\u001b[0mapi\u001b[0m\u001b[1;33m.\u001b[0m\u001b[0mkaggle_api_extended\u001b[0m \u001b[1;32mimport\u001b[0m \u001b[0mKaggleApi\u001b[0m\u001b[1;33m\n",
      "\u001b[0m\u001b[1;32mfrom\u001b[0m \u001b[0mkaggle\u001b[0m\u001b[1;33m.\u001b[0m\u001b[0mapi_client\u001b[0m \u001b[1;32mimport\u001b[0m \u001b[0mApiClient\u001b[0m\u001b[1;33m\n",
      "\u001b[0m\u001b[1;33m\n",
      "\u001b[0m\u001b[0mapi\u001b[0m \u001b[1;33m=\u001b[0m \u001b[0mKaggleApi\u001b[0m\u001b[1;33m(\u001b[0m\u001b[0mApiClient\u001b[0m\u001b[1;33m(\u001b[0m\u001b[1;33m)\u001b[0m\u001b[1;33m)\u001b[0m\u001b[1;33m\n",
      "\u001b[0m\u001b[0mapi\u001b[0m\u001b[1;33m.\u001b[0m\u001b[0mauthenticate\u001b[0m\u001b[1;33m(\u001b[0m\u001b[1;33m)\u001b[0m\u001b[1;33m\u001b[0m\u001b[1;33m\u001b[0m\u001b[0m"
     ]
    }
   ],
   "source": [
    "import kaggle\n",
    "??kaggle"
   ]
  }
 ],
 "metadata": {
  "kernelspec": {
   "display_name": "fast_ai",
   "language": "python",
   "name": "python3"
  },
  "language_info": {
   "codemirror_mode": {
    "name": "ipython",
    "version": 3
   },
   "file_extension": ".py",
   "mimetype": "text/x-python",
   "name": "python",
   "nbconvert_exporter": "python",
   "pygments_lexer": "ipython3",
   "version": "3.11.5"
  }
 },
 "nbformat": 4,
 "nbformat_minor": 2
}
