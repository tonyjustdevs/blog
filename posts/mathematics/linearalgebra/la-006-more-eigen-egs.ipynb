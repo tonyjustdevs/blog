{
 "cells": [
  {
   "cell_type": "raw",
   "metadata": {
    "vscode": {
     "languageId": "raw"
    }
   },
   "source": [
    "---\n",
    "title: \"LA 6: More Eigen examples\"\n",
    "author: \"Tony Phung\"\n",
    "date: \"2024-02-24\"\n",
    "categories: [linearalgebra]\n",
    "image: \"imgs/6eg.jpg\"\n",
    "toc: true\n",
    "description: \"A few more worked examples\"\n",
    "---"
   ]
  },
  {
   "cell_type": "markdown",
   "metadata": {},
   "source": [
    "## 1. Dark Mode\n",
    "\n",
    "### 1.1 Exampe 1\n",
    "![](imgs/6eigen1_rev.jpg)\n",
    "\n",
    "### 1.2 Exampe 2 \n",
    "![](imgs/6eigen2_rev.jpg)\n",
    "\n",
    "### 1.3 Exampe 3\n",
    "![](imgs/6eigen3_rev.jpg)"
   ]
  },
  {
   "cell_type": "markdown",
   "metadata": {},
   "source": [
    "## 2. Normal Mode\n",
    "\n",
    "### 2.1 Exampe 1\n",
    "![](imgs/6eigen1.jpg)\n",
    "\n",
    "### 2.2 Exampe 2\n",
    "![](imgs/6eigen2.jpg)\n",
    "\n",
    "### 2.3 Exampe 3\n",
    "![](imgs/6eigen3.jpg)"
   ]
  }
 ],
 "metadata": {
  "kernelspec": {
   "display_name": "fastai",
   "language": "python",
   "name": "python3"
  },
  "language_info": {
   "codemirror_mode": {
    "name": "ipython",
    "version": 3
   },
   "file_extension": ".py",
   "mimetype": "text/x-python",
   "name": "python",
   "nbconvert_exporter": "python",
   "pygments_lexer": "ipython3",
   "version": "3.11.5"
  }
 },
 "nbformat": 4,
 "nbformat_minor": 2
}
