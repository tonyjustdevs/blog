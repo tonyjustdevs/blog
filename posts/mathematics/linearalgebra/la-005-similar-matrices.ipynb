{
 "cells": [
  {
   "cell_type": "raw",
   "metadata": {
    "vscode": {
     "languageId": "raw"
    }
   },
   "source": [
    "---\n",
    "title: \"LA 5: It's nice to be similar (matrices)\"\n",
    "author: \"Tony Phung\"\n",
    "date: \"2024-02-22\"\n",
    "categories: [linearalgebra]\n",
    "image: \"imgs/5samesame.jpg\"\n",
    "toc: true\n",
    "description: \"Short working equating eigenvalues between two similar matrices\"\n",
    "---"
   ]
  },
  {
   "cell_type": "markdown",
   "metadata": {},
   "source": [
    "## 1. Dark Mode\n",
    "\n",
    "![](imgs/5dark_sim.jpg)"
   ]
  },
  {
   "cell_type": "markdown",
   "metadata": {},
   "source": [
    "## 2. Normal Mode\n",
    "\n",
    "![](imgs/5sim.jpg)"
   ]
  }
 ],
 "metadata": {
  "kernelspec": {
   "display_name": "fastai",
   "language": "python",
   "name": "python3"
  },
  "language_info": {
   "codemirror_mode": {
    "name": "ipython",
    "version": 3
   },
   "file_extension": ".py",
   "mimetype": "text/x-python",
   "name": "python",
   "nbconvert_exporter": "python",
   "pygments_lexer": "ipython3",
   "version": "3.11.5"
  }
 },
 "nbformat": 4,
 "nbformat_minor": 2
}
