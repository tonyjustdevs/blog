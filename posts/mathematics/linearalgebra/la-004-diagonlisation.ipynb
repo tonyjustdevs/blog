{
 "cells": [
  {
   "cell_type": "raw",
   "metadata": {
    "vscode": {
     "languageId": "raw"
    }
   },
   "source": [
    "---\n",
    "title: \"LA 4: Diagonal Matrices are trivial\"\n",
    "author: \"Tony Phung\"\n",
    "date: \"2024-02-22\"\n",
    "categories: [linearalgebra]\n",
    "image: \"imgs/4diagmat.jpg\"\n",
    "toc: true\n",
    "description: \"Showing the wonderful characteristics of Diagonal Matrices\"\n",
    "---"
   ]
  },
  {
   "cell_type": "markdown",
   "metadata": {},
   "source": [
    "## 1. Dark Mode\n",
    "\n",
    "![](imgs/4diag_reverse.jpg)"
   ]
  },
  {
   "cell_type": "markdown",
   "metadata": {},
   "source": [
    "## 2. Normal Mode\n",
    "\n",
    "![](imgs/4diag.jpg)"
   ]
  }
 ],
 "metadata": {
  "kernelspec": {
   "display_name": "fastai",
   "language": "python",
   "name": "python3"
  },
  "language_info": {
   "codemirror_mode": {
    "name": "ipython",
    "version": 3
   },
   "file_extension": ".py",
   "mimetype": "text/x-python",
   "name": "python",
   "nbconvert_exporter": "python",
   "pygments_lexer": "ipython3",
   "version": "3.11.5"
  }
 },
 "nbformat": 4,
 "nbformat_minor": 2
}
