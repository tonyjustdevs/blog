{
 "cells": [
  {
   "cell_type": "raw",
   "metadata": {
    "vscode": {
     "languageId": "raw"
    }
   },
   "source": [
    "---\n",
    "title: \"Calculus 10: Generating & Coding A Sequence\"\n",
    "author: \"Tony Phung\"\n",
    "date: \"2025-01-19\"\n",
    "categories: [calculus]\n",
    "image: \"imgs/calc-009-seq-ex.png\"\n",
    "toc: true\n",
    "description: \"From Ch10-1 Sequences, Thomas 13e pp.581\"\n",
    "---"
   ]
  },
  {
   "cell_type": "markdown",
   "metadata": {},
   "source": [
    "* Working out: for exercise 7-11 (odd only)\n",
    "* Python and Code: for exercise 7 "
   ]
  },
  {
   "cell_type": "markdown",
   "metadata": {},
   "source": [
    "\n",
    "# 1. Workout\n",
    "* Ex-10-Ex-7: $a_1=1,\\ a_{n+1}=a_n+(1/2^n)$ (code & chart: done)\n",
    "* Ex-10-Ex-9: $a_1=2,\\ a_{n+1}=1^{n+1}a_n/2$ (code & charts: tba)\n",
    "* Ex-10-Ex-11: $a_1=a_2=1,\\ a_{n+2}=a_{n+1}+a_n$ (code & charts: tba)"
   ]
  },
  {
   "cell_type": "markdown",
   "metadata": {},
   "source": [
    "![](imgs/10-1-ex-7-11.png)"
   ]
  },
  {
   "cell_type": "markdown",
   "metadata": {},
   "source": [
    "# 2. Ex-10-Ex-7: $a_1=1,\\ a_{n+1}=a_n+(1/2^n)$"
   ]
  },
  {
   "cell_type": "markdown",
   "metadata": {},
   "source": [
    "## 2.1 Ex-7: Attempt 1"
   ]
  },
  {
   "cell_type": "code",
   "execution_count": 8,
   "metadata": {},
   "outputs": [
    {
     "data": {
      "text/plain": [
       "[(1, 1),\n",
       " (2, 1.5),\n",
       " (3, 1.75),\n",
       " (4, 1.875),\n",
       " (5, 1.9375),\n",
       " (6, 1.96875),\n",
       " (7, 1.984375),\n",
       " (8, 1.9921875),\n",
       " (9, 1.99609375),\n",
       " (10, 1.998046875)]"
      ]
     },
     "execution_count": 8,
     "metadata": {},
     "output_type": "execute_result"
    }
   ],
   "source": [
    "a_n = 1\n",
    "n = 1\n",
    "seq_fracs_list = [(1,1)]\n",
    "for n in range(1,10):\n",
    "    if n == 1:\n",
    "        a_n = 1\n",
    "    a_n1 = a_n + (1/2**n)\n",
    "    seq_fracs_list.append((n+1,a_n1)) # append to list\n",
    "    a_n = a_n1\n",
    "seq_fracs_list\n"
   ]
  },
  {
   "cell_type": "markdown",
   "metadata": {},
   "source": [
    "## 2.2 Ex-7: Attempt 2: separate numerator & denomator\n"
   ]
  },
  {
   "cell_type": "code",
   "execution_count": 9,
   "metadata": {},
   "outputs": [
    {
     "data": {
      "text/plain": [
       "[(1, 1),\n",
       " (2, 1.5, Fraction(3, 2)),\n",
       " (3, 1.75, Fraction(7, 4)),\n",
       " (4, 1.875, Fraction(15, 8)),\n",
       " (5, 1.9375, Fraction(31, 16)),\n",
       " (6, 1.96875, Fraction(63, 32)),\n",
       " (7, 1.984375, Fraction(127, 64)),\n",
       " (8, 1.9921875, Fraction(255, 128)),\n",
       " (9, 1.99609375, Fraction(511, 256)),\n",
       " (10, 1.998046875, Fraction(1023, 512)),\n",
       " (11, 1.9990234375, Fraction(2047, 1024)),\n",
       " (12, 1.99951171875, Fraction(4095, 2048)),\n",
       " (13, 1.999755859375, Fraction(8191, 4096)),\n",
       " (14, 1.9998779296875, Fraction(16383, 8192)),\n",
       " (15, 1.99993896484375, Fraction(32767, 16384)),\n",
       " (16, 1.999969482421875, Fraction(65535, 32768)),\n",
       " (17, 1.9999847412109375, Fraction(131071, 65536)),\n",
       " (18, 1.9999923706054688, Fraction(262143, 131072)),\n",
       " (19, 1.9999961853027344, Fraction(524287, 262144)),\n",
       " (20, 1.9999980926513672, Fraction(1048575, 524288)),\n",
       " (21, 1.9999990463256836, Fraction(2097151, 1048576)),\n",
       " (22, 1.9999995231628418, Fraction(4194303, 2097152)),\n",
       " (23, 1.999999761581421, Fraction(8388607, 4194304)),\n",
       " (24, 1.9999998807907104, Fraction(16777215, 8388608)),\n",
       " (25, 1.9999999403953552, Fraction(33554431, 16777216)),\n",
       " (26, 1.9999999701976776, Fraction(67108863, 33554432)),\n",
       " (27, 1.9999999850988388, Fraction(134217727, 67108864)),\n",
       " (28, 1.9999999925494194, Fraction(268435455, 134217728)),\n",
       " (29, 1.9999999962747097, Fraction(536870911, 268435456)),\n",
       " (30, 1.9999999981373549, Fraction(1073741823, 536870912))]"
      ]
     },
     "execution_count": 9,
     "metadata": {},
     "output_type": "execute_result"
    }
   ],
   "source": [
    "from fractions import Fraction\n",
    "\n",
    "a_n = 1\n",
    "n = 1\n",
    "seq_fracs_list = [(1,1)]\n",
    "nvals=30\n",
    "for n in range(1,nvals):\n",
    "    if n == 1:\n",
    "        a_n = 1\n",
    "    a_n1 = a_n + (1/2**n)\n",
    "    seq_fracs_list.append((n+1,a_n1,Fraction(a_n1))) # append to list\n",
    "    a_n = a_n1\n",
    "    \n",
    "seq_fracs_list"
   ]
  },
  {
   "cell_type": "markdown",
   "metadata": {},
   "source": [
    "## 2.3 Ex-7: Attempt 2: get `xs` & `ys`"
   ]
  },
  {
   "cell_type": "code",
   "execution_count": 10,
   "metadata": {},
   "outputs": [],
   "source": [
    "xs = [tple[0] for tple in seq_fracs_list[0:nvals]]\n",
    "ys = [tple[1] for tple in seq_fracs_list[0:nvals]]"
   ]
  },
  {
   "cell_type": "markdown",
   "metadata": {},
   "source": [
    "\n",
    "## 2.4 Ex-7: Attempt 2: Chart"
   ]
  },
  {
   "cell_type": "code",
   "execution_count": 11,
   "metadata": {},
   "outputs": [
    {
     "name": "stdout",
     "output_type": "stream",
     "text": [
      "[1, 1.5, 1.75, 1.875, 1.9375, 1.96875, 1.984375, 1.9921875, 1.99609375, 1.998046875, 1.9990234375, 1.99951171875, 1.999755859375, 1.9998779296875, 1.99993896484375, 1.999969482421875, 1.9999847412109375, 1.9999923706054688, 1.9999961853027344, 1.9999980926513672, 1.9999990463256836, 1.9999995231628418, 1.999999761581421, 1.9999998807907104, 1.9999999403953552, 1.9999999701976776, 1.9999999850988388, 1.9999999925494194, 1.9999999962747097, 1.9999999981373549]\n"
     ]
    },
    {
     "name": "stderr",
     "output_type": "stream",
     "text": [
      "/tmp/ipykernel_16221/1066855485.py:98: UserWarning: No artists with labels found to put in legend.  Note that artists whose label start with an underscore are ignored when legend() is called with no argument.\n",
      "  plt.legend(loc='upper left')\n"
     ]
    },
    {
     "data": {
      "text/plain": [
       "(0.9, 2.1)"
      ]
     },
     "execution_count": 11,
     "metadata": {},
     "output_type": "execute_result"
    },
    {
     "data": {
      "image/png": "[encoded data removed]",
      "text/plain": [
       "<Figure size 640x480 with 1 Axes>"
      ]
     },
     "metadata": {},
     "output_type": "display_data"
    }
   ],
   "source": [
    "from matplotlib.ticker import MaxNLocator\n",
    "import numpy as np\n",
    "import matplotlib.pyplot as plt\n",
    "import matplotlib.ticker as ticker\n",
    "### x-values ###\n",
    "# xpt = 0.01\n",
    "xpt = 1.5\n",
    "x_deviation = 0.5\n",
    "# x_increments = 21\n",
    "x_increments = x_deviation*2+1\n",
    "xs_min = xpt - x_deviation\n",
    "xs_max = xpt + x_deviation\n",
    "# xs = np.linspace(xs_min, xs_max, x_increments)  # XS\n",
    "xs = xs\n",
    "# print(xs)\n",
    "### exclude x-values ### (eg f(x!=0)=1/x, f(x>0)=log(x))\n",
    "# xs = xs[xs != 0]\n",
    "# xs = xs[xs > 0]\n",
    "# xs = xs[xs > 0]\n",
    "# print(xs)\n",
    "### the function ###\n",
    "# lbl_fx = r'$f(x)= 6.1t^{2}-9.28t+16.43$'   # LABEL\n",
    "# lbl_fx = r'$\\lim_{h \\rightarrow 0} \\frac{a^h-1}{h}$'   # LABEL\n",
    "# lbl_fx = r'$a_n= \\frac{1-n}{n^2}$'\n",
    "lbl_fx = r'$a_1=1,\\ a_{n+1}=a_n+(1/2^n)$'\n",
    "# fx_fx = lambda x: np.log(x)  # f(x)\n",
    "# fx_fx       = lambda n:       (1-n)/n**2 # f(x)\n",
    "# fx_fx       = lambda n:      1+(1/(2**n)) # f(x)\n",
    "# fx_fx0_5    = lambda h:    (0.5**h-1)/h  # f(x)\n",
    "# fx_fx2_5    = lambda h:    (2.5**h-1)/h  # f(x)\n",
    "# fx_fx1_5    = lambda h:    (1.5**h-1)/h  # f(x)\n",
    "# fx_fx2      = lambda h:      (2**h-1)/h  # f(x)\n",
    "# fx_fx3      = lambda h:      (3**h-1)/h  # f(x)\n",
    "# fx_fx10      = lambda h:      (10**h-1)/h  # f(x)\n",
    "\n",
    "### y-values ###\n",
    "# ys_fx = fx_fx(xs)\n",
    "ys_fx = ys\n",
    "print(ys_fx)\n",
    "# ypt_fx = fx_fx(xpt)\n",
    "# print(f\"ypt_fx_at_P(x={xpt}): {ypt_fx}\")\n",
    "\n",
    "# ys_fx0_5 = fx_fx0_5(xs)\n",
    "# ys_fx2_5 = fx_fx2_5(xs)\n",
    "# ys_fx1_5 = fx_fx1_5(xs)\n",
    "# ys_fx2 = fx_fx2(xs)\n",
    "# ys_fx3 = fx_fx3(xs)\n",
    "# ys_fx10 = fx_fx10(xs)\n",
    "\n",
    "### fractions? ###\n",
    "# lbl_denom = r'$f(x)=x-2$'\n",
    "# fx_denom = lambda x: x-2\n",
    "# ys_denom = fx_denom(xs)\n",
    "\n",
    "### derivative ###\n",
    "# lbl_dydx = r\"$f'(x)=6.10*(2t)-9.28$ (dydx or slope fn)\"\n",
    "# fx_dydx = lambda x: 6.1*(2*x)-9.28\n",
    "# xpt_dydx = xpt\n",
    "# dydx = fx_dydx(xpt_dydx)\n",
    "# print(f\"ypt_dydx_at_P(x={xpt_dydx}): {dydx}\")\n",
    "\n",
    "### tangent ###\n",
    "# c_tangent = ypt_fx-(dydx)*(xpt)\n",
    "# tgt = \"tangent\"\n",
    "# lbl_tangent = rf'$f_t(x)={dydx:,.1f}t+{c_tangent:,.1f}$ (tangent at x={xpt})'\n",
    "# fx_tangent = lambda x: dydx*xs+c_tangent\n",
    "# ys_tangent = fx_tangent(xs)\n",
    "\n",
    "### plot things ####\n",
    "# plt.plot(xs, ys_fx,  'r^-', linewidth=2, markersize=6, label=lbl_fx)\n",
    "# plt.plot(xs, ys_fx,  'r^-', linewidth=2, markersize=6, label=\"base 2\")\n",
    "# plt.plot(xs, ys_fx0_5,  'bo-', linewidth=2, markersize=6, label=\"base $a$: 0.5\")\n",
    "# plt.plot(xs, ys_fx2_5,  'gv--', linewidth=2, markersize=6, label=\"base $a$: 2.5\")\n",
    "# plt.plot(xs, ys_fx1_5,  'y^-.', linewidth=2, markersize=6, label=\"base $a$: 1.5\")\n",
    "# plt.plot(xs, ys_fx2,  'c<-', linewidth=2, markersize=6, label=\"base $a$: 2\")\n",
    "# plt.plot(xs, ys_fx3,  'm>:', linewidth=2, markersize=6, label=\"base $a$: 3\")\n",
    "# plt.plot(xs, ys_fx10,  'k-.', linewidth=2, markersize=6, label=\"base $a$: 10\")\n",
    "plt.scatter(xs, ys_fx, marker=\"o\")\n",
    "# plt.plot(xs, ys_tangent,      'yo-', linewidth=2, markersize=6, label=lbl_tangent)\n",
    "# plt.plot(xs, ys_denom,      'bo-', linewidth=2, markersize=8, label=lbl_denom)\n",
    "# plt.scatter(x=xpt, y=fx_fx(xpt), marker=\"o\")\n",
    "\n",
    "##### EXTRAS: title, grid, legend, zooming, ticks, hline, vline, tickers #####\n",
    "\n",
    "# title\n",
    "# plot_title = lbl_fx + f\" & it's tangent at x={xpt}\"\n",
    "# plot_title = lbl_fx + \"at (4,2)\"\n",
    "plot_title = lbl_fx\n",
    "# plot_title = lbl_denom + \" and \" + lbl_denom + \"at (3,3)\"\n",
    "# plot_title = lbl_fx + \" and \" + lbl_tangent + \"at (4,2)\"\n",
    "plt.title(plot_title, loc='left')\n",
    "\n",
    "# grid \n",
    "plt.grid(color='lightgrey', linestyle='--', linewidth=0.5)\n",
    "\n",
    "# legend plt.legend(loc='upper right')\n",
    "# plt.legend(loc='lower right')\n",
    "plt.legend(loc='upper left')\n",
    "\n",
    "# zoom! enhance! #\n",
    "# plt.xlim(xpt-5,xpt+5)  # x-rng\n",
    "# plt.xlim(,xs_max)  # x-rng\n",
    "plt.ylim(0.9, 2.1)  # y-rng\n",
    "\n",
    "# vertical, horizontal, \n",
    "# ax = plt.gca()  # Get the current axis\n",
    "# ax.axvline(x=xpt, color='grey', linestyle='--', linewidth=0.5)\n",
    "# ax.axhline(y=fx_fx(xpt), color='grey', linestyle='--', linewidth=0.5)\n",
    "# ax.axvline(x=0, color='grey', linestyle='--', linewidth=0.5)\n",
    "# ax.axhline(y=0, color='grey', linestyle='--', linewidth=0.5)\n",
    "\n",
    "\n",
    "# X-LIMIT & VALUE\n",
    "# plt.vlines(x_at_c,linestyles=\"dotted\", ymin=plt.ylim()[0], ymax=max(ys)) # non-monotonic\n",
    "# plt.plot(x_at_c, 0.5,marker=\"o\",markersize=15, markerfacecolor='none', markeredgecolor='red')\n",
    "\n",
    "# OTHER\n",
    "# b+-- , o:b , r^ , bo    plt.xlabel(\"\") \n",
    "# plt.ylim(bottom=0)  # chart starts from y=0\n",
    "# ax.yaxis.set_minor_locator(ticker.MultipleLocator(0.000025)) # minor ticks\n",
    "# ref: https://matplotlib.org/stable/users/explain/axes/axes_ticks.html\n",
    "\n",
    "\n"
   ]
  }
 ],
 "metadata": {
  "kernelspec": {
   "display_name": "blog-T-2huGx2",
   "language": "python",
   "name": "python3"
  },
  "language_info": {
   "codemirror_mode": {
    "name": "ipython",
    "version": 3
   },
   "file_extension": ".py",
   "mimetype": "text/x-python",
   "name": "python",
   "nbconvert_exporter": "python",
   "pygments_lexer": "ipython3",
   "version": "3.10.12"
  }
 },
 "nbformat": 4,
 "nbformat_minor": 2
}
