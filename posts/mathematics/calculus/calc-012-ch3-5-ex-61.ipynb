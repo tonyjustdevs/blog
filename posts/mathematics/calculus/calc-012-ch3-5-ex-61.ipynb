{
 "cells": [
  {
   "cell_type": "raw",
   "metadata": {
    "vscode": {
     "languageId": "raw"
    }
   },
   "source": [
    "---\n",
    "title: \"Calculus 12: Derivatives Of Trigonometric Functions\"\n",
    "author: \"Tony Phung\"\n",
    "date: \"2025-01-22\"\n",
    "categories: [calculus]\n",
    "image: \"imgs/calc-012-sympy.jpg\"\n",
    "toc: true\n",
    "description: \"Using Python's `sympy` library to find numeric & exact solutions\"\n",
    "---"
   ]
  },
  {
   "cell_type": "markdown",
   "metadata": {
    "vscode": {
     "languageId": "raw"
    }
   },
   "source": [
    "![](imgs/calc-012-sympy.jpg)"
   ]
  },
  {
   "cell_type": "markdown",
   "metadata": {},
   "source": [
    "# 1. Find `x` and $\\frac{dx}{dt}$ for $x=10\\cos(t)$"
   ]
  },
  {
   "cell_type": "markdown",
   "metadata": {},
   "source": [
    "Let $x=10\\cos(t)$  \n",
    "\n",
    "a. Find $x$     \n",
    "b. Find $\\frac{dx}{dt}$ for:     \n",
    "\n",
    "* $t=0$\n",
    "* $t=\\frac{\\pi}{3}$\n",
    "* $t=\\frac{3\\pi}{4}$\n",
    "\n",
    "Reference from Ch3-5 Ex-61, Thomas 13e pp.161\n"
   ]
  },
  {
   "cell_type": "markdown",
   "metadata": {},
   "source": [
    "# 2. Hand-Written Solution"
   ]
  },
  {
   "cell_type": "markdown",
   "metadata": {},
   "source": [
    "![](imgs/calc-012-trig-ders.png)"
   ]
  },
  {
   "cell_type": "markdown",
   "metadata": {},
   "source": [
    "# 3. Python Solution"
   ]
  },
  {
   "cell_type": "markdown",
   "metadata": {
    "vscode": {
     "languageId": "raw"
    }
   },
   "source": [
    "# 3.1 `numpy` solution (numeric only)"
   ]
  },
  {
   "cell_type": "code",
   "execution_count": 19,
   "metadata": {},
   "outputs": [
    {
     "name": "stdout",
     "output_type": "stream",
     "text": [
      "-------------------------\n",
      "Solutions to a:\n",
      "10.0 5.000000000000001 -7.071067811865475\n",
      "-------------------------\n",
      "Solutions to b:\n",
      "-0.0 -8.660254037844386 -7.0710678118654755\n"
     ]
    }
   ],
   "source": [
    "import numpy as np\n",
    "# Let $x=10\\cos(t)$. Find $x$ and $\\frac{dx}{dt}$ for: \n",
    "\n",
    "fn_10cost = lambda t: 10*np.cos(t)\n",
    "fn_a = fn_10cost(0)\n",
    "fn_b = fn_10cost(np.pi/3)\n",
    "fn_c = fn_10cost(3*np.pi/4)\n",
    "\n",
    "fn_minus_10sint = lambda t: -10*np.sin(t)\n",
    "dxdt_a = fn_minus_10sint(0)\n",
    "dxdt_b = fn_minus_10sint(np.pi/3)\n",
    "dxdt_c = fn_minus_10sint(3*np.pi/4)\n",
    "\n",
    "print(\"-\"*25)\n",
    "print(\"Solutions to a:\")\n",
    "print(fn_a,fn_b,fn_c)\n",
    "print(\"-\"*25)\n",
    "print(\"Solutions to b:\")\n",
    "\n",
    "print(dxdt_a,dxdt_b,dxdt_c)"
   ]
  },
  {
   "cell_type": "markdown",
   "metadata": {},
   "source": [
    "# 3.2 `sympy` solution (numeric and exact solutions)"
   ]
  },
  {
   "cell_type": "code",
   "execution_count": 17,
   "metadata": {},
   "outputs": [
    {
     "name": "stdout",
     "output_type": "stream",
     "text": [
      "--------------------------\n",
      "x Equals\n",
      "t = 0: \t\t        10\n",
      "t = π/3: \t         5\n",
      "t = 3π/4: \t-5*sqrt(2)\n",
      "\n",
      "--------------------------\n",
      "Exact Solutions\n",
      "dxdt: \t\t-10*sin(t)\n",
      "t = 0: \t\t\t0\n",
      "t = π/3: \t-5*sqrt(3)\n",
      "t = 3π/4: \t-5*sqrt(2)\n",
      "\n",
      "--------------------------\n",
      "Numeric Solutions\n",
      "dxdt: \t\t-10*sin(t)\n",
      "t = 0: \t\t        0\n",
      "t = π/3: \t     -8.7\n",
      "t = 3π/4: \t     -7.1\n"
     ]
    }
   ],
   "source": [
    "from sympy import symbols, diff, sin, cos, pi\n",
    "\n",
    "x = symbols('x')\n",
    "t = symbols('t')\n",
    "# t = 10*np.cos()   # does not work with fns, need to use sympys symbol instead\n",
    "x = 10*cos(t)\n",
    "dxdt = diff(x,t)    # calc derv\n",
    "rl = 10\n",
    "\n",
    "x_t_0 = str(10*cos(0))\n",
    "x_t_pi_on_3 = str(10*cos(pi/3))\n",
    "x_t_3pi_on_4 = str(10*cos(3*pi/4))\n",
    "\n",
    "print(\"-\"*26)\n",
    "print(\"x Equals\")\n",
    "print(f\"t = 0: \\t\\t{x_t_0:>{rl}}\")\n",
    "print(f\"t = π/3: \\t{x_t_pi_on_3:>{rl}}\")\n",
    "print(f\"t = 3π/4: \\t{x_t_3pi_on_4:>{rl}}\")\n",
    "print()\n",
    "\n",
    "\n",
    "value_at_t0 = str(dxdt.subs(t, 0))\n",
    "value_at_pi_over_3 = dxdt.subs(t, pi / 3)\n",
    "value_at_3pi_over_4 =dxdt.subs(t, 3 * pi / 4)\n",
    "\n",
    "print(\"-\"*26)\n",
    "print(\"Exact Solutions\")\n",
    "print(f\"dxdt: \\t\\t{str(dxdt):>{rl}}\")\n",
    "print(f\"t = 0: \\t\\t\\t{value_at_t0}\")\n",
    "print(f\"t = π/3: \\t{value_at_pi_over_3}\")\n",
    "print(f\"t = 3π/4: \\t{value_at_3pi_over_4}\")\n",
    "print()\n",
    "print(\"-\"*26)\n",
    "print(\"Numeric Solutions\")\n",
    "print(f\"dxdt: \\t\\t{str(dxdt):>{rl}}\")\n",
    "print(f\"t = 0: \\t\\t{value_at_t0:>{rl-1}}\")\n",
    "print(f\"t = π/3: \\t{round(value_at_pi_over_3,1):>{rl-1}}\")\n",
    "print(f\"t = 3π/4: \\t{round(value_at_3pi_over_4,1):>{rl-1}}\")"
   ]
  }
 ],
 "metadata": {
  "kernelspec": {
   "display_name": "blog-T-2huGx2",
   "language": "python",
   "name": "python3"
  },
  "language_info": {
   "codemirror_mode": {
    "name": "ipython",
    "version": 3
   },
   "file_extension": ".py",
   "mimetype": "text/x-python",
   "name": "python",
   "nbconvert_exporter": "python",
   "pygments_lexer": "ipython3",
   "version": "3.10.12"
  }
 },
 "nbformat": 4,
 "nbformat_minor": 2
}
