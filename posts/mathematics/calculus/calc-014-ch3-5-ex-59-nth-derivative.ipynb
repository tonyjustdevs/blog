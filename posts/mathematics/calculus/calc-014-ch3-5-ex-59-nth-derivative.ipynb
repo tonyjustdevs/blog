{
 "cells": [
  {
   "cell_type": "raw",
   "metadata": {
    "vscode": {
     "languageId": "raw"
    }
   },
   "source": [
    "---\n",
    "title: \"Calculus 14: n'th Derivative with `%` (modulo) & `sympy`\"\n",
    "author: \"Tony Phung\"\n",
    "date: \"2025-01-25\"\n",
    "categories: [calculus]\n",
    "image: \"imgs/calc-014-sympy.png\"\n",
    "toc: true\n",
    "description: \"From Ch3-5 Derivatives of Trigonometric Functions, Thomas 13e pp.161\"\n",
    "---"
   ]
  },
  {
   "cell_type": "markdown",
   "metadata": {},
   "source": [
    "![](imgs/calc-014-sympy.png)\n"
   ]
  },
  {
   "cell_type": "markdown",
   "metadata": {},
   "source": [
    "# 1. `n`'th derivatives of $\\cos{x}$ \n",
    "\n",
    "* Find first few derivatives of: $$\\cos(x)$$\n",
    "\n",
    "* Look for a pattern, then find: $$\\frac{d^{99}}{dx^{99}}\\cos(x)$$"
   ]
  },
  {
   "cell_type": "markdown",
   "metadata": {},
   "source": [
    "# 2. Hand-Written Solution"
   ]
  },
  {
   "cell_type": "markdown",
   "metadata": {},
   "source": [
    "![](imgs/calc-014-3-5-ex-59-nth-derivative.png)"
   ]
  },
  {
   "cell_type": "markdown",
   "metadata": {},
   "source": [
    "# 3. Validating `n`'th Derivative - Modulus 4 (Python) "
   ]
  },
  {
   "cell_type": "code",
   "execution_count": 1,
   "metadata": {},
   "outputs": [
    {
     "name": "stdout",
     "output_type": "stream",
     "text": [
      "0mod4: 0\n",
      "1mod4: 1\n",
      "2mod4: 2\n",
      "3mod4: 3\n",
      "4mod4: 0\n",
      "5mod4: 1\n",
      "6mod4: 2\n",
      "7mod4: 3\n",
      "8mod4: 0\n",
      "9mod4: 1\n"
     ]
    }
   ],
   "source": [
    "for i in range(10):\n",
    "    print(f\"{i}mod4: {i%4}\")"
   ]
  },
  {
   "cell_type": "markdown",
   "metadata": {},
   "source": [
    "# 4. Validating `n`'th Derivative - `sympy`"
   ]
  },
  {
   "cell_type": "code",
   "execution_count": 2,
   "metadata": {},
   "outputs": [
    {
     "name": "stdout",
     "output_type": "stream",
     "text": [
      "x <class 'sympy.core.symbol.Symbol'>\n",
      "ddx1(cosx): -sin(x)\n",
      "ddx2(cosx): -cos(x)\n",
      "ddx3(cosx): sin(x)\n",
      "ddx4(cosx): cos(x)\n",
      "ddx5(cosx): -sin(x)\n"
     ]
    }
   ],
   "source": [
    "import sympy as sp\n",
    "x = sp.Symbol('x')\n",
    "print(x,type(x))\n",
    "# sp.diff(sp.sin(x), x)\n",
    "# sp.diff(sp.sin(x), x,1)\n",
    "# sp.diff(sp.sin(x), x,2)\n",
    "# sp.diff(sp.cos(x), x,3)\n",
    "for i in range(1,6):\n",
    "    print(f\"ddx{i}(cosx): {sp.diff(sp.cos(x), x,i)}\")\n"
   ]
  },
  {
   "cell_type": "markdown",
   "metadata": {},
   "source": [
    "# 5. Solution - `sympy`\n",
    "$\\frac{d^{99}}{dx^{99}}\\cos{x}$"
   ]
  },
  {
   "cell_type": "code",
   "execution_count": 3,
   "metadata": {},
   "outputs": [
    {
     "name": "stdout",
     "output_type": "stream",
     "text": [
      "ddx99(cosx): sin(x)\n"
     ]
    }
   ],
   "source": [
    "x = sp.Symbol('x')\n",
    "print(f\"ddx{99}(cosx): {sp.diff(sp.cos(x), x,99)}\")\n"
   ]
  }
 ],
 "metadata": {
  "kernelspec": {
   "display_name": "blog-T-2huGx2",
   "language": "python",
   "name": "python3"
  },
  "language_info": {
   "codemirror_mode": {
    "name": "ipython",
    "version": 3
   },
   "file_extension": ".py",
   "mimetype": "text/x-python",
   "name": "python",
   "nbconvert_exporter": "python",
   "pygments_lexer": "ipython3",
   "version": "3.10.12"
  }
 },
 "nbformat": 4,
 "nbformat_minor": 2
}
