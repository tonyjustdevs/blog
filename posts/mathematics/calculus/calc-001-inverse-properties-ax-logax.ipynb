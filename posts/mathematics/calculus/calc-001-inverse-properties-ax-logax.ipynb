{
 "cells": [
  {
   "cell_type": "raw",
   "metadata": {
    "vscode": {
     "languageId": "raw"
    }
   },
   "source": [
    "---\n",
    "title: \"Calculus 1: Inverse Properties of $a^x$ and $\\\\log_a x$\"\n",
    "author: \"Tony Phung\"\n",
    "date: \"2024-10-07\"\n",
    "categories: [calculus]\n",
    "image: \"imgs/lazy.jpg\"\n",
    "toc: true\n",
    "description: \"Exploring the compositions of $a^x$, $\\\\log_a x$, $e^x$ and $\\\\ln x$ and deriving the Change of Base formula\"\n",
    "---\n"
   ]
  },
  {
   "cell_type": "markdown",
   "metadata": {},
   "source": [
    "## 1. Working-Out\n",
    "![](imgs/1_inv_props.png)"
   ]
  }
 ],
 "metadata": {
  "kernelspec": {
   "display_name": "blog-SIEQFZFr",
   "language": "python",
   "name": "python3"
  },
  "language_info": {
   "codemirror_mode": {
    "name": "ipython",
    "version": 3
   },
   "file_extension": ".py",
   "mimetype": "text/x-python",
   "name": "python",
   "nbconvert_exporter": "python",
   "pygments_lexer": "ipython3",
   "version": "3.10.12"
  }
 },
 "nbformat": 4,
 "nbformat_minor": 2
}
