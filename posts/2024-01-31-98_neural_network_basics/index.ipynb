{
 "cells": [
  {
   "cell_type": "raw",
   "metadata": {},
   "source": [
    "---\n",
    "title: \"Neural Network Basics (Part 1)\"\n",
    "author: \"Tony Phung\"\n",
    "date: \"2024-01-31\"\n",
    "categories: [kaggle, api]\n",
    "image: \"mae.jpg\"\n",
    "toc: true\n",
    "description: \"Manually fitting a Line (Quadratic Function) to a dataset\"\n",
    "---"
   ]
  },
  {
   "cell_type": "markdown",
   "metadata": {},
   "source": [
    "Automation of finding the lines of best fit based on Mean Average Error (MAE)"
   ]
  },
  {
   "cell_type": "markdown",
   "metadata": {},
   "source": [
    "## 1. Import Libraries"
   ]
  },
  {
   "cell_type": "code",
   "execution_count": 6,
   "metadata": {},
   "outputs": [],
   "source": [
    "from ipywidgets import interact\n",
    "from fastai.basics import *\n",
    "import pandas as pd\n",
    "from functools import partial"
   ]
  },
  {
   "cell_type": "markdown",
   "metadata": {},
   "source": [
    "## 2. Upload Data"
   ]
  },
  {
   "cell_type": "code",
   "execution_count": 3,
   "metadata": {},
   "outputs": [],
   "source": [
    "df = pd.read_csv(\"upload_dataset.csv\")"
   ]
  },
  {
   "cell_type": "markdown",
   "metadata": {},
   "source": [
    "## 3. Create Customisable Quadratic functions and Interactively Plot with MAE"
   ]
  },
  {
   "cell_type": "code",
   "execution_count": 8,
   "metadata": {},
   "outputs": [],
   "source": [
    "\n",
    "def gen_quad_fn(a,b,c,x): return a*x**2 + b*x + c\n",
    "def custom_quad_fn(a,b,c): return partial(gen_quad_fn,a,b,c)\n",
    "def mae(prediction, actual): return np.mean((prediction-actual)**2)"
   ]
  },
  {
   "cell_type": "code",
   "execution_count": 9,
   "metadata": {},
   "outputs": [
    {
     "data": {
      "application/vnd.jupyter.widget-view+json": {
       "model_id": "dc5520f156364f37b0e00c337be189b1",
       "version_major": 2,
       "version_minor": 0
      },
      "text/plain": [
       "interactive(children=(FloatSlider(value=2.0, description='a', max=5.0), FloatSlider(value=2.0, description='b'…"
      ]
     },
     "metadata": {},
     "output_type": "display_data"
    }
   ],
   "source": [
    "plt.rc('figure', dpi=90)\n",
    "\n",
    "@interact(a=(0,5,0.1),b=(0,5,0.1),c=(0,5,0.1))\n",
    "def interactive_plot2(a,b,c):\n",
    "# 1.    plot scatter\n",
    "    plt.scatter(df.x, df.y)\n",
    "\n",
    "# 2     create custom_quad_interactive_fn\n",
    "# 2.1   create xs_interact    \n",
    "    xs_interact = torch.linspace(-2.1,2.1,100)\n",
    "\n",
    "# 3.    create ys_interact\n",
    "    plt.ylim(-1,15)\n",
    "    ys_interact = custom_quad_fn(a,b,c)(xs_interact)\n",
    "\n",
    "# 4.    calc mae\n",
    "    y_actual     = df.y\n",
    "    y_predicted  = custom_quad_fn(a,b,c)(df.x)\n",
    "    interact_mae = mae(y_actual, y_predicted)\n",
    "\n",
    "# 5. plot   \n",
    "    plt.plot(xs_interact, ys_interact)\n",
    "    plt.title(f\"MAE: {interact_mae:.2f}\")\n"
   ]
  },
  {
   "cell_type": "markdown",
   "metadata": {},
   "source": [
    "## 4. Determining the effect of the parameters ($a$, $b$, $c$) in $ax + bx^2 + c$\n",
    "\n",
    "The key thing to understand if whether the loss function gets better or worse when you increase the parameters a little.\n",
    "\n",
    "There are two ways we can try:\n",
    "1. **Manually** adjust the parameter: Move each parameter each way and observe the impact to MAE.  \n",
    "2. Calculate the **Derivative** of the parameter: A Derivative iS a function that tells you if you increase the input THE: \n",
    "    - **direction** in which output changes (increases or decreases) and the;  \n",
    "    - **magnitude** of the change to the output"
   ]
  },
  {
   "cell_type": "code",
   "execution_count": null,
   "metadata": {},
   "outputs": [],
   "source": []
  },
  {
   "cell_type": "code",
   "execution_count": null,
   "metadata": {},
   "outputs": [],
   "source": []
  },
  {
   "cell_type": "code",
   "execution_count": null,
   "metadata": {},
   "outputs": [],
   "source": []
  },
  {
   "cell_type": "code",
   "execution_count": null,
   "metadata": {},
   "outputs": [],
   "source": []
  },
  {
   "cell_type": "code",
   "execution_count": null,
   "metadata": {},
   "outputs": [],
   "source": []
  },
  {
   "cell_type": "markdown",
   "metadata": {},
   "source": [
    "![](int_plot_mae.jpg)"
   ]
  },
  {
   "cell_type": "markdown",
   "metadata": {},
   "source": [
    "## To be Continued...  \n",
    "\n",
    "The next section go through a more automated method to find the smallest MAE.\n",
    "\n",
    "[[TBA] Part 1]()   \n",
    "[[TBA] Part 2]()"
   ]
  }
 ],
 "metadata": {
  "kernelspec": {
   "display_name": "fastai",
   "language": "python",
   "name": "python3"
  },
  "language_info": {
   "codemirror_mode": {
    "name": "ipython",
    "version": 3
   },
   "file_extension": ".py",
   "mimetype": "text/x-python",
   "name": "python",
   "nbconvert_exporter": "python",
   "pygments_lexer": "ipython3",
   "version": "3.11.5"
  }
 },
 "nbformat": 4,
 "nbformat_minor": 2
}
