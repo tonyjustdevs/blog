{
 "cells": [
  {
   "cell_type": "raw",
   "metadata": {},
   "source": [
    "---\n",
    "title: \"LC: 155. Min Stack\"\n",
    "author: \"Tony Phung\"\n",
    "date: \"2024-02-06\"\n",
    "categories: [leetcode]\n",
    "image: \"leetcode.jpg\"\n",
    "toc: true\n",
    "description: \"An introduction to .append(), .pop() and .min() list functions and creating them as method as part of a class\"\n",
    "---\n",
    "![](leetcode.jpg)\n",
    "\n",
    "[link to the submission, you can see the question but a login is required to see my results](https://leetcode.com/problems/min-stack/submissions/1167760374/)\n",
    "\n",
    "[link to my leetcode profile](https://leetcode.com/tonyjustdevs/)"
   ]
  },
  {
   "cell_type": "markdown",
   "metadata": {},
   "source": [
    "## 1. Problem Description\n",
    "Design a stack that supports `push`, `pop`, `top`, and retrieving the `minimum` element in constant time.  \n",
    "\n",
    "Implement the `MinStack` class:  \n",
    "1. `MinStack()` initializes the stack object.  \n",
    "2. void `push(int val)` pushes the element val onto the stack.  \n",
    "3. void `pop()` removes the element on the top of the stack.  \n",
    "4. int `top()` gets the top element of the stack.  \n",
    "5. int `getMin()` retrieves the minimum element in the stack.  \n"
   ]
  },
  {
   "cell_type": "markdown",
   "metadata": {},
   "source": [
    "### 1.1 LeetCode example\n",
    "Input:  \n",
    "`[\"MinStack\",\"push\",\"push\",\"push\",\"getMin\",\"pop\",\"top\",\"getMin\"]`  \n",
    "`[[],[-2],[0],[-3],[],[],[],[]]`\n",
    "\n",
    "Output:  \n",
    "`[null,null,null,null,-3,null,0,-2]  `\n"
   ]
  },
  {
   "cell_type": "markdown",
   "metadata": {},
   "source": [
    "## 2. Analysis \n",
    "I've decomposed the Inputs (code + variables) and expected outputs (stack and return values) for each line of code run.\n",
    "\n",
    "**[Future Iteration 1]**: Learn how to `assert` or include code that checks inputs what they are expected in an automatic way\n",
    "(The Output_Mine should be filled later hopefully automatically. For now, I eyeball the results and have LeetCode accept whether its passing or failing)\n",
    "\n",
    "**[Future Iteration 2]**: I'm using Python `Lists`, I could do the same attempt with `chr` and `string` types as parentheses are simply characters.\n",
    "\n",
    "### 2.1 Summary Table\n",
    "\n",
    "| Python_Executed | Stack_Expected | Output_Expected | Output_Mine |\n",
    "|----------|----------|----------|----------|\n",
    "| MinStack minStack = new MinStack();   | []  | null  | asdf |\n",
    "| minStack.push(-2);           |  [-2]  |null |asdf |\n",
    "| minStack.push(0)    | [0,-2]  |null |asdf |\n",
    "| minStack.push(-3);      | [-3,0,-2]  | null  |asdf |\n",
    "| minStack.getMin()    |   [-3,0,-2]  |-3  |asdf |\n",
    "| minStack.pop()    | [0,-2]|null  |asdf |\n",
    "| minStack.top()   | [0,-2]  | 0|asdf |\n",
    "| minStack.getMin()    | [0,-2]|-2|asdf |"
   ]
  },
  {
   "cell_type": "markdown",
   "metadata": {},
   "source": [
    "## 3. Code\n",
    "\n",
    "Write the MinStack() class and its requried methods."
   ]
  },
  {
   "cell_type": "code",
   "execution_count": 10,
   "metadata": {},
   "outputs": [],
   "source": [
    "class MinStack():\n",
    "    def __init__(self):\n",
    "        self.stack = [] # create empty list\n",
    "\n",
    "    def push(self, val: int) -> None:\n",
    "        self.stack.append(val) # add value to end of list\n",
    "\n",
    "    def pop(self) -> None:\n",
    "        self.stack.pop() # remove last val of the list\n",
    "\n",
    "    def top(self) -> int:\n",
    "        return self.stack[-1] # in a list, top of stack is the last item list[-1]\n",
    "    \n",
    "    def getMin(self) -> int:\n",
    "        return min(self.stack) \n",
    "    "
   ]
  },
  {
   "cell_type": "markdown",
   "metadata": {},
   "source": [
    "## 4. Test Functionality"
   ]
  },
  {
   "cell_type": "code",
   "execution_count": 2,
   "metadata": {},
   "outputs": [],
   "source": [
    "minStack = MinStack()\n"
   ]
  },
  {
   "cell_type": "code",
   "execution_count": 3,
   "metadata": {},
   "outputs": [],
   "source": [
    "minStack.push(-2);\n"
   ]
  },
  {
   "cell_type": "code",
   "execution_count": 4,
   "metadata": {},
   "outputs": [
    {
     "data": {
      "text/plain": [
       "[-2, 0]"
      ]
     },
     "execution_count": 4,
     "metadata": {},
     "output_type": "execute_result"
    }
   ],
   "source": [
    "minStack.push(0);\n",
    "minStack.stack\n"
   ]
  },
  {
   "cell_type": "code",
   "execution_count": 5,
   "metadata": {},
   "outputs": [
    {
     "data": {
      "text/plain": [
       "[-2, 0, -3]"
      ]
     },
     "execution_count": 5,
     "metadata": {},
     "output_type": "execute_result"
    }
   ],
   "source": [
    "minStack.push(-3);\n",
    "minStack.stack\n"
   ]
  },
  {
   "cell_type": "code",
   "execution_count": 6,
   "metadata": {},
   "outputs": [
    {
     "data": {
      "text/plain": [
       "-3"
      ]
     },
     "execution_count": 6,
     "metadata": {},
     "output_type": "execute_result"
    }
   ],
   "source": [
    "minStack.getMin() # // return -3\n",
    "# minStack.stack\n"
   ]
  },
  {
   "cell_type": "code",
   "execution_count": 7,
   "metadata": {},
   "outputs": [
    {
     "data": {
      "text/plain": [
       "[-2, 0]"
      ]
     },
     "execution_count": 7,
     "metadata": {},
     "output_type": "execute_result"
    }
   ],
   "source": [
    "minStack.pop();\n",
    "minStack.stack\n"
   ]
  },
  {
   "cell_type": "code",
   "execution_count": 8,
   "metadata": {},
   "outputs": [
    {
     "data": {
      "text/plain": [
       "0"
      ]
     },
     "execution_count": 8,
     "metadata": {},
     "output_type": "execute_result"
    }
   ],
   "source": [
    "minStack.top() # return 0\n"
   ]
  },
  {
   "cell_type": "code",
   "execution_count": 9,
   "metadata": {},
   "outputs": [
    {
     "data": {
      "text/plain": [
       "-2"
      ]
     },
     "execution_count": 9,
     "metadata": {},
     "output_type": "execute_result"
    }
   ],
   "source": [
    "minStack.getMin() # return -2\n"
   ]
  },
  {
   "cell_type": "markdown",
   "metadata": {},
   "source": [
    "## 5. Submit\n",
    "\n",
    "The code is slow but great memory management.  \n",
    "\n",
    "At the my current level, I'm happy to simply solve the problems. I don't usually solve Mediums that easily.  \n",
    "\n",
    "![](155-1.jpg)"
   ]
  },
  {
   "cell_type": "markdown",
   "metadata": {},
   "source": []
  },
  {
   "cell_type": "markdown",
   "metadata": {},
   "source": [
    "## 6. Some Commentary  \n",
    "The question is framed from a `Java`'s perspective hence there are `types` in front of each declaration:  \n",
    "- `void pop()`  \n",
    "- `int top()`     \n",
    "- `new MinStack()`     \n",
    "\n",
    "**Note**: I've never touched Java 🤭.\n",
    "\n",
    "Java is a **Static-Typed** whilst Python is a **Dynamically-Type**. \n",
    "\n",
    "- Java **requires** variables and method return values be **explicitly declared** at **compile-time**.\n",
    "- Python **data types** are determined at **runtime**. \n",
    "    - Python **doesn't require** explicit type declarations for variables, function return types, or when creating objects.\n",
    "\n",
    "That is, since I'm using Python, so I won't need to declare my return types when creating a method of a class."
   ]
  }
 ],
 "metadata": {
  "kernelspec": {
   "display_name": "leet_venv",
   "language": "python",
   "name": "python3"
  },
  "language_info": {
   "codemirror_mode": {
    "name": "ipython",
    "version": 3
   },
   "file_extension": ".py",
   "mimetype": "text/x-python",
   "name": "python",
   "nbconvert_exporter": "python",
   "pygments_lexer": "ipython3",
   "version": "3.11.5"
  }
 },
 "nbformat": 4,
 "nbformat_minor": 2
}
