{
 "cells": [
  {
   "cell_type": "raw",
   "metadata": {},
   "source": [
    "---\n",
    "title: \"LC: 150. Evaluate Reverse Polish Notation\"\n",
    "author: \"Tony Phung\"\n",
    "date: \"2024-02-07\"\n",
    "categories: [leetcode]\n",
    "image: \"rpn.jpg\"\n",
    "toc: true\n",
    "description: \"Implement a Stack Class using Postfix Notation\"\n",
    "---\n",
    "![](rpn.jpg)\n",
    "\n",
    "[link to question + submission](https://leetcode.com/problems/evaluate-reverse-polish-notation/submissions/1168794169)  \n",
    "[link to my leetcode profile](https://leetcode.com/tonyjustdevs/)"
   ]
  },
  {
   "cell_type": "markdown",
   "metadata": {},
   "source": [
    "## 1. Problem Description\n",
    "You are given an array of strings tokens that represents an arithmetic expression in a [Reverse Polish Notation](http://en.wikipedia.org/wiki/Reverse_Polish_notation) (RPN).\n",
    "\n",
    "Input: Evaluate the input **RPN arithmetic expression**.   \n",
    "\n",
    "Output: Return an ***integer that represents the value of the expression.***\n",
    "\n",
    "Rules:  \n",
    "1. The valid operators are '`+`', '`-`', '`*`', and '`/`'.  \n",
    "2. Each `operand` may be an integer or another expression.  \n",
    "3. The `division` between two integers always **truncates toward zero**  \n",
    "4. There will not be any division by zero.  \n",
    "5. The input represents a *valid arithmetic expression in a reverse polish notation*.  \n",
    "6. The answer and all the intermediate calculations can be represented in a **32-bit** integer."
   ]
  },
  {
   "cell_type": "markdown",
   "metadata": {},
   "source": [
    "## 2. LeetCode Examples  \n",
    "### 2.1 Example 1\n",
    "Input: tokens = `[\"2\",\"1\",\"+\",\"3\",\"*\"]`  \n",
    "Output: `9`  \n",
    "Explanation: `((2 + 1) * 3) = 9`\n",
    "\n",
    "### 2.2 Example 2\n",
    "Input: tokens = `[\"4\",\"13\",\"5\",\"/\",\"+\"]`  \n",
    "Output: `6`  \n",
    "Explanation: `(4 + (13 / 5)) = 6`\n",
    "\n",
    "### 2.3 Example 3\n",
    "Input: tokens = `[\"10\",\"6\",\"9\",\"3\",\"+\",\"-11\",\"*\",\"/\",\"*\",\"17\",\"+\",\"5\",\"+\"]`  \n",
    "Output: `22`  \n",
    "Explanation:  \n",
    "`((10 * (6 / ((9 + 3) * -11))) + 17) + 5`  \n",
    "`= ((10 * (6 / (12 * -11))) + 17) + 5`  \n",
    "`= ((10 * (6 / -132)) + 17) + 5`  \n",
    "`= ((10 * 0) + 17) + 5`  \n",
    "`= (0 + 17) + 5`  \n",
    "`= 17 + 5`  \n",
    "`= 22`  \n",
    "\n"
   ]
  },
  {
   "cell_type": "markdown",
   "metadata": {},
   "source": [
    "## 3. Background and Analysis \n",
    "\n",
    "The [wiki](https://en.wikipedia.org/wiki/Reverse_Polish_notation) explains this is also known as *postfix notation*, the **operators** follow their **operands**, in contrast to **prefix (Polish) notation** (operators precede their operands).\n"
   ]
  },
  {
   "cell_type": "markdown",
   "metadata": {},
   "source": [
    "### 3.1 Wiki Example\n",
    "To add 3 and 4 together, the expression is `[3 4 +]` rather than `[3 + 4]`.  \n",
    "- The conventional notation expression `[3 − 4 + 5]` becomes `[3 4 − 5 +]`  in reverse Polish notation:  \n",
    "    - 4 is first subtracted from 3, then \n",
    "    - 5 is added to it."
   ]
  },
  {
   "cell_type": "markdown",
   "metadata": {},
   "source": [
    "### 3.2 Stack Explanation\n",
    "The concept of a stack, a `last-in/first-out` construct. In the example `[3 4 −]`:  \n",
    "1. **push** `3` to stack: `[3]`\n",
    "2. **push** `4` to stack; ie  `4` is now on top, `3` below it: `[3 4]`\n",
    "3. apply **subtraction** operator:\n",
    "    - **Remove** `top two` items  from the stack: \n",
    "        - performs `3 − 4`, and \n",
    "4. **push** the `result` of `−1` to top of stack."
   ]
  },
  {
   "cell_type": "markdown",
   "metadata": {},
   "source": [
    "### 3.3 Stack Explanation Table\n",
    "\n",
    "#### 3.3.1 Example 1: `[3 4 −]` with all steps  \n",
    "| Python Pseudocode                 | Stack_Expected | Output_Expected | Comments |\n",
    "|-----------------------------------|---------|---------|----------------------------------------------|\n",
    "| rpn_obj = rpn_cls()               | `[  ]`         | null            |initialise stack |\n",
    "| rpn_obj.push(`3`)                 | `[3]`          | null            |push `3` to stack_top |\n",
    "| rpn_obj.push(`4`)                 | `[3,4]`        | null            |push `4` to stack_top |\n",
    "| rpn_obj.op()[pt_1]: .pop(top 2)   | `[  ]`         | `[3,4]`         |pop [`3`] [`4`] stack_top_2 |\n",
    "| rpn_obj.op()[pt_2]: .op(top 2)    | `[-1]`         | `[3,4]`         |operate(`3`,`4`,`-`) on stack_top_2 |\n",
    "| rpn_obj.op()[pt_3]: .truncate(res)| `[-1]`         | `-1`            |int(`result`), truncate to zero as per Rule_3 |\n",
    "| rpn_obj.op()[pt_4]: .return()     | `[-1]`         | `-1`            |return operated `result`|\n",
    "| rpn_obj.op()[pt_5]: .push(result) | `[-1]`         | null            |push `results` stack_top|"
   ]
  },
  {
   "cell_type": "markdown",
   "metadata": {},
   "source": [
    "#### 3.3.2 Example 2: `[3 4 × 5 6 × +]` with concise steps  \n",
    "| Python Pseudocode                 | Stack_Expected | Comments |\n",
    "|-----------------------------------|---------------------|----------------------------------------------|\n",
    "| rpn_obj = rpn_cls()               | `[  ]`         |initialise stack |\n",
    "| rpn_obj.push(`3`)                 | `[3]`          |push `3` to stack_top |\n",
    "| rpn_obj.push(`4`)                 | `[3,4]`        |push `4` to stack_top |\n",
    "| rpn_obj.op(`x`)                   | `[12]`         |rem top_2 `3,4`, op `3*4`, push top `12`|\n",
    "| rpn_obj.push(`5`)                 | `[12,5]`       |push `5` to stack_top |\n",
    "| rpn_obj.push(`6`)                 | `[12,5,6]`     |push `6` to stack_top |\n",
    "| rpn_obj.op(`x`)                   | `[12,30]`      |rem top_2 `5,6`, op `5*6`, push top `30`|\n",
    "| rpn_obj.op(`+`)             | `[meaning of life]`  |rem top_2 `12,30`, op `12+30`, push top `42`|\n"
   ]
  },
  {
   "cell_type": "markdown",
   "metadata": {},
   "source": [
    "### 3.3 Why?\n",
    "The **advantage** of **RPN** is it:  \n",
    "- removes the need for order of operations and parentheses that are required by infix notation and   \n",
    "- can be evaluated linearly, left-to-right.  \n",
    "\n",
    "For example, the infix expression `(3 × 4) + (5 × 6)` becomes `[3 4 × 5 6 × +]` in reverse Polish notation.*"
   ]
  },
  {
   "cell_type": "markdown",
   "metadata": {},
   "source": [
    "## 4. Coding\n",
    "### 4.1 Write pseudo-python-code "
   ]
  },
  {
   "cell_type": "code",
   "execution_count": 10,
   "metadata": {},
   "outputs": [],
   "source": [
    "class Solution:\n",
    "    def evalRPN(self, tokens: [str]) -> int:\n",
    "        # Rule 5: Input expression is valid, no check required, \n",
    "        # ie doesn't start with operateor\n",
    "        if len(tokens) ==0: # check if no token \n",
    "            return 0 # Probably not needed due for R5 but wrote save time in case \n",
    "\n",
    "        stack = [] #initialise stack\n",
    "        stack.append(tokens[0])  # first item is valid due to R5 so set it to stk\n",
    "\n",
    "        ### [1]     operator functions/mapping (*,-,+,/)\n",
    "        ### [2]     .pop_top_2(stack):    \n",
    "        ### [3]     .operate(top_2_items, operator #[2.1]): \n",
    "\n",
    "        for i in range(1,len(tokens)):\n",
    "            # stack = [2]\n",
    "            curr_chr = tokens[i]\n",
    "\n",
    "            if curr_chr in operators:\n",
    "                top_2_items = [top_2, top_1] = pop_top_2(stack) # [1]\n",
    "                # [validation]: do spot check stacked removed top 2\n",
    "                res   = operate(top_2_items,curr_chr) #[2]\n",
    "                stack.append(res)\n",
    "\n",
    "            else: # is a valid integer so just append to top\n",
    "                stack.append(curr_chr)\n",
    "        return stack"
   ]
  },
  {
   "cell_type": "markdown",
   "metadata": {},
   "source": [
    "### 4.2 Write Required Functions"
   ]
  },
  {
   "cell_type": "code",
   "execution_count": 2,
   "metadata": {},
   "outputs": [],
   "source": [
    "class Solution:\n",
    "    def evalRPN(self, tokens: [str]) -> int:\n",
    "        if len(tokens) == 0: \n",
    "            return 0 \n",
    "        stack = []\n",
    "        stack.append(int(tokens[0])) \n",
    "\n",
    "        operators = ['*', '+', '-', '/'] \n",
    "\n",
    "        def operate(operator,x2,x1):\n",
    "            print(f\"operator: {operator}, top2:{x2}, top1:{x1}\")\n",
    "            if operator == '+':\n",
    "                return x2+x1\n",
    "            elif operator == '-':\n",
    "                return x2-x1\n",
    "            elif operator == '*':\n",
    "                return x2*x1\n",
    "            elif operator == '/':\n",
    "                return int(x2/x1)\n",
    "            else:\n",
    "                print(\"unknown operator!\")\n",
    "                return False\n",
    "                \n",
    "        def pop_top_2(stack):\n",
    "            print(len(stack))\n",
    "            if len(stack) <2:\n",
    "                print(\"Stack too short!\")\n",
    "                return False\n",
    "            else:\n",
    "                top_1 = stack.pop()\n",
    "                top_2 = stack.pop()\n",
    "                top_2_items = [top_2,top_1]\n",
    "                print(top_2_items)\n",
    "            return top_2_items\n",
    "\n",
    "        for i in range(1,len(tokens)):\n",
    "            curr_chr = tokens[i]\n",
    "            if curr_chr in operators:\n",
    "                operator = curr_chr\n",
    "                top_2_items = pop_top_2(stack) \n",
    "                res   = operate(operator, top_2_items[0],top_2_items[1])\n",
    "                stack.append(res)\n",
    "            else: \n",
    "                stack.append(int(curr_chr))\n",
    "        print(stack)\n",
    "        return stack\n",
    "soln = Solution()"
   ]
  },
  {
   "cell_type": "markdown",
   "metadata": {},
   "source": [
    "## 5. Test Functionality"
   ]
  },
  {
   "cell_type": "markdown",
   "metadata": {},
   "source": [
    "### 5.1 Case 1 Expected 9"
   ]
  },
  {
   "cell_type": "code",
   "execution_count": 3,
   "metadata": {},
   "outputs": [
    {
     "name": "stdout",
     "output_type": "stream",
     "text": [
      "2\n",
      "[2, 1]\n",
      "operator: +, top2:2, top1:1\n",
      "2\n",
      "[3, 3]\n",
      "operator: *, top2:3, top1:3\n",
      "[9]\n"
     ]
    },
    {
     "data": {
      "text/plain": [
       "[9]"
      ]
     },
     "execution_count": 3,
     "metadata": {},
     "output_type": "execute_result"
    }
   ],
   "source": [
    "soln.evalRPN([\"2\",\"1\",\"+\",\"3\",\"*\"])"
   ]
  },
  {
   "cell_type": "markdown",
   "metadata": {},
   "source": [
    "### 5.2 Case 2 Expected 6\n"
   ]
  },
  {
   "cell_type": "code",
   "execution_count": 4,
   "metadata": {},
   "outputs": [
    {
     "name": "stdout",
     "output_type": "stream",
     "text": [
      "3\n",
      "[13, 5]\n",
      "operator: /, top2:13, top1:5\n",
      "2\n",
      "[4, 2]\n",
      "operator: +, top2:4, top1:2\n",
      "[6]\n"
     ]
    },
    {
     "data": {
      "text/plain": [
       "[6]"
      ]
     },
     "execution_count": 4,
     "metadata": {},
     "output_type": "execute_result"
    }
   ],
   "source": [
    "soln.evalRPN([\"4\",\"13\",\"5\",\"/\",\"+\"])\n"
   ]
  },
  {
   "cell_type": "markdown",
   "metadata": {},
   "source": [
    "### 5.3 Case 2 Expected 22"
   ]
  },
  {
   "cell_type": "code",
   "execution_count": 5,
   "metadata": {},
   "outputs": [
    {
     "name": "stdout",
     "output_type": "stream",
     "text": [
      "4\n",
      "[9, 3]\n",
      "operator: +, top2:9, top1:3\n",
      "4\n",
      "[12, -11]\n",
      "operator: *, top2:12, top1:-11\n",
      "3\n",
      "[6, -132]\n",
      "operator: /, top2:6, top1:-132\n",
      "2\n",
      "[10, 0]\n",
      "operator: *, top2:10, top1:0\n",
      "2\n",
      "[0, 17]\n",
      "operator: +, top2:0, top1:17\n",
      "2\n",
      "[17, 5]\n",
      "operator: +, top2:17, top1:5\n",
      "[22]\n"
     ]
    },
    {
     "data": {
      "text/plain": [
       "[22]"
      ]
     },
     "execution_count": 5,
     "metadata": {},
     "output_type": "execute_result"
    }
   ],
   "source": [
    "soln.evalRPN([\"10\",\"6\",\"9\",\"3\",\"+\",\"-11\",\"*\",\"/\",\"*\",\"17\",\"+\",\"5\",\"+\"])  "
   ]
  },
  {
   "cell_type": "markdown",
   "metadata": {},
   "source": [
    "## 6. Clean Version"
   ]
  },
  {
   "cell_type": "code",
   "execution_count": 6,
   "metadata": {},
   "outputs": [
    {
     "data": {
      "text/plain": [
       "22"
      ]
     },
     "execution_count": 6,
     "metadata": {},
     "output_type": "execute_result"
    }
   ],
   "source": [
    "class Solution:\n",
    "    def evalRPN_clean(self, tokens: [str]) -> int:\n",
    "        stack = []\n",
    "        stack.append(int(tokens[0])) \n",
    "        operators = ['*', '+', '-', '/'] \n",
    "\n",
    "        def operate(operator,x2,x1):\n",
    "            if operator == '+':\n",
    "                return x2+x1\n",
    "            elif operator == '-':\n",
    "                return x2-x1\n",
    "            elif operator == '*':\n",
    "                return x2*x1\n",
    "            else:\n",
    "                return int(x2/x1)\n",
    "\n",
    "        def pop_top_2(stack):\n",
    "            top_1 = stack.pop()\n",
    "            top_2 = stack.pop()\n",
    "            return [top_2,top_1]\n",
    "\n",
    "        for i in range(1,len(tokens)):\n",
    "            curr_chr = tokens[i]\n",
    "            if curr_chr in operators:\n",
    "                top_2_items = pop_top_2(stack) \n",
    "                res   = operate(curr_chr, top_2_items[0],top_2_items[1])\n",
    "                stack.append(res)\n",
    "            else: \n",
    "                stack.append(int(curr_chr))\n",
    "        return stack[0] ############### fixed after submission 2  ###############\n",
    "soln = Solution()\n",
    "\n",
    "soln.evalRPN_clean([\"10\",\"6\",\"9\",\"3\",\"+\",\"-11\",\"*\",\"/\",\"*\",\"17\",\"+\",\"5\",\"+\"])\n"
   ]
  },
  {
   "cell_type": "markdown",
   "metadata": {},
   "source": [
    "### 6.1 Clean Check"
   ]
  },
  {
   "cell_type": "code",
   "execution_count": 7,
   "metadata": {},
   "outputs": [
    {
     "data": {
      "text/plain": [
       "9"
      ]
     },
     "execution_count": 7,
     "metadata": {},
     "output_type": "execute_result"
    }
   ],
   "source": [
    "soln.evalRPN_clean([\"2\",\"1\",\"+\",\"3\",\"*\"])\n"
   ]
  },
  {
   "cell_type": "code",
   "execution_count": 8,
   "metadata": {},
   "outputs": [
    {
     "data": {
      "text/plain": [
       "6"
      ]
     },
     "execution_count": 8,
     "metadata": {},
     "output_type": "execute_result"
    }
   ],
   "source": [
    "soln.evalRPN_clean([\"4\",\"13\",\"5\",\"/\",\"+\"])\n"
   ]
  },
  {
   "cell_type": "code",
   "execution_count": 9,
   "metadata": {},
   "outputs": [
    {
     "data": {
      "text/plain": [
       "22"
      ]
     },
     "execution_count": 9,
     "metadata": {},
     "output_type": "execute_result"
    }
   ],
   "source": [
    "soln.evalRPN_clean([\"10\",\"6\",\"9\",\"3\",\"+\",\"-11\",\"*\",\"/\",\"*\",\"17\",\"+\",\"5\",\"+\"])\n"
   ]
  },
  {
   "cell_type": "markdown",
   "metadata": {},
   "source": [
    "## 7. Submit\n",
    "- First attempt **Failed**, because I returned the stack as a list with result as the first item.\n",
    "- Second attempt **Accepted**! Quick fix after indexing out the value form the list. Not a bad result. \n",
    "    - Top 40% in Speed and \n",
    "    - Top 20% in Memory.\n",
    "\n",
    "![](150-1.jpg)"
   ]
  },
  {
   "cell_type": "markdown",
   "metadata": {},
   "source": [
    "## 6. Notes to self.\n",
    "This took alot of time setting up the problem, the solving part was quite fast.\n",
    "\n",
    "I need to be more seemless in set up!\n",
    "\n",
    "**[Future Iterations 1]**: Incorporate best solutions from LC  \n",
    "**[Future Iterations 2]**: Attempt iterations for speed and memory\n",
    "\n",
    "[Go to Main Blog](https://tonyjustdevs.github.io/blog/)  \n",
    "[Go to LeetCode Blog](https://tonyjustdevs.github.io/blog/leetcode.html)\n"
   ]
  }
 ],
 "metadata": {
  "kernelspec": {
   "display_name": "leet_venv",
   "language": "python",
   "name": "python3"
  },
  "language_info": {
   "codemirror_mode": {
    "name": "ipython",
    "version": 3
   },
   "file_extension": ".py",
   "mimetype": "text/x-python",
   "name": "python",
   "nbconvert_exporter": "python",
   "pygments_lexer": "ipython3",
   "version": "3.11.5"
  }
 },
 "nbformat": 4,
 "nbformat_minor": 2
}
