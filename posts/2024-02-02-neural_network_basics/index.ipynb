{
 "cells": [
  {
   "cell_type": "raw",
   "metadata": {},
   "source": [
    "---\n",
    "title: \"Neural Network Basics (Part 2)\"\n",
    "author: \"Tony Phung\"\n",
    "date: \"2024-02-02\"\n",
    "categories: [Gradient descent]\n",
    "image: \"mae.jpg\"\n",
    "toc: true\n",
    "description: \"Automating Gradient Descent\"\n",
    "---"
   ]
  },
  {
   "cell_type": "markdown",
   "metadata": {},
   "source": [
    "Automation of finding the lines of best fit based on Mean Average Error (MAE)"
   ]
  },
  {
   "cell_type": "markdown",
   "metadata": {},
   "source": [
    "## 1. Import Libraries"
   ]
  },
  {
   "cell_type": "code",
   "execution_count": 1,
   "metadata": {},
   "outputs": [],
   "source": [
    "from ipywidgets import interact\n",
    "from fastai.basics import *\n",
    "import pandas as pd\n",
    "from functools import partial"
   ]
  },
  {
   "cell_type": "markdown",
   "metadata": {},
   "source": [
    "## 2. Upload Data"
   ]
  },
  {
   "cell_type": "code",
   "execution_count": 99,
   "metadata": {},
   "outputs": [],
   "source": [
    "df = pd.read_csv(\"upload_dataset.csv\")\n",
    "x_trch = torch.tensor(df.x)\n",
    "y_trch = torch.tensor(df.y)"
   ]
  },
  {
   "cell_type": "markdown",
   "metadata": {},
   "source": [
    "## 3. Create Customisable Quadratic functions and Interactively Plot with MAE"
   ]
  },
  {
   "cell_type": "code",
   "execution_count": 101,
   "metadata": {},
   "outputs": [],
   "source": [
    "def gen_quad_fn(a,b,c,x): return a*x**2 + b*x + c\n",
    "def custom_quad_fn(a,b,c): return partial(gen_quad_fn,a,b,c)\n",
    "# def mae(prediction, actual): return np.mean(abs(prediction-actual))\n",
    "# def torch_mae(prediction, actual): return np.mean(torch.abs(prediction-actual))\n",
    "def torch_mae(prediction, actual): return (torch.abs(prediction-actual).mean())\n",
    "def mae(prediction, actual): return (torch.abs(prediction-actual).mean())\n",
    "def mae2(prediction, actual): return abs(prediction-actual).mean()\n",
    "# def mae_jh(prediction, actual): return (abs(prediction-actual)).mean()\n",
    "# def mse_jh(prediction, actual): return ((prediction-actual)**2).mean()\n",
    "# def mae(preds, acts): return (torch.abs(preds-acts)).mean()"
   ]
  },
  {
   "cell_type": "code",
   "execution_count": 69,
   "metadata": {},
   "outputs": [
    {
     "name": "stdout",
     "output_type": "stream",
     "text": [
      "\u001b[1;31mDocstring:\u001b[0m\n",
      "abs(input, *, out=None) -> Tensor\n",
      "\n",
      "Computes the absolute value of each element in :attr:`input`.\n",
      "\n",
      ".. math::\n",
      "    \\text{out}_{i} = |\\text{input}_{i}|\n",
      "\n",
      "Args:\n",
      "    input (Tensor): the input tensor.\n",
      "\n",
      "Keyword args:\n",
      "    out (Tensor, optional): the output tensor.\n",
      "\n",
      "Example::\n",
      "\n",
      "    >>> torch.abs(torch.tensor([-1, -2, 3]))\n",
      "    tensor([ 1,  2,  3])\n",
      "\u001b[1;31mType:\u001b[0m      builtin_function_or_method\n"
     ]
    }
   ],
   "source": [
    "    # >>> torch.abs(torch.tensor([-1, -2, 3]))\n"
   ]
  },
  {
   "cell_type": "code",
   "execution_count": 102,
   "metadata": {},
   "outputs": [
    {
     "data": {
      "application/vnd.jupyter.widget-view+json": {
       "model_id": "104ee6a8ceb340e5810b7fa85e6e1192",
       "version_major": 2,
       "version_minor": 0
      },
      "text/plain": [
       "interactive(children=(FloatSlider(value=2.0, description='a', max=5.0), FloatSlider(value=2.0, description='b'…"
      ]
     },
     "metadata": {},
     "output_type": "display_data"
    }
   ],
   "source": [
    "plt.rc('figure', dpi=90)\n",
    "\n",
    "@interact(a=(0,5,0.1),b=(0,5,0.1),c=(0,5,0.1))\n",
    "def interactive_plot2(a,b,c):\n",
    "# 1.    plot scatter\n",
    "    plt.scatter(df.x, df.y)\n",
    "# x = torch.linspace(-2, 2, steps=20)[:,None]\n",
    "# 2     create custom_quad_interactive_fn\n",
    "# 2.1   create xs_interact    \n",
    "    # xs_interact = torch.linspace(-2.1,2.1,100)\n",
    "    xs_interact = df.x\n",
    "\n",
    "# 3.    create ys_interact\n",
    "    plt.ylim(-1,15)\n",
    "    ys_interact = custom_quad_fn(a,b,c)(xs_interact)\n",
    "\n",
    "# 4.    calc mae\n",
    "    y_actual     = torch.tensor(df.y)\n",
    "    y_predicted  = torch.tensor(custom_quad_fn(a,b,c)(df.x))\n",
    "    interact_mae = torch_mae(y_predicted,y_actual)\n",
    "    # interact_mae = mae_jh(y_predicted,y_actual)\n",
    "\n",
    "# 5. plot   \n",
    "    plt.plot(xs_interact, ys_interact)\n",
    "    plt.title(f\"MAE: {interact_mae:.2f}\")\n"
   ]
  },
  {
   "cell_type": "markdown",
   "metadata": {},
   "source": [
    "## 4. Determining the effect of the parameters ($a$, $b$, $c$) in:  $ax + bx^2 + c$\n",
    "\n",
    "The key thing to understand if whether the loss function gets better or worse when you increase the parameters a little.\n",
    "\n",
    "There are two ways we can try:\n",
    "1. **Manually** adjust the parameter: Move each parameter each way and observe the impact to MAE.  \n",
    "2. Calculate the **Derivative** of the parameter: A Derivative iS a function that tells you if you increase the input the: \n",
    "    - **direction** in which output changes (increases or decreases) and the;  \n",
    "    - **magnitude** of the change to the output"
   ]
  },
  {
   "cell_type": "markdown",
   "metadata": {},
   "source": [
    "### 4.1 Create Mean-Absolute-Error (mae) Quadratic Function\n",
    "This function will take in the parameters or coefficients of a quadratic function and output the MSE.\n",
    "- *Input*: coeffiicents of quadratic\n",
    "- *Output*: MAE (between the prediction of the quadratic with the coffecients of the quadratic and the actual predictsions)"
   ]
  },
  {
   "cell_type": "code",
   "execution_count": 103,
   "metadata": {},
   "outputs": [],
   "source": [
    "def mae_quad_fn(params):\n",
    "    quad_fn = custom_quad_fn(*params)\n",
    "    y_predicted_trch = torch.tensor(quad_fn(df.x))\n",
    "    y_actual_trch    = torch.tensor(df.y)\n",
    "    # so quad_params(2,3,4) ->  creates a custom quad fn -> 2x^2 + 3x + 4\n",
    "    return torch_mae(y_predicted_trch,y_actual_trch)\n"
   ]
  },
  {
   "cell_type": "markdown",
   "metadata": {},
   "source": [
    "The chart shows MAE(2,2,2) = 1.45 loss"
   ]
  },
  {
   "cell_type": "code",
   "execution_count": 104,
   "metadata": {},
   "outputs": [
    {
     "data": {
      "text/plain": [
       "tensor(1.4501, dtype=torch.float64)"
      ]
     },
     "execution_count": 104,
     "metadata": {},
     "output_type": "execute_result"
    }
   ],
   "source": [
    "mae_quad_fn([2,2,2])"
   ]
  },
  {
   "cell_type": "markdown",
   "metadata": {},
   "source": [
    "A **tensor** is a pytorch type that works with: \n",
    "- lists (1D tensors)\n",
    "- tables (2D tensors)\n",
    "- layers of tables of numbers (3D tensors) and etc"
   ]
  },
  {
   "cell_type": "markdown",
   "metadata": {},
   "source": [
    "### 4.2 Telling PyTorch to calculate gradients"
   ]
  },
  {
   "cell_type": "code",
   "execution_count": 96,
   "metadata": {},
   "outputs": [
    {
     "data": {
      "text/plain": [
       "tensor([2., 2., 2.], requires_grad=True)"
      ]
     },
     "execution_count": 96,
     "metadata": {},
     "output_type": "execute_result"
    }
   ],
   "source": []
  },
  {
   "cell_type": "markdown",
   "metadata": {},
   "source": [
    "#### 4.2.1 Testing it out"
   ]
  },
  {
   "cell_type": "code",
   "execution_count": 106,
   "metadata": {},
   "outputs": [
    {
     "data": {
      "text/plain": [
       "tensor([2., 2., 2.], requires_grad=True)"
      ]
     },
     "execution_count": 106,
     "metadata": {},
     "output_type": "execute_result"
    }
   ],
   "source": [
    "def mae_quad_fn2(x_trch, y_trch, params_trch):\n",
    "    quad_fn_trch = custom_quad_fn(*params_trch)\n",
    "    y_predicted_trch = quad_fn_trch(x_trch)\n",
    "    y_actual_trch    = y_trch\n",
    "    # so quad_params(2,3,4) ->  creates a custom quad fn -> 2x^2 + 3x + 4\n",
    "    return torch_mae(y_predicted_trch,y_actual_trch)\n",
    "\n",
    "# rank 1 tensor\n",
    "abc = torch.tensor([2.0,2.0,2.0])\n",
    "abc.requires_grad_()\n",
    "\n"
   ]
  },
  {
   "cell_type": "code",
   "execution_count": 107,
   "metadata": {},
   "outputs": [
    {
     "data": {
      "text/plain": [
       "tensor(1.4501, dtype=torch.float64, grad_fn=<MeanBackward0>)"
      ]
     },
     "execution_count": 107,
     "metadata": {},
     "output_type": "execute_result"
    }
   ],
   "source": [
    "x_trch = torch.tensor(df.x)\n",
    "y_trch = torch.tensor(df.y)\n",
    "\n",
    "loss = mae_quad_fn2(x_trch, y_trch, abc)\n",
    "loss"
   ]
  },
  {
   "cell_type": "markdown",
   "metadata": {},
   "source": [
    "![](int_plot_mae.jpg)"
   ]
  },
  {
   "cell_type": "markdown",
   "metadata": {},
   "source": [
    "## To be Continued...  \n",
    "\n",
    "The next section go through a more automated method to find the smallest MAE.\n",
    "\n",
    "[[TBA] Part 1]()   \n",
    "[[TBA] Part 2]()"
   ]
  }
 ],
 "metadata": {
  "kernelspec": {
   "display_name": "fastai",
   "language": "python",
   "name": "python3"
  },
  "language_info": {
   "codemirror_mode": {
    "name": "ipython",
    "version": 3
   },
   "file_extension": ".py",
   "mimetype": "text/x-python",
   "name": "python",
   "nbconvert_exporter": "python",
   "pygments_lexer": "ipython3",
   "version": "3.11.5"
  }
 },
 "nbformat": 4,
 "nbformat_minor": 2
}
