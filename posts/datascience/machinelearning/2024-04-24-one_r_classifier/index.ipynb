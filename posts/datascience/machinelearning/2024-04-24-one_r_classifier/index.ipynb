{
 "cells": [
  {
   "cell_type": "raw",
   "metadata": {
    "_cell_guid": "b1076dfc-b9ad-4769-8c92-a6c4dae69d19",
    "_uuid": "8f2839f25d086af736a60e9eeb907d3b93b6e0e5",
    "execution": {
     "iopub.execute_input": "2022-05-23T04:37:24.640765Z",
     "iopub.status.busy": "2022-05-23T04:37:24.640339Z",
     "iopub.status.idle": "2022-05-23T04:37:25.174055Z",
     "shell.execute_reply": "2022-05-23T04:37:25.172992Z",
     "shell.execute_reply.started": "2022-05-23T04:37:24.640663Z"
    },
    "vscode": {
     "languageId": "raw"
    }
   },
   "source": [
    "---\n",
    "title: \"Random Forests - OneR Classifier (Part 1)\"\n",
    "author: \"Tony Phung\"\n",
    "date: \"2024-04-24\"\n",
    "categories: [machinelearning]\n",
    "image: \"oner.jpg\"\n",
    "toc: true\n",
    "description: \"Building a OneR classifier model from scratch\"\n",
    "---"
   ]
  },
  {
   "cell_type": "markdown",
   "metadata": {},
   "source": [
    "![](oner.jpg)"
   ]
  },
  {
   "cell_type": "markdown",
   "metadata": {},
   "source": [
    "# 1. Introduction \n",
    "In order to build `Random Forests`, we need to build `Decision Trees`.   \n",
    "In order to build Decisions-Trees, we need to build `Binary Splits`.     \n",
    "\n",
    "This post will show how to do find the `best` binary split per column, also known as `OneR Classifier`"
   ]
  },
  {
   "cell_type": "markdown",
   "metadata": {},
   "source": [
    "# 2. Data Cleaning"
   ]
  },
  {
   "cell_type": "code",
   "execution_count": 1,
   "metadata": {},
   "outputs": [
    {
     "name": "stdout",
     "output_type": "stream",
     "text": [
      "titanic exists!\n",
      "gender_submission.csv  test.csv  train.csv\n"
     ]
    }
   ],
   "source": [
    "from fastai.imports import *\n",
    "import torch, numpy as np, pandas as pd\n",
    "import kaggle, zipfile\n",
    "from pathlib import Path\n",
    "path = Path(\"titanic\")\n",
    "if not path.exists():\n",
    "    print(f\"{path} folder doesn't exist, downloading...\")\n",
    "    kaggle.api.competition_download_cli(str(path))\n",
    "    zipfile.ZipFile(f\"{path}.zip\").extractall(path)\n",
    "else:\n",
    "    print(f\"{path} exists!\")\n",
    "!ls {path}"
   ]
  },
  {
   "cell_type": "code",
   "execution_count": 2,
   "metadata": {},
   "outputs": [],
   "source": [
    "def proc_data_1(df):\n",
    "    modes           = df.mode().iloc[0]\n",
    "    df['Fare']      = df.Fare.fillna(0)\n",
    "    df.fillna(modes, inplace=True)\n",
    "    df['LogFare']   = np.log1p(df['Fare'])\n",
    "    df['Embarked']  = pd.Categorical(df.Embarked)\n",
    "    df['Sex']       = pd.Categorical(df.Sex)\n",
    "\n",
    "def convert_cats_to_codes_2(trn_df, val_df, cat_list):\n",
    "    trn_df[cat_list] = trn_df[cat_list].apply(lambda dfcol: dfcol.cat.codes) # replace with 1 and 0s\n",
    "    val_df[cat_list] = val_df[cat_list].apply(lambda dfcol: dfcol.cat.codes)\n",
    "    return trn_df, val_df"
   ]
  },
  {
   "cell_type": "code",
   "execution_count": 3,
   "metadata": {
    "execution": {
     "iopub.execute_input": "2022-05-23T04:37:49.070221Z",
     "iopub.status.busy": "2022-05-23T04:37:49.069942Z",
     "iopub.status.idle": "2022-05-23T04:37:49.150766Z",
     "shell.execute_reply": "2022-05-23T04:37:49.14992Z",
     "shell.execute_reply.started": "2022-05-23T04:37:49.070191Z"
    }
   },
   "outputs": [],
   "source": [
    "from numpy import random\n",
    "from sklearn.model_selection import train_test_split\n",
    "random.seed(42)\n",
    "\n",
    "# 0 get raw data\n",
    "df              = pd.read_csv(path/'train.csv')\n",
    "tst_df          = pd.read_csv(path/'test.csv')\n",
    "# 1. clean data ([replace nas with mode], [logfare], [sex/embarked to cat])\n",
    "proc_data_1(df)\n",
    "proc_data_1(tst_df)\n",
    "\n",
    "# 2. split training data: training and validation set\n",
    "trn_df,val_df   = train_test_split(df, test_size=0.25)\n",
    "\n",
    "# 3. convert cats to codes\n",
    "cat_list        = [\"Sex\",\"Embarked\"]\n",
    "trn_df, val_df  = convert_cats_to_codes_2(trn_df, val_df, cat_list)\n",
    "\n",
    "# 4. get idep and deps\n",
    "dep_col         = \"Survived\"\n",
    "cont_list       = ['Age', 'SibSp', 'Parch', 'LogFare',\"Pclass\"]\n",
    "def get_trn_and_val_idep_dep(df):\n",
    "    idep    = df[ cat_list + cont_list ].copy()\n",
    "    dep     = df[dep_col]\n",
    "    return idep, dep\n",
    "\n",
    "trn_idep,trn_dep = get_trn_and_val_idep_dep(trn_df)\n",
    "val_idep,val_dep = get_trn_and_val_idep_dep(val_df)"
   ]
  },
  {
   "cell_type": "markdown",
   "metadata": {},
   "source": [
    "# 3. Binary Splits"
   ]
  },
  {
   "cell_type": "markdown",
   "metadata": {},
   "source": [
    "A **binary split** is where all rows are placed into one of two groups, based on whether they're above or below some threshold of some column."
   ]
  },
  {
   "cell_type": "markdown",
   "metadata": {},
   "source": [
    "# 4. 1R Classifier model\n",
    "\n",
    "In laymens:  \n",
    "1. Get all `unique values` of each idependent value.  \n",
    "2. Split on the value, ie. `binary split`.  \n",
    "3. Make `predictions` on survivability using the above split.  \n",
    "4. Calculate `standard deviation` for each split and add them.  \n",
    "5. If std.dev is `high`, than its a `bad split` since survived and perished within each split. A `good split` results in `low-variability`.    \n",
    "6. find the split point for each column with `lowest` std.dev.  \n",
    "7. This is the `1R model`.  "
   ]
  },
  {
   "cell_type": "markdown",
   "metadata": {},
   "source": [
    "# 5. Code"
   ]
  },
  {
   "cell_type": "code",
   "execution_count": 10,
   "metadata": {},
   "outputs": [
    {
     "data": {
      "text/plain": [
       "{'Sex': (0, 0.40787530982063946),\n",
       " 'Embarked': (0, 0.47883342573147836),\n",
       " 'Age': (6.0, 0.478316717508991),\n",
       " 'SibSp': (4, 0.4783740258817434),\n",
       " 'Parch': (0, 0.4805296527841601),\n",
       " 'LogFare': (2.4390808375825834, 0.4620823937736597),\n",
       " 'Pclass': (2, 0.46048261885806596)}"
      ]
     },
     "execution_count": 10,
     "metadata": {},
     "output_type": "execute_result"
    }
   ],
   "source": [
    "def _side_score(side, y):\n",
    "    tot = side.sum()\n",
    "    if tot<=1: return 0\n",
    "    return y[side].std()*tot\n",
    "\n",
    "def score(idep_col, dep, split_val):\n",
    "    lhs_bool_list = idep_col <= split_val\n",
    "    return (_side_score(lhs_bool_list, dep) + _side_score(~lhs_bool_list, dep)) / len(dep)\n",
    "\n",
    "def min_col(df, idep_col_name):\n",
    "    idep_col    = df[idep_col_name]\n",
    "    dep         = df[dep_col]\n",
    "\n",
    "    col_uniques = idep_col.dropna().unique() # get all unique values of idep col\n",
    "    \n",
    "    scores = np.array( # get score for each unique value in idep_col\n",
    "        [score(idep_col, dep, col_val) \n",
    "         for col_val in col_uniques \n",
    "         if not np.isnan(col_val)\n",
    "         ])\n",
    "    \n",
    "    idx = scores.argmin() # get index of min score\n",
    "    return col_uniques[idx],scores[idx]\n",
    "all_cols = cat_list+cont_list \n",
    "{col:min_col(trn_df, col) for col in all_cols}"
   ]
  },
  {
   "cell_type": "markdown",
   "metadata": {},
   "source": [
    "# 6. The Best Binary-Split"
   ]
  },
  {
   "cell_type": "markdown",
   "metadata": {},
   "source": [
    "Thus, `Sex<=0` is best single binary split."
   ]
  }
 ],
 "metadata": {
  "kernelspec": {
   "display_name": "Python 3 (ipykernel)",
   "language": "python",
   "name": "python3"
  },
  "language_info": {
   "codemirror_mode": {
    "name": "ipython",
    "version": 3
   },
   "file_extension": ".py",
   "mimetype": "text/x-python",
   "name": "python",
   "nbconvert_exporter": "python",
   "pygments_lexer": "ipython3",
   "version": "3.12.2"
  },
  "toc": {
   "base_numbering": 1,
   "nav_menu": {
    "height": "133.002px",
    "width": "196.553px"
   },
   "number_sections": false,
   "sideBar": true,
   "skip_h1_title": false,
   "title_cell": "Table of Contents",
   "title_sidebar": "Contents",
   "toc_cell": false,
   "toc_position": {},
   "toc_section_display": true,
   "toc_window_display": false
  }
 },
 "nbformat": 4,
 "nbformat_minor": 4
}
