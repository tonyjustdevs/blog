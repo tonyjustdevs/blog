{
 "cells": [
  {
   "cell_type": "raw",
   "metadata": {
    "vscode": {
     "languageId": "raw"
    }
   },
   "source": [
    "---\n",
    "title: \"Deploying My First Live App & it's a Neural Network!\"\n",
    "author: \"Tony Phung\"\n",
    "date: \"2024-01-19\"\n",
    "categories: [machinelearning, ai]\n",
    "image: \"huggrad.jpg\"\n",
    "extension: iframe\n",
    "toc: true\n",
    "---\n",
    "\n",
    "![](huggrad.jpg)\n"
   ]
  },
  {
   "cell_type": "markdown",
   "metadata": {},
   "source": [
    "## 1. Introduction  \n",
    "Embedding a classic Convolutional Neural Network (CNN) Gradio 'Cat versus Dog' classifier Gradio App, hosted on HuggingFace Spaces, into my Quarto Blog. What a mouthful!"
   ]
  },
  {
   "cell_type": "markdown",
   "metadata": {},
   "source": [
    "## 2. Background  \n",
    "This App will guess whether an image is a **Cat** or **Dog** with a level of confidence using a deep learning neural network based on 700 mbs of labelled photos of dogs and cats. I'll post more information on the model itself in a different post.  \n",
    "\n",
    "All doggos🐕 & cats🐈 image examples has **never been viewed** by the Model and it makes a prediction in **milliseconds**! Images supplied by my good friends in Australia 🦘 and Vietnam 🍜. Thanks guys!  \n",
    "\n",
    "The App isn't perfect:  \n",
    "- It guesses **Incorrectly with great 95% confidence** a cat as a dog!\n",
    "\n",
    "I'm thrilled to be able to build the app, get it hosted and embed it all **in one day** for the first time! Alot of firsts today! \n",
    "\n",
    "## 3. Future stuff    \n",
    "**[1]**: Multi-Image Uploader + Predictor.    \n",
    "**[2]**: Explain how I built the Gradio App, got it hosted Hugging Face, and embedded here.    \n",
    "**[4]**: Upgrade the rice vs noodle model an App and hosted.   \n",
    "**[4]**: Learn some **HTML/CSS** to make things prettier."
   ]
  },
  {
   "cell_type": "markdown",
   "metadata": {},
   "source": [
    "## 4. Heres the App!"
   ]
  },
  {
   "cell_type": "markdown",
   "metadata": {},
   "source": [
    "<iframe src=\"https://tonyjustdevs-ai.hf.space\" width=\"100%\" height=\"800\"></iframe>\n",
    "<meta name=\"viewport\" content=\"width=device-width, initial-scale=1.0\">"
   ]
  }
 ],
 "metadata": {
  "kernelspec": {
   "display_name": "fast_ai",
   "language": "python",
   "name": "python3"
  },
  "language_info": {
   "codemirror_mode": {
    "name": "ipython",
    "version": 3
   },
   "file_extension": ".py",
   "mimetype": "text/x-python",
   "name": "python",
   "nbconvert_exporter": "python",
   "pygments_lexer": "ipython3",
   "version": "3.11.5"
  }
 },
 "nbformat": 4,
 "nbformat_minor": 2
}
