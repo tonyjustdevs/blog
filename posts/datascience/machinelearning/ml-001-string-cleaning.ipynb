{
 "cells": [
  {
   "cell_type": "raw",
   "metadata": {
    "vscode": {
     "languageId": "raw"
    }
   },
   "source": [
    "---\n",
    "title: \"ML 1: String Cleaning\"\n",
    "author: \"Tony Phung\"\n",
    "date: \"2025-01-14\"\n",
    "categories: [machine learning]\n",
    "image: \"imgs/ml-001-string-cleaning.jpg\"\n",
    "toc: true\n",
    "description: \"With Python's `split()` and `strip()`\"\n",
    "---"
   ]
  },
  {
   "cell_type": "markdown",
   "metadata": {},
   "source": [
    "![](imgs/ml-001-string-cleaning.jpg)"
   ]
  },
  {
   "cell_type": "markdown",
   "metadata": {},
   "source": [
    "# 1. Import Data as a `String`"
   ]
  },
  {
   "cell_type": "code",
   "execution_count": 1,
   "metadata": {},
   "outputs": [
    {
     "data": {
      "text/plain": [
       "'\\nid,   name,   dob\\n8, iniesta  , 1984 \\n 10,   messi , 1987  \\n 16   ,pedri, 2003\\n '"
      ]
     },
     "execution_count": 1,
     "metadata": {},
     "output_type": "execute_result"
    }
   ],
   "source": [
    "player_str = \"\"\"\n",
    "id,   name,   dob\n",
    "8, iniesta  , 1984 \n",
    " 10,   messi , 1987  \n",
    " 16   ,pedri, 2003\n",
    " \"\"\"\n",
    "\n",
    "player_str"
   ]
  },
  {
   "cell_type": "markdown",
   "metadata": {},
   "source": [
    "# 1. `split()` each players by row\n",
    "* Split strings by a chosen delimiter\n",
    "* A `list` is returned with each item or element as its own string"
   ]
  },
  {
   "cell_type": "code",
   "execution_count": 2,
   "metadata": {},
   "outputs": [
    {
     "data": {
      "text/plain": [
       "['',\n",
       " 'id,   name,   dob',\n",
       " '8, iniesta  , 1984 ',\n",
       " ' 10,   messi , 1987  ',\n",
       " ' 16   ,pedri, 2003',\n",
       " ' ']"
      ]
     },
     "execution_count": 2,
     "metadata": {},
     "output_type": "execute_result"
    }
   ],
   "source": [
    "player_str.split(\"\\n\") # split by \\n special character but theres white space items at start and beginning!\n",
    "# ie there are two items with just empty spaces at first and last entries.\n"
   ]
  },
  {
   "cell_type": "markdown",
   "metadata": {},
   "source": [
    "# 2. `strip()` white spaces before splitting\n",
    "Remove white space at the begininer and end of a string"
   ]
  },
  {
   "cell_type": "code",
   "execution_count": 3,
   "metadata": {},
   "outputs": [
    {
     "data": {
      "text/plain": [
       "['id,   name,   dob',\n",
       " '8, iniesta  , 1984 ',\n",
       " ' 10,   messi , 1987  ',\n",
       " ' 16   ,pedri, 2003']"
      ]
     },
     "execution_count": 3,
     "metadata": {},
     "output_type": "execute_result"
    }
   ],
   "source": [
    "player_list = player_str.strip().split(\"\\n\") # split by \\n special character but theres white spaces!\n",
    "player_list # the list no longer has the first and last white space elements"
   ]
  },
  {
   "cell_type": "markdown",
   "metadata": {},
   "source": [
    "# 3. `iterate` through players\n",
    "Each line is a single long string for each player or one column."
   ]
  },
  {
   "cell_type": "code",
   "execution_count": 4,
   "metadata": {},
   "outputs": [
    {
     "name": "stdout",
     "output_type": "stream",
     "text": [
      "0 'id,   name,   dob' <class 'str'>\n",
      "1 '8, iniesta  , 1984 ' <class 'str'>\n",
      "2 ' 10,   messi , 1987  ' <class 'str'>\n",
      "3 ' 16   ,pedri, 2003' <class 'str'>\n"
     ]
    }
   ],
   "source": [
    "for i,player_line in enumerate(player_list): # iterate through each item of list and do something\n",
    "    print(i, repr(player_line), type(player_line)) # showing that they're indeed strings\n"
   ]
  },
  {
   "cell_type": "markdown",
   "metadata": {},
   "source": [
    "# 4. `Split` player info for each player\n",
    "Split each player string into separate items, so theres 3 columns, one for each players information.\n"
   ]
  },
  {
   "cell_type": "code",
   "execution_count": 5,
   "metadata": {},
   "outputs": [
    {
     "name": "stdout",
     "output_type": "stream",
     "text": [
      "['id', '   name', '   dob']\n",
      "['8', ' iniesta  ', ' 1984 ']\n",
      "[' 10', '   messi ', ' 1987  ']\n",
      "[' 16   ', 'pedri', ' 2003']\n"
     ]
    }
   ],
   "source": [
    "for i,player_line in enumerate(player_list): # recall can split string into a list delimited \n",
    "    player_item = player_line.split(\",\") # str: 'some,cool,string' -> list: ['some','cool','string']\n",
    "    print(player_item)"
   ]
  },
  {
   "cell_type": "markdown",
   "metadata": {},
   "source": [
    "# 5. `repr` shows each strings values\n",
    "Notice there are unnecessary white space to be removed"
   ]
  },
  {
   "cell_type": "code",
   "execution_count": 6,
   "metadata": {},
   "outputs": [
    {
     "name": "stdout",
     "output_type": "stream",
     "text": [
      "'id'\n",
      "'   name'\n",
      "'   dob'\n",
      "'8'\n",
      "' iniesta  '\n",
      "' 1984 '\n",
      "' 10'\n",
      "'   messi '\n",
      "' 1987  '\n",
      "' 16   '\n",
      "'pedri'\n",
      "' 2003'\n"
     ]
    }
   ],
   "source": [
    "for i,player_line in enumerate(player_list): # recall can split string into a list delimited \n",
    "    player_item = player_line.split(\",\") # str: 'some,cool,string' -> list: ['some','cool','string']\n",
    "    [print(repr(player_info)) for player_info in player_item] # need to clean each player_info\n",
    "    "
   ]
  },
  {
   "cell_type": "markdown",
   "metadata": {},
   "source": [
    "# 6. `strip` each players information"
   ]
  },
  {
   "cell_type": "code",
   "execution_count": 7,
   "metadata": {},
   "outputs": [
    {
     "name": "stdout",
     "output_type": "stream",
     "text": [
      "'id'\n",
      "'name'\n",
      "'dob'\n",
      "'8'\n",
      "'iniesta'\n",
      "'1984'\n",
      "'10'\n",
      "'messi'\n",
      "'1987'\n",
      "'16'\n",
      "'pedri'\n",
      "'2003'\n"
     ]
    }
   ],
   "source": [
    "for i,player_line in enumerate(player_list): \n",
    "    player_item = player_line.split(\",\")\n",
    "    [print(repr(player_info.strip())) for player_info in player_item] \n",
    "    "
   ]
  },
  {
   "cell_type": "markdown",
   "metadata": {},
   "source": [
    "# 7. `Append` each player to to create a players clean `list`"
   ]
  },
  {
   "cell_type": "code",
   "execution_count": 8,
   "metadata": {},
   "outputs": [
    {
     "name": "stdout",
     "output_type": "stream",
     "text": [
      "['id', 'name', 'dob']\n",
      "['8', 'iniesta', '1984']\n",
      "['10', 'messi', '1987']\n",
      "['16', 'pedri', '2003']\n"
     ]
    }
   ],
   "source": [
    "players = []\n",
    "for player_line in player_list: \n",
    "    # each_str_list = line.split(\",\")  \n",
    "    # [print(strg.strip()) for strg in each_str_list] # strip() all the white spaces away\n",
    "    player = [strg.strip() for strg in player_line.split(\",\")] # strip() all the white spaces away\n",
    "    print(player)\n",
    "    players.append(player)\n"
   ]
  }
 ],
 "metadata": {
  "kernelspec": {
   "display_name": "blog-T-2huGx2",
   "language": "python",
   "name": "python3"
  },
  "language_info": {
   "codemirror_mode": {
    "name": "ipython",
    "version": 3
   },
   "file_extension": ".py",
   "mimetype": "text/x-python",
   "name": "python",
   "nbconvert_exporter": "python",
   "pygments_lexer": "ipython3",
   "version": "3.10.12"
  }
 },
 "nbformat": 4,
 "nbformat_minor": 2
}
