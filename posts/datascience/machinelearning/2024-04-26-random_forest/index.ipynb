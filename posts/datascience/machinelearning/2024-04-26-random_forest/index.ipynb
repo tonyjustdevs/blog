{
 "cells": [
  {
   "cell_type": "raw",
   "metadata": {
    "_cell_guid": "b1076dfc-b9ad-4769-8c92-a6c4dae69d19",
    "_uuid": "8f2839f25d086af736a60e9eeb907d3b93b6e0e5",
    "execution": {
     "iopub.execute_input": "2022-05-23T04:37:24.640765Z",
     "iopub.status.busy": "2022-05-23T04:37:24.640339Z",
     "iopub.status.idle": "2022-05-23T04:37:25.174055Z",
     "shell.execute_reply": "2022-05-23T04:37:25.172992Z",
     "shell.execute_reply.started": "2022-05-23T04:37:24.640663Z"
    },
    "vscode": {
     "languageId": "raw"
    }
   },
   "source": [
    "---\n",
    "title: \"Random Forests - Random Forest Classifier (Part 3)\"\n",
    "author: \"Tony Phung\"\n",
    "date: \"2024-04-26\"\n",
    "categories: [machinelearning]\n",
    "image: \"forest.jpg\"\n",
    "toc: true\n",
    "description: \"Building a Random Forest Classifier with the Sklearn framework\"\n",
    "---"
   ]
  },
  {
   "cell_type": "markdown",
   "metadata": {},
   "source": [
    "![](forest.jpg)"
   ]
  },
  {
   "cell_type": "markdown",
   "metadata": {},
   "source": [
    "# 1. Introduction \n",
    "\n",
    "In [Part 1](https://tonyjustdevs.github.io/blog/posts/2024-04-24-one_r_classifier/), a simple model was built using single binary split called `OneR Classifier`.  \n",
    "\n",
    "\n",
    "In [Part 2](https://tonyjustdevs.github.io/blog/posts/2024-04-25-decision_tree_classifier/), sklearn DecisionTreeClassifier framework was used and by setting a sample limit per node, loss was reduced\n",
    "\n",
    "In this post:  \n",
    "\n",
    "- Create alot of bigger trees  \n",
    "- Take the average of their predictions, that is, the averaged emsemble or `bagging` results is a `random forest`  \n",
    "- Compare the results with sklearn's `RandomForestClassifier`  \n",
    "\n",
    "In the next few posts, the topics will follows:\n",
    "\n",
    "- Feature Importance Plot   \n",
    "- Gradient Boosting (sum of trees) Decision Tree or Machine"
   ]
  },
  {
   "cell_type": "markdown",
   "metadata": {},
   "source": [
    "# 2. Training and Validation Sets"
   ]
  },
  {
   "cell_type": "code",
   "execution_count": 1,
   "metadata": {},
   "outputs": [
    {
     "name": "stdout",
     "output_type": "stream",
     "text": [
      "titanic folder doesn't exist, downloading...\n",
      "Downloading titanic.zip to /home/tonydevs/github/blog/posts/2024-04-26-random_forest\n"
     ]
    },
    {
     "name": "stderr",
     "output_type": "stream",
     "text": [
      "100%|██████████| 34.1k/34.1k [00:00<00:00, 55.8kB/s]"
     ]
    },
    {
     "name": "stdout",
     "output_type": "stream",
     "text": [
      "\n",
      "gender_submission.csv  test.csv  train.csv\n"
     ]
    },
    {
     "name": "stderr",
     "output_type": "stream",
     "text": [
      "\n"
     ]
    }
   ],
   "source": [
    "from fastai.imports import *\n",
    "import torch, numpy as np, pandas as pd\n",
    "import kaggle, zipfile\n",
    "from pathlib import Path\n",
    "path = Path(\"titanic\")\n",
    "if not path.exists():\n",
    "    print(f\"{path} folder doesn't exist, downloading...\")\n",
    "    kaggle.api.competition_download_cli(str(path))\n",
    "    zipfile.ZipFile(f\"{path}.zip\").extractall(path)\n",
    "else:\n",
    "    print(f\"{path} exists!\")\n",
    "!ls {path}\n",
    "\n",
    "def proc_data_1(df):\n",
    "    modes           = df.mode().iloc[0]\n",
    "    df['Fare']      = df.Fare.fillna(0)\n",
    "    df.fillna(modes, inplace=True)\n",
    "    df['LogFare']   = np.log1p(df['Fare'])\n",
    "    df['Embarked']  = pd.Categorical(df.Embarked)\n",
    "    df['Sex']       = pd.Categorical(df.Sex)\n",
    "\n",
    "def convert_cats_to_codes_2(trn_df, val_df, cat_list):\n",
    "    trn_df[cat_list] = trn_df[cat_list].apply(lambda dfcol: dfcol.cat.codes) # replace with 1 and 0s\n",
    "    val_df[cat_list] = val_df[cat_list].apply(lambda dfcol: dfcol.cat.codes)\n",
    "    return trn_df, val_df\n",
    "\n",
    "from numpy import random\n",
    "from sklearn.model_selection import train_test_split\n",
    "random.seed(42)\n",
    "\n",
    "# 0 get raw data\n",
    "df              = pd.read_csv(path/'train.csv')\n",
    "tst_df          = pd.read_csv(path/'test.csv')\n",
    "# 1. clean data ([replace nas with mode], [logfare], [sex/embarked to cat])\n",
    "proc_data_1(df)\n",
    "proc_data_1(tst_df)\n",
    "\n",
    "# 2. split training data: training and validation set\n",
    "trn_df,val_df   = train_test_split(df, test_size=0.25)\n",
    "\n",
    "# 3. convert cats to codes\n",
    "cat_list        = [\"Sex\",\"Embarked\"]\n",
    "trn_df, val_df  = convert_cats_to_codes_2(trn_df, val_df, cat_list)\n",
    "\n",
    "# 4. get idep and deps\n",
    "dep_col         = \"Survived\"\n",
    "cont_list       = ['Age', 'SibSp', 'Parch', 'LogFare',\"Pclass\"]\n",
    "def get_trn_and_val_idep_dep(df):\n",
    "    idep    = df[ cat_list + cont_list ].copy()\n",
    "    dep     = df[dep_col]\n",
    "    return idep, dep\n",
    "\n",
    "trn_idep,trn_dep = get_trn_and_val_idep_dep(trn_df)\n",
    "val_idep,val_dep = get_trn_and_val_idep_dep(val_df)"
   ]
  },
  {
   "cell_type": "markdown",
   "metadata": {},
   "source": [
    "# 3. Using `DecisionTreeClassifier` "
   ]
  },
  {
   "cell_type": "code",
   "execution_count": 3,
   "metadata": {},
   "outputs": [],
   "source": [
    "from sklearn.tree import DecisionTreeClassifier, export_graphviz\n",
    "\n",
    "def get_tree(prop=0.75):\n",
    "    n = len(trn_dep)\n",
    "    idxs = random.choice(n, int(n*prop))\n",
    "    return DecisionTreeClassifier(min_samples_leaf=5).fit(trn_idep.iloc[idxs], trn_dep.iloc[idxs])"
   ]
  },
  {
   "cell_type": "code",
   "execution_count": 4,
   "metadata": {},
   "outputs": [],
   "source": [
    "# create as many trees as we want\n",
    "trees = [get_tree() for t in range(100)] "
   ]
  },
  {
   "cell_type": "code",
   "execution_count": 6,
   "metadata": {},
   "outputs": [
    {
     "data": {
      "text/plain": [
       "0.2272645739910314"
      ]
     },
     "execution_count": 6,
     "metadata": {},
     "output_type": "execute_result"
    }
   ],
   "source": [
    "# average them\n",
    "all_probs = [t.predict(val_idep) for t in trees]\n",
    "avg_probs = np.stack(all_probs).mean(0)\n",
    "\n",
    "from sklearn.metrics import mean_absolute_error\n",
    "\n",
    "mean_absolute_error(val_dep, avg_probs)"
   ]
  },
  {
   "cell_type": "markdown",
   "metadata": {},
   "source": [
    "# 4. Using `RandomForestClassifier` "
   ]
  },
  {
   "cell_type": "markdown",
   "metadata": {},
   "source": [
    "This is nearly identical to what `sklearn`'s `RandomForestClassifier` does.   \n",
    "The main extra piece in a \"real\" random forest (is that as well as choosing a random sample of data for each tree):  \n",
    " \n",
    "- it also picks a `random subset of columns` for `each split`. "
   ]
  },
  {
   "cell_type": "code",
   "execution_count": 8,
   "metadata": {},
   "outputs": [
    {
     "data": {
      "text/plain": [
       "0.18834080717488788"
      ]
     },
     "execution_count": 8,
     "metadata": {},
     "output_type": "execute_result"
    }
   ],
   "source": [
    "from sklearn.ensemble import RandomForestClassifier\n",
    "\n",
    "rf = RandomForestClassifier(100, min_samples_leaf=5)\n",
    "rf.fit(trn_idep, trn_dep);\n",
    "mean_absolute_error(val_dep, rf.predict(val_idep))"
   ]
  }
 ],
 "metadata": {
  "kernelspec": {
   "display_name": "Python 3 (ipykernel)",
   "language": "python",
   "name": "python3"
  },
  "language_info": {
   "codemirror_mode": {
    "name": "ipython",
    "version": 3
   },
   "file_extension": ".py",
   "mimetype": "text/x-python",
   "name": "python",
   "nbconvert_exporter": "python",
   "pygments_lexer": "ipython3",
   "version": "3.12.2"
  },
  "toc": {
   "base_numbering": 1,
   "nav_menu": {
    "height": "133.002px",
    "width": "196.553px"
   },
   "number_sections": false,
   "sideBar": true,
   "skip_h1_title": false,
   "title_cell": "Table of Contents",
   "title_sidebar": "Contents",
   "toc_cell": false,
   "toc_position": {},
   "toc_section_display": true,
   "toc_window_display": false
  }
 },
 "nbformat": 4,
 "nbformat_minor": 4
}
