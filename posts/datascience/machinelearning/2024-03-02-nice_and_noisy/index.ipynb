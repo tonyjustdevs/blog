{
 "cells": [
  {
   "cell_type": "raw",
   "metadata": {
    "vscode": {
     "languageId": "raw"
    }
   },
   "source": [
    "---\n",
    "title: \"Let's Make Some Noise\"\n",
    "author: \"Tony Phung\"\n",
    "date: \"2024-03-02\"\n",
    "categories: [machinelearning, ai, mathematics]\n",
    "image: \"noise.jpg\"\n",
    "toc: true\n",
    "description: \"A function to add gaussian noise\"\n",
    "---"
   ]
  },
  {
   "cell_type": "markdown",
   "metadata": {},
   "source": [
    "![](noise.jpg)"
   ]
  },
  {
   "cell_type": "markdown",
   "metadata": {},
   "source": [
    "# 1. Introduction\n",
    "\n",
    "Adding noise can be useful for simulating real-world scenarios where measurements are often accompanied with some level of random error."
   ]
  },
  {
   "cell_type": "markdown",
   "metadata": {},
   "source": [
    "# 2. Gaussian Noise\n",
    "\n",
    "`Gaussian noise`, also known as normal noise, has several properties that make it a commonly used type of noise in various applications (including machine learning).\n",
    "\n",
    "## 2.1 Statistical Properties\n",
    "- Gaussian noise is characterized by a `normal distribution`, which is well-studied and has known statistical properties. \n",
    "- This makes it easy to model and analyze mathematically.\n",
    "\n",
    "## 2.2 Central Limit Theorem:\n",
    "- The `Central Limit Theorem` states that the sum (or average) of a large number of independent, identically distributed random variables, each with finite mean and variance, will be approximately normally distributed. \n",
    "- This property makes Gaussian noise a natural choice in many scenarios where the noise is a result of multiple independent factors.\n",
    "\n",
    "## 2.3 Mathematical Simplicity:\n",
    "- The normal distribution has simple and well-defined mathematical properties, making it easy to work with in `analytical` and `computational` contexts.\n",
    "\n",
    "## 2.4 Robustness in Estimation:\n",
    "- Many statistical estimation methods, including `maximum likelihood estimation`, assume that the underlying noise follows a Gaussian distribution. \n",
    "- This can lead to more robust parameter estimates when the actual noise is close to Gaussian.\n",
    "\n",
    "## 2.5 Convenient in Machine Learning:\n",
    "- In machine learning, adding Gaussian noise can act as a form of regularization, preventing overfitting by introducing a controlled amount of randomness during training. It is also commonly used in generative models, such as `Gaussian Mixture Models (GMMs)`."
   ]
  },
  {
   "cell_type": "markdown",
   "metadata": {},
   "source": [
    "# 3. The Function\n",
    "\n",
    "Lets write a simple function named `noise` and `add_noise` that add `Gaussian` noise to an existing array."
   ]
  },
  {
   "cell_type": "code",
   "execution_count": 1,
   "metadata": {},
   "outputs": [],
   "source": [
    "import numpy as np\n",
    "def noise(y, scale): \n",
    "    return np.random.normal(scale=scale, size=y.shape)\n"
   ]
  },
  {
   "cell_type": "markdown",
   "metadata": {},
   "source": [
    "## 3.1 `noise` function\n",
    "\n",
    "This function generates random noise using NumPy's `random.normal` function.\n",
    "\n",
    "- `y`: numpy or pytorch ***array***  \n",
    "- `scale`: ***standard deviation*** of the normal distribution from which the noise is drawn.\n",
    "- `output`: array of random values with the ***same shape*** as the input array `y`."
   ]
  },
  {
   "cell_type": "code",
   "execution_count": 3,
   "metadata": {},
   "outputs": [],
   "source": [
    "def add_noise(x, mult, add): \n",
    "    return x * (1+noise(x, mult)) + noise(x, add)"
   ]
  },
  {
   "cell_type": "markdown",
   "metadata": {},
   "source": [
    "## 3.2 `add_noise` function\n",
    "\n",
    "This function uses the `noise` function to add noise to the input `x`:  \n",
    "\n",
    "- `* (1 + noise(x, mult))`: The ***multiplicative noise***  is applied by multiplying `x` with.\n",
    "- `+ noise(x, add)`: The ***additive noise*** is added directly to the result of the multiplicative part."
   ]
  },
  {
   "cell_type": "markdown",
   "metadata": {},
   "source": [
    "## 3.3 Differences:\n",
    "\n",
    "The `noise` function generates:\n",
    "\n",
    "- random noise independently of any input array, \n",
    "- using a specified scale. \n",
    "- It's a standalone function for generating random noise.\n",
    "\n",
    "The `add_noise` function is specifically designed to:\n",
    " \n",
    "- apply noise to an input array x. \n",
    "- combines both multiplicative and additive noise components, \n",
    "- allowing for a more complex noise model."
   ]
  },
  {
   "cell_type": "markdown",
   "metadata": {},
   "source": [
    "# 4. Real World Applications"
   ]
  },
  {
   "cell_type": "markdown",
   "metadata": {},
   "source": [
    "## 4.1 Regularization and Preventing Memorization:\n",
    "`Avoid and  Discouraging Overfitting`: \n",
    "\n",
    "- Adding random noise to the input data can act as a form of regularization, preventing the model from fitting the training data too closely. \n",
    "- This can improve the generalization of the model to new, unseen data.\n",
    "- Models that are too complex may memorize the training data instead of learning the underlying patterns. \n",
    "- Adding noise makes it more challenging for the model to memorize specific examples and encourages it to focus on general patterns.\n",
    "\n",
    "## 4.2 Data Augmentation:\n",
    "`Increased Variability`: \n",
    "\n",
    "- Introducing noise during training can artificially increase the variability in the dataset. \n",
    "- This can be particularly useful when dealing with limited training data, helping the model generalize better to different variations of the input.\n",
    "\n",
    "## 4.3 Robustness Testing:\n",
    "`Model Robustness`: \n",
    "\n",
    "- Adding noise during training can make the model more robust to variations and uncertainties in real-world data. \n",
    "- This is especially important when the model needs to perform well on data that may have different levels of noise or unexpected variations.\n",
    "\n",
    "## 4.4 Stochasticity in Training:\n",
    "`Encouraging Exploration`: \n",
    "\n",
    "- During the training process, introducing randomness can encourage the model to explore different parts of the parameter space. \n",
    "- This can be especially beneficial in reinforcement learning or optimization problems, helping to avoid getting stuck in local minima."
   ]
  }
 ],
 "metadata": {
  "kernelspec": {
   "display_name": "fastai",
   "language": "python",
   "name": "python3"
  },
  "language_info": {
   "codemirror_mode": {
    "name": "ipython",
    "version": 3
   },
   "file_extension": ".py",
   "mimetype": "text/x-python",
   "name": "python",
   "nbconvert_exporter": "python",
   "pygments_lexer": "ipython3",
   "version": "3.11.5"
  }
 },
 "nbformat": 4,
 "nbformat_minor": 2
}
