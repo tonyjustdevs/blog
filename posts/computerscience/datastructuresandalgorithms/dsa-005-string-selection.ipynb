{
 "cells": [
  {
   "cell_type": "raw",
   "metadata": {
    "vscode": {
     "languageId": "raw"
    }
   },
   "source": [
    "---\n",
    "title: \"DSA: Big O - String Select Function\"\n",
    "author: \"Tony Phung\"\n",
    "date: \"2025-01-10\"\n",
    "categories: [data structures, algorithms]\n",
    "image: \"imgs/dsa-005-string.jpg\"\n",
    "toc: true\n",
    "description: \"Chapter 3 Exercise 4, J.Wengrow Vol 2\"\n",
    "---"
   ]
  },
  {
   "cell_type": "markdown",
   "metadata": {
    "vscode": {
     "languageId": "raw"
    }
   },
   "source": [
    "![](imgs/dsa-005-string.jpg)"
   ]
  },
  {
   "cell_type": "markdown",
   "metadata": {},
   "source": [
    "# 1. $Time\\ complexity$ of `select_a` function using $Big\\ O$ notation"
   ]
  },
  {
   "cell_type": "code",
   "execution_count": 9,
   "metadata": {},
   "outputs": [
    {
     "data": {
      "text/plain": [
       "['aa', 'ab', 'a1']"
      ]
     },
     "execution_count": 9,
     "metadata": {},
     "output_type": "execute_result"
    }
   ],
   "source": [
    "def select_a(array):\n",
    "    new_array = []\n",
    "    for string_str in array:\n",
    "        if string_str[0] == \"a\":\n",
    "            new_array.append(string_str)\n",
    "    return new_array\n",
    "\n",
    "input_arr = [\"aa\",\"ba\",\"cd\",\"ab\",\"32\",\"a1\"]\n",
    "select_a(input_arr)"
   ]
  },
  {
   "cell_type": "markdown",
   "metadata": {},
   "source": [
    "# 2. My Written Solution\n",
    "## 2.1 $Search()$ whole list of arrays $N$:\n",
    "- $Search_{all-cases}$: `N` steps\n",
    "- or $O(N)$\n",
    "\n",
    "## 2.2 $Compare\\_and\\_Insert()$: $test$ `string[0]` is `a`, then $Insert()$ into `new_array` (if `True`)\n",
    "- $Insert_{best-case}$: `0` steps (e.g. zero insertions)  \n",
    "- $Insert_{worse-case}$: `N` steps (e.g. insert every string in array)  \n",
    "    - Note: $Big\\ O$ always takes the $worse-case$  \n",
    "    - Thus, $O(N)$  \n",
    "\n",
    "## 2.3 $Big\\ O$ (Total Steps of Worse-Case)\n",
    "- $O(Search) + O(Compare\\_and\\_Insert)$  \n",
    "- $O(N) + O(N)$  \n",
    "- $O(2N)$  \n",
    "- $O(N)$   \n"
   ]
  }
 ],
 "metadata": {
  "kernelspec": {
   "display_name": "blog-T-2huGx2",
   "language": "python",
   "name": "python3"
  },
  "language_info": {
   "codemirror_mode": {
    "name": "ipython",
    "version": 3
   },
   "file_extension": ".py",
   "mimetype": "text/x-python",
   "name": "python",
   "nbconvert_exporter": "python",
   "pygments_lexer": "ipython3",
   "version": "3.10.12"
  }
 },
 "nbformat": 4,
 "nbformat_minor": 2
}
