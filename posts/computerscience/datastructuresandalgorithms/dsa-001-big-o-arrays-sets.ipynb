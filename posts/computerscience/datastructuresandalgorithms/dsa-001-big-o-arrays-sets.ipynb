{
 "cells": [
  {
   "cell_type": "raw",
   "metadata": {
    "vscode": {
     "languageId": "raw"
    }
   },
   "source": [
    "---\n",
    "title: \"DSA 1: Big-O - Arrays and Sets\"\n",
    "author: \"Tony Phung\"\n",
    "date: \"2025-01-01\"\n",
    "categories: [data structures, algorithms]\n",
    "image: \"imgs/dsa-001-bigo.jpg\"\n",
    "toc: true\n",
    "description: \"Big-O for Array Operations\"\n",
    "---"
   ]
  },
  {
   "cell_type": "markdown",
   "metadata": {
    "vscode": {
     "languageId": "raw"
    }
   },
   "source": [
    "![](imgs/dsa-001-bigo.jpg)"
   ]
  },
  {
   "cell_type": "markdown",
   "metadata": {},
   "source": [
    "# 1. Arrays"
   ]
  },
  {
   "cell_type": "markdown",
   "metadata": {},
   "source": [
    "## 1.1 Array Operation - Summary\n",
    "- **Read $(1)$**  \n",
    "- **Search $(n)$**   \n",
    "- **Insert $(n+1)$**   \n",
    "- **Delete $(n)$**  "
   ]
  },
  {
   "cell_type": "markdown",
   "metadata": {},
   "source": [
    "## 1.2 Array Operation - Details"
   ]
  },
  {
   "cell_type": "markdown",
   "metadata": {},
   "source": [
    "### 1.2.1 **Read $(1)$**:    \n",
    "- $1$ (*worse*)\n",
    "- $1$ (*best*)"
   ]
  },
  {
   "cell_type": "markdown",
   "metadata": {},
   "source": [
    "### 1.2.2 **Search $(n)$**:  \n",
    "\n",
    "- $n$ (*worse*: target is last value found)   \n",
    "- $1$ (*best*: target is first value found)"
   ]
  },
  {
   "cell_type": "markdown",
   "metadata": {},
   "source": [
    "### 1.2.3 **Delete $(n)$**: \n",
    "\n",
    "### 1.2.3a **Delete $(n)$** - Worse: \n",
    "{$n$}=({$1$} $+$ {$n-1$}): *worse* - delete $first$ item or $arr[0]$:   \n",
    "\n",
    "- {$1$}: **delete** item at $arr[0]$\n",
    "- {$n-1$}: shift whole array, left one item at a time:  \n",
    "\n",
    "    - $arr[1] \\to arr[0]$ ($index\\_1 \\to index\\_0$)\n",
    "    - $arr[2] \\to arr[1]$ ($index\\_2 \\to index\\_1$)\n",
    "    - $...$\n",
    "    - $arr[n] \\to arr[n-1]$ ($inde`x\\_[n] \\to index\\_[n-1]$)\n",
    "\n",
    "### 1.2.3b **Delete $(1)$** - Best\n",
    "{$1$}: *best* - delete $last$ item or $arr[-1]$"
   ]
  },
  {
   "cell_type": "markdown",
   "metadata": {},
   "source": [
    "### 1.2.4 **Insert $(n+1)$** \n",
    "\n",
    "### 1.2.4a **Insert $(n+1)$ - Worse**:  \n",
    "{$n + 1$}: *worse* - insert at $front$ or $arr[0]$:  \n",
    "  \n",
    "- {$n$}: whole existing array of length {$n$} needs to move right by {$1$}:\n",
    "  \n",
    "    - starts at {$n$}, moves it right to {$n+1$}\n",
    "    - then {$n-1$} moves to {$n$}... {$n\\_times$} or {$n\\_steps$}  \n",
    "    - index $[0]$ becomes empty  \n",
    "    - index $[0]$ retains same memory address (might change for diff languages)  \n",
    "  \n",
    "- {$1$}: insert the finally vacant spot at index 0, same memory address"
   ]
  },
  {
   "cell_type": "markdown",
   "metadata": {},
   "source": [
    "### 1.2.4b **Insert $(1)$ - Best**:  \n",
    "{$1$}: *best* - insert at $end$ or $arr[-1]$:  \n",
    "  \n",
    "Computers may have to allocate additional memory cells toward this array (language specific)"
   ]
  },
  {
   "cell_type": "markdown",
   "metadata": {},
   "source": [
    "# 2. Array-Based Sets\n",
    "\n",
    "A data stucture that *does not allow* ***duplicates*** values within it.\n",
    "\n",
    "Useful: data without duplicates (e.g.online phonebook)\n"
   ]
  },
  {
   "cell_type": "markdown",
   "metadata": {
    "vscode": {
     "languageId": "plaintext"
    }
   },
   "source": [
    "## 2.1 Classic Arrays vs Array-Based Sets - Differences\n",
    "**An array-based set**: \n",
    "\n",
    "- is an **array** \n",
    "- with *one additional constraint* \n",
    "- of ***barring duplicates***\n"
   ]
  },
  {
   "cell_type": "markdown",
   "metadata": {},
   "source": [
    "## 2.2 Classic Arrays vs Array-Based Sets - Operations Comparison Table\n",
    "|Operation |Array |Array-Based Set   | Difference      | Change              |\n",
    "|----------|------|------------------|-----------------|---------------------|\n",
    "|**Read**  |$O(1,1)$  |$O(1,1)$      | Same            |None                 | \n",
    "|**Search**|$O(1,n)$  |$O(1,n)$      | Same            |None                 |\n",
    "|**Delete**|$O(1,n)$  |$O(1,n)$      | Same            |None                 |\n",
    "|**Insert**|$O(1,n+1)$|$O(n+1,n*n+1)$<br>or<br>$O(n+1,2n+1)$|$O(worse,worse)$|$O_{best}(1 \\to n+1)$ <br> and <br> $O_{worse}(n+1 \\to 2n+1)$|"
   ]
  },
  {
   "cell_type": "markdown",
   "metadata": {
    "vscode": {
     "languageId": "plaintext"
    }
   },
   "source": [
    "## 2.3 Array-Based Set Operation - Detailed"
   ]
  },
  {
   "cell_type": "markdown",
   "metadata": {},
   "source": [
    "### 2.3.1 **Read $(1)$**, **Search $(n)$**, **Delete $(n)$**\n",
    "- **Read $(1,1)$**  \n",
    "- **Search $(1,n)$**   \n",
    "- **Delete $(1,n)$**  \n",
    "- **Insert $(n+1,2n+1)$**  "
   ]
  },
  {
   "cell_type": "markdown",
   "metadata": {},
   "source": [
    "### 2.3.2 **Insert $(2n+1)$**: Different to Classic Arrays\n"
   ]
  },
  {
   "cell_type": "markdown",
   "metadata": {},
   "source": [
    "### 2.3.2a **Insert $(2n+1)$** - Worse\n",
    "{$n*n+1$} - worse, insert at the $front$:  \n",
    "\n",
    "- {$n$}: **search** whole array {$n\\_times$}  \n",
    "- {$n$}: **shift**  whole array, right (one-item-at-a-time) i.e. {$n\\_times$}:  \n",
    "\n",
    "    - $arr[n] \\to arr[n+1]$ ($index\\_[n] \\to index\\_[n+1]$)  \n",
    "    - $arr[n-1] \\to arr[n]$ ($index\\_[n-1] \\to index\\_[n]$)  \n",
    "    - $...$  \n",
    "    - $arr[0] \\to arr[1]$ ($index\\_[0] \\to index\\_[1]$)  \n",
    "\n",
    "- {$1$}: insert at index 0, same memory address"
   ]
  },
  {
   "cell_type": "markdown",
   "metadata": {},
   "source": [
    "### 2.3.2b **Insert $(n+1)$** - Best\n",
    "{$n+1$} - best, insert at the $end$:     \n",
    "\n",
    "- Search array (for dupes) + insert (at end)"
   ]
  },
  {
   "cell_type": "markdown",
   "metadata": {},
   "source": [
    "### 2.3.2c **Insert $(m*n+1)$** - Medium\n",
    "{$m*n+1$} - medium, insert at the $arr[j]$ or $index\\_[j]$):    \n",
    "\n",
    "- {$n$}: **search** whole array {$n\\_times$}\n",
    "- {$m$}: **shift**  whole array {$n\\_times$} where {$m$} $=$ {$n-j$}:\n",
    "\n",
    "    - if want to insert at $index\\_[j]$: all items after $index\\_[j]$ by one\n",
    "    - thus we shift right {$m$} $=$ {$n-j$} items\n",
    "    - $arr[n] \\to arr[n+1]$ ($index\\_[n] \\to index\\_[n+1]$)\n",
    "    - $...$\n",
    "    - $arr[j] \\to arr[j+1]$ ($index\\_[j] \\to index\\_[j+1]$)\n",
    "    - or\n",
    "    - $arr[n-m] \\to arr[n-m+1]$ ($index\\_[n-m] \\to index\\_[n-m+1]$)        \n",
    "    \n",
    "- {$1$}: insert at $arr[j]$ or $arr[n-m]$"
   ]
  },
  {
   "cell_type": "markdown",
   "metadata": {},
   "source": [
    "#### 2.3.3 Inserting at $arr[j]$ hand-drawn"
   ]
  },
  {
   "cell_type": "markdown",
   "metadata": {},
   "source": [
    "![](imgs/dsa-001-insert-set.jpg)"
   ]
  }
 ],
 "metadata": {
  "kernelspec": {
   "display_name": "blog-T-2huGx2",
   "language": "python",
   "name": "python3"
  },
  "language_info": {
   "codemirror_mode": {
    "name": "ipython",
    "version": 3
   },
   "file_extension": ".py",
   "mimetype": "text/x-python",
   "name": "python",
   "nbconvert_exporter": "python",
   "pygments_lexer": "ipython3",
   "version": "3.10.12"
  }
 },
 "nbformat": 4,
 "nbformat_minor": 2
}
