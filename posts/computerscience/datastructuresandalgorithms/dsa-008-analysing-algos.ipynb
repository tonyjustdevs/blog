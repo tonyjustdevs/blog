{
 "cells": [
  {
   "cell_type": "raw",
   "metadata": {
    "vscode": {
     "languageId": "raw"
    }
   },
   "source": [
    "---\n",
    "title: \"DSA 8: Big O - Analysing Algorithms\"\n",
    "author: \"Tony Phung\"\n",
    "date: \"2025-01-13\"\n",
    "categories: [data structures, algorithms]\n",
    "image: \"imgs/dsa-008-analysing-algos.png\"\n",
    "toc: true\n",
    "description: \"Describing Algorithms & Functions in Big O notation - Chapter 5 Exercises, J.Wengrow Vol 2\"\n",
    "---"
   ]
  },
  {
   "cell_type": "markdown",
   "metadata": {},
   "source": [
    "![](imgs/dsa-008-analysing-algos.png)"
   ]
  },
  {
   "cell_type": "markdown",
   "metadata": {},
   "source": [
    "# 1. $4N + 16$ Steps\n",
    "### 1.1 Tony's Solution: $O(N)$\n",
    "$O(4N+16) \\rightarrow O(4N) \\rightarrow O(N)$"
   ]
  },
  {
   "cell_type": "markdown",
   "metadata": {},
   "source": [
    "# 2. $2N^2$ Steps\n",
    "### 2.1 Tony's Solution: $O(N^2)$\n",
    "$O(2N^2) \\rightarrow O(N^2)$\n"
   ]
  },
  {
   "cell_type": "markdown",
   "metadata": {},
   "source": [
    "# 3. `double_then_sum` Function"
   ]
  },
  {
   "cell_type": "code",
   "execution_count": null,
   "metadata": {},
   "outputs": [],
   "source": [
    "​def​ ​double_then_sum​(array):\n",
    "    doubled_array = []\n",
    "    ​for​ number ​in​ array:\n",
    "        doubled_array.append(number * 2)\n",
    "    sum = 0\n",
    "    ​for​ number ​in​ doubled_array:\n",
    "        sum += number\n",
    "    ​return​ sum"
   ]
  },
  {
   "cell_type": "markdown",
   "metadata": {
    "vscode": {
     "languageId": "raw"
    }
   },
   "source": [
    "### 3.1 Tony's Solution: $O(N)$\n",
    "* Loop through `array`: $N$ steps  \n",
    "* Loop through `doubled_array`: $N$ steps  \n",
    "* Total steps: $2N$  \n",
    "* Big O: $O(2N) \\rightarrow O(N)$  "
   ]
  },
  {
   "cell_type": "markdown",
   "metadata": {},
   "source": [
    "# 4. `mutiple_cases` Function"
   ]
  },
  {
   "cell_type": "code",
   "execution_count": null,
   "metadata": {},
   "outputs": [],
   "source": [
    "​def​ ​multiple_cases​(array):\n",
    "    ​for​ string ​in​ array:\n",
    "        ​print​(string.upper())\n",
    "        ​print​(string.lower())\n",
    "        ​print​(string.capitalize())"
   ]
  },
  {
   "cell_type": "markdown",
   "metadata": {
    "vscode": {
     "languageId": "raw"
    }
   },
   "source": [
    "### 4.1 Tony's Solution: $O(N)$\n",
    "The function performs multiple operations on each string in the input array:\n",
    "\n",
    "* $3$ operations or steps per `string` or $N$  \n",
    "* Total Steps: $3N$ steps\n",
    "* Big O: $O(3N) \\rightarrow O(N)$"
   ]
  },
  {
   "cell_type": "markdown",
   "metadata": {},
   "source": [
    "# 5. `every_other` Function"
   ]
  },
  {
   "cell_type": "code",
   "execution_count": null,
   "metadata": {},
   "outputs": [],
   "source": [
    "​def​ ​every_other​(array):\n",
    "\t    ​for​ index, number ​in​ enumerate(array):\n",
    "\t        ​if​ index % 2 == 0:\n",
    "\t            ​for​ other_number ​in​ array:\n",
    "\t                ​print​(number + other_number)"
   ]
  },
  {
   "cell_type": "markdown",
   "metadata": {},
   "source": [
    "### 5.1 Tony's Solution: $O(N)$\n",
    "* $N$ operations to iterate through `array`\n",
    "* $N/2$ operations applies in the `if` statement\n",
    "* Total Steps: $N*N/2=N^2/2$ steps\n",
    "* Big O: $O(N^2/2) \\rightarrow O(N^2)$"
   ]
  }
 ],
 "metadata": {
  "kernelspec": {
   "display_name": "blog-T-2huGx2",
   "language": "python",
   "name": "python3"
  },
  "language_info": {
   "codemirror_mode": {
    "name": "ipython",
    "version": 3
   },
   "file_extension": ".py",
   "mimetype": "text/x-python",
   "name": "python",
   "nbconvert_exporter": "python",
   "pygments_lexer": "ipython3",
   "version": "3.10.12"
  }
 },
 "nbformat": 4,
 "nbformat_minor": 2
}
