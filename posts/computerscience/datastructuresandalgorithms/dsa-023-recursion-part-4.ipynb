{
 "cells": [
  {
   "cell_type": "raw",
   "metadata": {
    "vscode": {
     "languageId": "raw"
    }
   },
   "source": [
    "---\n",
    "title: \"DSA 23: Recursion - In-Place Modification [Part 4]\"\n",
    "author: \"Tony Phung\"\n",
    "date: \"2025-02-06\"\n",
    "categories: [data structures, algorithms]\n",
    "image: \"imgs/dsa-023-recurse.png\"\n",
    "toc: true\n",
    "description: \"Creating & Modifying Arrays\"\n",
    "---"
   ]
  },
  {
   "cell_type": "markdown",
   "metadata": {
    "vscode": {
     "languageId": "raw"
    }
   },
   "source": [
    "![](imgs/dsa-023-recurse.png)"
   ]
  },
  {
   "cell_type": "markdown",
   "metadata": {},
   "source": [
    "# 1. *New Array*: iterative `for` approach"
   ]
  },
  {
   "cell_type": "code",
   "execution_count": 144,
   "metadata": {},
   "outputs": [
    {
     "name": "stdout",
     "output_type": "stream",
     "text": [
      "(id:140442015412800: [1, 2, 3, 4, 5]\n",
      "(id:140442143645760: [2, 4, 6, 8, 10]\n"
     ]
    }
   ],
   "source": [
    "def dbl_new_array(arr:list):\n",
    "    new_arr = []\n",
    "    for ar in arr:\n",
    "        new_arr.append(ar*2)\n",
    "    return new_arr\n",
    "\n",
    "arr=[1,2,3,4,5]\n",
    "new_arr = dbl_new_array(arr)\n",
    "print(f\"id:{id(arr)}: {arr}\")\n",
    "print(f\"id:{id(new_arr)}: {new_arr}\")"
   ]
  },
  {
   "cell_type": "markdown",
   "metadata": {},
   "source": [
    "# 2. *Same Array* with **In-Place** modification: iterative `for` approach"
   ]
  },
  {
   "cell_type": "code",
   "execution_count": 142,
   "metadata": {},
   "outputs": [
    {
     "name": "stdout",
     "output_type": "stream",
     "text": [
      "(id:140442015415744: [2, 4, 6, 8, 10]\n",
      "(id:140442015415744: [2, 4, 6, 8, 10]\n"
     ]
    }
   ],
   "source": [
    "def dbl_arr_iter(arr:list):\n",
    "    for i in range(len(arr)):\n",
    "        # print(arr[i])\n",
    "        arr[i]*=2\n",
    "    return arr\n",
    "\n",
    "arr=[1,2,3,4,5]\n",
    "new_arr = dbl_arr_iter(arr)\n",
    "print(f\"id:{id(arr)}: {arr}\")\n",
    "print(f\"id:{id(new_arr)}: {new_arr}\")"
   ]
  },
  {
   "cell_type": "markdown",
   "metadata": {},
   "source": [
    "# 3. *Same Array* with **In-Place** modification: iterative `while` approach"
   ]
  },
  {
   "cell_type": "code",
   "execution_count": 3,
   "metadata": {},
   "outputs": [
    {
     "name": "stdout",
     "output_type": "stream",
     "text": [
      "(id:140442015475456: [2, 4, 6, 8, 10]\n",
      "(id:140442015475456: [2, 4, 6, 8, 10]\n"
     ]
    }
   ],
   "source": [
    "def dbl_arr_while(arr: int, i=0):\n",
    "    while i < len(arr):\n",
    "        arr[i]*=2\n",
    "        i+=1\n",
    "    return arr\n",
    "    \n",
    "arr=[1,2,3,4,5]\n",
    "new_arr = dbl_arr_while(arr)\n",
    "print(f\"id:{id(arr)}: {arr}\")\n",
    "print(f\"id:{id(new_arr)}: {new_arr}\")"
   ]
  },
  {
   "cell_type": "markdown",
   "metadata": {},
   "source": [
    "# 4. `Recursive` approach"
   ]
  },
  {
   "cell_type": "markdown",
   "metadata": {},
   "source": [
    "# 4.1 **In-Place** modification: nothing returned"
   ]
  },
  {
   "cell_type": "code",
   "execution_count": 8,
   "metadata": {},
   "outputs": [
    {
     "name": "stdout",
     "output_type": "stream",
     "text": [
      "id:139727162733888: [2, 4, 6, 8, 10]\n",
      "id:139727776920536: None\n"
     ]
    }
   ],
   "source": [
    "def dbl_array_recurse1(arr, i = 0):\n",
    "    if i >= len(arr):\n",
    "        return \n",
    "    arr[i]*=2 \n",
    "    dbl_array_recurse1(arr,i+1)\n",
    "\n",
    "arr=[1,2,3,4,5]\n",
    "\n",
    "new_arr = dbl_array_recurse1(arr) # nothing returned as in-place modification\n",
    "print(f\"id:{id(arr)}: {arr}\")\n",
    "print(f\"id:{id(new_arr)}: {new_arr}\")"
   ]
  },
  {
   "cell_type": "markdown",
   "metadata": {},
   "source": [
    "# 4.1 **In-Place** modification & *Same Array* return"
   ]
  },
  {
   "cell_type": "code",
   "execution_count": 35,
   "metadata": {},
   "outputs": [
    {
     "name": "stdout",
     "output_type": "stream",
     "text": [
      "(id:140442015584000: [2, 4, 6, 8, 10]\n",
      "(id:140442015584000: [2, 4, 6, 8, 10]\n"
     ]
    }
   ],
   "source": [
    "def dbl_arr_recurse2(arr: int, i=0):\n",
    "    if i >= len(arr):\n",
    "        return arr\n",
    "    arr[i]*=2\n",
    "    return dbl_arr_recurse2(arr,i+1) # fixed\n",
    "\n",
    "arr=[1,2,3,4,5]\n",
    "new_arr = dbl_arr_recurse2(arr)\n",
    "print(f\"id:{id(arr)}: {arr}\")\n",
    "print(f\"id:{id(new_arr)}: {arr}\")"
   ]
  },
  {
   "cell_type": "code",
   "execution_count": 3,
   "metadata": {},
   "outputs": [
    {
     "name": "stdout",
     "output_type": "stream",
     "text": [
      "id:139727162734144: [2, 4, 6, 8, 10]\n",
      "id:139727776920536: [2, 4, 6, 8, 10]\n"
     ]
    }
   ],
   "source": [
    "def dbl_arr_recurse3(arr: int, i=0):\n",
    "    if i >= len(arr):\n",
    "        return\n",
    "    arr[i]*=2\n",
    "    dbl_arr_recurse3(arr,i+1) # fixed\n",
    "\n",
    "arr=[1,2,3,4,5]\n",
    "new_arr = dbl_arr_recurse3(arr)\n",
    "print(f\"id:{id(arr)}: {arr}\")\n",
    "print(f\"id:{id(new_arr)}: {arr}\")"
   ]
  }
 ],
 "metadata": {
  "kernelspec": {
   "display_name": ".venv",
   "language": "python",
   "name": "python3"
  },
  "language_info": {
   "codemirror_mode": {
    "name": "ipython",
    "version": 3
   },
   "file_extension": ".py",
   "mimetype": "text/x-python",
   "name": "python",
   "nbconvert_exporter": "python",
   "pygments_lexer": "ipython3",
   "version": "3.13.1"
  }
 },
 "nbformat": 4,
 "nbformat_minor": 2
}
