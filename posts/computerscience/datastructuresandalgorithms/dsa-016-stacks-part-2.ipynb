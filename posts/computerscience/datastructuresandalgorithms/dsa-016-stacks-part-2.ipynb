{
 "cells": [
  {
   "cell_type": "raw",
   "metadata": {
    "vscode": {
     "languageId": "raw"
    }
   },
   "source": [
    "---\n",
    "title: \"DSA 16: Stacks - Linter [Part 2]\"\n",
    "author: \"Tony Phung\"\n",
    "date: \"2025-01-29\"\n",
    "categories: [data structures, algorithms]\n",
    "image: \"imgs/dsa-016-linter.png\"\n",
    "toc: true\n",
    "description: \"Recording first attempt writing a (Braces) Linter class\"\n",
    "---"
   ]
  },
  {
   "cell_type": "markdown",
   "metadata": {
    "vscode": {
     "languageId": "raw"
    }
   },
   "source": [
    "![](imgs/dsa-016-linter.png)"
   ]
  },
  {
   "cell_type": "markdown",
   "metadata": {},
   "source": [
    "# 1. Create Linter Class\n",
    "\n",
    "By incoporating [previously](https://tonyjustdevs.github.io/blog/posts/computerscience/datastructuresandalgorithms/dsa-013-stacks.html#stack-class-implementation) created `stack` class."
   ]
  },
  {
   "cell_type": "markdown",
   "metadata": {},
   "source": [
    "# 1.1 Objectives\n",
    "\n",
    "* **Syntax Error 1**: Open-brace without a close-brace  \n",
    "* **Syntax Error 2**: Close-brace without an open-brace  \n",
    "* **Syntax Error 3**: Open-brace with incorrect close-brace"
   ]
  },
  {
   "cell_type": "markdown",
   "metadata": {},
   "source": [
    "# 1.2 Solution: Psuedo-Code\n",
    "* set `valid-op-braces`: `[({`   \n",
    "* set `valid-cl-braces`: `])}`\n",
    "\n",
    "for char in string:\n",
    "\n",
    "* [in-loop] if `valid-op-brace`:  \n",
    "    - `add()`, continue\n",
    "\n",
    "* [in-loop] if `valid-cl-brace`:   \n",
    "    - if cl-brace `])}` == `[({` valid-op-br:       `pop()`, continue\n",
    "    - if cl-brace `])}` == `[({` invalid-op-br:     `Syntax Error 3`\n",
    "    - if stack is empty:                            `Syntax Error 2`\n",
    "\n",
    "* [out-loop] if stack is not empty:                 `Syntax Error 1`\n",
    "\n",
    "Edit: This psuedo-code was a bit off from what I ended up writing up..."
   ]
  },
  {
   "cell_type": "markdown",
   "metadata": {},
   "source": [
    "# 2. Solution\n",
    "\n",
    "First attempt!\n",
    "\n",
    "# 2.1 `TonyStack()`: Updated\n",
    "\n",
    "Updated `TonyStack()` as required to help build and the main class `Linter` (from **2.2**)"
   ]
  },
  {
   "cell_type": "code",
   "execution_count": 18,
   "metadata": {},
   "outputs": [],
   "source": [
    "class TonyStack():\n",
    "    def __init__(self):\n",
    "        print(f\"empty stack created\")\n",
    "        self.data = []\n",
    "        \n",
    "    def add(self, value):\n",
    "        self.data.append(value)\n",
    "        # print(f\"{value} ({type(value)}) added. {self.data}\")\n",
    "        print(f\"\\t'{value}' added. {self.data}\")\n",
    "\n",
    "    def pop(self):\n",
    "        if len(self.data)>0:\n",
    "            popped = self.data.pop() # pop() is an in-built obj-method of python's list\n",
    "            # print(f\"{popped} ({type(popped)}) removed. {self.data}\")\n",
    "            print(f\"\\t'{popped}' removed. {self.data}\\n\")\n",
    "        else:\n",
    "            print(f\"\\tstack is empty. {self.data}\\n\")\n",
    "        \n",
    "    def read(self):\n",
    "        if len(self.data)>0:\n",
    "            last = self.data[-1]\n",
    "            # print(f\"{last} ({type(last)} is at top of stack. {self.data}\")\n",
    "            # print(f\"\\t'{last}' is at top of stack. {self.data}\")\n",
    "            return last\n",
    "        else:\n",
    "            print(f\"\\tstack is empty. {self.data}\\n\")\n",
    "\n",
    "    def clear(self):\n",
    "        print(\"...clearing stack...\")\n",
    "        self.__init__()\n",
    "        # self.data = []"
   ]
  },
  {
   "cell_type": "markdown",
   "metadata": {},
   "source": [
    "# 2.2 `LinterCls`: Commentary\n",
    "\n",
    "I built this raw (without looking at any solutions). In a future post, I'll attempt to update it from feedback (from AI, I dont have anyone else to get feedback from at the moment.)\n",
    "\n",
    "I noticed my use `python dictionaries` (i.e. hash tables) instead. of `if-else` due to learning and being more comfortable in implementing them from this chapter.\n",
    "\n",
    "Prior to this chapter, I would have definitely used a bunch of `if-else` statements"
   ]
  },
  {
   "cell_type": "markdown",
   "metadata": {},
   "source": [
    "# 2.3 `LinterCls`: Python"
   ]
  },
  {
   "cell_type": "code",
   "execution_count": 4,
   "metadata": {},
   "outputs": [],
   "source": [
    "class LinterCls():\n",
    "    valid_open_brace_only_dct = {'(':True, '{':True, '[':True}\n",
    "    # valid_cl_brace_dct = {')':True, '}':True, ']':True}\n",
    "    valid_op_cl_dct = {\n",
    "        ')':'(',\n",
    "        '}':'{',\n",
    "        ']':'['\n",
    "        }\n",
    "    def __init__(self):\n",
    "        print(f\"linter created\")\n",
    "        self.stack = TonyStack()\n",
    "    def lint(self, str_list: str):\n",
    "        \n",
    "        self.stack.clear() # since we are linting something, the assumption is something afresh with \n",
    "        # the fresh input, so remove existing string (issues discovered when runnin tests)\n",
    "        \n",
    "        for char in str_list:\n",
    "            print(f\"current char: '{char}'\")\n",
    "            # if char in LinterCls.valid_op_brace_dct: \n",
    "            if char in LinterCls.valid_open_brace_only_dct: \n",
    "                self.stack.add(char)# no syntax error - close okay\n",
    "                print(\"\\tmove to next character\\n\")\n",
    "                continue\n",
    "            if char in LinterCls.valid_op_cl_dct and len(self.stack.data)==0: \n",
    "                    raise SyntaxError(\"Syntax Error 2: Closing Brace without Opening Brace\")\n",
    "            elif char in LinterCls.valid_op_cl_dct and len(self.stack.data)>0: # if char is [VALID_CLOSING_BRACE]\n",
    "                top_of_stack = self.stack.read() # top of stack: we look for matching open brace\n",
    "                # print(f\"\\t valid closing brace: check for matchin opening-brace at top-of-stack...\")\n",
    "                # LinterCls.valid_op_cl_dct[char] use key[close_brace] return value[open_brace] from [valid_dict]\n",
    "                if LinterCls.valid_op_cl_dct[char] == top_of_stack:\n",
    "                    # print(f\"\\t{LinterCls.valid_op_cl_dct[char]} vs {top_of_stack}\")\n",
    "                    print(f\"\\t[CORRECT] opening-brace at top-of-stack: {top_of_stack}\")\n",
    "                    self.stack.pop()\n",
    "                    continue\n",
    "                elif LinterCls.valid_op_cl_dct[char] != top_of_stack:\n",
    "                    print(f\"\\t[INCORRECT] opening-brace at top-of-stack is Incorrect: {top_of_stack}\")\n",
    "                    # print(f\"\\t{LinterCls.valid_op_cl_dct[char]} vs {top_of_stack}\")\n",
    "                    raise SyntaxError(\"Syntax Error 3: Incorrect Closing Brace\")\n",
    "            else:\n",
    "                print(\"not a brace: skip!\\n\")\n",
    "                # continue\n",
    "        if len(self.stack.data)>0:\n",
    "            print(f\"end of string: current stack{self.stack.data}\")\n",
    "            raise SyntaxError(\"Syntax Error 1: Opening Brace Without Closing Brace\")\n",
    "        print(\"SYNTAX OK!\")"
   ]
  },
  {
   "cell_type": "code",
   "execution_count": 5,
   "metadata": {},
   "outputs": [
    {
     "name": "stdout",
     "output_type": "stream",
     "text": [
      "linter created\n",
      "empty stack created\n"
     ]
    }
   ],
   "source": [
    "tony_linter = LinterCls()\n",
    "listify = lambda input_string: [char for char in input_string]"
   ]
  },
  {
   "cell_type": "markdown",
   "metadata": {},
   "source": [
    "# 3. Testing"
   ]
  },
  {
   "cell_type": "markdown",
   "metadata": {},
   "source": [
    "# 3.1. `'{'`: expected error 1"
   ]
  },
  {
   "cell_type": "code",
   "execution_count": 6,
   "metadata": {},
   "outputs": [
    {
     "name": "stdout",
     "output_type": "stream",
     "text": [
      "...clearing stack...\n",
      "empty stack created\n",
      "current char: '{'\n",
      "\t'{' added. ['{']\n",
      "\tmove to next character\n",
      "\n",
      "end of string: current stack['{']\n"
     ]
    },
    {
     "ename": "SyntaxError",
     "evalue": "Syntax Error 1: Opening Brace Without Closing Brace (<string>)",
     "output_type": "error",
     "traceback": [
      "Traceback \u001b[0;36m(most recent call last)\u001b[0m:\n",
      "\u001b[0m  File \u001b[1;32m~/.local/share/virtualenvs/blog-T-2huGx2/lib/python3.10/site-packages/IPython/core/interactiveshell.py:3577\u001b[0m in \u001b[1;35mrun_code\u001b[0m\n    exec(code_obj, self.user_global_ns, self.user_ns)\u001b[0m\n",
      "\u001b[0m  Cell \u001b[1;32mIn[6], line 3\u001b[0m\n    tony_linter.lint(input_str_list)\u001b[0m\n",
      "\u001b[0;36m  Cell \u001b[0;32mIn[4], line 44\u001b[0;36m in \u001b[0;35mlint\u001b[0;36m\n\u001b[0;31m    raise SyntaxError(\"Syntax Error 1: Opening Brace Without Closing Brace\")\u001b[0;36m\n",
      "\u001b[0;36m  File \u001b[0;32m<string>\u001b[0;36m\u001b[0m\n\u001b[0;31mSyntaxError\u001b[0m\u001b[0;31m:\u001b[0m Syntax Error 1: Opening Brace Without Closing Brace\n"
     ]
    }
   ],
   "source": [
    "input_1 = \"{\"\n",
    "input_str_list = listify(input_1)\n",
    "tony_linter.lint(input_str_list)"
   ]
  },
  {
   "cell_type": "markdown",
   "metadata": {},
   "source": [
    "# 3.2 `'}'`: expected error - 2\n"
   ]
  },
  {
   "cell_type": "code",
   "execution_count": 8,
   "metadata": {},
   "outputs": [
    {
     "name": "stdout",
     "output_type": "stream",
     "text": [
      "...clearing stack...\n",
      "empty stack created\n",
      "current char: '}'\n"
     ]
    },
    {
     "ename": "SyntaxError",
     "evalue": "Syntax Error 2: Closing Brace without Opening Brace (<string>)",
     "output_type": "error",
     "traceback": [
      "Traceback \u001b[0;36m(most recent call last)\u001b[0m:\n",
      "\u001b[0m  File \u001b[1;32m~/.local/share/virtualenvs/blog-T-2huGx2/lib/python3.10/site-packages/IPython/core/interactiveshell.py:3577\u001b[0m in \u001b[1;35mrun_code\u001b[0m\n    exec(code_obj, self.user_global_ns, self.user_ns)\u001b[0m\n",
      "\u001b[0m  Cell \u001b[1;32mIn[8], line 3\u001b[0m\n    tony_linter.lint(input_str_list)\u001b[0m\n",
      "\u001b[0;36m  Cell \u001b[0;32mIn[4], line 25\u001b[0;36m in \u001b[0;35mlint\u001b[0;36m\n\u001b[0;31m    raise SyntaxError(\"Syntax Error 2: Closing Brace without Opening Brace\")\u001b[0;36m\n",
      "\u001b[0;36m  File \u001b[0;32m<string>\u001b[0;36m\u001b[0m\n\u001b[0;31mSyntaxError\u001b[0m\u001b[0;31m:\u001b[0m Syntax Error 2: Closing Brace without Opening Brace\n"
     ]
    }
   ],
   "source": [
    "input_2 = \"}\"\n",
    "input_str_list = listify(input_2)\n",
    "tony_linter.lint(input_str_list)"
   ]
  },
  {
   "cell_type": "markdown",
   "metadata": {},
   "source": [
    "# 3.3 `'{)'`: expected error - 3"
   ]
  },
  {
   "cell_type": "code",
   "execution_count": 14,
   "metadata": {},
   "outputs": [
    {
     "name": "stdout",
     "output_type": "stream",
     "text": [
      "...clearing stack...\n",
      "empty stack created\n",
      "current char: '{'\n",
      "\t'{' added. ['{']\n",
      "\tmove to next character\n",
      "\n",
      "current char: ')'\n",
      "\t[INCORRECT] opening-brace at top-of-stack is Incorrect: {\n"
     ]
    },
    {
     "ename": "SyntaxError",
     "evalue": "Syntax Error 3: Incorrect Closing Brace (<string>)",
     "output_type": "error",
     "traceback": [
      "Traceback \u001b[0;36m(most recent call last)\u001b[0m:\n",
      "\u001b[0m  File \u001b[1;32m~/.local/share/virtualenvs/blog-T-2huGx2/lib/python3.10/site-packages/IPython/core/interactiveshell.py:3577\u001b[0m in \u001b[1;35mrun_code\u001b[0m\n    exec(code_obj, self.user_global_ns, self.user_ns)\u001b[0m\n",
      "\u001b[0m  Cell \u001b[1;32mIn[14], line 3\u001b[0m\n    tony_linter.lint(input_str_list)\u001b[0m\n",
      "\u001b[0;36m  Cell \u001b[0;32mIn[4], line 38\u001b[0;36m in \u001b[0;35mlint\u001b[0;36m\n\u001b[0;31m    raise SyntaxError(\"Syntax Error 3: Incorrect Closing Brace\")\u001b[0;36m\n",
      "\u001b[0;36m  File \u001b[0;32m<string>\u001b[0;36m\u001b[0m\n\u001b[0;31mSyntaxError\u001b[0m\u001b[0;31m:\u001b[0m Syntax Error 3: Incorrect Closing Brace\n"
     ]
    }
   ],
   "source": [
    "input_3 = \"{)\" \n",
    "input_str_list = listify(input_3)\n",
    "tony_linter.lint(input_str_list)"
   ]
  },
  {
   "cell_type": "markdown",
   "metadata": {},
   "source": [
    "# 3.4. `'()'`: expected okay"
   ]
  },
  {
   "cell_type": "code",
   "execution_count": 15,
   "metadata": {},
   "outputs": [
    {
     "name": "stdout",
     "output_type": "stream",
     "text": [
      "...clearing stack...\n",
      "empty stack created\n",
      "current char: '('\n",
      "\t'(' added. ['(']\n",
      "\tmove to next character\n",
      "\n",
      "current char: ')'\n",
      "\t[CORRECT] opening-brace at top-of-stack: (\n",
      "\t'(' removed. []\n",
      "\n",
      "SYNTAX OK!\n"
     ]
    }
   ],
   "source": [
    "input_4 = \"()\"\n",
    "input_str_list = listify(input_4)\n",
    "tony_linter.lint(input_str_list)"
   ]
  },
  {
   "cell_type": "markdown",
   "metadata": {},
   "source": [
    "# 3.5. `'[{}]'`: expected okay"
   ]
  },
  {
   "cell_type": "code",
   "execution_count": 16,
   "metadata": {},
   "outputs": [
    {
     "name": "stdout",
     "output_type": "stream",
     "text": [
      "...clearing stack...\n",
      "empty stack created\n",
      "current char: '{'\n",
      "\t'{' added. ['{']\n",
      "\tmove to next character\n",
      "\n",
      "current char: '['\n",
      "\t'[' added. ['{', '[']\n",
      "\tmove to next character\n",
      "\n",
      "current char: ']'\n",
      "\t[CORRECT] opening-brace at top-of-stack: [\n",
      "\t'[' removed. ['{']\n",
      "\n",
      "current char: '}'\n",
      "\t[CORRECT] opening-brace at top-of-stack: {\n",
      "\t'{' removed. []\n",
      "\n",
      "SYNTAX OK!\n"
     ]
    }
   ],
   "source": [
    "input_5 = \"{[]}\"\n",
    "input_str_list = listify(input_5)\n",
    "tony_linter.lint(input_str_list)"
   ]
  },
  {
   "cell_type": "markdown",
   "metadata": {},
   "source": [
    "# 3.6. `'{([])}'`: expected okay"
   ]
  },
  {
   "cell_type": "code",
   "execution_count": 17,
   "metadata": {},
   "outputs": [
    {
     "name": "stdout",
     "output_type": "stream",
     "text": [
      "...clearing stack...\n",
      "empty stack created\n",
      "current char: '{'\n",
      "\t'{' added. ['{']\n",
      "\tmove to next character\n",
      "\n",
      "current char: '('\n",
      "\t'(' added. ['{', '(']\n",
      "\tmove to next character\n",
      "\n",
      "current char: '['\n",
      "\t'[' added. ['{', '(', '[']\n",
      "\tmove to next character\n",
      "\n",
      "current char: ']'\n",
      "\t[CORRECT] opening-brace at top-of-stack: [\n",
      "\t'[' removed. ['{', '(']\n",
      "\n",
      "current char: ')'\n",
      "\t[CORRECT] opening-brace at top-of-stack: (\n",
      "\t'(' removed. ['{']\n",
      "\n",
      "current char: '}'\n",
      "\t[CORRECT] opening-brace at top-of-stack: {\n",
      "\t'{' removed. []\n",
      "\n",
      "SYNTAX OK!\n"
     ]
    }
   ],
   "source": [
    "input_6 = \"{([])}\"\n",
    "input_str_list = listify(input_6)\n",
    "tony_linter.lint(input_str_list)"
   ]
  },
  {
   "cell_type": "markdown",
   "metadata": {},
   "source": [
    "# 3.7 `'1{a(b[2]c)3}4'`: expected okay"
   ]
  },
  {
   "cell_type": "code",
   "execution_count": 13,
   "metadata": {},
   "outputs": [
    {
     "name": "stdout",
     "output_type": "stream",
     "text": [
      "...clearing stack...\n",
      "empty stack created\n",
      "current char: '1'\n",
      "not a brace: skip!\n",
      "\n",
      "current char: '{'\n",
      "\t'{' added. ['{']\n",
      "\tmove to next character\n",
      "\n",
      "current char: 'a'\n",
      "not a brace: skip!\n",
      "\n",
      "current char: '('\n",
      "\t'(' added. ['{', '(']\n",
      "\tmove to next character\n",
      "\n",
      "current char: 'b'\n",
      "not a brace: skip!\n",
      "\n",
      "current char: '['\n",
      "\t'[' added. ['{', '(', '[']\n",
      "\tmove to next character\n",
      "\n",
      "current char: '2'\n",
      "not a brace: skip!\n",
      "\n",
      "current char: ']'\n",
      "\t[CORRECT] opening-brace at top-of-stack: [\n",
      "\t'[' removed. ['{', '(']\n",
      "\n",
      "current char: 'c'\n",
      "not a brace: skip!\n",
      "\n",
      "current char: ')'\n",
      "\t[CORRECT] opening-brace at top-of-stack: (\n",
      "\t'(' removed. ['{']\n",
      "\n",
      "current char: '3'\n",
      "not a brace: skip!\n",
      "\n",
      "current char: '}'\n",
      "\t[CORRECT] opening-brace at top-of-stack: {\n",
      "\t'{' removed. []\n",
      "\n",
      "current char: '4'\n",
      "not a brace: skip!\n",
      "\n",
      "SYNTAX OK!\n"
     ]
    }
   ],
   "source": [
    "input_7 = \"1{a(b[2]c)3}4\"\n",
    "input_str_list = listify(input_7)\n",
    "tony_linter.lint(input_str_list)"
   ]
  }
 ],
 "metadata": {
  "kernelspec": {
   "display_name": "blog-T-2huGx2",
   "language": "python",
   "name": "python3"
  },
  "language_info": {
   "codemirror_mode": {
    "name": "ipython",
    "version": 3
   },
   "file_extension": ".py",
   "mimetype": "text/x-python",
   "name": "python",
   "nbconvert_exporter": "python",
   "pygments_lexer": "ipython3",
   "version": "3.10.12"
  }
 },
 "nbformat": 4,
 "nbformat_minor": 2
}
