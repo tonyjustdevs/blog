{
 "cells": [
  {
   "cell_type": "raw",
   "metadata": {
    "vscode": {
     "languageId": "raw"
    }
   },
   "source": [
    "---\n",
    "title: \"DSA 28: Dynamic Programming [Part 1]\"\n",
    "author: \"Tony Phung\"\n",
    "date: \"2025-02-12\"\n",
    "categories: [data structures, algorithms]\n",
    "image: \"imgs/dsa-028-memo.jpg\"\n",
    "toc: true\n",
    "description: \"Improving Function Efficiency with the Memoization Technique\"\n",
    "---"
   ]
  },
  {
   "cell_type": "markdown",
   "metadata": {},
   "source": [
    "![](imgs/dsa-028-memo.jpg)"
   ]
  },
  {
   "cell_type": "markdown",
   "metadata": {},
   "source": [
    "# 1. Max Value (No DP Technique)"
   ]
  },
  {
   "cell_type": "code",
   "execution_count": 19,
   "metadata": {},
   "outputs": [
    {
     "data": {
      "text/plain": [
       "8"
      ]
     },
     "execution_count": 19,
     "metadata": {},
     "output_type": "execute_result"
    }
   ],
   "source": [
    "def max_val(arr):\n",
    "    if len(arr)==1:\n",
    "        return arr[0]\n",
    "    if arr[0]>max_val(arr[1:]):\n",
    "        return arr[0]\n",
    "    return max_val(arr[1:])\n",
    "\n",
    "max_val([1,8,5,7,3,6])"
   ]
  },
  {
   "cell_type": "markdown",
   "metadata": {},
   "source": [
    "# 1.1 Repeated Recursive Calls: with `print()`\n",
    "Without any dynamic programming techniques, the function runs uncessarily slow:\n",
    "\n",
    "* repeated and unncessary calls to obtain calculated previously calculated max values:\n",
    "    - These values were calculated used for the comparison then disregarded\n",
    "* `max_val_no_dp(4)` is called `14-times`!\n",
    "* Time-complexity: $$O(2^n)$$"
   ]
  },
  {
   "cell_type": "code",
   "execution_count": 20,
   "metadata": {},
   "outputs": [
    {
     "name": "stdout",
     "output_type": "stream",
     "text": [
      "max_val_no_dp called on: [1, 2, 3, 4]\n",
      "max_val_no_dp called on: [2, 3, 4]\n",
      "max_val_no_dp called on: [3, 4]\n",
      "max_val_no_dp called on: [4]\n",
      "max_val_no_dp called on: [4]\n",
      "max_val_no_dp called on: [3, 4]\n",
      "max_val_no_dp called on: [4]\n",
      "max_val_no_dp called on: [4]\n",
      "max_val_no_dp called on: [2, 3, 4]\n",
      "max_val_no_dp called on: [3, 4]\n",
      "max_val_no_dp called on: [4]\n",
      "max_val_no_dp called on: [4]\n",
      "max_val_no_dp called on: [3, 4]\n",
      "max_val_no_dp called on: [4]\n",
      "max_val_no_dp called on: [4]\n"
     ]
    },
    {
     "data": {
      "text/plain": [
       "4"
      ]
     },
     "execution_count": 20,
     "metadata": {},
     "output_type": "execute_result"
    }
   ],
   "source": [
    "def max_val_no_dp(arr):\n",
    "    print(f\"max_val_no_dp called on: {arr}\")\n",
    "    if len(arr)==1:\n",
    "        return arr[0]\n",
    "    if arr[0]>max_val_no_dp(arr[1:]):\n",
    "        return arr[0]\n",
    "    return max_val_no_dp(arr[1:])\n",
    "\n",
    "max_val_no_dp([1,2,3,4])"
   ]
  },
  {
   "cell_type": "markdown",
   "metadata": {},
   "source": [
    "# 1.2 Repeated Recursive Calls: Chart"
   ]
  },
  {
   "cell_type": "markdown",
   "metadata": {},
   "source": [
    "![](imgs/dsa-012-max.png)"
   ]
  },
  {
   "cell_type": "markdown",
   "metadata": {},
   "source": [
    "# 2. Memoization\n",
    "By setting the most recent call of `max_val_memo` to a variable `max_val_remainder`:\n",
    "\n",
    "* The function can recall previous max value at `O(1)` \n",
    "* `max_val_memo(4)` is called `4-times` only \n",
    "* Avoiding repeated and unncessary calls\n",
    "* Time-complexity: $$O(N)$$\n",
    "\n",
    "This is a variation of the Dynamic Programming technique called **Memoization**!    \n",
    "  \n",
    "By using memoization, our time-complexity ***reduced*** from:  \n",
    "  \n",
    "* $O(2^N)\\to O(N)$  \n",
    "  \n",
    "Amazing 🥂!"
   ]
  },
  {
   "cell_type": "code",
   "execution_count": 21,
   "metadata": {},
   "outputs": [
    {
     "name": "stdout",
     "output_type": "stream",
     "text": [
      "max_val_memo called on: [1, 2, 3, 4]\n",
      "max_val_memo called on: [2, 3, 4]\n",
      "max_val_memo called on: [3, 4]\n",
      "max_val_memo called on: [4]\n"
     ]
    },
    {
     "data": {
      "text/plain": [
       "4"
      ]
     },
     "execution_count": 21,
     "metadata": {},
     "output_type": "execute_result"
    }
   ],
   "source": [
    "def max_val_memo(arr):\n",
    "    print(f\"max_val_memo called on: {arr}\")\n",
    "    if len(arr)==1:\n",
    "        return arr[0]\n",
    "    max_val_remainder = max_val_memo(arr[1:])\n",
    "    # if arr[0]>max_val_memo(arr[1:]):\n",
    "    if arr[0]>max_val_remainder:\n",
    "        return arr[0]\n",
    "    return max_val_remainder\n",
    "\n",
    "max_val_memo([1,2,3,4])"
   ]
  }
 ],
 "metadata": {
  "kernelspec": {
   "display_name": "blog-T-2huGx2",
   "language": "python",
   "name": "python3"
  },
  "language_info": {
   "codemirror_mode": {
    "name": "ipython",
    "version": 3
   },
   "file_extension": ".py",
   "mimetype": "text/x-python",
   "name": "python",
   "nbconvert_exporter": "python",
   "pygments_lexer": "ipython3",
   "version": "3.10.12"
  }
 },
 "nbformat": 4,
 "nbformat_minor": 2
}
