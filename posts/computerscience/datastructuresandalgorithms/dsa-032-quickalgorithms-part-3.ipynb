{
 "cells": [
  {
   "cell_type": "raw",
   "metadata": {
    "vscode": {
     "languageId": "raw"
    }
   },
   "source": [
    "---\n",
    "title: \"DSA 32: *Quick* Algorithms - Exercises [Part 3]\"\n",
    "author: \"Tony Phung\"\n",
    "date: \"2025-02-15\"\n",
    "categories: [data structures, algorithms]\n",
    "image: \"imgs/dsa-ch13-exercises.png\"\n",
    "toc: true\n",
    "description: \"Chapter 13 Exercises, J.Wengrow Vol 1\"\n",
    "---"
   ]
  },
  {
   "cell_type": "markdown",
   "metadata": {},
   "source": [
    "![](imgs/dsa-ch13-exercises.png)"
   ]
  },
  {
   "cell_type": "markdown",
   "metadata": {},
   "source": [
    "# 1. Greatest Product of 3\n",
    "\n",
    "*Instructions*: \n",
    "\n",
    "* Use ***sorting*** to implement the function in a way that it   computes at $O(N \\log N)$ speed\n",
    "\n",
    "*Input*: \n",
    "\n",
    "* Array of **positive numbers**  \n",
    "\n",
    "*Output*: \n",
    "\n",
    "* **Greatest Product** of **Any Three Numbers**  \n"
   ]
  },
  {
   "cell_type": "markdown",
   "metadata": {},
   "source": [
    "# 1.1 Greatest Product of 3: Tony's Solution - `partition`"
   ]
  },
  {
   "cell_type": "code",
   "execution_count": null,
   "metadata": {},
   "outputs": [],
   "source": [
    "def partition(arr, l, r):\n",
    "    p=r\n",
    "    pivot=arr[p]\n",
    "    r-=1\n",
    "    # print(f\"l{l},r{r},p{pivot}: {arr}\")\n",
    "    while True:\n",
    "        while arr[l]<pivot:\n",
    "            \n",
    "            # print(f\"[l{arr[l]}<p{pivot}]: l{l},r{r},p{pivot}: {arr}\")\n",
    "            l+=1\n",
    "        while arr[r]>pivot:\n",
    "            # print(f\"[r{arr[r]}>p{pivot}]: l{l},r{r},p{pivot}: {arr}\")\n",
    "            r-=1\n",
    "        if l>=r:\n",
    "            # print(f\"[l{l}>r{r}]: l{l},r{r},p{pivot}: {arr}\")\n",
    "            break\n",
    "        else:\n",
    "            arr[l],arr[r]=arr[r],arr[l]\n",
    "            # print(f\"[l{l}<r{r}]: l{l},r{r},p{pivot}: {arr}\")\n",
    "            l+=1\n",
    "    arr[l],arr[p]=arr[p],arr[l]            \n",
    "    # print(f\"l{l},r{r},p{pivot}: {arr}\")\n",
    "    return l"
   ]
  },
  {
   "cell_type": "markdown",
   "metadata": {},
   "source": [
    "# 1.2 Greatest Product of 3: Tony's Solution - `sort` & `top_3_prod`\n"
   ]
  },
  {
   "cell_type": "code",
   "execution_count": null,
   "metadata": {},
   "outputs": [
    {
     "name": "stdout",
     "output_type": "stream",
     "text": [
      "90\n",
      "90\n"
     ]
    }
   ],
   "source": [
    "def quicksort(arr, l, r):\n",
    "    if r-l<=0:\n",
    "        return\n",
    "    p=partition(arr,l,r)\n",
    "    quicksort(arr,l,p-1)\n",
    "    quicksort(arr,p+1,r)\n",
    "    \n",
    "def top_3_prod(arr):\n",
    "    quicksort(arr, 0, len(arr)-1)\n",
    "    # print(arr)\n",
    "    return arr[-1]*arr[-2]*arr[-3]\n",
    "\n",
    "arr = [int(char) for char in \"052163\"]\n",
    "print(top_3_prod(arr))\n",
    "print(6*5*3)\n",
    "    "
   ]
  },
  {
   "cell_type": "markdown",
   "metadata": {},
   "source": [
    "# 2. Find Missing Integer\n",
    "*Instructions*: \n",
    "\n",
    "* Use ***sorting*** to implement the function in a way that it   computes at $O(N \\log N)$ speed\n",
    "\n",
    "*Input*: \n",
    "\n",
    "* Array of **integers** from **0 to array's length**\n",
    "\n",
    "*Output*: \n",
    "\n",
    "* The **missing** interger  \n"
   ]
  },
  {
   "cell_type": "markdown",
   "metadata": {},
   "source": [
    "# 2.1 Find Missing Integer: Tony's Solution - No Duplicates"
   ]
  },
  {
   "cell_type": "code",
   "execution_count": 74,
   "metadata": {},
   "outputs": [],
   "source": [
    "def find_missing_integer_v1(arr):\n",
    "    print(f\"input_array: {arr}\")\n",
    "    quicksort(arr,0,len(arr)-1) # 052163 becomes 012356\n",
    "    print(f\"sorted_array: {arr}\")\n",
    "    for i in range(len(arr)-1):\n",
    "        # print(arr[i])\n",
    "        if arr[i]+1 != arr[i+1]:\n",
    "            print(f\"missing_integer: {arr[i]+1}\")\n",
    "            return arr[i]+1\n",
    "        "
   ]
  },
  {
   "cell_type": "markdown",
   "metadata": {},
   "source": [
    "## 2.1.1 Find Missing Integer: Tony's Solution - TEST 1"
   ]
  },
  {
   "cell_type": "code",
   "execution_count": 148,
   "metadata": {},
   "outputs": [
    {
     "name": "stdout",
     "output_type": "stream",
     "text": [
      "input_array: [0, 5, 2, 1, 6, 3]\n",
      "sorted_array: [0, 1, 2, 3, 5, 6]\n",
      "missing_integer: 4\n",
      "4\n"
     ]
    }
   ],
   "source": [
    "# WORKS FOR INTEGERS APPEARING ONLY ONCE\n",
    "arr = [int(char) for char in \"052163\"]\n",
    "print(find_missing_integer_v1(arr)) # 4"
   ]
  },
  {
   "cell_type": "markdown",
   "metadata": {},
   "source": [
    "## 2.1.2 Find Missing Integer: Tony's Solution - TEST 2\n",
    "\n",
    "Note: Solution `v1` does not always work with **duplicate** values in the input array"
   ]
  },
  {
   "cell_type": "code",
   "execution_count": null,
   "metadata": {},
   "outputs": [
    {
     "name": "stdout",
     "output_type": "stream",
     "text": [
      "input_array: [0, 1, 5, 9, 2, 4, 2, 8, 3, 5, 6]\n",
      "sorted_array: [0, 1, 2, 2, 3, 4, 5, 5, 6, 8, 9]\n",
      "missing_integer: 3\n",
      "3\n"
     ]
    }
   ],
   "source": [
    "# FAILS AT\n",
    "arr = [int(char) for char in \"01592428356\"]\n",
    "print(find_missing_integer_v1(arr)) # 4"
   ]
  },
  {
   "cell_type": "markdown",
   "metadata": {},
   "source": [
    "# 2.2 Find Missing Integer: Tony's Solution - Duplicates Allowed\n",
    "\n",
    "Updated `v2` works with duplicate values in input array"
   ]
  },
  {
   "cell_type": "code",
   "execution_count": 151,
   "metadata": {},
   "outputs": [],
   "source": [
    "def find_missing_integer_v2(arr):\n",
    "    print(f\"input_array: {arr}\")\n",
    "    quicksort(arr,0,len(arr)-1) # 01592428356\" becomes 01223455689\n",
    "    print(f\"sorted_array: {arr}\")\n",
    "    for i in range(len(arr)-1):\n",
    "        if arr[i+1]-arr[i] > 1:\n",
    "            print(f\"missing_integer: {arr[i]+1}\")\n",
    "            return arr[i]+1\n",
    "        "
   ]
  },
  {
   "cell_type": "code",
   "execution_count": 152,
   "metadata": {},
   "outputs": [
    {
     "name": "stdout",
     "output_type": "stream",
     "text": [
      "input_array: [0, 1, 5, 9, 2, 4, 2, 8, 3, 5, 6]\n",
      "sorted_array: [0, 1, 2, 2, 3, 4, 5, 5, 6, 8, 9]\n",
      "missing_integer: 7\n",
      "7\n"
     ]
    }
   ],
   "source": [
    "# WORKS FOR DUPLICATE INTEGERS\n",
    "arr = [int(char) for char in \"01592428356\"]\n",
    "print(find_missing_integer_v2(arr)) # 7"
   ]
  },
  {
   "cell_type": "markdown",
   "metadata": {},
   "source": [
    "# 3. Find Greatest Number\n",
    "*Instructions*: \n",
    "\n",
    "* Write three functions of different time-complexlities: \n",
    "    - $O(N^2)$\n",
    "    - $O(N \\log N)$\n",
    "    - $O(N)$\n",
    "    \n",
    "*Input*: \n",
    "\n",
    "* **Array**  \n",
    "\n",
    "*Output*:  \n",
    "\n",
    "* **Greatest Number** of **Array**  \n",
    "\n",
    "\n"
   ]
  },
  {
   "cell_type": "markdown",
   "metadata": {},
   "source": [
    "# 3.1 Find Greatest Number: Tony's Solution - $O(N^2)$"
   ]
  },
  {
   "cell_type": "code",
   "execution_count": 164,
   "metadata": {},
   "outputs": [
    {
     "name": "stdout",
     "output_type": "stream",
     "text": [
      "[Step 1]: 0 (0vs0)\n",
      "[Step 2]: 1 (1vs1)\n",
      "[Step 3]: 3 (3vs3)\n",
      "[Step 4]: 3 (3vs2)\n",
      "[Step 5]: 1 (1vs0)\n",
      "[Step 6]: 1 (1vs1)\n",
      "[Step 7]: 3 (3vs3)\n",
      "[Step 8]: 3 (3vs2)\n",
      "[Step 9]: 3 (3vs0)\n",
      "[Step 10]: 3 (3vs1)\n",
      "[Step 11]: 3 (3vs3)\n",
      "[Step 12]: 3 (3vs2)\n",
      "[Step 13]: 2 (2vs0)\n",
      "[Step 14]: 2 (2vs1)\n",
      "[Step 15]: 3 (3vs3)\n",
      "[Step 16]: 3 (3vs2)\n",
      "3\n",
      "Expected Steps: 16\n"
     ]
    }
   ],
   "source": [
    "def max_int_nsqrd(arr):\n",
    "    step=0\n",
    "    for i in range(len(arr)):\n",
    "        curr_max = arr[i]\n",
    "        for j in range(len(arr)):\n",
    "            step+=1\n",
    "            if arr[j]>curr_max:\n",
    "                curr_max = arr[j]\n",
    "            print(f\"[Step {step}]: {curr_max} ({curr_max}vs{arr[j]})\")\n",
    "    return curr_max\n",
    "arr = [int(char) for char in \"0132\"]\n",
    "print(max_int_nsqrd(arr))\n",
    "print(f\"Expected Steps: {len(arr)**2}\")\n"
   ]
  },
  {
   "cell_type": "markdown",
   "metadata": {},
   "source": [
    "# 3.2 Find Greatest Number: Tony's Solution - $O(N\\log N)$\n",
    "\n",
    "Expected Steps $Nlog N$: \n",
    "\n",
    "* `quicksort`:  \n",
    "    - $N\\log N$ steps\n",
    "* `read(-1)`: \n",
    "    - $1$ steps\n",
    "* `total_steps`: \n",
    "    - = $(N\\log N)$ steps + $(1)$ steps \n",
    "    - = $(N\\log N+1)$ steps \n",
    "    - = $N\\log N$ time-complexity"
   ]
  },
  {
   "cell_type": "code",
   "execution_count": 165,
   "metadata": {},
   "outputs": [
    {
     "name": "stdout",
     "output_type": "stream",
     "text": [
      "unsorted_array: [0, 1, 5, 9, 2, 4, 2, 8, 3, 5, 6]\n",
      "sorted_array: [0, 1, 2, 2, 3, 4, 5, 5, 6, 8, 9]\n",
      "9\n"
     ]
    }
   ],
   "source": [
    "def max_int_nlogn(arr):\n",
    "    if len(arr)==1:\n",
    "        return arr[0]\n",
    "    print(f\"unsorted_array: {arr}\")\n",
    "    quicksort(arr,0,len(arr)-1) # 01592428356 becomes 01223455689\n",
    "    print(f\"sorted_array: {arr}\")\n",
    "    return arr[-1]\n",
    "arr = [int(char) for char in \"01592428356\"]\n",
    "print(max_int_nlogn(arr))"
   ]
  },
  {
   "cell_type": "markdown",
   "metadata": {},
   "source": [
    "# 3.3 Find Greatest Number: Tony's Solution - $O(N)$"
   ]
  },
  {
   "cell_type": "code",
   "execution_count": 166,
   "metadata": {},
   "outputs": [
    {
     "name": "stdout",
     "output_type": "stream",
     "text": [
      "[Step 1]: 1 (1vs1)\n",
      "[Step 2]: 5 (5vs5)\n",
      "[Step 3]: 9 (9vs9)\n",
      "[Step 4]: 9 (9vs2)\n",
      "[Step 5]: 9 (9vs4)\n",
      "[Step 6]: 9 (9vs2)\n",
      "[Step 7]: 9 (9vs8)\n",
      "[Step 8]: 9 (9vs3)\n",
      "[Step 9]: 9 (9vs5)\n",
      "[Step 10]: 9 (9vs6)\n",
      "9\n"
     ]
    }
   ],
   "source": [
    "def max_int_n(arr):\n",
    "    steps=0\n",
    "    max_val = arr[0]\n",
    "    for i in range(1,len(arr)):\n",
    "        steps+=1\n",
    "        if max_val<arr[i]:\n",
    "            max_val=arr[i]\n",
    "        print(f\"[Step {steps}]: {max_val} ({max_val}vs{arr[i]})\")\n",
    "    return max_val\n",
    "arr = [int(char) for char in \"01592428356\"]\n",
    "print(max_int_n(arr))"
   ]
  }
 ],
 "metadata": {
  "kernelspec": {
   "display_name": "blog-T-2huGx2",
   "language": "python",
   "name": "python3"
  },
  "language_info": {
   "codemirror_mode": {
    "name": "ipython",
    "version": 3
   },
   "file_extension": ".py",
   "mimetype": "text/x-python",
   "name": "python",
   "nbconvert_exporter": "python",
   "pygments_lexer": "ipython3",
   "version": "3.10.12"
  }
 },
 "nbformat": 4,
 "nbformat_minor": 2
}
