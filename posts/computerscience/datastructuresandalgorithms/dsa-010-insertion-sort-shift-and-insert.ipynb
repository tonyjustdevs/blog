{
 "cells": [
  {
   "cell_type": "raw",
   "metadata": {
    "vscode": {
     "languageId": "raw"
    }
   },
   "source": [
    "---\n",
    "title: \"DSA 10: Insertion Sort - Shift & Insert\"\n",
    "author: \"Tony Phung\"\n",
    "date: \"2025-01-19\"\n",
    "categories: [data structures, algorithms]\n",
    "image: \"imgs/dsa-010-insert-shift-insert.png\"\n",
    "toc: true\n",
    "description: \"3rd attempt which uses less variable assigning\"\n",
    "---"
   ]
  },
  {
   "cell_type": "markdown",
   "metadata": {},
   "source": [
    "![](imgs/dsa-010-insert-shift-insert.png)"
   ]
  },
  {
   "cell_type": "markdown",
   "metadata": {},
   "source": [
    "# 1. Code\n",
    "## 1.1 Psuedo-Code\n",
    "Not the greatest psuedo-code but it'lll do for now.\n",
    "\n",
    "* **Outer loop**: \n",
    "    - from `1` to last index of array (or array size)\n",
    "* For each index `r` of **outer loop**:\n",
    "    * Allocate **current-index** `arr[l]` to **temp-variable** (temp-val): `tmp`\n",
    "    * while `l>0` and **temp-value** (`tmp`) to **previous-value** (`l-1`)\n",
    "        - If **temp-val** < **prev-value**: ***shift*** **prev-val** right by 1, then decrement `l` *and go back to start of `\n",
    "        `-loop*\n",
    "        - If **temp-val** > **prev-value**: \n",
    "            - if: ***shifted*** previously, assign `arr[l]=tmp`\n",
    "            - else: next `r`"
   ]
  },
  {
   "cell_type": "markdown",
   "metadata": {},
   "source": [
    "## 1.2 Python-Code"
   ]
  },
  {
   "cell_type": "code",
   "execution_count": 9,
   "metadata": {},
   "outputs": [],
   "source": [
    "vals_to_list_fn = lambda vals: [int(val) for val in str(vals)]\n",
    "\n",
    "def insert_sort_shift_and_insert(arr: list[int]):\n",
    "    print(arr)\n",
    "    for r in range(1,len(arr)):\n",
    "        shifted=False\n",
    "        l=r\n",
    "        tmp=arr[l]\n",
    "        print(f\"\\t{[r]}\")\n",
    "        while l>0 and tmp<arr[l-1]:\n",
    "            arr[l]=[] #uncessary - temporarily blank-out [l] - for visaul debugging-purposes\n",
    "            print(f\"(idx[{l-1}]={arr[l-1]}_vs_tmp={tmp}) COMPARE: {arr} | tmp={tmp}\")\n",
    "            arr[l]=arr[l-1] # shift-right 1\n",
    "            arr[l-1]=[] # uncessary - for visual debugging-purposes\n",
    "            print(f\"(idx[{l-1}]={arr[l-1]}_vs_tmp={tmp}) SHIFTD: {arr} | tmp={tmp}\")\n",
    "            shifted=True\n",
    "            l-=1\n",
    "        if shifted:\n",
    "            arr[l] = tmp \n",
    "            print(f\"(idx[{l})=tmp={tmp}) \\t     INSERT: {arr} | tmp={tmp}\")\n",
    "        else:\n",
    "            print(f\"SKIPPED: Already sorted from 0 to {r}: {arr[0:r+1]} of {arr}\")\n",
    "    print(arr)\n",
    "    return arr\n"
   ]
  },
  {
   "cell_type": "code",
   "execution_count": 10,
   "metadata": {},
   "outputs": [
    {
     "name": "stdout",
     "output_type": "stream",
     "text": [
      "[1, 2, 3, 5, 4]\n",
      "\t[1]\n",
      "SKIPPED: Already sorted from 0 to 1: [1, 2] of [1, 2, 3, 5, 4]\n",
      "\t[2]\n",
      "SKIPPED: Already sorted from 0 to 2: [1, 2, 3] of [1, 2, 3, 5, 4]\n",
      "\t[3]\n",
      "SKIPPED: Already sorted from 0 to 3: [1, 2, 3, 5] of [1, 2, 3, 5, 4]\n",
      "\t[4]\n",
      "(idx[3]=5_vs_tmp=4) COMPARE: [1, 2, 3, 5, []] | tmp=4\n",
      "(idx[3]=[]_vs_tmp=4) SHIFTD: [1, 2, 3, [], 5] | tmp=4\n",
      "(idx[3)=tmp=4) \t     INSERT: [1, 2, 3, 4, 5] | tmp=4\n",
      "[1, 2, 3, 4, 5]\n"
     ]
    },
    {
     "data": {
      "text/plain": [
       "[1, 2, 3, 4, 5]"
      ]
     },
     "execution_count": 10,
     "metadata": {},
     "output_type": "execute_result"
    }
   ],
   "source": [
    "vals = 12354\n",
    "arr = vals_to_list_fn(vals)\n",
    "insert_sort_shift_and_insert(arr)"
   ]
  },
  {
   "cell_type": "markdown",
   "metadata": {},
   "source": [
    "# 2. Testing\n",
    "**Test Scenarios from previous post [[DSA 9: Insertion Sort - With Test Scenarios]](https://tonyjustdevs.github.io/blog/posts/computerscience/datastructuresandalgorithms/dsa-009-insertion-sort-for-while.html)**:   \n",
    "\n",
    "1. Sorted & Unsorted Parts\n",
    "2. Mostly Sorted\n",
    "3. Unsorted (Descending)\n",
    "4. Duplicates\n",
    "5. Already Sorted"
   ]
  },
  {
   "cell_type": "markdown",
   "metadata": {},
   "source": [
    "# 2.1 Sorted & Unsorted Parts: `shift` & and `insert`\n"
   ]
  },
  {
   "cell_type": "code",
   "execution_count": 11,
   "metadata": {},
   "outputs": [
    {
     "name": "stdout",
     "output_type": "stream",
     "text": [
      "[4, 2, 7, 1, 3]\n",
      "\t[1]\n",
      "(idx[0]=4_vs_tmp=2) COMPARE: [4, [], 7, 1, 3] | tmp=2\n",
      "(idx[0]=[]_vs_tmp=2) SHIFTD: [[], 4, 7, 1, 3] | tmp=2\n",
      "(idx[0)=tmp=2) \t     INSERT: [2, 4, 7, 1, 3] | tmp=2\n",
      "\t[2]\n",
      "SKIPPED: Already sorted from 0 to 2: [2, 4, 7] of [2, 4, 7, 1, 3]\n",
      "\t[3]\n",
      "(idx[2]=7_vs_tmp=1) COMPARE: [2, 4, 7, [], 3] | tmp=1\n",
      "(idx[2]=[]_vs_tmp=1) SHIFTD: [2, 4, [], 7, 3] | tmp=1\n",
      "(idx[1]=4_vs_tmp=1) COMPARE: [2, 4, [], 7, 3] | tmp=1\n",
      "(idx[1]=[]_vs_tmp=1) SHIFTD: [2, [], 4, 7, 3] | tmp=1\n",
      "(idx[0]=2_vs_tmp=1) COMPARE: [2, [], 4, 7, 3] | tmp=1\n",
      "(idx[0]=[]_vs_tmp=1) SHIFTD: [[], 2, 4, 7, 3] | tmp=1\n",
      "(idx[0)=tmp=1) \t     INSERT: [1, 2, 4, 7, 3] | tmp=1\n",
      "\t[4]\n",
      "(idx[3]=7_vs_tmp=3) COMPARE: [1, 2, 4, 7, []] | tmp=3\n",
      "(idx[3]=[]_vs_tmp=3) SHIFTD: [1, 2, 4, [], 7] | tmp=3\n",
      "(idx[2]=4_vs_tmp=3) COMPARE: [1, 2, 4, [], 7] | tmp=3\n",
      "(idx[2]=[]_vs_tmp=3) SHIFTD: [1, 2, [], 4, 7] | tmp=3\n",
      "(idx[2)=tmp=3) \t     INSERT: [1, 2, 3, 4, 7] | tmp=3\n",
      "[1, 2, 3, 4, 7]\n"
     ]
    },
    {
     "data": {
      "text/plain": [
       "[1, 2, 3, 4, 7]"
      ]
     },
     "execution_count": 11,
     "metadata": {},
     "output_type": "execute_result"
    }
   ],
   "source": [
    "arr = vals_to_list_fn(42713)\n",
    "insert_sort_shift_and_insert(arr)\n"
   ]
  },
  {
   "cell_type": "markdown",
   "metadata": {},
   "source": [
    "# 2.2 Mostly Sorted: `for`-loop"
   ]
  },
  {
   "cell_type": "code",
   "execution_count": 12,
   "metadata": {},
   "outputs": [
    {
     "name": "stdout",
     "output_type": "stream",
     "text": [
      "[1, 2, 3, 5, 4]\n",
      "\t[1]\n",
      "SKIPPED: Already sorted from 0 to 1: [1, 2] of [1, 2, 3, 5, 4]\n",
      "\t[2]\n",
      "SKIPPED: Already sorted from 0 to 2: [1, 2, 3] of [1, 2, 3, 5, 4]\n",
      "\t[3]\n",
      "SKIPPED: Already sorted from 0 to 3: [1, 2, 3, 5] of [1, 2, 3, 5, 4]\n",
      "\t[4]\n",
      "(idx[3]=5_vs_tmp=4) COMPARE: [1, 2, 3, 5, []] | tmp=4\n",
      "(idx[3]=[]_vs_tmp=4) SHIFTD: [1, 2, 3, [], 5] | tmp=4\n",
      "(idx[3)=tmp=4) \t     INSERT: [1, 2, 3, 4, 5] | tmp=4\n",
      "[1, 2, 3, 4, 5]\n"
     ]
    },
    {
     "data": {
      "text/plain": [
       "[1, 2, 3, 4, 5]"
      ]
     },
     "execution_count": 12,
     "metadata": {},
     "output_type": "execute_result"
    }
   ],
   "source": [
    "arr = vals_to_list_fn(12354)\n",
    "insert_sort_shift_and_insert(arr)\n"
   ]
  },
  {
   "cell_type": "markdown",
   "metadata": {},
   "source": [
    "# 2.3 Unsorted (Descending): `for`-loop\n"
   ]
  },
  {
   "cell_type": "code",
   "execution_count": 13,
   "metadata": {},
   "outputs": [
    {
     "name": "stdout",
     "output_type": "stream",
     "text": [
      "[5, 4, 3, 2, 1]\n",
      "\t[1]\n",
      "(idx[0]=5_vs_tmp=4) COMPARE: [5, [], 3, 2, 1] | tmp=4\n",
      "(idx[0]=[]_vs_tmp=4) SHIFTD: [[], 5, 3, 2, 1] | tmp=4\n",
      "(idx[0)=tmp=4) \t     INSERT: [4, 5, 3, 2, 1] | tmp=4\n",
      "\t[2]\n",
      "(idx[1]=5_vs_tmp=3) COMPARE: [4, 5, [], 2, 1] | tmp=3\n",
      "(idx[1]=[]_vs_tmp=3) SHIFTD: [4, [], 5, 2, 1] | tmp=3\n",
      "(idx[0]=4_vs_tmp=3) COMPARE: [4, [], 5, 2, 1] | tmp=3\n",
      "(idx[0]=[]_vs_tmp=3) SHIFTD: [[], 4, 5, 2, 1] | tmp=3\n",
      "(idx[0)=tmp=3) \t     INSERT: [3, 4, 5, 2, 1] | tmp=3\n",
      "\t[3]\n",
      "(idx[2]=5_vs_tmp=2) COMPARE: [3, 4, 5, [], 1] | tmp=2\n",
      "(idx[2]=[]_vs_tmp=2) SHIFTD: [3, 4, [], 5, 1] | tmp=2\n",
      "(idx[1]=4_vs_tmp=2) COMPARE: [3, 4, [], 5, 1] | tmp=2\n",
      "(idx[1]=[]_vs_tmp=2) SHIFTD: [3, [], 4, 5, 1] | tmp=2\n",
      "(idx[0]=3_vs_tmp=2) COMPARE: [3, [], 4, 5, 1] | tmp=2\n",
      "(idx[0]=[]_vs_tmp=2) SHIFTD: [[], 3, 4, 5, 1] | tmp=2\n",
      "(idx[0)=tmp=2) \t     INSERT: [2, 3, 4, 5, 1] | tmp=2\n",
      "\t[4]\n",
      "(idx[3]=5_vs_tmp=1) COMPARE: [2, 3, 4, 5, []] | tmp=1\n",
      "(idx[3]=[]_vs_tmp=1) SHIFTD: [2, 3, 4, [], 5] | tmp=1\n",
      "(idx[2]=4_vs_tmp=1) COMPARE: [2, 3, 4, [], 5] | tmp=1\n",
      "(idx[2]=[]_vs_tmp=1) SHIFTD: [2, 3, [], 4, 5] | tmp=1\n",
      "(idx[1]=3_vs_tmp=1) COMPARE: [2, 3, [], 4, 5] | tmp=1\n",
      "(idx[1]=[]_vs_tmp=1) SHIFTD: [2, [], 3, 4, 5] | tmp=1\n",
      "(idx[0]=2_vs_tmp=1) COMPARE: [2, [], 3, 4, 5] | tmp=1\n",
      "(idx[0]=[]_vs_tmp=1) SHIFTD: [[], 2, 3, 4, 5] | tmp=1\n",
      "(idx[0)=tmp=1) \t     INSERT: [1, 2, 3, 4, 5] | tmp=1\n",
      "[1, 2, 3, 4, 5]\n"
     ]
    },
    {
     "data": {
      "text/plain": [
       "[1, 2, 3, 4, 5]"
      ]
     },
     "execution_count": 13,
     "metadata": {},
     "output_type": "execute_result"
    }
   ],
   "source": [
    "arr = vals_to_list_fn(54321)\n",
    "insert_sort_shift_and_insert(arr)\n"
   ]
  },
  {
   "cell_type": "markdown",
   "metadata": {},
   "source": [
    "# 2.4 Duplicates: `for`-loop\n"
   ]
  },
  {
   "cell_type": "code",
   "execution_count": 14,
   "metadata": {},
   "outputs": [
    {
     "name": "stdout",
     "output_type": "stream",
     "text": [
      "[1, 1, 1, 1, 1]\n",
      "\t[1]\n",
      "SKIPPED: Already sorted from 0 to 1: [1, 1] of [1, 1, 1, 1, 1]\n",
      "\t[2]\n",
      "SKIPPED: Already sorted from 0 to 2: [1, 1, 1] of [1, 1, 1, 1, 1]\n",
      "\t[3]\n",
      "SKIPPED: Already sorted from 0 to 3: [1, 1, 1, 1] of [1, 1, 1, 1, 1]\n",
      "\t[4]\n",
      "SKIPPED: Already sorted from 0 to 4: [1, 1, 1, 1, 1] of [1, 1, 1, 1, 1]\n",
      "[1, 1, 1, 1, 1]\n"
     ]
    },
    {
     "data": {
      "text/plain": [
       "[1, 1, 1, 1, 1]"
      ]
     },
     "execution_count": 14,
     "metadata": {},
     "output_type": "execute_result"
    }
   ],
   "source": [
    "arr = vals_to_list_fn(11111)\n",
    "insert_sort_shift_and_insert(arr)\n"
   ]
  },
  {
   "cell_type": "markdown",
   "metadata": {},
   "source": [
    "# 2.5 Already Sorted: `for`-loop\n"
   ]
  },
  {
   "cell_type": "code",
   "execution_count": 15,
   "metadata": {},
   "outputs": [
    {
     "name": "stdout",
     "output_type": "stream",
     "text": [
      "[1, 2, 3, 4, 5]\n",
      "\t[1]\n",
      "SKIPPED: Already sorted from 0 to 1: [1, 2] of [1, 2, 3, 4, 5]\n",
      "\t[2]\n",
      "SKIPPED: Already sorted from 0 to 2: [1, 2, 3] of [1, 2, 3, 4, 5]\n",
      "\t[3]\n",
      "SKIPPED: Already sorted from 0 to 3: [1, 2, 3, 4] of [1, 2, 3, 4, 5]\n",
      "\t[4]\n",
      "SKIPPED: Already sorted from 0 to 4: [1, 2, 3, 4, 5] of [1, 2, 3, 4, 5]\n",
      "[1, 2, 3, 4, 5]\n"
     ]
    },
    {
     "data": {
      "text/plain": [
       "[1, 2, 3, 4, 5]"
      ]
     },
     "execution_count": 15,
     "metadata": {},
     "output_type": "execute_result"
    }
   ],
   "source": [
    "arr = vals_to_list_fn(12345)\n",
    "insert_sort_shift_and_insert(arr)\n"
   ]
  }
 ],
 "metadata": {
  "kernelspec": {
   "display_name": "blog-T-2huGx2",
   "language": "python",
   "name": "python3"
  },
  "language_info": {
   "codemirror_mode": {
    "name": "ipython",
    "version": 3
   },
   "file_extension": ".py",
   "mimetype": "text/x-python",
   "name": "python",
   "nbconvert_exporter": "python",
   "pygments_lexer": "ipython3",
   "version": "3.10.12"
  }
 },
 "nbformat": 4,
 "nbformat_minor": 2
}
