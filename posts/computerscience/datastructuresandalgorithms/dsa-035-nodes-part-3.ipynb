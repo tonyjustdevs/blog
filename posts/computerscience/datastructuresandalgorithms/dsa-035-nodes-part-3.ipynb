{
 "cells": [
  {
   "cell_type": "raw",
   "metadata": {
    "vscode": {
     "languageId": "raw"
    }
   },
   "source": [
    "---\n",
    "title: \"DSA 35: LinkedList - Insert & Delete\"\n",
    "author: \"Tony Phung\"\n",
    "date: \"2025-02-17\"\n",
    "categories: [data structures, algorithms]\n",
    "image: \"imgs/dsa-tba.png\"\n",
    "toc: true\n",
    "description: \"The Other Two Important Operations\"\n",
    "---"
   ]
  },
  {
   "cell_type": "markdown",
   "metadata": {},
   "source": [
    "# 1. Setup `Linkedlist` and `Node` Objects\n",
    "\n",
    "Previously [introduced](https://tonyjustdevs.github.io/blog/posts/computerscience/datastructuresandalgorithms/dsa-033-nodes-part-1.html)."
   ]
  },
  {
   "cell_type": "code",
   "execution_count": 2,
   "metadata": {},
   "outputs": [],
   "source": [
    "class Node():\n",
    "    def __init__(self, data):\n",
    "        self.data=data\n",
    "        self.next_node=None\n",
    "\n",
    "class LinkedList():\n",
    "    def __init__(self, first_node:Node|None=None):\n",
    "        self.first_node: Node|None = first_node"
   ]
  },
  {
   "cell_type": "code",
   "execution_count": 3,
   "metadata": {},
   "outputs": [],
   "source": [
    "node0=Node(\"Hey\")\n",
    "node1=Node(\"I\")\n",
    "node2=Node(\"Just\")\n",
    "node3=Node(\"Met\")\n",
    "node0.next_node=node1\n",
    "node1.next_node=node2\n",
    "node2.next_node=node3"
   ]
  },
  {
   "cell_type": "markdown",
   "metadata": {},
   "source": [
    "# 2. `Read` from `LinkedList`\n",
    "\n",
    "Previously [introduced](https://tonyjustdevs.github.io/blog/posts/computerscience/datastructuresandalgorithms/dsa-034-nodes-part-2.html)"
   ]
  },
  {
   "cell_type": "markdown",
   "metadata": {},
   "source": [
    "# 2.1 `Read(0)` or **Top**"
   ]
  },
  {
   "cell_type": "code",
   "execution_count": 5,
   "metadata": {},
   "outputs": [
    {
     "data": {
      "text/plain": [
       "'Hey'"
      ]
     },
     "execution_count": 5,
     "metadata": {},
     "output_type": "execute_result"
    }
   ],
   "source": [
    "def read_top_ll(linked_list: LinkedList, index: int):\n",
    "    current_node = linked_list.first_node \n",
    "    return current_node.data\n",
    "\n",
    "ll = LinkedList(node0)\n",
    "read_top_ll(ll,0)"
   ]
  },
  {
   "cell_type": "markdown",
   "metadata": {},
   "source": [
    "# 2.2 `Read` **Index** of `LinkedList`"
   ]
  },
  {
   "cell_type": "markdown",
   "metadata": {},
   "source": [
    "# 2.3 Add Base-Case: `Read(0)`"
   ]
  },
  {
   "cell_type": "code",
   "execution_count": 115,
   "metadata": {},
   "outputs": [
    {
     "data": {
      "text/plain": [
       "'Hey'"
      ]
     },
     "execution_count": 115,
     "metadata": {},
     "output_type": "execute_result"
    }
   ],
   "source": [
    "def read_ll_forloop(linked_list: LinkedList, index: int):\n",
    "    current_node = linked_list.first_node \n",
    "    \n",
    "    if index==0:\n",
    "        return current_node.data\n",
    "    \n",
    "    for i in range(index+1):\n",
    "        print(i)\n",
    "        if i==index:\n",
    "            return current_node.data\n",
    "        current_node=current_node.next_node\n",
    "    return None\n",
    "\n",
    "ll = LinkedList(node0)\n",
    "read_ll_forloop(ll,0)\n"
   ]
  },
  {
   "cell_type": "markdown",
   "metadata": {},
   "source": [
    "# 2.4 `Read(1)`"
   ]
  },
  {
   "cell_type": "code",
   "execution_count": 44,
   "metadata": {},
   "outputs": [
    {
     "data": {
      "text/plain": [
       "'I'"
      ]
     },
     "execution_count": 44,
     "metadata": {},
     "output_type": "execute_result"
    }
   ],
   "source": [
    "def read_ll_whileloop(linked_list: LinkedList, index: int):\n",
    "    current_node = linked_list.first_node \n",
    "    \n",
    "    if index==0:\n",
    "        return current_node.data\n",
    "    i=0    \n",
    "    while current_node: # for i in range(index+1):\n",
    "        if i==index:\n",
    "            return current_node.data\n",
    "        current_node=current_node.next_node\n",
    "        i+=1\n",
    "    return None\n",
    "\n",
    "ll = LinkedList(node0)\n",
    "read_ll_whileloop(ll,1)\n"
   ]
  },
  {
   "cell_type": "markdown",
   "metadata": {},
   "source": [
    "# 2.5 `Read` **All** - `LinkedList` to Python `List`"
   ]
  },
  {
   "cell_type": "code",
   "execution_count": 6,
   "metadata": {},
   "outputs": [
    {
     "data": {
      "text/plain": [
       "['Hey', 'I', 'Just', 'Met']"
      ]
     },
     "execution_count": 6,
     "metadata": {},
     "output_type": "execute_result"
    }
   ],
   "source": [
    "def read_all_ll_whileloop(linked_list: LinkedList):\n",
    "    current_node = linked_list.first_node \n",
    "    ll_list = []\n",
    "    while current_node: # for i in range(index+1):\n",
    "        ll_list.append(current_node.data)\n",
    "        current_node=current_node.next_node\n",
    "        \n",
    "    return ll_list\n",
    "\n",
    "ll = LinkedList(node0)\n",
    "read_all_ll_whileloop(ll)"
   ]
  },
  {
   "cell_type": "markdown",
   "metadata": {},
   "source": [
    "# 3. `Insert` from `LinkedList`"
   ]
  },
  {
   "cell_type": "markdown",
   "metadata": {},
   "source": [
    "# 3.1 `Insert(0)` or **Top**"
   ]
  },
  {
   "cell_type": "code",
   "execution_count": null,
   "metadata": {},
   "outputs": [
    {
     "name": "stdout",
     "output_type": "stream",
     "text": [
      "['mate', 'Hey', 'I', 'Just', 'Met']\n"
     ]
    }
   ],
   "source": [
    "def insert_front_ll_forloop(linked_list: LinkedList, index: int,\n",
    "                            new_node: Node):\n",
    "    \n",
    "    current_node = linked_list.first_node \n",
    "    if index==0:\n",
    "        new_node.next_node = current_node\n",
    "        linked_list.first_node=new_node\n",
    "    \n",
    "    # for i in range(index+1):\n",
    "    #     print(i)\n",
    "    #     if i==index:\n",
    "    #         return current_node.data\n",
    "    #     current_node=current_node.next_node\n",
    "    # return None\n",
    "\n",
    "\n",
    "ll = LinkedList(node0)\n",
    "insert_front_ll_forloop(ll,0,Node(\"mate\"))\n",
    "print(read_all_ll_whileloop(ll))"
   ]
  },
  {
   "cell_type": "markdown",
   "metadata": {},
   "source": [
    "# 3.2 Create **New** `LinkedList` for Each Test"
   ]
  },
  {
   "cell_type": "code",
   "execution_count": 8,
   "metadata": {},
   "outputs": [],
   "source": [
    "def reset_ll():\n",
    "    node0=Node(\"Hey\")\n",
    "    node1=Node(\"I\")\n",
    "    node2=Node(\"Just\")\n",
    "    node3=Node(\"Met\")\n",
    "    node0.next_node=node1\n",
    "    node1.next_node=node2\n",
    "    node2.next_node=node3\n",
    "    ll = LinkedList(node0)\n",
    "    return ll"
   ]
  },
  {
   "cell_type": "markdown",
   "metadata": {},
   "source": [
    "# 3.3 `Insert(Index)`\n",
    "# 3.3.1 `Insert(Index)`: `for`-loop version"
   ]
  },
  {
   "cell_type": "code",
   "execution_count": 41,
   "metadata": {},
   "outputs": [
    {
     "name": "stdout",
     "output_type": "stream",
     "text": [
      "['YOU', 'Hey', 'I', 'Just', 'Met']\n",
      "['Hey', 'YOU', 'I', 'Just', 'Met']\n",
      "['Hey', 'I', 'YOU', 'Just', 'Met']\n",
      "['Hey', 'I', 'Just', 'YOU', 'Met']\n",
      "['Hey', 'I', 'Just', 'Met', 'YOU']\n",
      "OUT-OF-INDEX ERROR EXPECTED NEXT RUN\n"
     ]
    },
    {
     "ename": "AttributeError",
     "evalue": "'NoneType' object has no attribute 'next_node'",
     "output_type": "error",
     "traceback": [
      "\u001b[0;31m---------------------------------------------------------------------------\u001b[0m",
      "\u001b[0;31mAttributeError\u001b[0m                            Traceback (most recent call last)",
      "Cell \u001b[0;32mIn[41], line 39\u001b[0m\n\u001b[1;32m     37\u001b[0m ll \u001b[38;5;241m=\u001b[39m reset_ll()\n\u001b[1;32m     38\u001b[0m \u001b[38;5;28mprint\u001b[39m(\u001b[38;5;124m\"\u001b[39m\u001b[38;5;124mOUT-OF-INDEX ERROR EXPECTED NEXT RUN\u001b[39m\u001b[38;5;124m\"\u001b[39m)\n\u001b[0;32m---> 39\u001b[0m \u001b[43minsert_ll_forloop\u001b[49m\u001b[43m(\u001b[49m\u001b[43mll\u001b[49m\u001b[43m,\u001b[49m\u001b[38;5;241;43m5\u001b[39;49m\u001b[43m,\u001b[49m\u001b[43mNode\u001b[49m\u001b[43m(\u001b[49m\u001b[38;5;124;43m\"\u001b[39;49m\u001b[38;5;124;43mYOU\u001b[39;49m\u001b[38;5;124;43m\"\u001b[39;49m\u001b[43m)\u001b[49m\u001b[43m)\u001b[49m  \u001b[38;5;66;03m# OUT OF INDEX ERROR EXPECTED \u001b[39;00m\n\u001b[1;32m     40\u001b[0m \u001b[38;5;28mprint\u001b[39m(read_all_ll_whileloop(ll))\n\u001b[1;32m     42\u001b[0m \u001b[38;5;66;03m#hey i just met\u001b[39;00m\n",
      "Cell \u001b[0;32mIn[41], line 11\u001b[0m, in \u001b[0;36minsert_ll_forloop\u001b[0;34m(linked_list, index, new_node)\u001b[0m\n\u001b[1;32m      9\u001b[0m \u001b[38;5;28;01mfor\u001b[39;00m i \u001b[38;5;129;01min\u001b[39;00m \u001b[38;5;28mrange\u001b[39m(index\u001b[38;5;241m+\u001b[39m\u001b[38;5;241m1\u001b[39m):\n\u001b[1;32m     10\u001b[0m     \u001b[38;5;28;01mif\u001b[39;00m i\u001b[38;5;241m==\u001b[39mindex\u001b[38;5;241m-\u001b[39m\u001b[38;5;241m1\u001b[39m:\n\u001b[0;32m---> 11\u001b[0m         new_node\u001b[38;5;241m.\u001b[39mnext_node \u001b[38;5;241m=\u001b[39m \u001b[43mcurrent_node\u001b[49m\u001b[38;5;241;43m.\u001b[39;49m\u001b[43mnext_node\u001b[49m\n\u001b[1;32m     12\u001b[0m         current_node\u001b[38;5;241m.\u001b[39mnext_node \u001b[38;5;241m=\u001b[39m new_node\n\u001b[1;32m     13\u001b[0m         \u001b[38;5;66;03m# return current_node.data\u001b[39;00m\n",
      "\u001b[0;31mAttributeError\u001b[0m: 'NoneType' object has no attribute 'next_node'"
     ]
    }
   ],
   "source": [
    "def insert_ll_forloop(linked_list: LinkedList, index: int,\n",
    "                            new_node: Node):\n",
    "    \n",
    "    current_node = linked_list.first_node \n",
    "    if index==0:\n",
    "        new_node.next_node = current_node\n",
    "        linked_list.first_node=new_node\n",
    "    \n",
    "    for i in range(index+1):\n",
    "        if i==index-1:\n",
    "            new_node.next_node = current_node.next_node\n",
    "            current_node.next_node = new_node\n",
    "            # return current_node.data\n",
    "        current_node=current_node.next_node\n",
    "    return None\n",
    "\n",
    "ll = reset_ll()\n",
    "insert_ll_forloop(ll,0,Node(\"YOU\"))\n",
    "print(read_all_ll_whileloop(ll))\n",
    "\n",
    "ll = reset_ll()\n",
    "insert_ll_forloop(ll,1,Node(\"YOU\"))\n",
    "print(read_all_ll_whileloop(ll))\n",
    "\n",
    "ll = reset_ll()\n",
    "insert_ll_forloop(ll,2,Node(\"YOU\"))\n",
    "print(read_all_ll_whileloop(ll))\n",
    "\n",
    "ll = reset_ll()\n",
    "insert_ll_forloop(ll,3,Node(\"YOU\"))\n",
    "print(read_all_ll_whileloop(ll))\n",
    "\n",
    "ll = reset_ll()\n",
    "insert_ll_forloop(ll,4,Node(\"YOU\")) \n",
    "print(read_all_ll_whileloop(ll))\n",
    "\n",
    "ll = reset_ll()\n",
    "print(\"OUT-OF-INDEX ERROR EXPECTED NEXT RUN\")\n",
    "insert_ll_forloop(ll,5,Node(\"YOU\"))  # OUT OF INDEX ERROR EXPECTED \n",
    "print(read_all_ll_whileloop(ll))\n",
    "\n",
    "#hey i just met"
   ]
  },
  {
   "cell_type": "markdown",
   "metadata": {},
   "source": [
    "# 3.3.2 `Insert(Index)`: `while`-loop version 1 (No Out-of-Index Error)"
   ]
  },
  {
   "cell_type": "code",
   "execution_count": 39,
   "metadata": {},
   "outputs": [
    {
     "name": "stdout",
     "output_type": "stream",
     "text": [
      "['Hey', 'I', 'Just', 'Met']\n",
      "['YOU', 'Hey', 'I', 'Just', 'Met']\n",
      "['Hey', 'YOU', 'I', 'Just', 'Met']\n",
      "['Hey', 'I', 'YOU', 'Just', 'Met']\n",
      "['Hey', 'I', 'Just', 'YOU', 'Met']\n",
      "['Hey', 'I', 'Just', 'Met', 'YOU']\n",
      "NO ERROR EXPECTED NEXT RUN DESPITE OUT OF INDEX - NEED TO UPDATE FN\n",
      "['Hey', 'I', 'Just', 'Met']\n"
     ]
    }
   ],
   "source": [
    "def insert_ll_WHILELOOP_v1(linked_list: LinkedList, index: int,\n",
    "                            new_node: Node):\n",
    "    \n",
    "    current_node = linked_list.first_node \n",
    "    if index==0:\n",
    "        new_node.next_node = current_node\n",
    "        linked_list.first_node=new_node\n",
    "    i=0\n",
    "    while current_node:\n",
    "        if i==index-1:\n",
    "            new_node.next_node = current_node.next_node\n",
    "            current_node.next_node = new_node\n",
    "        current_node=current_node.next_node\n",
    "        i+=1\n",
    "    return None\n",
    "\n",
    "ll = reset_ll()\n",
    "print(read_all_ll_whileloop(ll))\n",
    "insert_ll_WHILELOOP_v1(ll,0,Node(\"YOU\"))\n",
    "print(read_all_ll_whileloop(ll))\n",
    "\n",
    "ll = reset_ll()\n",
    "insert_ll_WHILELOOP_v1(ll,1,Node(\"YOU\"))\n",
    "print(read_all_ll_whileloop(ll))\n",
    "\n",
    "ll = reset_ll()\n",
    "insert_ll_WHILELOOP_v1(ll,2,Node(\"YOU\"))\n",
    "print(read_all_ll_whileloop(ll))\n",
    "\n",
    "ll = reset_ll()\n",
    "insert_ll_WHILELOOP_v1(ll,3,Node(\"YOU\"))\n",
    "print(read_all_ll_whileloop(ll))\n",
    "\n",
    "ll = reset_ll()\n",
    "insert_ll_WHILELOOP_v1(ll,4,Node(\"YOU\"))\n",
    "print(read_all_ll_whileloop(ll))\n",
    "\n",
    "ll = reset_ll()\n",
    "print(\"NO ERROR EXPECTED NEXT RUN DESPITE OUT OF INDEX - NEED TO UPDATE FN\")\n",
    "insert_ll_WHILELOOP_v1(ll,5,Node(\"YOU\"))  # ERROR EXPECTED BUT NO ERROR DUE TO while current_node\n",
    "print(read_all_ll_whileloop(ll))"
   ]
  },
  {
   "cell_type": "markdown",
   "metadata": {},
   "source": [
    "# 3.3.3 `Insert(Index)`: `while`-loop version 2 (Includes Out-of-Index Error)"
   ]
  },
  {
   "cell_type": "code",
   "execution_count": 45,
   "metadata": {},
   "outputs": [
    {
     "name": "stdout",
     "output_type": "stream",
     "text": [
      "['Hey', 'YOU', 'I', 'Just', 'Met']\n",
      "['Hey', 'I', 'YOU', 'Just', 'Met']\n",
      "['Hey', 'I', 'Just', 'YOU', 'Met']\n",
      "['Hey', 'I', 'Just', 'Met', 'YOU']\n",
      "OUT-OF-INDEX ERROR EXPECTED NEXT RUN\n"
     ]
    },
    {
     "ename": "AttributeError",
     "evalue": "'NoneType' object has no attribute 'next_node'",
     "output_type": "error",
     "traceback": [
      "\u001b[0;31m---------------------------------------------------------------------------\u001b[0m",
      "\u001b[0;31mAttributeError\u001b[0m                            Traceback (most recent call last)",
      "Cell \u001b[0;32mIn[45], line 44\u001b[0m\n\u001b[1;32m     42\u001b[0m ll \u001b[38;5;241m=\u001b[39m reset_ll()\n\u001b[1;32m     43\u001b[0m \u001b[38;5;28mprint\u001b[39m(\u001b[38;5;124m\"\u001b[39m\u001b[38;5;124mOUT-OF-INDEX ERROR EXPECTED NEXT RUN\u001b[39m\u001b[38;5;124m\"\u001b[39m)\n\u001b[0;32m---> 44\u001b[0m \u001b[43minsert_ll_WHILELOOP\u001b[49m\u001b[43m(\u001b[49m\u001b[43mll\u001b[49m\u001b[43m,\u001b[49m\u001b[38;5;241;43m5\u001b[39;49m\u001b[43m,\u001b[49m\u001b[43mNode\u001b[49m\u001b[43m(\u001b[49m\u001b[38;5;124;43m\"\u001b[39;49m\u001b[38;5;124;43mYOU\u001b[39;49m\u001b[38;5;124;43m\"\u001b[39;49m\u001b[43m)\u001b[49m\u001b[43m)\u001b[49m \u001b[38;5;66;03m# OUT OF INDEX ERROR EXPECTED \u001b[39;00m\n\u001b[1;32m     45\u001b[0m \u001b[38;5;28mprint\u001b[39m(read_all_ll_whileloop(ll))\n",
      "Cell \u001b[0;32mIn[45], line 14\u001b[0m, in \u001b[0;36minsert_ll_WHILELOOP\u001b[0;34m(linked_list, index, new_node)\u001b[0m\n\u001b[1;32m     12\u001b[0m     i\u001b[38;5;241m+\u001b[39m\u001b[38;5;241m=\u001b[39m\u001b[38;5;241m1\u001b[39m\n\u001b[1;32m     13\u001b[0m \u001b[38;5;66;03m# print(current_node.data)    \u001b[39;00m\n\u001b[0;32m---> 14\u001b[0m new_node\u001b[38;5;241m.\u001b[39mnext_node \u001b[38;5;241m=\u001b[39m \u001b[43mcurrent_node\u001b[49m\u001b[38;5;241;43m.\u001b[39;49m\u001b[43mnext_node\u001b[49m\n\u001b[1;32m     15\u001b[0m current_node\u001b[38;5;241m.\u001b[39mnext_node \u001b[38;5;241m=\u001b[39m new_node\n\u001b[1;32m     16\u001b[0m \u001b[38;5;28;01mreturn\u001b[39;00m \u001b[38;5;28;01mNone\u001b[39;00m\n",
      "\u001b[0;31mAttributeError\u001b[0m: 'NoneType' object has no attribute 'next_node'"
     ]
    }
   ],
   "source": [
    "def insert_ll_WHILELOOP(linked_list: LinkedList, index: int,\n",
    "                            new_node: Node):\n",
    "    \n",
    "    current_node = linked_list.first_node \n",
    "    if index==0:\n",
    "        new_node.next_node = current_node\n",
    "        linked_list.first_node=new_node\n",
    "        return None\n",
    "    i=0\n",
    "    while i<index-1:\n",
    "        current_node=current_node.next_node\n",
    "        i+=1\n",
    "    # print(current_node.data)    \n",
    "    new_node.next_node = current_node.next_node\n",
    "    current_node.next_node = new_node\n",
    "    return None\n",
    "#i=1, index=1\n",
    "#exit while at (index-1) 0 -> 'Hey'\n",
    "# ['Hey', 'I', 'Just', 'Met']\n",
    "\n",
    "# ll = reset_ll()\n",
    "# print(read_all_ll_whileloop(ll))\n",
    "# insert_ll_WHILELOOP(ll,0,Node(\"YOU\"))\n",
    "# print(read_all_ll_whileloop(ll))\n",
    "\n",
    "ll = reset_ll()\n",
    "insert_ll_WHILELOOP(ll,1,Node(\"YOU\"))\n",
    "print(read_all_ll_whileloop(ll))\n",
    "\n",
    "ll = reset_ll()\n",
    "insert_ll_WHILELOOP(ll,2,Node(\"YOU\"))\n",
    "print(read_all_ll_whileloop(ll))\n",
    "\n",
    "ll = reset_ll()\n",
    "insert_ll_WHILELOOP(ll,3,Node(\"YOU\"))\n",
    "print(read_all_ll_whileloop(ll))\n",
    "\n",
    "ll = reset_ll()\n",
    "insert_ll_WHILELOOP(ll,4,Node(\"YOU\"))\n",
    "print(read_all_ll_whileloop(ll))\n",
    "\n",
    "ll = reset_ll()\n",
    "print(\"OUT-OF-INDEX ERROR EXPECTED NEXT RUN\")\n",
    "insert_ll_WHILELOOP(ll,5,Node(\"YOU\")) # OUT OF INDEX ERROR EXPECTED \n",
    "print(read_all_ll_whileloop(ll))\n"
   ]
  },
  {
   "cell_type": "markdown",
   "metadata": {},
   "source": [
    "# 4. `Delete` from `LinkedList`"
   ]
  },
  {
   "cell_type": "markdown",
   "metadata": {},
   "source": [
    "# 4.1 `Delete(0)` or **Top**"
   ]
  },
  {
   "cell_type": "code",
   "execution_count": 10,
   "metadata": {},
   "outputs": [
    {
     "name": "stdout",
     "output_type": "stream",
     "text": [
      "['Hey', 'I', 'Just', 'Met']\n",
      "['I', 'Just', 'Met']\n"
     ]
    }
   ],
   "source": [
    "# [Hey', 'I', 'Just', 'Met']\n",
    "# del 0 ->  'I', 'Just', 'Met'\n",
    "\n",
    "def delete_top_ll(linked_list: LinkedList, index=0):\n",
    "    current_node = linked_list.first_node\n",
    "    if index==0:\n",
    "        linked_list.first_node=current_node.next_node\n",
    "\n",
    "ll = reset_ll()\n",
    "print(read_all_ll_whileloop(ll))\n",
    "delete_top_ll(ll,index=0)\n",
    "print(read_all_ll_whileloop(ll))\n"
   ]
  },
  {
   "cell_type": "markdown",
   "metadata": {},
   "source": [
    "# 4.2 `Delete(Index)`"
   ]
  },
  {
   "cell_type": "markdown",
   "metadata": {},
   "source": [
    "# 4.2.1 `Delete(Index)`: `for`-loop version"
   ]
  },
  {
   "cell_type": "code",
   "execution_count": 46,
   "metadata": {},
   "outputs": [
    {
     "name": "stdout",
     "output_type": "stream",
     "text": [
      "['Hey', 'I', 'Just', 'Met']\n",
      "['I', 'Just', 'Met']\n",
      "\n",
      "['Hey', 'I', 'Just', 'Met']\n",
      "['Hey', 'Just', 'Met']\n",
      "\n",
      "['Hey', 'I', 'Just', 'Met']\n",
      "['Hey', 'I', 'Met']\n",
      "\n",
      "['Hey', 'I', 'Just', 'Met']\n",
      "['Hey', 'I', 'Just']\n",
      "\n",
      "['Hey', 'I', 'Just', 'Met']\n",
      "OUT-OF-INDEX ERROR EXPECTED NEXT RUN\n"
     ]
    },
    {
     "ename": "AttributeError",
     "evalue": "'NoneType' object has no attribute 'next_node'",
     "output_type": "error",
     "traceback": [
      "\u001b[0;31m---------------------------------------------------------------------------\u001b[0m",
      "\u001b[0;31mAttributeError\u001b[0m                            Traceback (most recent call last)",
      "Cell \u001b[0;32mIn[46], line 42\u001b[0m\n\u001b[1;32m     40\u001b[0m \u001b[38;5;28mprint\u001b[39m(read_all_ll_whileloop(ll))\n\u001b[1;32m     41\u001b[0m \u001b[38;5;28mprint\u001b[39m(\u001b[38;5;124m\"\u001b[39m\u001b[38;5;124mOUT-OF-INDEX ERROR EXPECTED NEXT RUN\u001b[39m\u001b[38;5;124m\"\u001b[39m)\n\u001b[0;32m---> 42\u001b[0m \u001b[43mdelete_node_ll_FORLOOP\u001b[49m\u001b[43m(\u001b[49m\u001b[43mll\u001b[49m\u001b[43m,\u001b[49m\u001b[43mindex\u001b[49m\u001b[38;5;241;43m=\u001b[39;49m\u001b[38;5;241;43m4\u001b[39;49m\u001b[43m)\u001b[49m \u001b[38;5;66;03m# OUT OF INDEX ERROR EXPECTED \u001b[39;00m\n\u001b[1;32m     43\u001b[0m \u001b[38;5;28mprint\u001b[39m(read_all_ll_whileloop(ll))\n",
      "Cell \u001b[0;32mIn[46], line 9\u001b[0m, in \u001b[0;36mdelete_node_ll_FORLOOP\u001b[0;34m(linked_list, index)\u001b[0m\n\u001b[1;32m      7\u001b[0m \u001b[38;5;28;01mif\u001b[39;00m i\u001b[38;5;241m==\u001b[39mindex\u001b[38;5;241m-\u001b[39m\u001b[38;5;241m1\u001b[39m:\n\u001b[1;32m      8\u001b[0m     next_node \u001b[38;5;241m=\u001b[39m current_node\u001b[38;5;241m.\u001b[39mnext_node\n\u001b[0;32m----> 9\u001b[0m     current_node\u001b[38;5;241m.\u001b[39mnext_node \u001b[38;5;241m=\u001b[39m \u001b[43mnext_node\u001b[49m\u001b[38;5;241;43m.\u001b[39;49m\u001b[43mnext_node\u001b[49m\n\u001b[1;32m     10\u001b[0m current_node\u001b[38;5;241m=\u001b[39mcurrent_node\u001b[38;5;241m.\u001b[39mnext_node\n",
      "\u001b[0;31mAttributeError\u001b[0m: 'NoneType' object has no attribute 'next_node'"
     ]
    }
   ],
   "source": [
    "def delete_node_ll_FORLOOP(linked_list: LinkedList, index=0):\n",
    "    current_node = linked_list.first_node\n",
    "    if index==0:\n",
    "        linked_list.first_node=current_node.next_node\n",
    "\n",
    "    for i in range(index):\n",
    "        if i==index-1:\n",
    "            next_node = current_node.next_node\n",
    "            current_node.next_node = next_node.next_node\n",
    "        current_node=current_node.next_node\n",
    "\n",
    "# ['Hey', 'I', 'Just', 'Met']\n",
    "# ['Hey'     , 'Just', 'Met']\n",
    "\n",
    "ll = reset_ll()\n",
    "print(read_all_ll_whileloop(ll))\n",
    "delete_node_ll_FORLOOP(ll,index=0)\n",
    "print(read_all_ll_whileloop(ll))\n",
    "\n",
    "print()\n",
    "ll = reset_ll()\n",
    "print(read_all_ll_whileloop(ll))\n",
    "delete_node_ll_FORLOOP(ll,index=1)\n",
    "print(read_all_ll_whileloop(ll))\n",
    "\n",
    "print()\n",
    "ll = reset_ll()\n",
    "print(read_all_ll_whileloop(ll))\n",
    "delete_node_ll_FORLOOP(ll,index=2)\n",
    "print(read_all_ll_whileloop(ll))\n",
    "\n",
    "print()\n",
    "ll = reset_ll()\n",
    "print(read_all_ll_whileloop(ll))\n",
    "delete_node_ll_FORLOOP(ll,index=3)\n",
    "print(read_all_ll_whileloop(ll))\n",
    "\n",
    "print()\n",
    "ll = reset_ll()\n",
    "print(read_all_ll_whileloop(ll))\n",
    "print(\"OUT-OF-INDEX ERROR EXPECTED NEXT RUN\")\n",
    "delete_node_ll_FORLOOP(ll,index=4) # OUT OF INDEX ERROR EXPECTED \n",
    "print(read_all_ll_whileloop(ll))\n",
    "\n"
   ]
  },
  {
   "cell_type": "markdown",
   "metadata": {},
   "source": [
    "# 4.2.2 `Delete(Index)`: `while`-loop version"
   ]
  },
  {
   "cell_type": "code",
   "execution_count": 47,
   "metadata": {},
   "outputs": [
    {
     "name": "stdout",
     "output_type": "stream",
     "text": [
      "['Hey', 'I', 'Just', 'Met']\n",
      "['I', 'Just', 'Met']\n",
      "\n",
      "['Hey', 'I', 'Just', 'Met']\n",
      "['Hey', 'Just', 'Met']\n",
      "\n",
      "['Hey', 'I', 'Just', 'Met']\n",
      "['Hey', 'I', 'Met']\n",
      "\n",
      "['Hey', 'I', 'Just', 'Met']\n",
      "['Hey', 'I', 'Just']\n",
      "\n",
      "['Hey', 'I', 'Just', 'Met']\n",
      "OUT-OF-INDEX ERROR EXPECTED NEXT RUN\n"
     ]
    },
    {
     "ename": "AttributeError",
     "evalue": "'NoneType' object has no attribute 'next_node'",
     "output_type": "error",
     "traceback": [
      "\u001b[0;31m---------------------------------------------------------------------------\u001b[0m",
      "\u001b[0;31mAttributeError\u001b[0m                            Traceback (most recent call last)",
      "Cell \u001b[0;32mIn[47], line 41\u001b[0m\n\u001b[1;32m     39\u001b[0m \u001b[38;5;28mprint\u001b[39m(read_all_ll_whileloop(ll))\n\u001b[1;32m     40\u001b[0m \u001b[38;5;28mprint\u001b[39m(\u001b[38;5;124m\"\u001b[39m\u001b[38;5;124mOUT-OF-INDEX ERROR EXPECTED NEXT RUN\u001b[39m\u001b[38;5;124m\"\u001b[39m)\n\u001b[0;32m---> 41\u001b[0m \u001b[43mdelete_node_ll_WHILELOOP\u001b[49m\u001b[43m(\u001b[49m\u001b[43mll\u001b[49m\u001b[43m,\u001b[49m\u001b[43mindex\u001b[49m\u001b[38;5;241;43m=\u001b[39;49m\u001b[38;5;241;43m4\u001b[39;49m\u001b[43m)\u001b[49m \u001b[38;5;66;03m# OUT OF INDEX ERROR EXPECTED \u001b[39;00m\n\u001b[1;32m     42\u001b[0m \u001b[38;5;28mprint\u001b[39m(read_all_ll_whileloop(ll))\n",
      "Cell \u001b[0;32mIn[47], line 10\u001b[0m, in \u001b[0;36mdelete_node_ll_WHILELOOP\u001b[0;34m(linked_list, index)\u001b[0m\n\u001b[1;32m      6\u001b[0m \u001b[38;5;28;01mwhile\u001b[39;00m current_node: \u001b[38;5;66;03m# for i in range(index):\u001b[39;00m\n\u001b[1;32m      7\u001b[0m     \u001b[38;5;28;01mif\u001b[39;00m i\u001b[38;5;241m==\u001b[39mindex\u001b[38;5;241m-\u001b[39m\u001b[38;5;241m1\u001b[39m:\n\u001b[1;32m      8\u001b[0m         \u001b[38;5;66;03m# next_node = current_node.next_node.next_node\u001b[39;00m\n\u001b[1;32m      9\u001b[0m         \u001b[38;5;66;03m# current_node.next_node = next_node.next_node\u001b[39;00m\n\u001b[0;32m---> 10\u001b[0m         current_node\u001b[38;5;241m.\u001b[39mnext_node \u001b[38;5;241m=\u001b[39m \u001b[43mcurrent_node\u001b[49m\u001b[38;5;241;43m.\u001b[39;49m\u001b[43mnext_node\u001b[49m\u001b[38;5;241;43m.\u001b[39;49m\u001b[43mnext_node\u001b[49m\n\u001b[1;32m     11\u001b[0m         \u001b[38;5;66;03m# current_node.next_node = next_node.next_node\u001b[39;00m\n\u001b[1;32m     12\u001b[0m     current_node\u001b[38;5;241m=\u001b[39mcurrent_node\u001b[38;5;241m.\u001b[39mnext_node\n",
      "\u001b[0;31mAttributeError\u001b[0m: 'NoneType' object has no attribute 'next_node'"
     ]
    }
   ],
   "source": [
    "def delete_node_ll_WHILELOOP(linked_list: LinkedList, index=0):\n",
    "    current_node = linked_list.first_node\n",
    "    if index==0:\n",
    "        linked_list.first_node=current_node.next_node\n",
    "    i=0\n",
    "    while current_node: # for i in range(index):\n",
    "        if i==index-1:\n",
    "            # next_node = current_node.next_node.next_node\n",
    "            # current_node.next_node = next_node.next_node\n",
    "            current_node.next_node = current_node.next_node.next_node\n",
    "            # current_node.next_node = next_node.next_node\n",
    "        current_node=current_node.next_node\n",
    "        i+=1\n",
    "ll = reset_ll()\n",
    "print(read_all_ll_whileloop(ll))\n",
    "delete_node_ll_WHILELOOP(ll,index=0)\n",
    "print(read_all_ll_whileloop(ll))\n",
    "print()\n",
    "\n",
    "ll = reset_ll()\n",
    "print(read_all_ll_whileloop(ll))\n",
    "delete_node_ll_WHILELOOP(ll,index=1)\n",
    "print(read_all_ll_whileloop(ll))\n",
    "print()\n",
    "\n",
    "ll = reset_ll()\n",
    "print(read_all_ll_whileloop(ll))\n",
    "delete_node_ll_WHILELOOP(ll,index=2)\n",
    "print(read_all_ll_whileloop(ll))\n",
    "print()\n",
    "\n",
    "ll = reset_ll()\n",
    "print(read_all_ll_whileloop(ll))\n",
    "delete_node_ll_WHILELOOP(ll,index=3)\n",
    "print(read_all_ll_whileloop(ll))\n",
    "print()\n",
    "\n",
    "ll = reset_ll()\n",
    "print(read_all_ll_whileloop(ll))\n",
    "print(\"OUT-OF-INDEX ERROR EXPECTED NEXT RUN\")\n",
    "delete_node_ll_WHILELOOP(ll,index=4) # OUT OF INDEX ERROR EXPECTED \n",
    "print(read_all_ll_whileloop(ll))"
   ]
  }
 ],
 "metadata": {
  "kernelspec": {
   "display_name": "blog-T-2huGx2",
   "language": "python",
   "name": "python3"
  },
  "language_info": {
   "codemirror_mode": {
    "name": "ipython",
    "version": 3
   },
   "file_extension": ".py",
   "mimetype": "text/x-python",
   "name": "python",
   "nbconvert_exporter": "python",
   "pygments_lexer": "ipython3",
   "version": "3.10.12"
  }
 },
 "nbformat": 4,
 "nbformat_minor": 2
}
