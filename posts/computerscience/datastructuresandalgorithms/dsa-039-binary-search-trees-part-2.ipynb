{
 "cells": [
  {
   "cell_type": "raw",
   "metadata": {
    "vscode": {
     "languageId": "raw"
    }
   },
   "source": [
    "---\n",
    "title: \"DSA 39: Binary Search Trees - Rules [Part 2]\"\n",
    "author: \"Tony Phung\"\n",
    "date: \"2025-02-22\"\n",
    "categories: [data structures, algorithms]\n",
    "image: \"imgs/dsa-ch15-bst.png\"\n",
    "toc: true\n",
    "description: \"A basic BST Implementation\"\n",
    "---"
   ]
  },
  {
   "cell_type": "markdown",
   "metadata": {
    "vscode": {
     "languageId": "raw"
    }
   },
   "source": [
    "![](imgs/dsa-ch15-bst.png)"
   ]
  },
  {
   "cell_type": "markdown",
   "metadata": {},
   "source": [
    "# 1. Binary Trees and Binary Search Trees\n",
    "\n",
    "# 1.1 **Binary Tree**\n",
    "Is a *tree* in which *each node* has either:\n",
    "\n",
    "* zero, \n",
    "* one, or \n",
    "* two children."
   ]
  },
  {
   "cell_type": "markdown",
   "metadata": {},
   "source": [
    "# 1.2 **Binary Search Tree**\n",
    "Is a *binary tree* abiding to the following **rules**:  \n",
    "\n",
    "* Each node can have **at most**\n",
    "    - **one left child** and \n",
    "    - **one right child**.\n",
    "\n",
    "* A **node’s left descendants** can only contain have:\n",
    "    - values that are **less than the node itself**. \n",
    "* A **node’s right descendants** can only contain have: \n",
    "    - values that are **greater than the node itself**.\n"
   ]
  },
  {
   "cell_type": "markdown",
   "metadata": {},
   "source": [
    "# 2. Basic `TreeNode` Implementation"
   ]
  },
  {
   "cell_type": "code",
   "execution_count": 1,
   "metadata": {},
   "outputs": [],
   "source": [
    "class TreeNode:\n",
    "    def __init__(self, data: int, left=None, right=None):\n",
    "        self.data        = data\n",
    "        self.left_child  = left\n",
    "        self.right_child = right"
   ]
  },
  {
   "cell_type": "markdown",
   "metadata": {},
   "source": [
    "# 3. Basic **Binary Search Tree** Implementation"
   ]
  },
  {
   "cell_type": "code",
   "execution_count": 2,
   "metadata": {},
   "outputs": [],
   "source": [
    "node1 = TreeNode(25)\n",
    "node2 = TreeNode(75)\n",
    "root = TreeNode(50, node1, node2)"
   ]
  }
 ],
 "metadata": {
  "kernelspec": {
   "display_name": "blog-T-2huGx2",
   "language": "python",
   "name": "python3"
  },
  "language_info": {
   "codemirror_mode": {
    "name": "ipython",
    "version": 3
   },
   "file_extension": ".py",
   "mimetype": "text/x-python",
   "name": "python",
   "nbconvert_exporter": "python",
   "pygments_lexer": "ipython3",
   "version": "3.10.12"
  }
 },
 "nbformat": 4,
 "nbformat_minor": 2
}
