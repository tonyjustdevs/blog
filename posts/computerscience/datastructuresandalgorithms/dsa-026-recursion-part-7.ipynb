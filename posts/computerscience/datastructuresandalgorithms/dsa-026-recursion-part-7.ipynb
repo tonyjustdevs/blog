{
 "cells": [
  {
   "cell_type": "raw",
   "metadata": {
    "vscode": {
     "languageId": "raw"
    }
   },
   "source": [
    "---\n",
    "title: \"DSA 26: Recursion - Anagram Generation [Part 7]\"\n",
    "author: \"Tony Phung\"\n",
    "date: \"2025-02-10\"\n",
    "categories: [data structures, algorithms]\n",
    "image: \"imgs/dsa-026-anagram.png\"\n",
    "toc: true\n",
    "description: \"Anagram Recursive Function From Scratch\"\n",
    "---"
   ]
  },
  {
   "cell_type": "markdown",
   "metadata": {},
   "source": [
    "![](imgs/dsa-026-anagram.png)"
   ]
  },
  {
   "cell_type": "code",
   "execution_count": 1,
   "metadata": {},
   "outputs": [
    {
     "data": {
      "text/plain": [
       "['tea', 'eta', 'eat', 'tae', 'ate', 'aet']"
      ]
     },
     "execution_count": 1,
     "metadata": {},
     "output_type": "execute_result"
    }
   ],
   "source": [
    "def anags(string):\n",
    "    if len(string)==1:\n",
    "        return string[0]\n",
    "    \n",
    "    anags_list = []\n",
    "    substring_anags = anags(string[1:])\n",
    "    \n",
    "    for anag in substring_anags:\n",
    "        for i in range(len(anag)+1):\n",
    "            new_string = anag[:i] + string[0] + anag[i:]\n",
    "            anags_list.append(new_string)\n",
    "    \n",
    "    return anags_list\n",
    "anags(\"tea\")"
   ]
  },
  {
   "cell_type": "code",
   "execution_count": 3,
   "metadata": {},
   "outputs": [
    {
     "data": {
      "text/plain": [
       "['mate',\n",
       " 'amte',\n",
       " 'atme',\n",
       " 'atem',\n",
       " 'mtae',\n",
       " 'tmae',\n",
       " 'tame',\n",
       " 'taem',\n",
       " 'mtea',\n",
       " 'tmea',\n",
       " 'tema',\n",
       " 'team',\n",
       " 'maet',\n",
       " 'amet',\n",
       " 'aemt',\n",
       " 'aetm',\n",
       " 'meat',\n",
       " 'emat',\n",
       " 'eamt',\n",
       " 'eatm',\n",
       " 'meta',\n",
       " 'emta',\n",
       " 'etma',\n",
       " 'etam']"
      ]
     },
     "execution_count": 3,
     "metadata": {},
     "output_type": "execute_result"
    }
   ],
   "source": [
    "anags(\"mate\")"
   ]
  },
  {
   "cell_type": "code",
   "execution_count": null,
   "metadata": {},
   "outputs": [],
   "source": []
  },
  {
   "cell_type": "code",
   "execution_count": null,
   "metadata": {},
   "outputs": [],
   "source": []
  },
  {
   "cell_type": "code",
   "execution_count": null,
   "metadata": {},
   "outputs": [],
   "source": []
  },
  {
   "cell_type": "code",
   "execution_count": null,
   "metadata": {},
   "outputs": [],
   "source": []
  },
  {
   "cell_type": "code",
   "execution_count": null,
   "metadata": {},
   "outputs": [],
   "source": []
  },
  {
   "cell_type": "code",
   "execution_count": null,
   "metadata": {},
   "outputs": [],
   "source": []
  },
  {
   "cell_type": "code",
   "execution_count": null,
   "metadata": {},
   "outputs": [],
   "source": []
  },
  {
   "cell_type": "code",
   "execution_count": null,
   "metadata": {},
   "outputs": [],
   "source": []
  }
 ],
 "metadata": {
  "kernelspec": {
   "display_name": "blog-T-2huGx2",
   "language": "python",
   "name": "python3"
  },
  "language_info": {
   "codemirror_mode": {
    "name": "ipython",
    "version": 3
   },
   "file_extension": ".py",
   "mimetype": "text/x-python",
   "name": "python",
   "nbconvert_exporter": "python",
   "pygments_lexer": "ipython3",
   "version": "3.10.12"
  }
 },
 "nbformat": 4,
 "nbformat_minor": 2
}
