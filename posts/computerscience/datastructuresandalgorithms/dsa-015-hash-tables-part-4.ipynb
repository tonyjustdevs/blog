{
 "cells": [
  {
   "cell_type": "raw",
   "metadata": {
    "vscode": {
     "languageId": "raw"
    }
   },
   "source": [
    "---\n",
    "title: \"DSA 15: Hash Tables - Exercises [Part 4]\"\n",
    "author: \"Tony Phung\"\n",
    "date: \"2025-01-27\"\n",
    "categories: [data structures, algorithms]\n",
    "image: \"imgs/dsa-015-intersection.jpg\"\n",
    "toc: true\n",
    "description: \"Chapter 8 Exercises, J.Wengrow Vol 2\"\n",
    "---"
   ]
  },
  {
   "cell_type": "markdown",
   "metadata": {},
   "source": [
    "![](imgs/dsa-015-intersection.jpg)"
   ]
  },
  {
   "cell_type": "markdown",
   "metadata": {
    "vscode": {
     "languageId": "raw"
    }
   },
   "source": [
    "# 1. Intersection\n",
    "*Parameters*:\n",
    "\n",
    "* *input*:  two **arrays**   \n",
    "* *output*: one **intersection** array (values in both arrays)\n",
    "\n",
    "*Example*: `[2,4]` is the **intersection** of:    \n",
    "\n",
    "* `[1,2,3,4,5]`  \n",
    "* `[0,2,4,6,8]` "
   ]
  },
  {
   "cell_type": "markdown",
   "metadata": {},
   "source": [
    "## 1.1 Naive Solution: Nested Loop - $O(N*M)$"
   ]
  },
  {
   "cell_type": "code",
   "execution_count": 1,
   "metadata": {},
   "outputs": [
    {
     "data": {
      "text/plain": [
       "[2, 4]"
      ]
     },
     "execution_count": 1,
     "metadata": {},
     "output_type": "execute_result"
    }
   ],
   "source": [
    "arr_a = [1,2,3,4,5]\n",
    "arr_b = [0,2,4,6,8]\n",
    "# arr_b = [0,2,2]\n",
    "\n",
    "intersect_list = []\n",
    "for chr_a in set(arr_a):        # O(N)\n",
    "    for chr_b in set(arr_b):    # multiply: O(M)\n",
    "        # print(chr_a,chr_b)\n",
    "        if chr_a==chr_b:        # add: O(N)\n",
    "            intersect_list.append(chr_a)  # total = O(N*M + max(N,M))\n",
    "            break\n",
    "\n",
    "intersect_list"
   ]
  },
  {
   "cell_type": "markdown",
   "metadata": {},
   "source": [
    "## 1.2 Dict Solution: Nested Loop - $O(M+N)$"
   ]
  },
  {
   "cell_type": "code",
   "execution_count": 26,
   "metadata": {},
   "outputs": [
    {
     "name": "stdout",
     "output_type": "stream",
     "text": [
      "[2, 4]\n"
     ]
    }
   ],
   "source": [
    "arr_a = [1,2,3,4,5]\n",
    "arr_b = [0,2,4,6,8]\n",
    "\n",
    "dct_a = {}\n",
    "\n",
    "for chr_a in set(arr_a):\n",
    "    dct_a[chr_a]=True\n",
    "\n",
    "intersect_list = []\n",
    "for chr_b in set(arr_b):    # O(N) \n",
    "    if chr_b in dct_a:      # add: O(M)\n",
    "        intersect_list.append(chr_b) # O(M+N)\n",
    "\n",
    "print(intersect_list)"
   ]
  },
  {
   "cell_type": "markdown",
   "metadata": {},
   "source": [
    "# 2. Duplicate\n",
    "*Parameters*:\n",
    "\n",
    "* *input*:  an **array of strings**    \n",
    "* *output*:  the first **duplicate value** it finds.     \n",
    "\n",
    "*Example*:  \n",
    "\n",
    "* *input*: `[\"a\", \"b\", \"c\", \"d\", \"c\", \"e\", \"f\"]`     \n",
    "* *output*: `c`  "
   ]
  },
  {
   "cell_type": "markdown",
   "metadata": {},
   "source": [
    "## 2.1 Solution: Psuedo-Code \n",
    "Check if `chr_a` of `str_a` is in `dct_a`:   \n",
    "\n",
    "* `true`: *return* `chr_a`   \n",
    "* `false`: *add* to `dct_a`   "
   ]
  },
  {
   "cell_type": "markdown",
   "metadata": {},
   "source": [
    "## 2.2 Solution: Python-Code"
   ]
  },
  {
   "cell_type": "code",
   "execution_count": 3,
   "metadata": {},
   "outputs": [
    {
     "name": "stdout",
     "output_type": "stream",
     "text": [
      "f\n"
     ]
    }
   ],
   "source": [
    "# str_a = \"abcdef\"\n",
    "# str_a = \"abcdeaf\"\n",
    "str_a = \"abcdeff\"\n",
    "dct_a = {}\n",
    "for chr_a in str_a: #O(N)\n",
    "    # print(chr_a)\n",
    "    if chr_a in dct_a: #xO(1)\n",
    "        print(chr_a)\n",
    "        break\n",
    "    else:\n",
    "        dct_a[chr_a]=True"
   ]
  },
  {
   "cell_type": "markdown",
   "metadata": {},
   "source": [
    "# 3. Missing Letter\n",
    "*Parameters*:\n",
    "\n",
    "* *input*:  an **array of strings** of alphabet except 1 letter   \n",
    "* *output*:  **missing letter**  \n",
    "\n",
    "*Example*:  \n",
    "\n",
    "* *input*: `\"the quick brown box jumps over a lazy dog\"`    \n",
    "* *output*: `f`  "
   ]
  },
  {
   "cell_type": "markdown",
   "metadata": {},
   "source": [
    "## 3.1 Solution: Python-Code"
   ]
  },
  {
   "cell_type": "code",
   "execution_count": 4,
   "metadata": {},
   "outputs": [
    {
     "name": "stdout",
     "output_type": "stream",
     "text": [
      "f\n"
     ]
    }
   ],
   "source": [
    "alphabet = \"abcdefghijklmnopqrstuvwxyz\" \n",
    "\n",
    "input_arr = \"the quick brown box jumps over a lazy dog\"\n",
    "input_dct = {}\n",
    "for ltr_s in set(input_arr.replace(\" \", \"\")):\n",
    "    input_dct[ltr_s]=True\n",
    "\n",
    "for alphabet_ltr in alphabet:\n",
    "    # if not input_dct.get(alphabet_ltr): \n",
    "    if alphabet_ltr not in input_dct:\n",
    "        print(alphabet_ltr)\n",
    "        break"
   ]
  },
  {
   "cell_type": "markdown",
   "metadata": {},
   "source": [
    "# 4. First Non-Duplicated\n",
    "*Parameters*:\n",
    "\n",
    "* *input*:  an **array of strings**  \n",
    "* *output*:  **first non-duplicated character** in string  \n",
    "\n",
    "*Example*:  \n",
    "\n",
    "* *input*: `\"minimum\"`    \n",
    "* *output*: `n`  "
   ]
  },
  {
   "cell_type": "markdown",
   "metadata": {},
   "source": [
    "## 4.1 Solution: Psuedo-Code\n",
    "**A.** Create letter counter dict: $O(N)$\n",
    "\n",
    "* for each letter of `input_str`, add create **key** and (add) **value** by 1\n",
    "\n",
    "**B.** Find first letter with only one occurence: $O(N)$\n",
    "\n",
    "* for each letter of `input_str`, find **key** with **value**: 1\n",
    "\n",
    "Time-complexity: \n",
    "\n",
    "* $O(N+N)=O(2N)=O(N)$\n",
    "\n",
    "\n"
   ]
  },
  {
   "cell_type": "code",
   "execution_count": 25,
   "metadata": {},
   "outputs": [
    {
     "name": "stdout",
     "output_type": "stream",
     "text": [
      "Input-string: 'minimum'\n",
      "Letter-counter dictionary: {'m': 3, 'i': 2, 'n': 1, 'u': 1}\n",
      "1: Non-duplicate: 'n' in minimum\n",
      "2: Non-duplicate: 'u' in minimum\n"
     ]
    }
   ],
   "source": [
    "input_str = \"minimum\"\n",
    "ltr_dict = {}\n",
    "\n",
    "for ltr in input_str: # 4.1.A\n",
    "    ltr_dict[ltr] = ltr_dict.get(ltr,0)+1\n",
    "\n",
    "ctr=0\n",
    "print(f\"Input-string: '{input_str}'\")\n",
    "print(f\"Letter-counter dictionary: {ltr_dict}\")\n",
    "for ltr in input_str: # 4.1.B\n",
    "    if ltr_dict[ltr]==1:\n",
    "        ctr+=1\n",
    "        print(f\"{ctr}: Non-duplicate: '{ltr}' in {input_str}\")"
   ]
  },
  {
   "cell_type": "markdown",
   "metadata": {},
   "source": [
    "<!-- # Tony's Current Problem Solving Framework\n",
    "* a. psuedo solution\n",
    "* b. naive solution\n",
    "* c. improved-v1 solution\n",
    "* d. ai-critique + solution\n",
    "* e. textbook solution\n",
    "* f. improve-v2 solution -->"
   ]
  }
 ],
 "metadata": {
  "kernelspec": {
   "display_name": "blog-T-2huGx2",
   "language": "python",
   "name": "python3"
  },
  "language_info": {
   "codemirror_mode": {
    "name": "ipython",
    "version": 3
   },
   "file_extension": ".py",
   "mimetype": "text/x-python",
   "name": "python",
   "nbconvert_exporter": "python",
   "pygments_lexer": "ipython3",
   "version": "3.10.12"
  }
 },
 "nbformat": 4,
 "nbformat_minor": 2
}
