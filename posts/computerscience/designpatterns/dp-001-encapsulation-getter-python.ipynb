{
 "cells": [
  {
   "cell_type": "raw",
   "metadata": {
    "vscode": {
     "languageId": "raw"
    }
   },
   "source": [
    "---\n",
    "title: \"DP 1: Encapsulation - Getter Method in Python\"\n",
    "author: \"Tony Phung\"\n",
    "date: \"2024-11-30\"\n",
    "categories: [design patterns]\n",
    "image: \"imgs/dp-001-getprop.jpg\"\n",
    "toc: true\n",
    "description: \"Using Python's `@property` to create a getter method\"\n",
    "---"
   ]
  },
  {
   "cell_type": "markdown",
   "metadata": {
    "vscode": {
     "languageId": "raw"
    }
   },
   "source": [
    "![](imgs/dp-001-getprop.jpg)"
   ]
  },
  {
   "cell_type": "markdown",
   "metadata": {
    "vscode": {
     "languageId": "raw"
    }
   },
   "source": [
    "# 1. Introduction\n",
    "\n",
    "This post is specifically related to [Issue #22]((https://github.com/tonyjustdevs/learning_designpatterns/issues/22)) of [tonyjustdevs/learning_designpatterns](https://github.com/tonyjustdevs/learning_designpatterns):   \n",
    "\n",
    "- [add @property decorator to enable getter](https://github.com/tonyjustdevs/learning_designpatterns/issues/22)\n",
    "\n"
   ]
  },
  {
   "cell_type": "markdown",
   "metadata": {},
   "source": [
    "# 2. Background\n",
    "\n",
    "**Encapsulation** is the:  \n",
    "\n",
    "- *bundling of data* (attributes) and \n",
    "- *methods* (functions) \n",
    "- into a *single unit* (class) and \n",
    "- *restricting direct access* to some of the object's components.\n",
    "\n",
    "**Purpose**:  \n",
    "\n",
    "- To hide *implementation details* and \n",
    "- enforce *controlled access* to an object's data.\n",
    "\n",
    "**Key Components**:   \n",
    "\n",
    "- Access modifiers (private, protected, public in some languages) and \n",
    "- Getters & Setters for controlled access.\n"
   ]
  },
  {
   "cell_type": "markdown",
   "metadata": {},
   "source": [
    "### 2.1 Getters and Setters:\n",
    "\n",
    "**Definition**: These are methods used to retrieve (get) and update (set) private or protected attributes of a class.  \n",
    "\n",
    "**Purpose**: To provide controlled access to the attributes while maintaining encapsulation.  \n",
    "\n",
    "**Relation to Encapsulation**: They implement the idea of ***\"controlled access\"*** in encapsulation.\n",
    "\n",
    "They are *tools* to implement encapsulation."
   ]
  },
  {
   "cell_type": "markdown",
   "metadata": {},
   "source": [
    "# 3. Things To Do\n",
    "- Create `Circle` class \n",
    "- Instantiate a `circle` instance\n",
    "- Test attribute access directly: `circle._radius`\n",
    "- Test attribute access via getter1: `circle.radius_accessor`\n",
    "- Test attribute access via getter2: `circle.radius`"
   ]
  },
  {
   "cell_type": "markdown",
   "metadata": {},
   "source": [
    "# 4. Create `Circle` class\n",
    "- create **private variable**: `_radius`  \n",
    "- create **getter** method: `radius_accessor()`  \n",
    "- **decorate** with: `@property`  \n"
   ]
  },
  {
   "cell_type": "code",
   "execution_count": 27,
   "metadata": {},
   "outputs": [],
   "source": [
    "class Circle():\n",
    "  def __init__(self, name: str, radius: int):\n",
    "    self.name: str = name\n",
    "    self._radius: int = radius #21\n",
    "  \n",
    "  @property\n",
    "  def radius_accessor(self):\n",
    "    '''\n",
    "    @property\n",
    "    def radius_accessor(self):\n",
    "    \n",
    "    The name of this method becomes attribute name of an instance, or \n",
    "    (more accurately the attribute accesor?) \n",
    "    to access the private attribute we want \n",
    "    (usually defined in class init(): self._private_attribute)\n",
    "    \n",
    "    e.g. Suppose we have circle instance (type Circle)\n",
    "    with private attr: circle._radius. \n",
    "    Instead of accessing it directly (circle._radius)\n",
    "    which we can but we shouldn't, we access it via the getter created here \n",
    "    via @property with: circle.radius_accessor \n",
    "    \n",
    "    i.e. circle.radius_accessor is getter for circle._radius\n",
    "    \n",
    "    Therefore, a more suitable method name for this getter would be:\n",
    "    def radius():\n",
    "    \n",
    "    i.e.\n",
    "    \n",
    "    @property\n",
    "    def radius(self) allows us to access circle._radius via circle.radius   \n",
    "    '''\n",
    "    return self._radius\n",
    "  \n",
    "  @property\n",
    "  def radius(self):\n",
    "    '''explained in radius_accessor()'''\n",
    "    return self._radius\n",
    "  \n",
    "  def __repr__(self):\n",
    "    return f\"Circle(name={self.name!r}, _radius={self._radius!r})\"\n",
    "  \n",
    "  def __str__(self):\n",
    "    return f\"It's a circle named {self.name!r} with a round belly of {self._radius} centimeters!\"\n"
   ]
  },
  {
   "cell_type": "markdown",
   "metadata": {},
   "source": [
    "### 4.1 Notes for Tony"
   ]
  },
  {
   "cell_type": "code",
   "execution_count": 29,
   "metadata": {},
   "outputs": [
    {
     "name": "stdout",
     "output_type": "stream",
     "text": [
      "\n",
      "    @property\n",
      "    def radius_accessor(self):\n",
      "    \n",
      "    The name of this method becomes attribute name of an instance, or \n",
      "    (more accurately the attribute accesor?) \n",
      "    to access the private attribute we want \n",
      "    (usually defined in class init(): self._private_attribute)\n",
      "    \n",
      "    e.g. Suppose we have circle instance (type Circle)\n",
      "    with private attr: circle._radius. \n",
      "    Instead of accessing it directly (circle._radius)\n",
      "    which we can but we shouldn't, we access it via the getter created here \n",
      "    via @property with: circle.radius_accessor \n",
      "    \n",
      "    i.e. circle.radius_accessor is getter for circle._radius\n",
      "    \n",
      "    Therefore, a more suitable method name for this getter would be:\n",
      "    def radius():\n",
      "    \n",
      "    i.e.\n",
      "    \n",
      "    @property\n",
      "    def radius(self) allows us to access circle._radius via circle.radius   \n",
      "    \n"
     ]
    }
   ],
   "source": [
    "print(Circle.radius_accessor.__doc__)"
   ]
  },
  {
   "cell_type": "markdown",
   "metadata": {},
   "source": [
    "# 5. Instantiate a `circle` instance"
   ]
  },
  {
   "cell_type": "code",
   "execution_count": 30,
   "metadata": {},
   "outputs": [
    {
     "name": "stdout",
     "output_type": "stream",
     "text": [
      "It's a circle named 'Sir Cumference' with a round belly of 50 centimeters!\n"
     ]
    }
   ],
   "source": [
    "circle = Circle(\"Sir Cumference\",50)\n",
    "print(f\"{circle}\") # calls __str__"
   ]
  },
  {
   "cell_type": "code",
   "execution_count": 31,
   "metadata": {},
   "outputs": [
    {
     "data": {
      "text/plain": [
       "Circle(name='Sir Cumference', _radius=50)"
      ]
     },
     "execution_count": 31,
     "metadata": {},
     "output_type": "execute_result"
    }
   ],
   "source": [
    "circle # defaults to __repr__\n"
   ]
  },
  {
   "cell_type": "markdown",
   "metadata": {},
   "source": [
    "# 6. Test attribute access directly: `circle._radius`\n"
   ]
  },
  {
   "cell_type": "code",
   "execution_count": 32,
   "metadata": {},
   "outputs": [
    {
     "data": {
      "text/plain": [
       "50"
      ]
     },
     "execution_count": 32,
     "metadata": {},
     "output_type": "execute_result"
    }
   ],
   "source": [
    "circle._radius # still works - because private attr dont exist in python"
   ]
  },
  {
   "cell_type": "markdown",
   "metadata": {},
   "source": [
    "# 7. Test attribute access via getter1: `circle.radius_accessor`\n"
   ]
  },
  {
   "cell_type": "code",
   "execution_count": 33,
   "metadata": {},
   "outputs": [
    {
     "data": {
      "text/plain": [
       "50"
      ]
     },
     "execution_count": 33,
     "metadata": {},
     "output_type": "execute_result"
    }
   ],
   "source": [
    "circle.radius_accessor"
   ]
  },
  {
   "cell_type": "markdown",
   "metadata": {},
   "source": [
    "# 8. Test attribute access via getter2: `circle.radius`"
   ]
  },
  {
   "cell_type": "code",
   "execution_count": 34,
   "metadata": {},
   "outputs": [
    {
     "data": {
      "text/plain": [
       "50"
      ]
     },
     "execution_count": 34,
     "metadata": {},
     "output_type": "execute_result"
    }
   ],
   "source": [
    "circle.radius\n"
   ]
  }
 ],
 "metadata": {
  "kernelspec": {
   "display_name": "blog-T-2huGx2",
   "language": "python",
   "name": "python3"
  },
  "language_info": {
   "codemirror_mode": {
    "name": "ipython",
    "version": 3
   },
   "file_extension": ".py",
   "mimetype": "text/x-python",
   "name": "python",
   "nbconvert_exporter": "python",
   "pygments_lexer": "ipython3",
   "version": "3.10.12"
  }
 },
 "nbformat": 4,
 "nbformat_minor": 2
}
