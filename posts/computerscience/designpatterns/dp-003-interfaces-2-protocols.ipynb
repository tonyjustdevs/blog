{
 "cells": [
  {
   "cell_type": "raw",
   "metadata": {
    "vscode": {
     "languageId": "raw"
    }
   },
   "source": [
    "---\n",
    "title: \"[INCOMPLETE] DP 3: Interfaces [Part 2] - Protocols\"\n",
    "author: \"Tony Phung\"\n",
    "date: \"2024-12-07\"\n",
    "categories: [design patterns]\n",
    "image: \"imgs/dp-003-protocols.jpg\"\n",
    "toc: true\n",
    "description: \"Programming to Interfaces rather than Implementation specificsgit\"\n",
    "---"
   ]
  },
  {
   "cell_type": "markdown",
   "metadata": {},
   "source": [
    "![](imgs/dp-003-protocols.jpg)"
   ]
  },
  {
   "cell_type": "markdown",
   "metadata": {},
   "source": [
    "# 1. Introduction\n",
    "## 1.1 The Scenario\n",
    "\n",
    "## 1.2 The Problem\n",
    "\n",
    "## 1.3 (One of) The Solution(s): "
   ]
  }
 ],
 "metadata": {
  "kernelspec": {
   "display_name": "blog-T-2huGx2",
   "language": "python",
   "name": "python3"
  },
  "language_info": {
   "codemirror_mode": {
    "name": "ipython",
    "version": 3
   },
   "file_extension": ".py",
   "mimetype": "text/x-python",
   "name": "python",
   "nbconvert_exporter": "python",
   "pygments_lexer": "ipython3",
   "version": "3.10.12"
  }
 },
 "nbformat": 4,
 "nbformat_minor": 2
}
