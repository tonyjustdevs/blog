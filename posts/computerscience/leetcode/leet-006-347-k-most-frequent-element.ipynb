{
 "cells": [
  {
   "cell_type": "raw",
   "metadata": {
    "vscode": {
     "languageId": "raw"
    }
   },
   "source": [
    "---\n",
    "title: \"LeetCode 6: 347 - K Most Frequent Elements\"\n",
    "author: \"Tony Phung\"\n",
    "date: \"2025-01-22\"\n",
    "categories: [leetcode, medium]\n",
    "image: \"imgs/leet-347.png\"\n",
    "toc: true\n",
    "description: \"Must be better than O(n log n)\"\n",
    "---"
   ]
  },
  {
   "cell_type": "markdown",
   "metadata": {},
   "source": [
    "# 1. Top K Frequent Elements Description\n",
    "\n",
    "Given an integer array `nums` and an integer `k`, return the `k` **most frequent elements**. \n",
    "\n",
    "You may return the answer in any order.\n",
    "\n",
    "Reference: \n",
    "\n",
    "* [LeetCode 347 - Top K Frequent Elements](https://leetcode.com/problems/top-k-frequent-elements/description/) \n",
    "\n",
    "\n"
   ]
  },
  {
   "cell_type": "markdown",
   "metadata": {},
   "source": [
    "Example 1:\n",
    "\n",
    "| Example   | Input 1: `nums`<br> Type: `list[str]`  | Input 2: `k`<br> int: `int` | Output: <br> Type: `list[list[str]]`|\n",
    "|-----------|----------------------------------------|-----------------------------|-----------------|\n",
    "| `1`       | `[1,1,1,2,2,3]`                        | `2`                         |`[1,2]`          |\n",
    "| `2`       | `[1]`                                  | `1`                         |`[1]`            |"
   ]
  },
  {
   "cell_type": "markdown",
   "metadata": {},
   "source": [
    "# 2. Solution Template:  \n"
   ]
  },
  {
   "cell_type": "code",
   "execution_count": 3,
   "metadata": {},
   "outputs": [],
   "source": [
    "class Solution:\n",
    "    def topKFrequent(self, nums: list[int], k: int) -> list[int]:\n",
    "        ..."
   ]
  }
 ],
 "metadata": {
  "kernelspec": {
   "display_name": "blog-T-2huGx2",
   "language": "python",
   "name": "python3"
  },
  "language_info": {
   "codemirror_mode": {
    "name": "ipython",
    "version": 3
   },
   "file_extension": ".py",
   "mimetype": "text/x-python",
   "name": "python",
   "nbconvert_exporter": "python",
   "pygments_lexer": "ipython3",
   "version": "3.10.12"
  }
 },
 "nbformat": 4,
 "nbformat_minor": 2
}
