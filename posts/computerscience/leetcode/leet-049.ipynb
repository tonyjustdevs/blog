{
 "cells": [
  {
   "cell_type": "raw",
   "metadata": {
    "vscode": {
     "languageId": "raw"
    }
   },
   "source": [
    "---\n",
    "title: \"LeetCode 49: Group Anagrams\"\n",
    "author: \"Tony Phung\"\n",
    "date: \"2025-01-13\"\n",
    "categories: [leetcode]\n",
    "image: \"imgs/leet-049-results.png\"\n",
    "toc: true\n",
    "description: \"Group Anagrams\"\n",
    "---"
   ]
  },
  {
   "cell_type": "markdown",
   "metadata": {
    "vscode": {
     "languageId": "raw"
    }
   },
   "source": [
    "![](imgs/leet-049-results.png)"
   ]
  },
  {
   "cell_type": "markdown",
   "metadata": {},
   "source": [
    "# 1. Scenarios\n",
    "* Input: `strs = [\"eat\",\"tea\",\"tan\",\"ate\",\"nat\",\"bat\"]`\n",
    "    - Output:  `[[\"bat\"],[\"nat\",\"tan\"],[\"ate\",\"eat\",\"tea\"]]`\n",
    "* Input: `strs = [\"\"]`\n",
    "    - Output:  `[[\"\"]]`\n",
    "* Input: `strs = [\"a\"]`\n",
    "    - Output:  `[[\"a\"]]`"
   ]
  },
  {
   "cell_type": "markdown",
   "metadata": {},
   "source": [
    "# 2. Solution Template:  \n"
   ]
  },
  {
   "cell_type": "code",
   "execution_count": 77,
   "metadata": {},
   "outputs": [],
   "source": [
    "class Solution:\n",
    "    def groupAnagrams(self, strs: List[str]) -> List[List[str]]:\n",
    "        ..."
   ]
  },
  {
   "cell_type": "markdown",
   "metadata": {},
   "source": [
    "## 2.1 Scenario 1 Test:\n",
    "* Input: `strs = [\"eat\",\"tea\",\"tan\",\"ate\",\"nat\",\"bat\"]`\n",
    "    - Output:  `[[\"bat\"],[\"nat\",\"tan\"],[\"ate\",\"eat\",\"tea\"]]`\n"
   ]
  },
  {
   "cell_type": "code",
   "execution_count": 1,
   "metadata": {},
   "outputs": [
    {
     "name": "stdout",
     "output_type": "stream",
     "text": [
      "pre-sort: eat\n",
      "post-sort: aet\n",
      "{'aet': ['eat']}\n",
      "\n",
      "pre-sort: tea\n",
      "post-sort: aet\n",
      "{'aet': ['eat', 'tea']}\n",
      "\n",
      "pre-sort: tan\n",
      "post-sort: ant\n",
      "{'aet': ['eat', 'tea'], 'ant': ['tan']}\n",
      "\n",
      "pre-sort: ate\n",
      "post-sort: aet\n",
      "{'aet': ['eat', 'tea', 'ate'], 'ant': ['tan']}\n",
      "\n",
      "pre-sort: nat\n",
      "post-sort: ant\n",
      "{'aet': ['eat', 'tea', 'ate'], 'ant': ['tan', 'nat']}\n",
      "\n",
      "pre-sort: bat\n",
      "post-sort: abt\n",
      "{'aet': ['eat', 'tea', 'ate'], 'ant': ['tan', 'nat'], 'abt': ['bat']}\n",
      "\n"
     ]
    },
    {
     "data": {
      "text/plain": [
       "[['eat', 'tea', 'ate'], ['tan', 'nat'], ['bat']]"
      ]
     },
     "execution_count": 1,
     "metadata": {},
     "output_type": "execute_result"
    }
   ],
   "source": [
    "strs = [\"eat\",\"tea\",\"tan\",\"ate\",\"nat\",\"bat\"]\n",
    "seen_dict = {}\n",
    "\n",
    "for str_item in strs:\n",
    "    str_item = str_item\n",
    "    sorted_str_list = sorted(str_item)\n",
    "    print(f\"pre-sort: {str_item}\")\n",
    "    sorted_str = ''.join(sorted_str_list)\n",
    "    print(f\"post-sort: {sorted_str}\")\n",
    "    sorted_str_dkey = sorted_str\n",
    "    if sorted_str_dkey not in seen_dict:\n",
    "        seen_dict[sorted_str] = [str_item]    # create dict entrant\n",
    "    else: \n",
    "        seen_dict[sorted_str].append(str_item) # retriev dict entrant\n",
    "    print(seen_dict)\n",
    "    print()    \n",
    "# [values for values in seen_dict.values()]\n",
    "[*seen_dict.values()]\n"
   ]
  },
  {
   "cell_type": "markdown",
   "metadata": {},
   "source": [
    "## 2.2 Adapt to Template\n"
   ]
  },
  {
   "cell_type": "code",
   "execution_count": 3,
   "metadata": {},
   "outputs": [],
   "source": [
    "from typing import List"
   ]
  },
  {
   "cell_type": "markdown",
   "metadata": {},
   "source": [
    "## 2.3 Working Easy-To-Understand Version"
   ]
  },
  {
   "cell_type": "code",
   "execution_count": 6,
   "metadata": {},
   "outputs": [],
   "source": [
    "class Solution:\n",
    "    def groupAnagrams(self, strs: List[str]) -> List[List[str]]:\n",
    "# strs = [\"eat\",\"tea\",\"tan\",\"ate\",\"nat\",\"bat\"]\n",
    "        seen_dict = {}\n",
    "\n",
    "        for str_item in strs:\n",
    "            pre_sorted_str = str_item\n",
    "            sorted_str_list = sorted(pre_sorted_str)\n",
    "            # print(f\"pre-sort: {pre_sorted_str}\")\n",
    "            sorted_str = ''.join(sorted_str_list)\n",
    "            # print(f\"post-sort: {sorted_str}\")\n",
    "            sorted_str_dkey = sorted_str\n",
    "            if sorted_str_dkey not in seen_dict:\n",
    "                seen_dict[sorted_str] = [pre_sorted_str]    # create dict entrant\n",
    "            else: \n",
    "                seen_dict[sorted_str].append(pre_sorted_str) # retriev dict entrant\n",
    "            # print(seen_dict)\n",
    "            # print()    \n",
    "        # [values for values in seen_dict.values()]\n",
    "        return [*seen_dict.values()]"
   ]
  },
  {
   "cell_type": "code",
   "execution_count": 7,
   "metadata": {},
   "outputs": [
    {
     "data": {
      "text/plain": [
       "[['eat', 'tea', 'ate'], ['tan', 'nat'], ['bat']]"
      ]
     },
     "execution_count": 7,
     "metadata": {},
     "output_type": "execute_result"
    }
   ],
   "source": [
    "strs = [\"eat\",\"tea\",\"tan\",\"ate\",\"nat\",\"bat\"]\n",
    "soln = Solution()\n",
    "soln.groupAnagrams(strs)"
   ]
  },
  {
   "cell_type": "markdown",
   "metadata": {},
   "source": [
    "## 2.4 Working Less-Lines Version\n",
    "\n",
    "Same as 2.3 but less new variables"
   ]
  },
  {
   "cell_type": "code",
   "execution_count": 8,
   "metadata": {},
   "outputs": [],
   "source": [
    "class Solution:\n",
    "    def groupAnagrams(self, strs: List[str]) -> List[List[str]]:\n",
    "        seen_dict = {}\n",
    "        for str_item in strs:\n",
    "            sorted_str = ''.join(sorted(str_item))\n",
    "            if ''.join(sorted(str_item)) not in seen_dict:\n",
    "                seen_dict[sorted_str] = [str_item]    # create dict entrant\n",
    "            else: \n",
    "                seen_dict[sorted_str].append(str_item) # retriev dict entrant\n",
    "        return [*seen_dict.values()]"
   ]
  },
  {
   "cell_type": "code",
   "execution_count": 9,
   "metadata": {},
   "outputs": [
    {
     "data": {
      "text/plain": [
       "[['eat', 'tea', 'ate'], ['tan', 'nat'], ['bat']]"
      ]
     },
     "execution_count": 9,
     "metadata": {},
     "output_type": "execute_result"
    }
   ],
   "source": [
    "strs = [\"eat\",\"tea\",\"tan\",\"ate\",\"nat\",\"bat\"]\n",
    "soln = Solution()\n",
    "soln.groupAnagrams(strs)"
   ]
  },
  {
   "cell_type": "markdown",
   "metadata": {},
   "source": [
    "# 3. LeetCode: Submission Results\n",
    "\n",
    "* [Submission link](https://leetcode.com/problems/group-anagrams/submissions/1507391832/)"
   ]
  },
  {
   "cell_type": "markdown",
   "metadata": {},
   "source": [
    "![](imgs/leet-049-results.png)"
   ]
  },
  {
   "cell_type": "code",
   "execution_count": null,
   "metadata": {},
   "outputs": [],
   "source": []
  }
 ],
 "metadata": {
  "kernelspec": {
   "display_name": "blog-T-2huGx2",
   "language": "python",
   "name": "python3"
  },
  "language_info": {
   "codemirror_mode": {
    "name": "ipython",
    "version": 3
   },
   "file_extension": ".py",
   "mimetype": "text/x-python",
   "name": "python",
   "nbconvert_exporter": "python",
   "pygments_lexer": "ipython3",
   "version": "3.10.12"
  }
 },
 "nbformat": 4,
 "nbformat_minor": 2
}
