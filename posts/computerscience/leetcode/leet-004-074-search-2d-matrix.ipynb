{
 "cells": [
  {
   "cell_type": "raw",
   "metadata": {
    "vscode": {
     "languageId": "raw"
    }
   },
   "source": [
    "---\n",
    "title: \"LeetCode 4: 74 - Search a 2D Matrix\"\n",
    "author: \"Tony Phung\"\n",
    "date: \"2024-02-10\"\n",
    "categories: [leetcode]\n",
    "image: \"imgs/leetcode.jpg\"\n",
    "toc: true\n",
    "description: \"Almost the same as binary search problem\"\n",
    "---\n",
    "\n",
    "![](imgs/leetcode.jpg)\n",
    "\n",
    "[link to my leetcode profile](https://leetcode.com/tonyjustdevs/)"
   ]
  },
  {
   "cell_type": "markdown",
   "metadata": {},
   "source": [
    "## 1. Problem Description\n",
    "\n",
    "You are given an `m x n` `integer` matrix matrix with the following two properties:\n",
    "\n",
    "    Each row is sorted in non-decreasing order.\n",
    "    The first integer of each row is greater than the last integer of the previous row.\n",
    "\n",
    "Given an `integer target`, return `true` if target is in matrix or `false` otherwise.\n",
    "\n",
    "You must write a solution in O(log(m * n)) time complexity."
   ]
  },
  {
   "cell_type": "markdown",
   "metadata": {},
   "source": [
    "## 2. Code\n",
    "\n",
    "1. Flatten array then \n",
    "2. Use code from [binary search](https://tonyjustdevs.github.io/blog/posts/leetcode/3-binary_search/LC704.html)\n"
   ]
  },
  {
   "cell_type": "code",
   "execution_count": 24,
   "metadata": {},
   "outputs": [],
   "source": [
    "class Solution:\n",
    "    def searchMatrix(self, matrix: [[int]], target: int) -> bool:\n",
    "        # its a ascending matrix,\n",
    "        # 1. turn into array then \n",
    "        # 2. apply binsearch \n",
    "        arr = [element for row in matrix for element in row]\n",
    "\n",
    "        l = 0\n",
    "        r = len(arr)\n",
    "\n",
    "        if r==1:\n",
    "            if target == l[0]:\n",
    "                return True\n",
    "            else: return False\n",
    "\n",
    "        while l<r:\n",
    "            m = (l+r)//2\n",
    "            if arr[m]<target:\n",
    "                l = m + 1                \n",
    "            elif arr[m]>target:\n",
    "                r = m\n",
    "            else:                \n",
    "                return True\n",
    "        return False\n",
    "\n",
    "\n",
    "soln = Solution()\n",
    "# soln.searchMatrix([[1,3,5,7],[10,11,16,20],[23,30,34,60]],3)\n",
    "# soln.searchMatrix([[1,3,5,7],[10,11,16,20],[23,30,34,60]],13)\n",
    "# soln.searchMatrix([[1,3]],3)\n"
   ]
  },
  {
   "cell_type": "markdown",
   "metadata": {},
   "source": [
    "## 3. Submit\n",
    "\n",
    "![](imgs/res.jpg)\n",
    "\n",
    "[Go to Main Blog](https://tonyjustdevs.github.io/blog/)  \n",
    "[Go to LeetCode Blog](https://tonyjustdevs.github.io/blog/leetcode.html)"
   ]
  }
 ],
 "metadata": {
  "kernelspec": {
   "display_name": "leet_venv",
   "language": "python",
   "name": "python3"
  },
  "language_info": {
   "codemirror_mode": {
    "name": "ipython",
    "version": 3
   },
   "file_extension": ".py",
   "mimetype": "text/x-python",
   "name": "python",
   "nbconvert_exporter": "python",
   "pygments_lexer": "ipython3",
   "version": "3.11.5"
  }
 },
 "nbformat": 4,
 "nbformat_minor": 2
}
