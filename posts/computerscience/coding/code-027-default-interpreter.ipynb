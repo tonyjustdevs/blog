{
 "cells": [
  {
   "cell_type": "raw",
   "metadata": {
    "vscode": {
     "languageId": "raw"
    }
   },
   "source": [
    "---\n",
    "title: \"Code 27: VS-Code Custom Interpreter & Virtual Environments\"\n",
    "author: \"Tony Phung\"\n",
    "date: \"2025-05-02\"\n",
    "categories: [coding, python]\n",
    "image: \"imgs/code-027-interp.png\"\n",
    "toc: true\n",
    "description: \"Automate Selection of Python Interpreter & Virtual Environment Activations to Save Time and Avoid Confusion\"\n",
    "---"
   ]
  },
  {
   "cell_type": "markdown",
   "metadata": {},
   "source": [
    "![](imgs/code-027-interp.png)"
   ]
  },
  {
   "cell_type": "markdown",
   "metadata": {
    "vscode": {
     "languageId": "raw"
    }
   },
   "source": [
    "# 0. Major Edit: Add to `.bashrc` \n",
    "To automate activation of `.venv` \n",
    "\n",
    "![](imgs/code-027-edit.png)\n"
   ]
  },
  {
   "cell_type": "markdown",
   "metadata": {
    "vscode": {
     "languageId": "raw"
    }
   },
   "source": [
    "# 1. Problem: Wrong Python Interpreter\n",
    "\n",
    "When opening a project, VS-Code keeps opening some previous Interpreter or the wrong one compared. The required one is simply the one in the local `.venv` folder.\n",
    "\n",
    "![](imgs/code-027-interpreter.png)\n",
    "\n",
    "And terminal shows this:\n",
    "\n",
    "![](imgs/code-027-terminal-fapi.png)"
   ]
  },
  {
   "cell_type": "markdown",
   "metadata": {},
   "source": [
    "# 1.1 Terminal Meaning: `fapi(.venv)`\n",
    "\n",
    "Two sections: \n",
    "\n",
    "- `interpreter` `(virtual environment)`\n",
    "\n",
    "What is happening:  \n",
    "\n",
    "- VSC is using the Python interpreter: `fapi...`, \n",
    "    - it's the first interpreter it find its in path or\n",
    "    - more likely, we previously selected this interpreter and forgot we did.\n",
    "- VSC automatically **prefixs** interpreters name (part of it) to our terminal, simply to inform us.\n",
    "- VSC is also automatically **activating** local `.venv` and **appends** to terminal.\n"
   ]
  },
  {
   "cell_type": "markdown",
   "metadata": {},
   "source": [
    "# 2. **Solution 1 via Manually GUI**\n",
    "- Choose from menu: `Select Interpreter` [**GUI** via **Ctrl + Shift + P**]:\n",
    "\n",
    "    - Choose local .venv: `('.venv') ./.venv/bin/python`\n",
    "\n",
    "This will start a process to update 3 areas:\n",
    "\n",
    "- **[1]**: Highlights the selected interpreter if you go back to `Select Interpreter` [**GUI** via **Ctrl + Shift + P**]\n",
    "- **[2]**: Interpreter Prefix now updates from `fapi` (in *Section 1.1 Meaning*) to selected local interpreter  `.venv` in **[1]**\n",
    "- **[3]**: Shows selected local interpreter  `.venv`\n",
    "- **[4]**: No defaults (see Solution 2)\n",
    "\n",
    "![](imgs/code-027-gui.png)\n"
   ]
  },
  {
   "cell_type": "markdown",
   "metadata": {},
   "source": [
    "# 3. **Solution 2: Create `.vscode/settings.json`** \n",
    "\n",
    "## 3.1 Solution 2 Part 1: Add key-value pair\n",
    "- Add **default interpreter** `.vscode/settings.json` file:  \n",
    "\n",
    "        {    \n",
    "            \"python.defaultInterpreterPath\": \"${workspaceFolder}/.venv/bin/python\"\n",
    "        }"
   ]
  },
  {
   "cell_type": "markdown",
   "metadata": {},
   "source": [
    "![](imgs/code-027-settings-json.png)"
   ]
  },
  {
   "cell_type": "markdown",
   "metadata": {},
   "source": [
    "## 3.2 Solution 2 Part 1: Reset Workspace Settings\n",
    "\n",
    "Okay so this also requires using the GUI but I'm sure theres a way to automate this too...\n",
    "\n",
    "- Choose from menu (via Ctrl + Shift + P): `Clear Workspace Interpreter Setting` \n",
    "\n",
    "![](imgs/code-027-reset.png)"
   ]
  },
  {
   "cell_type": "markdown",
   "metadata": {},
   "source": [
    "## **Step 4: Confirm Okay**\n",
    "\n",
    "A few things to notice:\n",
    "- **[1]** VS-Code default in menu is now always the `.venv`'s python, which wasn't available doing it manually\n",
    "- **[1]** VS-Code automatically chose it (after you settings reset)\n",
    "- **[2]** No errors finding interepreter (see next section when interpreter cant be found)\n",
    "- **[3]** Shows seleted interpreter"
   ]
  },
  {
   "cell_type": "markdown",
   "metadata": {},
   "source": [
    "![](imgs/code-027-selected.png)"
   ]
  },
  {
   "cell_type": "markdown",
   "metadata": {},
   "source": [
    "## **Step 5: Problems & Debugging**\n",
    "\n",
    "If path provided to `settings.json` is incorrect, (e.g. I made up a `mate/.venv` which doesnt exist)\n",
    "![](imgs/code-027-bad-default-1.png)\n",
    "\n",
    "- **[1]**: VSC shows default path but it doesnt actually exist\n",
    "- **[2]**: VSC stuck in infinite loop looking for it\n",
    "- **[3]**: VSC cant find it, will just show Python rather than a particular interpreter\n",
    "\n",
    "![](imgs/code-027-bad-default-2.png)\n"
   ]
  },
  {
   "cell_type": "raw",
   "metadata": {},
   "source": []
  },
  {
   "cell_type": "markdown",
   "metadata": {
    "vscode": {
     "languageId": "raw"
    }
   },
   "source": [
    "Reference: https://code.visualstudio.com/docs/python/settings-reference#_general-python-settings"
   ]
  },
  {
   "cell_type": "markdown",
   "metadata": {},
   "source": [
    "# Summary:\n",
    "- VSC stores your last selection in: `Python: Select Interpreter (Ctrl + Shift + P)` \n",
    "- Reset workspace settings to start afresh in menu.\n",
    "- Explicity set a default interpreter `.venv` in `settings.json`.\n",
    "- If our venv is named exactly `.venv`, VSC will also automatically activate it upon opening VSC.\n",
    "\n"
   ]
  }
 ],
 "metadata": {
  "kernelspec": {
   "display_name": "blog-T-2huGx2",
   "language": "python",
   "name": "python3"
  },
  "language_info": {
   "codemirror_mode": {
    "name": "ipython",
    "version": 3
   },
   "file_extension": ".py",
   "mimetype": "text/x-python",
   "name": "python",
   "nbconvert_exporter": "python",
   "pygments_lexer": "ipython3",
   "version": "3.10.12"
  }
 },
 "nbformat": 4,
 "nbformat_minor": 2
}
