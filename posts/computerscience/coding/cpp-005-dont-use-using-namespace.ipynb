{
 "cells": [
  {
   "cell_type": "raw",
   "id": "efabadf1",
   "metadata": {
    "vscode": {
     "languageId": "raw"
    }
   },
   "source": [
    "---\n",
    "title: \"Cpp 5: Don't Use `using namespace` Directive\" \n",
    "author: \"Tony Phung\"\n",
    "date: \"2025-09-07\"\n",
    "categories: [coding, cplusplus]\n",
    "image: \"imgs/cpp/005-using.jpg\"\n",
    "toc: true\n",
    "description: \"A Naming Conflict Example with `using namespace` Directive in C++\"\n",
    "---"
   ]
  },
  {
   "cell_type": "markdown",
   "id": "4a9bac73",
   "metadata": {},
   "source": [
    "![](imgs/cpp/005-using.jpg)"
   ]
  },
  {
   "cell_type": "markdown",
   "id": "3e4283cf",
   "metadata": {},
   "source": [
    "# 1. `using namespace`\n",
    "If your program is **super simple** and: \n",
    "\n",
    "- will **not change** and \n",
    "- you're 100% confident that \n",
    "    - there will be **no updates** or \n",
    "    - **no changes** to the program, \n",
    "- even then\n",
    "    - STILL **DONT** use `using namespace`! \n",
    "\n",
    "But if you're forced at gunpoint 🔫, then fine."
   ]
  },
  {
   "cell_type": "markdown",
   "id": "e03d7954",
   "metadata": {
    "vscode": {
     "languageId": "raw"
    }
   },
   "source": [
    "# 2. Scenario 1: No Naming Conflicts\n",
    "**Compilation Successful!**\n",
    "\n",
    "![](imgs/cpp/005-using-ok.png)"
   ]
  },
  {
   "cell_type": "markdown",
   "id": "97effe0c",
   "metadata": {},
   "source": [
    "# 3. Scenario 2: Naming Conflicts \n",
    "**Compilation Error!**\n",
    "\n",
    "![](imgs/cpp/005-using-bad.png)"
   ]
  }
 ],
 "metadata": {
  "kernelspec": {
   "display_name": "blog",
   "language": "python",
   "name": "python3"
  },
  "language_info": {
   "codemirror_mode": {
    "name": "ipython",
    "version": 3
   },
   "file_extension": ".py",
   "mimetype": "text/x-python",
   "name": "python",
   "nbconvert_exporter": "python",
   "pygments_lexer": "ipython3",
   "version": "3.13.1"
  }
 },
 "nbformat": 4,
 "nbformat_minor": 5
}
