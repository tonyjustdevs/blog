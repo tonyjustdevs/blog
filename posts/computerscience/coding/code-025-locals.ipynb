{
 "cells": [
  {
   "cell_type": "raw",
   "metadata": {
    "vscode": {
     "languageId": "raw"
    }
   },
   "source": [
    "---\n",
    "title: \"Code 25: `locals()`\"\n",
    "author: \"Tony Phung\"\n",
    "date: \"2025-02-23\"\n",
    "categories: [coding, python]\n",
    "image: \"imgs/code-025-local.png\"\n",
    "toc: true\n",
    "description: \"Useful Built-in Function to Obtain Locals Variables & Their Values\"\n",
    "---"
   ]
  },
  {
   "cell_type": "markdown",
   "metadata": {},
   "source": [
    "![](imgs/code-025-local.png)"
   ]
  },
  {
   "cell_type": "markdown",
   "metadata": {},
   "source": [
    "# 1. Setup"
   ]
  },
  {
   "cell_type": "code",
   "execution_count": 1,
   "metadata": {},
   "outputs": [],
   "source": [
    "class TreeNode:\n",
    "    def __init__(self, data, left=None, right=None):\n",
    "        self.data = data\n",
    "        self.left = left\n",
    "        self.right = right\n",
    "        \n",
    "node15 = TreeNode(15, left=None, right=None)\n",
    "node25 = TreeNode(25, left=node15, right=None)\n",
    "node35 = TreeNode(35, left=None, right=None)"
   ]
  },
  {
   "cell_type": "markdown",
   "metadata": {},
   "source": [
    "# 2. `locals()`: As a `Dictionary`\n",
    "\n",
    "Local variables and their values as a `dictionary`"
   ]
  },
  {
   "cell_type": "code",
   "execution_count": 2,
   "metadata": {},
   "outputs": [
    {
     "name": "stdout",
     "output_type": "stream",
     "text": [
      "[local-variables dict using locals():] \n",
      "\t {'current_node': <__main__.TreeNode object at 0x7f2b8553a980>, 'root_node': <__main__.TreeNode object at 0x7f2b85538940>, 'x': 777, 'y': 776, 'z': 'a cool string', 'cooldict': {'a_1205': 1206, 'b_x': 777, 'c_n25': <__main__.TreeNode object at 0x7f2b85538940>, 'd_rn': <__main__.TreeNode object at 0x7f2b85538940>, 'e_n15': <__main__.TreeNode object at 0x7f2b8553a980>, 'f_n25l': <__main__.TreeNode object at 0x7f2b8553a980>, 'g_rnl': <__main__.TreeNode object at 0x7f2b8553a980>, 'h_n35': <__main__.TreeNode object at 0x7f2b8553ab00>}}\n",
      "\n"
     ]
    }
   ],
   "source": [
    "def some_fn(): #blog it\n",
    "    current_node = node15\n",
    "    root_node = node25\n",
    "    x=777\n",
    "    y=x-1\n",
    "    z=\"a cool string\"\n",
    "    cooldict = {'a_1205': 1206,'b_x':x,\n",
    "                'c_n25':node25,\n",
    "                'd_rn':root_node,\n",
    "                'e_n15':node15,\n",
    "                'f_n25l':node25.left,\n",
    "                'g_rnl':root_node.left,\n",
    "                'h_n35':node35}\n",
    "    \n",
    "    print(f\"[local-variables dict using locals():] \\n\\t\",locals(),end=\"\\n\\n\")\n",
    "    \n",
    "    # local_keys_var_names = (locals().keys())\n",
    "    # print(f\"[local-variable-names using 'locals().keys()']: \\n\\t{local_keys_var_names}\",end=\"\\n\\n\")\n",
    "\n",
    "    # local_variable_values = (locals().values())\n",
    "    # print(f\"[local-variable-values using 'locals().values()']:\")\n",
    "    # [print(f\"\\t{val}\") for val in local_variable_values]\n",
    "    # print()\n",
    "    \n",
    "    # local_variable_name_and_values = (locals().items())\n",
    "    # print(f\"[local-variable-values using 'locals().items()']:\")\n",
    "    # [print(f\"\\t{(k,v)}\") for k,v in local_variable_name_and_values]\n",
    "    # print()\n",
    "    \n",
    "some_fn()\n",
    "\n"
   ]
  },
  {
   "cell_type": "markdown",
   "metadata": {},
   "source": [
    "# 3. `locals().items()`: As A `List`\n",
    "Outputs as `dict_keys`, which is an `iterable`, then convert **variable_name-value** pairs to list"
   ]
  },
  {
   "cell_type": "code",
   "execution_count": 3,
   "metadata": {},
   "outputs": [
    {
     "name": "stdout",
     "output_type": "stream",
     "text": [
      "[local-variable-values using 'locals().items()']:\n",
      "\t('current_node', <__main__.TreeNode object at 0x7f2b8553a980>)\n",
      "\t('root_node', <__main__.TreeNode object at 0x7f2b85538940>)\n",
      "\t('x', 777)\n",
      "\t('y', 776)\n",
      "\t('z', 'a cool string')\n",
      "\t('cooldict', {'a_1205': 1206, 'b_x': 777, 'c_n25': <__main__.TreeNode object at 0x7f2b85538940>, 'd_rn': <__main__.TreeNode object at 0x7f2b85538940>, 'e_n15': <__main__.TreeNode object at 0x7f2b8553a980>, 'f_n25l': <__main__.TreeNode object at 0x7f2b8553a980>, 'g_rnl': <__main__.TreeNode object at 0x7f2b8553a980>, 'h_n35': <__main__.TreeNode object at 0x7f2b8553ab00>})\n",
      "\n"
     ]
    }
   ],
   "source": [
    "def some_fn(): #blog it\n",
    "    current_node = node15\n",
    "    root_node = node25\n",
    "    x=777\n",
    "    y=x-1\n",
    "    z=\"a cool string\"\n",
    "    cooldict = {'a_1205': 1206,'b_x':x,\n",
    "                'c_n25':node25,\n",
    "                'd_rn':root_node,\n",
    "                'e_n15':node15,\n",
    "                'f_n25l':node25.left,\n",
    "                'g_rnl':root_node.left,\n",
    "                'h_n35':node35}\n",
    "    \n",
    "    # print(f\"[local-variables dict using locals():] \\n\\t\",locals(),end=\"\\n\\n\")\n",
    "    \n",
    "    # local_keys_var_names = (locals().keys())\n",
    "    # print(f\"[local-variable-names using 'locals().keys()']: \\n\\t{local_keys_var_names}\",end=\"\\n\\n\")\n",
    "\n",
    "    # local_variable_values = (locals().values())\n",
    "    # print(f\"[local-variable-values using 'locals().values()']:\")\n",
    "    # [print(f\"\\t{val}\") for val in local_variable_values]\n",
    "    # print()\n",
    "\n",
    "    local_variable_name_and_values = (locals().items())\n",
    "    print(f\"[local-variable-values using 'locals().items()']:\")\n",
    "    [print(f\"\\t{(k,v)}\") for k,v in local_variable_name_and_values]\n",
    "    print()\n",
    "    \n",
    "some_fn()\n",
    "\n"
   ]
  },
  {
   "cell_type": "markdown",
   "metadata": {},
   "source": [
    "# 4. `locals().keys()`: Variable Names Only\n",
    "Outputs as `dict_keys`, an `iterable`, containing all **names** of *local variables*\n"
   ]
  },
  {
   "cell_type": "code",
   "execution_count": null,
   "metadata": {},
   "outputs": [
    {
     "name": "stdout",
     "output_type": "stream",
     "text": [
      "[local-variable-names using 'locals().keys()']: \n",
      "\tdict_keys(['current_node', 'root_node', 'x', 'y', 'z', 'cooldict'])\n",
      "\n"
     ]
    }
   ],
   "source": [
    "def some_fn(): #blog it\n",
    "    current_node = node15\n",
    "    root_node = node25\n",
    "    x=777\n",
    "    y=x-1\n",
    "    z=\"a cool string\"\n",
    "    cooldict = {'a_1205': 1206,'b_x':x,\n",
    "                'c_n25':node25,\n",
    "                'd_rn':root_node,\n",
    "                'e_n15':node15,\n",
    "                'f_n25l':node25.left,\n",
    "                'g_rnl':root_node.left,\n",
    "                'h_n35':node35}\n",
    "    \n",
    "    # print(f\"[local-variables dict using locals():] \\n\\t\",locals(),end=\"\\n\\n\")\n",
    "    \n",
    "    local_keys_var_names = (locals().keys())\n",
    "    print(f\"[local-variable-names using 'locals().keys()']: \\n\\t{local_keys_var_names}\",end=\"\\n\\n\")\n",
    "\n",
    "    # local_variable_values = (locals().values())\n",
    "    # print(f\"[local-variable-values using 'locals().values()']:\")\n",
    "    # [print(f\"\\t{val}\") for val in local_variable_values]\n",
    "    # print()\n",
    "\n",
    "    # local_variable_name_and_values = (locals().items())\n",
    "    # print(f\"[local-variable-values using 'locals().items()']:\")\n",
    "    # [print(f\"\\t{(k,v)}\") for k,v in local_variable_name_and_values]\n",
    "    # print()\n",
    "    \n",
    "some_fn()"
   ]
  }
 ],
 "metadata": {
  "kernelspec": {
   "display_name": "blog-T-2huGx2",
   "language": "python",
   "name": "python3"
  },
  "language_info": {
   "codemirror_mode": {
    "name": "ipython",
    "version": 3
   },
   "file_extension": ".py",
   "mimetype": "text/x-python",
   "name": "python",
   "nbconvert_exporter": "python",
   "pygments_lexer": "ipython3",
   "version": "3.10.12"
  }
 },
 "nbformat": 4,
 "nbformat_minor": 2
}
