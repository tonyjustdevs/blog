{
 "cells": [
  {
   "cell_type": "raw",
   "id": "efabadf1",
   "metadata": {
    "vscode": {
     "languageId": "raw"
    }
   },
   "source": [
    "---\n",
    "title: \"Cpp 2: Add A Code Snippet\"\n",
    "author: \"Tony Phung\"\n",
    "date: \"2025-08-13\"\n",
    "categories: [coding, cplusplus, visual studio]\n",
    "image: \"imgs/cpp/002_snippet.jpg\"\n",
    "toc: true\n",
    "description: \"'Don't Repeat Yourself' Principle At Play (kind of)\"\n",
    "---"
   ]
  },
  {
   "cell_type": "markdown",
   "id": "25c22a55",
   "metadata": {},
   "source": [
    "![](imgs/cpp/002_snippet.jpg)"
   ]
  },
  {
   "cell_type": "markdown",
   "id": "acf6c8d5",
   "metadata": {
    "vscode": {
     "languageId": "raw"
    }
   },
   "source": [
    "# 1. Introduction\n",
    "Sick of typing `std::cout` everytime you want print to console? \n",
    "\n",
    "- I am."
   ]
  },
  {
   "cell_type": "markdown",
   "id": "9c1150c5",
   "metadata": {},
   "source": [
    "# 2. Steps\n",
    "## 2.1 [**Step 1**] Create a file\n",
    "File suffix is: \n",
    "\n",
    "- \"snippet\" (e.g. `cout.snippet`)\n",
    "\n",
    "I used Linux (Ubuntu on WSL): \n",
    "\n",
    "- `touch cout.snippet`\n",
    "\n",
    "Windows, not sure how."
   ]
  },
  {
   "cell_type": "markdown",
   "id": "b830db4a",
   "metadata": {},
   "source": [
    "## 2.3 [**Step 3**] Add the snippet\n",
    "**Visual Studio** -> **Tools** -> **Code Snippets Manager** -> **Import:** `cout.snippet` -> **OK**"
   ]
  },
  {
   "cell_type": "markdown",
   "id": "a351cc8e",
   "metadata": {},
   "source": [
    "## 2.4 [**Step 4**] Test It\n",
    "In editor:\n",
    "\n",
    "- Type `cout`\n",
    "- Hit `tab`\n",
    "- It should output: `std::cout << ;`\n",
    "\n",
    "If you have a problem, ask AI.\n"
   ]
  },
  {
   "cell_type": "markdown",
   "id": "447802f2",
   "metadata": {},
   "source": [
    "## 2.5 [**Step 5**] Calculate Profit [Optional]\n",
    "All those seconds save, over a life-time: \n",
    "\n",
    "- Tell all your friends and family and\n",
    "- Pets \n",
    "    - In fact, force your pets to watch you use the snippet.\n"
   ]
  }
 ],
 "metadata": {
  "kernelspec": {
   "display_name": "blog",
   "language": "python",
   "name": "python3"
  },
  "language_info": {
   "codemirror_mode": {
    "name": "ipython",
    "version": 3
   },
   "file_extension": ".py",
   "mimetype": "text/x-python",
   "name": "python",
   "nbconvert_exporter": "python",
   "pygments_lexer": "ipython3",
   "version": "3.13.1"
  }
 },
 "nbformat": 4,
 "nbformat_minor": 5
}
