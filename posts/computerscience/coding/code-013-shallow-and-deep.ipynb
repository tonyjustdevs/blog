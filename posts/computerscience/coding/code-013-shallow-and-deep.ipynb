{
 "cells": [
  {
   "cell_type": "raw",
   "metadata": {
    "vscode": {
     "languageId": "raw"
    }
   },
   "source": [
    "---\n",
    "title: \"Code 13: Shallow or Deep?\"\n",
    "author: \"Tony Phung\"\n",
    "date: \"2024-10-22\"\n",
    "categories: [coding, python]\n",
    "image: \"imgs/13copycat.jpg\"\n",
    "toc: true\n",
    "description: \"Learning to copy the right way\"\n",
    "---"
   ]
  },
  {
   "cell_type": "markdown",
   "metadata": {},
   "source": [
    "![](imgs/13copycat.jpg)"
   ]
  },
  {
   "cell_type": "markdown",
   "metadata": {},
   "source": [
    "# 1. Methods: 3 Flavours \n",
    "\n",
    "This post will through 3 different methods to copy a list and see the differences.\n",
    "\n",
    "## 1.1 Assignment:\n",
    "- Code: `=`\n",
    "- Creates a new variable name, not a new object.\n",
    "- New varaible name references for the same original object.\n",
    "\n",
    "## 1.2 Shallow Copy: \n",
    "- Code: `copy.copy()` \n",
    "- Creates a new **top level** object\n",
    "- Maintains original references (i.e. not new copies) of same objects\n",
    "\n",
    "## 1.3 Deep Copy: \n",
    "- Code: `copy.deepcopy()`\n",
    "- Creates a new object\n",
    "- Creates new copies recursively of all inner objects"
   ]
  },
  {
   "cell_type": "markdown",
   "metadata": {},
   "source": [
    "# 2. Analysis\n",
    "High-level Steps:\n",
    "\n",
    "- 2.1 Create `Cat` Class and Object\n",
    "- 2.2 Create Cat List and append Cat Object `milo`\n",
    "- 2.3 Create Copies Cat List with Each Method\n",
    "- 2.4 Are each `milo` object new or copies of original `milo`?\n",
    "- 2.5 Update `milo` to `Milo`\n",
    "- 2.6 Results of `milo` the Different Methods\n"
   ]
  },
  {
   "cell_type": "markdown",
   "metadata": {},
   "source": [
    "## 2.1 Create Cat Class and Object"
   ]
  },
  {
   "cell_type": "code",
   "execution_count": 52,
   "metadata": {},
   "outputs": [
    {
     "name": "stdout",
     "output_type": "stream",
     "text": [
      "id: [140517113061744]\n"
     ]
    }
   ],
   "source": [
    "class Cat():\n",
    "    def __init__(self, name: str):\n",
    "        self.name = name\n",
    "        \n",
    "    def __repr__(self) -> str:\n",
    "        return self.name\n",
    "\n",
    "Milo_obj = Cat(name=\"milo\")\n",
    "print(f\"id: [{id(Milo_obj)}]\")"
   ]
  },
  {
   "cell_type": "markdown",
   "metadata": {},
   "source": [
    "## 2.2 Create Cat List and append Cat Object `milo`"
   ]
  },
  {
   "cell_type": "code",
   "execution_count": 53,
   "metadata": {},
   "outputs": [
    {
     "data": {
      "text/plain": [
       "['Oreo', 'Lilo', 'Wasabi', milo]"
      ]
     },
     "execution_count": 53,
     "metadata": {},
     "output_type": "execute_result"
    }
   ],
   "source": [
    "import copy\n",
    "listcats = ['Oreo','Lilo','Wasabi',Milo_obj]\n",
    "listcats"
   ]
  },
  {
   "cell_type": "markdown",
   "metadata": {},
   "source": [
    "## 2.3 Create Copies of Cat List with Each Method\n",
    "Assignment `=` results: \n",
    "\n",
    "- Gives a reference back to same origin object (same id:140517134247168)\n",
    "\n",
    "Others results (`.copy`, `.deepcopy`, `:`):\n",
    "\n",
    "- create a new (top-level) object (difference ids):\n",
    "    - **Note**: Only compared ids of outer layer list objects. We need to see the individual items within the list (next section)."
   ]
  },
  {
   "cell_type": "code",
   "execution_count": 54,
   "metadata": {},
   "outputs": [
    {
     "name": "stdout",
     "output_type": "stream",
     "text": [
      "[id:140517134247168] listcats_og: ['Oreo', 'Lilo', 'Wasabi', milo]\n",
      "[id:140517134247168] listcats_cpy_assn: ['Oreo', 'Lilo', 'Wasabi', milo]\n",
      "[id:140517124516096] listcats_cpy_shallow: ['Oreo', 'Lilo', 'Wasabi', milo]\n",
      "[id:140517110270272] listcats_cpy_deep: ['Oreo', 'Lilo', 'Wasabi', milo]\n",
      "[id:140517124392064] listcats_cpy_slice: ['Oreo', 'Lilo', 'Wasabi', milo]\n"
     ]
    }
   ],
   "source": [
    "listcats_copy_assn      = listcats               \n",
    "listcats_copy_shallow   = copy.copy(listcats)    \n",
    "listcats_copy_deep      = copy.deepcopy(listcats)\n",
    "listcats_copy_slice     = listcats[:]            \n",
    "print(f\"[id:{id(listcats)}] listcats_og: {listcats}\")                       \n",
    "print(f\"[id:{id(listcats_copy_assn)}] listcats_cpy_assn: {listcats_copy_assn}\")       \n",
    "print(f\"[id:{id(listcats_copy_shallow)}] listcats_cpy_shallow: {listcats_copy_shallow}\") \n",
    "print(f\"[id:{id(listcats_copy_deep)}] listcats_cpy_deep: {listcats_copy_deep}\")      \n",
    "print(f\"[id:{id(listcats_copy_slice)}] listcats_cpy_slice: {listcats_copy_slice}\")"
   ]
  },
  {
   "cell_type": "markdown",
   "metadata": {},
   "source": [
    "## 2.4 Are each `milo` object new or copies of original?\n",
    "Shallow copies keeps the same references:\n",
    "\n",
    "- All copy methods (except deepcopy()) have the same milo object as original `id: [140517113061744]`\n",
    "\n",
    "Deep copies creates new objects: creates new id's\n"
   ]
  },
  {
   "cell_type": "code",
   "execution_count": 55,
   "metadata": {},
   "outputs": [
    {
     "name": "stdout",
     "output_type": "stream",
     "text": [
      "[140517113061744]-[milo id] of [listcats_og]: milo\n",
      "[140517113061744]-[milo id] of [listcats_cpy_assn]: milo\n",
      "[140517113061744]-[milo id] of [listcats_cpy_shallow]: milo\n",
      "[140517115254800]-[milo id] of [listcats_cpy_deep]: milo\n",
      "[140517113061744]-[milo id] of [listcats_cpy_slice]: milo\n"
     ]
    }
   ],
   "source": [
    "print(f\"[{id(listcats[3])}]-[milo id] of [listcats_og]: {listcats[3]}\")                       \n",
    "print(f\"[{id(listcats_copy_assn[3])}]-[milo id] of [listcats_cpy_assn]: {listcats_copy_assn[3]}\")       \n",
    "print(f\"[{id(listcats_copy_shallow[3])}]-[milo id] of [listcats_cpy_shallow]: {listcats_copy_shallow[3]}\") \n",
    "print(f\"[{id(listcats_copy_deep[3])}]-[milo id] of [listcats_cpy_deep]: {listcats_copy_deep[3]}\")      \n",
    "print(f\"[{id(listcats_copy_slice[3])}]-[milo id] of [listcats_cpy_slice]: {listcats_copy_slice[3]}\")    \n"
   ]
  },
  {
   "cell_type": "markdown",
   "metadata": {},
   "source": [
    "## 2.5 Update `milo` to `Milo`"
   ]
  },
  {
   "cell_type": "code",
   "execution_count": 58,
   "metadata": {},
   "outputs": [
    {
     "data": {
      "text/plain": [
       "Milo"
      ]
     },
     "execution_count": 58,
     "metadata": {},
     "output_type": "execute_result"
    }
   ],
   "source": [
    "Milo_obj.name=\"Milo\"\n",
    "Milo_obj"
   ]
  },
  {
   "cell_type": "markdown",
   "metadata": {},
   "source": [
    "## 2.6 Results of `milo` the Different Methods\n",
    "As expected:  \n",
    "\n",
    "- The deepcopy list `milo` has not updated (since its a new object, i.e. new object `id: 140517115254800`)\n",
    "- All other methods do update original `milo` since references are maintained, rather than creating new objects (i.e. same object `id: 140517113061744`)"
   ]
  },
  {
   "cell_type": "code",
   "execution_count": 59,
   "metadata": {},
   "outputs": [
    {
     "name": "stdout",
     "output_type": "stream",
     "text": [
      "[140517113061744]-[milo id] of [listcats_og]: Milo\n",
      "[140517113061744]-[milo id] of [listcats_cpy_assn]: Milo\n",
      "[140517113061744]-[milo id] of [listcats_cpy_shallow]: Milo\n",
      "[140517115254800]-[milo id] of [listcats_cpy_deep]: milo\n",
      "[140517113061744]-[milo id] of [listcats_cpy_slice]: Milo\n"
     ]
    }
   ],
   "source": [
    "print(f\"[{id(listcats[3])}]-[milo id] of [listcats_og]: {listcats[3]}\")                       \n",
    "print(f\"[{id(listcats_copy_assn[3])}]-[milo id] of [listcats_cpy_assn]: {listcats_copy_assn[3]}\")       \n",
    "print(f\"[{id(listcats_copy_shallow[3])}]-[milo id] of [listcats_cpy_shallow]: {listcats_copy_shallow[3]}\") \n",
    "print(f\"[{id(listcats_copy_deep[3])}]-[milo id] of [listcats_cpy_deep]: {listcats_copy_deep[3]}\")      \n",
    "print(f\"[{id(listcats_copy_slice[3])}]-[milo id] of [listcats_cpy_slice]: {listcats_copy_slice[3]}\")    \n"
   ]
  }
 ],
 "metadata": {
  "kernelspec": {
   "display_name": "blog-T-2huGx2",
   "language": "python",
   "name": "python3"
  },
  "language_info": {
   "codemirror_mode": {
    "name": "ipython",
    "version": 3
   },
   "file_extension": ".py",
   "mimetype": "text/x-python",
   "name": "python",
   "nbconvert_exporter": "python",
   "pygments_lexer": "ipython3",
   "version": "3.10.12"
  }
 },
 "nbformat": 4,
 "nbformat_minor": 2
}
