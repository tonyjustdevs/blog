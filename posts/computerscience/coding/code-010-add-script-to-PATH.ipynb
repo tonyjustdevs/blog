{
 "cells": [
  {
   "cell_type": "raw",
   "metadata": {
    "vscode": {
     "languageId": "raw"
    }
   },
   "source": [
    "---\n",
    "title: \"Code 10: Add a script to PATH\"\n",
    "author: \"Tony Phung\"\n",
    "date: \"2024-09-21\"\n",
    "categories: [coding, linux]\n",
    "image: \"imgs/10bash_scripting.jpg\"\n",
    "toc: true\n",
    "description: \"Run a script without specifying its path\"\n",
    "---"
   ]
  },
  {
   "cell_type": "markdown",
   "metadata": {},
   "source": [
    "![](imgs/10bash_scripting.jpg)"
   ]
  },
  {
   "cell_type": "markdown",
   "metadata": {
    "vscode": {
     "languageId": "raw"
    }
   },
   "source": [
    "# 1. Create Bash Script \n",
    "Put all the `bash code` below into a new bash script (e.g. `do_symlinks.sh`)"
   ]
  },
  {
   "cell_type": "code",
   "execution_count": null,
   "metadata": {
    "vscode": {
     "languageId": "shellscript"
    }
   },
   "outputs": [],
   "source": [
    "#!/bin/bash\n",
    "\n",
    "# Check if a prefix is supplied\n",
    "if [ -z \"$1\" ]; then\n",
    "          echo \"Usage: $0 <prefix>\"\n",
    "            exit 1\n",
    "fi\n",
    "\n",
    "# Define the source directory and the prefix\n",
    "SOURCE_DIR=~/og_files\n",
    "PREFIX=$1\n",
    "\n",
    "# Loop through files with the specified prefix and create symlinks\n",
    "for file in \"$SOURCE_DIR\"/\"$PREFIX\"*; do\n",
    "        if [[ $(basename \"$file\") != \"$PREFIX\"d* ]]; then\n",
    "                ln -s \"$file\" .\n",
    "                echo \"Created symlink for $(basename \"$file\")\"\n",
    "        fi\n",
    "done"
   ]
  },
  {
   "cell_type": "markdown",
   "metadata": {
    "vscode": {
     "languageId": "shellscript"
    }
   },
   "source": [
    "# 2. Copy or Move `/usr/local/bin` and Source `.bashrc`"
   ]
  },
  {
   "cell_type": "code",
   "execution_count": null,
   "metadata": {
    "vscode": {
     "languageId": "shellscript"
    }
   },
   "outputs": [],
   "source": [
    "sudo cp do_symlinks.sh /usr/local/bin/do_symlinks && . ~/.bashrc"
   ]
  },
  {
   "cell_type": "markdown",
   "metadata": {},
   "source": [
    "# 3. Create and change directory into `test1` folder "
   ]
  },
  {
   "cell_type": "code",
   "execution_count": null,
   "metadata": {
    "vscode": {
     "languageId": "shellscript"
    }
   },
   "outputs": [],
   "source": [
    "mkdir test1 && cd test1"
   ]
  },
  {
   "cell_type": "markdown",
   "metadata": {},
   "source": [
    "# 4. Run `do_symlinks tony_` "
   ]
  },
  {
   "cell_type": "code",
   "execution_count": null,
   "metadata": {
    "vscode": {
     "languageId": "shellscript"
    }
   },
   "outputs": [],
   "source": [
    "do_symlinks tony_"
   ]
  },
  {
   "cell_type": "markdown",
   "metadata": {
    "vscode": {
     "languageId": "shellscript"
    }
   },
   "source": [
    "# 5. Confirm results `ll`"
   ]
  },
  {
   "cell_type": "code",
   "execution_count": null,
   "metadata": {
    "vscode": {
     "languageId": "shellscript"
    }
   },
   "outputs": [],
   "source": [
    "ll"
   ]
  },
  {
   "cell_type": "markdown",
   "metadata": {
    "vscode": {
     "languageId": "shellscript"
    }
   },
   "source": [
    "# 6. Terminal Code"
   ]
  },
  {
   "cell_type": "code",
   "execution_count": null,
   "metadata": {
    "vscode": {
     "languageId": "shellscript"
    }
   },
   "outputs": [],
   "source": [
    "sudo cp do_symlinks.sh /usr/local/bin/do_symlinks && . ~/.bashrc\n",
    "mkdir test1 && cd test1\n",
    "do_symlinks tony_\n",
    "ll"
   ]
  },
  {
   "cell_type": "markdown",
   "metadata": {},
   "source": [
    "# 7. Screenshots of Code"
   ]
  },
  {
   "cell_type": "markdown",
   "metadata": {},
   "source": [
    "![](imgs/10any_symlink1.jpg)"
   ]
  },
  {
   "cell_type": "markdown",
   "metadata": {},
   "source": [
    "![](imgs/10any_symlink2.jpg)"
   ]
  }
 ],
 "metadata": {
  "kernelspec": {
   "display_name": "fastai",
   "language": "python",
   "name": "python3"
  },
  "language_info": {
   "codemirror_mode": {
    "name": "ipython",
    "version": 3
   },
   "file_extension": ".py",
   "mimetype": "text/x-python",
   "name": "python",
   "nbconvert_exporter": "python",
   "pygments_lexer": "ipython3",
   "version": "3.10.12"
  }
 },
 "nbformat": 4,
 "nbformat_minor": 2
}
