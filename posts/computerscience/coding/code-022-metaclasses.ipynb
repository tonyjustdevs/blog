{
 "cells": [
  {
   "cell_type": "raw",
   "metadata": {
    "vscode": {
     "languageId": "raw"
    }
   },
   "source": [
    "---\n",
    "title: \"Code 22: Python Metaclasses - Customising Class Creation\"\n",
    "author: \"Tony Phung\"\n",
    "date: \"2024-12-31\"\n",
    "categories: [coding, python]\n",
    "image: \"imgs/26meta.jpg\"\n",
    "toc: true\n",
    "description: \"Being very meta\"\n",
    "---"
   ]
  },
  {
   "cell_type": "markdown",
   "metadata": {},
   "source": [
    "![](imgs/26meta.jpg)"
   ]
  },
  {
   "cell_type": "markdown",
   "metadata": {},
   "source": [
    "# 1. `bases` and `dcts` arguments are empty"
   ]
  },
  {
   "cell_type": "code",
   "execution_count": 1,
   "metadata": {},
   "outputs": [
    {
     "name": "stdout",
     "output_type": "stream",
     "text": [
      "TonyDynCls1Empty\n",
      "<class '__main__.TonyDynCls1Empty'>\n",
      "type\n",
      "<class 'object'>\n",
      "(<class 'object'>,)\n",
      "<class 'object'>\n",
      "(<class 'object'>,)\n"
     ]
    }
   ],
   "source": [
    "TonyDynCls1Empty = type(\"TonyDynCls1Empty\",(),{})\n",
    "print(TonyDynCls1Empty.__name__)\n",
    "print(TonyDynCls1Empty)\n",
    "print(TonyDynCls1Empty.__class__.__name__)\n",
    "print(TonyDynCls1Empty.__base__)\n",
    "print(TonyDynCls1Empty.__bases__)\n",
    "print(TonyDynCls1Empty.__class__.__base__)\n",
    "print(TonyDynCls1Empty.__class__.__bases__)\n"
   ]
  },
  {
   "cell_type": "code",
   "execution_count": 2,
   "metadata": {},
   "outputs": [],
   "source": [
    "class Foo:\n",
    "    pass\n",
    "\n"
   ]
  },
  {
   "cell_type": "markdown",
   "metadata": {},
   "source": [
    "# 2. `bases: (cls1,cls2)` and `dcts: {attr_1: ...}`\n",
    "Two inherited classes and 1 instance attribute"
   ]
  },
  {
   "cell_type": "code",
   "execution_count": 12,
   "metadata": {},
   "outputs": [
    {
     "name": "stdout",
     "output_type": "stream",
     "text": [
      "TonyDynCls2\n",
      "<class '__main__.TonyDynCls2'>\n",
      "type\n",
      "\n",
      "type\n",
      "<class '__main__.TonyDynCls1Empty'>\n",
      "(<class '__main__.TonyDynCls1Empty'>, <class '__main__.Foo'>)\n",
      "\n",
      "<class 'object'>\n",
      "(<class 'object'>,)\n",
      "\n",
      "222\n"
     ]
    }
   ],
   "source": [
    "TonyDynCls2 = type(\"TonyDynCls2\",\n",
    "                         (TonyDynCls1Empty,Foo), # existing cls\n",
    "                         {'attr_1':'222'}\n",
    "                         )\n",
    "print(TonyDynCls2.__name__)\n",
    "print(TonyDynCls2)\n",
    "print(TonyDynCls2.__class__.__name__)\n",
    "print()\n",
    "print(TonyDynCls2.__class__.__name__)\n",
    "print(TonyDynCls2.__base__)\n",
    "print(TonyDynCls2.__bases__)\n",
    "print()\n",
    "print(TonyDynCls2.__class__.__base__)\n",
    "print(TonyDynCls2.__class__.__bases__)\n",
    "print()\n",
    "print(TonyDynCls2.attr_1)"
   ]
  },
  {
   "cell_type": "markdown",
   "metadata": {},
   "source": [
    "# 3. Class Attribute and Lambda Instance Method"
   ]
  },
  {
   "cell_type": "code",
   "execution_count": 13,
   "metadata": {},
   "outputs": [
    {
     "name": "stdout",
     "output_type": "stream",
     "text": [
      "TonyDynCls3\n",
      "<class '__main__.TonyDynCls3'>\n",
      "type\n",
      "\n",
      "333\n",
      "333\n"
     ]
    }
   ],
   "source": [
    "TonyDynCls3 = type(\"TonyDynCls3\",\n",
    "                         (), # existing cls\n",
    "                         {'attr_1':\"333\", \n",
    "                          'get_attr_1': lambda self: self.attr_1}\n",
    "                         )\n",
    "print(TonyDynCls3.__name__)\n",
    "print(TonyDynCls3)\n",
    "print(TonyDynCls3.__class__.__name__)\n",
    "print()\n",
    "print(TonyDynCls3.attr_1) # class attribute\n",
    "\n",
    "tony_dc3_instance = TonyDynCls3()\n",
    "print(tony_dc3_instance.get_attr_1()) # class attribute\n",
    "\n",
    "\n",
    "\n"
   ]
  },
  {
   "cell_type": "markdown",
   "metadata": {},
   "source": [
    "# 4. Class Attribute and Custom Instance Method"
   ]
  },
  {
   "cell_type": "code",
   "execution_count": 14,
   "metadata": {},
   "outputs": [
    {
     "name": "stdout",
     "output_type": "stream",
     "text": [
      "444\n",
      "444\n"
     ]
    }
   ],
   "source": [
    "def some_method(self):\n",
    "    return self.attr\n",
    "TonyDynCls4 = type(\"TonyDynCls4\", (), {'attr': 444,\n",
    "                                       'get_attr': some_method})\n",
    "\n",
    "tony_dc4_instance = TonyDynCls4()\n",
    "print(tony_dc4_instance.attr)\n",
    "print(tony_dc4_instance.get_attr())"
   ]
  },
  {
   "cell_type": "markdown",
   "metadata": {},
   "source": [
    "# 5. Customising Instance Creation"
   ]
  },
  {
   "cell_type": "code",
   "execution_count": 15,
   "metadata": {},
   "outputs": [
    {
     "data": {
      "text/plain": [
       "'555'"
      ]
     },
     "execution_count": 15,
     "metadata": {},
     "output_type": "execute_result"
    }
   ],
   "source": [
    "class Foo:\n",
    "    pass\n",
    "\n",
    "    def __new__(cls):\n",
    "        x = object.__new__(cls)\n",
    "        x._secret_attr = \"555\"\n",
    "        return x\n",
    "    \n",
    "a_foo = Foo() \n",
    "a_foo._secret_attr"
   ]
  },
  {
   "cell_type": "markdown",
   "metadata": {},
   "source": [
    "### Note-to-self: psuedo-code steps\n",
    "- 1. by calling `type()` -> python sees `()`, looks for `type.__call__()`\n",
    "- 2. note `type.__call__()` <-------> `type()`\n",
    "- 3. or `type.__call__(*args, **kwds)` <-------> `type(*args, **kwds)`\n",
    "- 4. inside `type.__call__(*args, **kwds)`\n",
    "- 5. `type.__new__(cls, *args, **kwds)`\n",
    "- 6. returns `x`\n",
    "- 7. `type.__init__(x, *args, **kwds)`\n",
    "- 8. returns `x`\n"
   ]
  },
  {
   "cell_type": "markdown",
   "metadata": {},
   "source": [
    "# 6. Customising Class Creation"
   ]
  },
  {
   "cell_type": "code",
   "execution_count": 7,
   "metadata": {},
   "outputs": [],
   "source": [
    "class TonyMetaClass(type):\n",
    "    pass\n",
    "\n",
    "    def __new__(cls, name, bases, dcts):\n",
    "        x = super().__new__(cls, name, bases, dcts)\n",
    "        \n",
    "        # calls parents type.__new__()\n",
    "        # which is usally called when you instantiate any class\n",
    "        # e.g Foo()\n",
    "        # 1. () -> python looks for __call__()\n",
    "        # 2. find parents `type.__call__()`\n",
    "        # 3. inside has __new__() and __init__()\n",
    "        # 4. python will look for __new__() in our cls\n",
    "        # 5. if cant find, it uses type.__new__()\n",
    "        # 6. by defining __new__(): we can add custom behaviour\n",
    "        # 7. super().__new__(cls, name,bases, dcts) is the same\n",
    "        #    as type.__new__(...), or we are doing nothing new here\n",
    "        # 8. then we add custom beaviour x._secret_attr = ...\n",
    "        x._secret_attr = \"gday mate\"\n",
    "        \n",
    "        # 9. return object (as would default type.__new__())\n",
    "        return x\n",
    "    \n",
    "class FooFoo(metaclass=TonyMetaClass):\n",
    "    pass\n",
    "foofoo = FooFoo()\n"
   ]
  },
  {
   "cell_type": "code",
   "execution_count": 8,
   "metadata": {},
   "outputs": [
    {
     "data": {
      "text/plain": [
       "'gday mate'"
      ]
     },
     "execution_count": 8,
     "metadata": {},
     "output_type": "execute_result"
    }
   ],
   "source": [
    "foofoo._secret_attr"
   ]
  },
  {
   "cell_type": "markdown",
   "metadata": {},
   "source": [
    "# 7. Simple Object Factory"
   ]
  },
  {
   "cell_type": "code",
   "execution_count": 16,
   "metadata": {},
   "outputs": [
    {
     "name": "stdout",
     "output_type": "stream",
     "text": [
      "777 777 777\n"
     ]
    }
   ],
   "source": [
    "class FooObjectFactory():\n",
    "    def __init__(self):\n",
    "        self.attr = 777\n",
    "a = FooObjectFactory()        \n",
    "b = FooObjectFactory()        \n",
    "c = FooObjectFactory()        \n",
    "print(a.attr, b.attr, c.attr) # each instance has initialised instance attr"
   ]
  },
  {
   "cell_type": "markdown",
   "metadata": {},
   "source": [
    "# 8. Simple Class Factory\n"
   ]
  },
  {
   "cell_type": "code",
   "execution_count": 19,
   "metadata": {},
   "outputs": [
    {
     "name": "stdout",
     "output_type": "stream",
     "text": [
      "['888'] ['888'] ['888']\n"
     ]
    }
   ],
   "source": [
    "class MetaFooClsFactory(type):\n",
    "    def __new__(cls, name, bases, dcts): # <metaclass> type.__new__() creates the class\n",
    "        x = super().__new__(cls, name, bases, dcts) \n",
    "        x._attr = [\"888\"] # x, the class itself, an instance type, has class._attr\n",
    "        return x # return the x instance (the class)\n",
    "\n",
    "class AFooCls(metaclass = MetaFooClsFactory):\n",
    "    pass\n",
    "class BFooCls(metaclass = MetaFooClsFactory):\n",
    "    pass\n",
    "class CFooCls(metaclass = MetaFooClsFactory):\n",
    "    pass\n",
    "print(AFooCls._attr, BFooCls._attr, CFooCls._attr) # each cls has initialised cls attr"
   ]
  },
  {
   "cell_type": "markdown",
   "metadata": {},
   "source": [
    "# 9. Simple Inheritance"
   ]
  },
  {
   "cell_type": "code",
   "execution_count": 21,
   "metadata": {},
   "outputs": [
    {
     "name": "stdout",
     "output_type": "stream",
     "text": [
      "999 999 999\n"
     ]
    }
   ],
   "source": [
    "class Baz():\n",
    "    cls_attr = '999'\n",
    "\n",
    "class ABaz(Baz):\n",
    "    pass\n",
    "class BBaz(Baz):\n",
    "    pass\n",
    "class CBaz(Baz):\n",
    "    pass\n",
    "\n",
    "print(ABaz.cls_attr, BBaz.cls_attr, CBaz.cls_attr)"
   ]
  },
  {
   "cell_type": "markdown",
   "metadata": {},
   "source": [
    "# 10. Simple Decorator"
   ]
  },
  {
   "cell_type": "code",
   "execution_count": 22,
   "metadata": {},
   "outputs": [
    {
     "name": "stdout",
     "output_type": "stream",
     "text": [
      "10 10 10\n"
     ]
    }
   ],
   "source": [
    "def tony_decorator(cls):\n",
    "    class DecoratedClass(cls):\n",
    "        cls_attr = \"10\"\n",
    "    return DecoratedClass\n",
    "\n",
    "@tony_decorator\n",
    "class QuxA:\n",
    "    pass\n",
    "@tony_decorator\n",
    "class QuxB:\n",
    "    pass\n",
    "@tony_decorator\n",
    "class QuxC:\n",
    "    pass\n",
    "\n",
    "print(QuxA.cls_attr, QuxB.cls_attr, QuxC.cls_attr)"
   ]
  }
 ],
 "metadata": {
  "kernelspec": {
   "display_name": "blog-T-2huGx2",
   "language": "python",
   "name": "python3"
  },
  "language_info": {
   "codemirror_mode": {
    "name": "ipython",
    "version": 3
   },
   "file_extension": ".py",
   "mimetype": "text/x-python",
   "name": "python",
   "nbconvert_exporter": "python",
   "pygments_lexer": "ipython3",
   "version": "3.10.12"
  }
 },
 "nbformat": 4,
 "nbformat_minor": 2
}
