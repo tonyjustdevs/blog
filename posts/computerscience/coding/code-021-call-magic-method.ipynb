{
 "cells": [
  {
   "cell_type": "raw",
   "metadata": {
    "vscode": {
     "languageId": "raw"
    }
   },
   "source": [
    "---\n",
    "title: \"Code 21: Magic Method: `__call__`\"\n",
    "author: \"Tony Phung\"\n",
    "date: \"2024-12-30\"\n",
    "categories: [coding, python]\n",
    "image: \"imgs/25call.jpg\"\n",
    "toc: true\n",
    "description: \"Allowing instances to be called like functions\"\n",
    "---"
   ]
  },
  {
   "cell_type": "markdown",
   "metadata": {},
   "source": [
    "![](imgs/25call.jpg)"
   ]
  },
  {
   "cell_type": "markdown",
   "metadata": {},
   "source": [
    "# 1. Create `Tony_Counter` Class\n",
    "- Instance attribute `.counter` defaulted to zero.\n",
    "\n",
    "- Instance method `increment()` increases `.counter` attribute by 1\n",
    "\n",
    "- Magic Method `__call__()` calls instance method `increment()`:  \n",
    "\n",
    "- In other words, when an instance calls itself with `()`, the `instance.__call__()` will be called:\n",
    "    - In this case incrementing `.counter` by 1 each time."
   ]
  },
  {
   "cell_type": "code",
   "execution_count": 1,
   "metadata": {},
   "outputs": [],
   "source": [
    "class Tony_Counter():\n",
    "    def __init__(self):\n",
    "        self.counter: int = 0\n",
    "        \n",
    "    def increment(self):\n",
    "        self.counter += 1\n",
    "        \n",
    "    def __call__(self):\n",
    "        self.increment() "
   ]
  },
  {
   "cell_type": "code",
   "execution_count": 2,
   "metadata": {},
   "outputs": [
    {
     "name": "stdout",
     "output_type": "stream",
     "text": [
      "0\n"
     ]
    }
   ],
   "source": [
    "ctr = Tony_Counter()\n",
    "print(ctr.counter)"
   ]
  },
  {
   "cell_type": "code",
   "execution_count": 3,
   "metadata": {},
   "outputs": [
    {
     "name": "stdout",
     "output_type": "stream",
     "text": [
      "1\n"
     ]
    }
   ],
   "source": [
    "ctr.increment()\n",
    "print(ctr.counter)"
   ]
  },
  {
   "cell_type": "code",
   "execution_count": 4,
   "metadata": {},
   "outputs": [
    {
     "name": "stdout",
     "output_type": "stream",
     "text": [
      "2\n"
     ]
    }
   ],
   "source": [
    "ctr.increment()\n",
    "print(ctr.counter)"
   ]
  }
 ],
 "metadata": {
  "kernelspec": {
   "display_name": "blog-T-2huGx2",
   "language": "python",
   "name": "python3"
  },
  "language_info": {
   "codemirror_mode": {
    "name": "ipython",
    "version": 3
   },
   "file_extension": ".py",
   "mimetype": "text/x-python",
   "name": "python",
   "nbconvert_exporter": "python",
   "pygments_lexer": "ipython3",
   "version": "3.10.12"
  }
 },
 "nbformat": 4,
 "nbformat_minor": 2
}
