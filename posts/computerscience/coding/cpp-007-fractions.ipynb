{
 "cells": [
  {
   "cell_type": "raw",
   "id": "86195228",
   "metadata": {
    "vscode": {
     "languageId": "raw"
    }
   },
   "source": [
    "---\n",
    "title: \"Cpp 7: Fractions\" \n",
    "author: \"Tony Phung\"\n",
    "date: \"2025-09-13\"\n",
    "categories: [coding, cplusplus]\n",
    "image: \"imgs/cpp/007-fractions.png\"\n",
    "toc: true\n",
    "description: \"Calculate Fractions For Different Bases\"\n",
    "---"
   ]
  },
  {
   "cell_type": "markdown",
   "id": "d25969a8",
   "metadata": {},
   "source": [
    "![](imgs/cpp/007-fractions.png)"
   ]
  },
  {
   "cell_type": "markdown",
   "id": "b5c247f9",
   "metadata": {},
   "source": [
    "# 1. **Base $10$**, **Base $3$** ... \n",
    "In **Base $10$**, fractional \"building blocks\", denominators are **powers of $10$**:\n",
    "\n",
    "$$\\frac{1}{10}, \\frac{1}{100}, \\frac{1}{1000}... $$\n",
    "\n",
    "In **Base $3$**, similarly, denominators are **powers of $3$**:\n",
    "\n",
    "$$\\frac{1}{3}, \\frac{1}{9}, \\frac{1}{27}... $$\n",
    "\n"
   ]
  },
  {
   "cell_type": "markdown",
   "id": "01456dbd",
   "metadata": {},
   "source": [
    "# 2. What is $\\frac{1}{5}$ in **Base $10$**?\n",
    "In **base $10$**:\n",
    "\n",
    "$$\\frac{1}{5} = 0.d_1d_2d_3...$$\n",
    "equivalent to:\n",
    "$$\\frac{1}{5} = \\frac{d_1}{10^{1}}+\\frac{d_2}{10^{2}}+\\frac{d_3}{10^{3}}...$$\n",
    "$$\\frac{1}{5} = \\frac{d_1}{10}+\\frac{d_2}{100}+\\frac{d_3}{1000}...$$\n",
    "\n",
    "or The fraction $f$:\n",
    "\n",
    "$$f = \\frac{d_1}{10}+\\frac{d_2}{100}+\\frac{d_3}{1000}...$$\n",
    "\n"
   ]
  },
  {
   "cell_type": "markdown",
   "id": "a926c170",
   "metadata": {},
   "source": [
    "Find $d1, d2, d3...$\n",
    "\n",
    "Multiply by the **base $10$**:\n",
    "\n",
    "$$f = {d_1} +\\frac{d_2}{10}+\\frac{d_3}{100}...$$\n",
    "\n",
    "This is a new number:\n",
    "\n",
    "- with $d_1$ as the integer [number before decimal] \n",
    "- with $d_2d_3d_4...$ as the fractional components\n",
    "\n",
    "$$f = d_1.d_2d_3d_4...$$\n",
    "\n"
   ]
  },
  {
   "cell_type": "markdown",
   "id": "ae7e1f8f",
   "metadata": {},
   "source": [
    "Back to the example, $\\frac{1}{5}$ in **Base $10$**:\n",
    "\n",
    "$$\\frac{1}{5} = \\frac{d_1}{10}+\\frac{d_2}{100}+\\frac{d_3}{1000}+...$$"
   ]
  },
  {
   "cell_type": "markdown",
   "id": "df470c49",
   "metadata": {},
   "source": [
    "Multiple by base, or $10$:\n",
    "\n",
    "$$10\\times\\frac{1}{5} = 10\\times\\frac{d_1}{10}+10\\times\\frac{d_2}{100}+10\\times\\frac{d_3}{1000}+...$$\n"
   ]
  },
  {
   "cell_type": "markdown",
   "id": "f8979b22",
   "metadata": {},
   "source": [
    "$$2.0 = d_1+\\frac{d_2}{10}+\\frac{d_3}{100}+...$$"
   ]
  },
  {
   "cell_type": "markdown",
   "id": "a3c04835",
   "metadata": {},
   "source": [
    "Since d1, d2... are whole integers\n",
    "\n",
    "$$\\therefore 2.0 = \\frac{d_1}{10^{0}} =d_1$$\n",
    "$$0.0=\\frac{d_2}{10^{1}}+\\frac{d_3}{10^{2}}+...\\frac{d_n}{10^{n-1}}$$\n",
    "\n"
   ]
  },
  {
   "cell_type": "markdown",
   "id": "bafb49df",
   "metadata": {},
   "source": [
    "# 3. Python Script: Calculate $\\frac{1}{5}$ in base $2$"
   ]
  },
  {
   "cell_type": "code",
   "execution_count": null,
   "id": "4f8fc977",
   "metadata": {},
   "outputs": [
    {
     "name": "stdout",
     "output_type": "stream",
     "text": [
      "1 0.4\n",
      "2 0.8\n",
      "3 0.6000000000000001\n",
      "4 0.20000000000000018\n",
      "5 0.40000000000000036\n",
      "6 0.8000000000000007\n",
      "7 0.6000000000000014\n",
      "8 0.20000000000000284\n",
      "9 0.4000000000000057\n",
      "10 0.8000000000000114\n",
      "11 0.6000000000000227\n",
      "12 0.20000000000004547\n",
      "['0', '0', '1', '1', '0', '0', '1', '1', '0', '0', '1', '1']\n",
      "001100110011\n"
     ]
    }
   ],
   "source": [
    "base_2 = 2\n",
    "f = 1/5 # fraction\n",
    "fraction_result = []\n",
    "fraction_chr = \"\"\n",
    "for i in range(1,13):\n",
    "    f=f*2\n",
    "    if f>=1:\n",
    "        f-=1\n",
    "        fraction_result.append('1')  # list\n",
    "        fraction_chr+='1'            # string\n",
    "        next\n",
    "    else:\n",
    "        fraction_result.append('0')\n",
    "        fraction_chr+='0'\n",
    "    print(i, f)\n",
    "\n",
    "print(fraction_result)\n",
    "print(fraction_chr)"
   ]
  },
  {
   "cell_type": "markdown",
   "id": "82886048",
   "metadata": {},
   "source": [
    "# 4. Decimal Fractions\n",
    "In decimal, base $10$, decimal point is used:\n",
    "\n",
    "$$\n",
    "\\begin{array}{rcl}\n",
    "0.2   & = &  \\Bigg[2\\times\\frac{1}{10^{1}}\\Bigg] \\\\\n",
    "0.25  & = &  \\Bigg[2\\times\\frac{1}{10^{1}}\\Bigg] + \\Bigg[5\\times\\frac{1}{10^{2}}\\Bigg] \\\\\n",
    "0.123 & = &  \\Bigg[1\\times\\frac{1}{10^{1}}\\Bigg] + \\Bigg[2\\times\\frac{1}{10^{2}}\\Bigg]  + \\Bigg[3\\times\\frac{1}{10^{2}}\\Bigg]\\\\\n",
    "\\end{array}\n",
    "$$"
   ]
  },
  {
   "cell_type": "markdown",
   "id": "25e27698",
   "metadata": {},
   "source": [
    "# 5. Binary Fractions\n",
    "In binary, base $2$, binary point is used:\n",
    "$$\n",
    "0.d_1d_2d_3d_4 =  \n",
    "                      \\Bigg[\\frac{d_1}{2^{1}}\\Bigg] \n",
    "                    + \\Bigg[\\frac{d_2}{2^{2}}\\Bigg] \n",
    "                    + \\Bigg[\\frac{d_3}{2^{3}}\\Bigg] + ...$$"
   ]
  },
  {
   "cell_type": "markdown",
   "id": "4b4399c3",
   "metadata": {},
   "source": [
    "\n",
    "$$\\begin{array}{rcl} \n",
    "0.1     & = &   \\Bigg[1\\times\\frac{1}{2^{1}}\\Bigg] &&&&&&& = &   \\Bigg[0.500\\Bigg] \\\\\n",
    "                \\\\\n",
    "0.01    & = &   \\Bigg[0\\times\\frac{1}{2^{1}}\\Bigg] &+& \\Bigg[1\\times\\frac{1}{2^{2}}\\Bigg] \\\\\n",
    "        & = &   \\Bigg[0\\Bigg] &+& \\Bigg[0.25\\Bigg] &&&&&=& \\Bigg[0.2500\\Bigg] \\\\\n",
    "                \\\\\n",
    "0.11    & = &   \\Bigg[0\\times\\frac{1}{2^{1}}\\Bigg] &+& \\Bigg[1\\times\\frac{1}{2^{2}}\\Bigg] \\\\\n",
    "        & = &   \\Bigg[0.5\\Bigg] &+& \\Bigg[0.25\\Bigg]&&&&&=& \\Bigg[0.7500\\Bigg] \\\\\n",
    "                \\\\\n",
    "0.001   & = &   \\Bigg[0\\times\\frac{1}{2^{1}}\\Bigg] &+& \\Bigg[0\\times\\frac{1}{2^{2}}\\Bigg] \n",
    "                &+& \\Bigg[1\\times\\frac{1}{2^{3}}\\Bigg] &=&\\Bigg[1\\times\\frac{1}{8}\\Bigg]    \n",
    "        % \\\\\n",
    "        % & = &   \\Bigg[0\\Bigg] &+& \\Bigg[0\\Bigg] \n",
    "        % &+& \\Bigg[0.125\\Bigg]\n",
    "        &=& \\Bigg[0.1250\\Bigg]    \\\\\n",
    "                \\\\\n",
    "0.011   & = &   \\Bigg[0\\times\\frac{1}{2^{1}}\\Bigg] &+& \\Bigg[1\\times\\frac{1}{2^{2}}\\Bigg] &+& \\Bigg[1\\times\\frac{1}{2^{3}}\\Bigg] \\\\\n",
    "        & = &   \\Bigg[0\\Bigg] &+& \\Bigg[1\\times\\frac{1}{4}\\Bigg] &+& \\Bigg[1\\times\\frac{1}{8}\\Bigg] \\\\\n",
    "        & = &   \\Bigg[0\\Bigg] &+& \\Bigg[0.25\\Bigg] &+& \\Bigg[0.125\\Bigg]&&&=& \\Bigg[0.3750\\Bigg]    \\\\\n",
    "                \\\\\n",
    "0.111   & = &   \\Bigg[1\\times\\frac{1}{2^{1}}\\Bigg] &+& \\Bigg[1\\times\\frac{1}{2^{2}}\\Bigg] &+& \\Bigg[1\\times\\frac{1}{2^{3}}\\Bigg] \\\\\n",
    "        & = &   \\Bigg[1\\times\\frac{1}{2}\\Bigg] &+& \\Bigg[1\\times\\frac{1}{4}\\Bigg] &+& \\Bigg[1\\times\\frac{1}{8}\\Bigg] \\\\\n",
    "        & = &   \\Bigg[0.5\\Bigg] &+& \\Bigg[0.25\\Bigg] &+& \\Bigg[0.125\\Bigg]&&&=& \\Bigg[0.875\\Bigg]    \\\\\n",
    "                \\\\\n",
    "0.1111  & = &   \\Bigg[0.875\\Bigg] &+& \\Bigg[1\\times\\frac{1}{16}\\Bigg] &=& \\Bigg[0.875\\Bigg]&+&\\Bigg[0.0625\\Bigg]&=&\\Bigg[0.9375\\Bigg]\n",
    "\\end{array}$$\n"
   ]
  }
 ],
 "metadata": {
  "kernelspec": {
   "display_name": ".venv",
   "language": "python",
   "name": "python3"
  },
  "language_info": {
   "codemirror_mode": {
    "name": "ipython",
    "version": 3
   },
   "file_extension": ".py",
   "mimetype": "text/x-python",
   "name": "python",
   "nbconvert_exporter": "python",
   "pygments_lexer": "ipython3",
   "version": "3.13.1"
  }
 },
 "nbformat": 4,
 "nbformat_minor": 5
}
