{
 "cells": [
  {
   "cell_type": "raw",
   "metadata": {
    "vscode": {
     "languageId": "raw"
    }
   },
   "source": [
    "---\n",
    "title: \"Code 11: Using Github API via Python\"\n",
    "author: \"Tony Phung\"\n",
    "date: \"2024-10-01\"\n",
    "categories: [github, api, python]\n",
    "image: \"imgs/11ghapi.jpg\"\n",
    "toc: true\n",
    "description: \"Learn to update an Issue Description with Github's API\"\n",
    "---"
   ]
  },
  {
   "cell_type": "markdown",
   "metadata": {
    "vscode": {
     "languageId": "raw"
    }
   },
   "source": [
    "![](imgs/11ghapi.jpg)"
   ]
  },
  {
   "cell_type": "markdown",
   "metadata": {},
   "source": [
    "# 1. Install and load libraries\n"
   ]
  },
  {
   "cell_type": "code",
   "execution_count": 1,
   "metadata": {
    "vscode": {
     "languageId": "shellscript"
    }
   },
   "outputs": [
    {
     "name": "stdout",
     "output_type": "stream",
     "text": [
      "Requirement already satisfied: python-dotenv in /home/tonydevs/.local/share/virtualenvs/og_files-6Eyjdxah/lib/python3.10/site-packages (1.0.1)\n",
      "Requirement already satisfied: requests in /home/tonydevs/.local/share/virtualenvs/og_files-6Eyjdxah/lib/python3.10/site-packages (2.32.3)\n",
      "Requirement already satisfied: charset-normalizer<4,>=2 in /home/tonydevs/.local/share/virtualenvs/og_files-6Eyjdxah/lib/python3.10/site-packages (from requests) (3.3.2)\n",
      "Requirement already satisfied: idna<4,>=2.5 in /home/tonydevs/.local/share/virtualenvs/og_files-6Eyjdxah/lib/python3.10/site-packages (from requests) (3.10)\n",
      "Requirement already satisfied: urllib3<3,>=1.21.1 in /home/tonydevs/.local/share/virtualenvs/og_files-6Eyjdxah/lib/python3.10/site-packages (from requests) (2.2.3)\n",
      "Requirement already satisfied: certifi>=2017.4.17 in /home/tonydevs/.local/share/virtualenvs/og_files-6Eyjdxah/lib/python3.10/site-packages (from requests) (2024.8.30)\n"
     ]
    }
   ],
   "source": [
    "!pip install python-dotenv\n",
    "!pip install requests"
   ]
  },
  {
   "cell_type": "code",
   "execution_count": 2,
   "metadata": {},
   "outputs": [],
   "source": [
    "import os, requests\n",
    "from dotenv import load_dotenv, find_dotenv"
   ]
  },
  {
   "cell_type": "markdown",
   "metadata": {
    "vscode": {
     "languageId": "shellscript"
    }
   },
   "source": [
    "# 2. Setup Github Personal Token\n",
    "- https://github.com/settings/tokens -> Developer Setings\n",
    "- Personal access tokens -> Tokens (classic)\n",
    "- Generate new token"
   ]
  },
  {
   "cell_type": "markdown",
   "metadata": {
    "vscode": {
     "languageId": "shellscript"
    }
   },
   "source": [
    "![](imgs/11ptoken.jpg)"
   ]
  },
  {
   "cell_type": "markdown",
   "metadata": {},
   "source": [
    "# 3. Create .env file and set token to parameter "
   ]
  },
  {
   "cell_type": "code",
   "execution_count": 3,
   "metadata": {},
   "outputs": [
    {
     "name": "stdout",
     "output_type": "stream",
     "text": [
      "Using .env file: /home/tonydevs/blog/.env\n"
     ]
    }
   ],
   "source": [
    "if find_dotenv():\n",
    "    print(f\"Using .env file: {find_dotenv()}\")\n",
    "    load_dotenv()\n",
    "else:\n",
    "    print(\"Error: .env not found, Place in cwd or use load_dotenv('/path/to/your/.env')\")"
   ]
  },
  {
   "cell_type": "markdown",
   "metadata": {},
   "source": [
    "![](imgs/11env.jpg)"
   ]
  },
  {
   "cell_type": "markdown",
   "metadata": {},
   "source": [
    "# 4. Use Github API\n",
    "## 4.1 Create Task List and Set List Action parameter"
   ]
  },
  {
   "cell_type": "code",
   "execution_count": 4,
   "metadata": {},
   "outputs": [],
   "source": [
    "# 1. Choose 'New' or 'Append' to current description:\n",
    "list_action_param = 'New'\n",
    "# list_action_param = 'Append'\n",
    "\n",
    "# 2. Enter list of tasks\n",
    "list_of_tasks = [\n",
    "  \"A very cool new task\",\n",
    "  \"Another mad chill new task\",\n",
    "  \"A final exquisite crazy new task\"\n",
    "]"
   ]
  },
  {
   "cell_type": "markdown",
   "metadata": {},
   "source": [
    "## 4.2 Set Github Configs\n"
   ]
  },
  {
   "cell_type": "code",
   "execution_count": 37,
   "metadata": {},
   "outputs": [],
   "source": [
    "# 3. Set Repo and Issue\n",
    "REPO_USER = \"tonyjustdevs\"\n",
    "REPO_TOPIC = \"blog\"\n",
    "ISSUE_NUMBER = 95\n",
    "\n",
    "# 4. Configs\n",
    "GITHUB_TOKEN = os.getenv(\"GITHUB_TOKEN\")\n",
    "REPO = f\"{REPO_USER}/{REPO_TOPIC}\"\n",
    "GITHUB_API_URL = f\"https://api.github.com/repos/{REPO}/issues\"\n",
    "HEADERS = {\n",
    "    \"Authorization\": f\"Bearer {GITHUB_TOKEN}\",\n",
    "    \"Accept\": \"application/vnd.github.v3+json\"\n",
    "}\n"
   ]
  },
  {
   "cell_type": "markdown",
   "metadata": {
    "vscode": {
     "languageId": "sql"
    }
   },
   "source": [
    "## 4.3 Check Response is OKAY (200)"
   ]
  },
  {
   "cell_type": "code",
   "execution_count": 41,
   "metadata": {},
   "outputs": [
    {
     "data": {
      "text/plain": [
       "<Response [200]>"
      ]
     },
     "execution_count": 41,
     "metadata": {},
     "output_type": "execute_result"
    }
   ],
   "source": [
    "issue_url = f\"{GITHUB_API_URL}/{ISSUE_NUMBER}\"\n",
    "response = requests.get(issue_url, headers=HEADERS) #200\n",
    "response"
   ]
  },
  {
   "cell_type": "markdown",
   "metadata": {},
   "source": [
    "## 4.4 Get and Check Current Description Data"
   ]
  },
  {
   "cell_type": "code",
   "execution_count": 53,
   "metadata": {},
   "outputs": [
    {
     "data": {
      "text/plain": [
       "'sample description'"
      ]
     },
     "execution_count": 53,
     "metadata": {},
     "output_type": "execute_result"
    }
   ],
   "source": [
    "issue_data = response.json()\n",
    "description = issue_data['body']\n",
    "description"
   ]
  },
  {
   "cell_type": "markdown",
   "metadata": {},
   "source": [
    "![](imgs/11sample.jpg)"
   ]
  },
  {
   "cell_type": "markdown",
   "metadata": {},
   "source": [
    "## 4.5 Prepare description string objects"
   ]
  },
  {
   "cell_type": "code",
   "execution_count": 54,
   "metadata": {},
   "outputs": [
    {
     "name": "stdout",
     "output_type": "stream",
     "text": [
      "List action parameter selected: 'New'\n",
      "New (empty) description created.\n"
     ]
    }
   ],
   "source": [
    "print(f\"List action parameter selected: '{list_action_param}'\")\n",
    "if description is not None and list_action_param==\"Append\": #\"New\" or \"Append\"\n",
    "  print(\"Description exists, no action required.\")\n",
    "else:\n",
    "  description= \"\"\n",
    "  print(\"New (empty) description created.\") "
   ]
  },
  {
   "cell_type": "markdown",
   "metadata": {},
   "source": [
    "## 4.6 Convert tasks to single string object  "
   ]
  },
  {
   "cell_type": "code",
   "execution_count": 55,
   "metadata": {},
   "outputs": [
    {
     "name": "stdout",
     "output_type": "stream",
     "text": [
      "'A very cool new task' appended.\n",
      "'Another mad chill new task' appended.\n",
      "'A final exquisite crazy new task' appended.\n"
     ]
    }
   ],
   "source": [
    "added_description_str = \"\"\n",
    "EOL_str = \"\\r\\n\"\n",
    "github_check_pointer_str = \"- [ ]\"\n",
    "for task in list_of_tasks:\n",
    "  added_description_str += f\"{github_check_pointer_str} {task}{EOL_str}\"\n",
    "  print(f\"'{task}' appended.\")"
   ]
  },
  {
   "cell_type": "code",
   "execution_count": 56,
   "metadata": {},
   "outputs": [
    {
     "data": {
      "text/plain": [
       "'- [ ] A very cool new task\\r\\n- [ ] Another mad chill new task\\r\\n- [ ] A final exquisite crazy new task\\r\\n'"
      ]
     },
     "execution_count": 56,
     "metadata": {},
     "output_type": "execute_result"
    }
   ],
   "source": [
    "added_description_str"
   ]
  },
  {
   "cell_type": "markdown",
   "metadata": {},
   "source": [
    "## 4.7 Append to current description"
   ]
  },
  {
   "cell_type": "code",
   "execution_count": 57,
   "metadata": {},
   "outputs": [],
   "source": [
    "description+=added_description_str"
   ]
  },
  {
   "cell_type": "code",
   "execution_count": 58,
   "metadata": {},
   "outputs": [],
   "source": [
    "end_description_str = \"description added via [tony_add_tasks.ipynb]\"\n",
    "description += f\"{EOL_str}{end_description_str}{EOL_str}\"\n"
   ]
  },
  {
   "cell_type": "code",
   "execution_count": 59,
   "metadata": {},
   "outputs": [
    {
     "name": "stdout",
     "output_type": "stream",
     "text": [
      "- [ ] A very cool new task\n",
      "- [ ] Another mad chill new task\n",
      "- [ ] A final exquisite crazy new task\n",
      "\n",
      "description added via [tony_add_tasks.ipynb]\n",
      "\n"
     ]
    }
   ],
   "source": [
    "print(description)"
   ]
  },
  {
   "cell_type": "markdown",
   "metadata": {},
   "source": [
    "## 4.7 Prepare description dictionary object to send to API\n"
   ]
  },
  {
   "cell_type": "code",
   "execution_count": 60,
   "metadata": {},
   "outputs": [],
   "source": [
    "update_data = {\n",
    "    \"body\": description\n",
    "}"
   ]
  },
  {
   "cell_type": "markdown",
   "metadata": {},
   "source": [
    "## 4.8 Update description object via API"
   ]
  },
  {
   "cell_type": "code",
   "execution_count": 61,
   "metadata": {},
   "outputs": [
    {
     "name": "stdout",
     "output_type": "stream",
     "text": [
      "Issue description updated successfully!\n"
     ]
    }
   ],
   "source": [
    "response = requests.patch(issue_url, headers=HEADERS, json=update_data)\n",
    "\n",
    "if response.status_code == 200:\n",
    "    print(\"Issue description updated successfully!\")\n",
    "else:\n",
    "    print(f\"Failed to update issue description: {response.status_code}, {response.text}\")\n"
   ]
  },
  {
   "cell_type": "markdown",
   "metadata": {},
   "source": [
    "![](imgs/11desc_done.jpg)"
   ]
  }
 ],
 "metadata": {
  "kernelspec": {
   "display_name": "og_files-6Eyjdxah",
   "language": "python",
   "name": "python3"
  },
  "language_info": {
   "codemirror_mode": {
    "name": "ipython",
    "version": 3
   },
   "file_extension": ".py",
   "mimetype": "text/x-python",
   "name": "python",
   "nbconvert_exporter": "python",
   "pygments_lexer": "ipython3",
   "version": "3.10.12"
  }
 },
 "nbformat": 4,
 "nbformat_minor": 2
}
