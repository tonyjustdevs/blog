{
 "cells": [
  {
   "cell_type": "raw",
   "metadata": {
    "vscode": {
     "languageId": "raw"
    }
   },
   "source": [
    "---\n",
    "title: \"Code 28: Python Project Packaging & Distribution\"\n",
    "author: \"Tony Phung\"\n",
    "date: \"2025-05-07\"\n",
    "categories: [python]\n",
    "image: \"imgs/code-028-packaging.png\"\n",
    "toc: true\n",
    "description: \"How to Package & Distribute a Python Project\"\n",
    "---"
   ]
  },
  {
   "cell_type": "markdown",
   "metadata": {
    "vscode": {
     "languageId": "raw"
    }
   },
   "source": [
    "![](imgs/code-028-packaging.png)"
   ]
  },
  {
   "cell_type": "markdown",
   "metadata": {},
   "source": [
    "# 0. Goals\n",
    "Final Product - A Python Project Packaged and Distributed to PiPY (Test): \n",
    "\n",
    "- https://test.pypi.org/project/example-package-tonyjustdevs/0.0.1/\n",
    "\n",
    "![](imgs/code-028-pipy-tonypkg.png)\n"
   ]
  },
  {
   "cell_type": "markdown",
   "metadata": {},
   "source": [
    "How to package a simple Python project:\n",
    "\n",
    "- how to add the necessary files and structure to create the package, \n",
    "- how to build the package, and \n",
    "- how to upload it to the Python Package Index (PyPI)."
   ]
  },
  {
   "cell_type": "markdown",
   "metadata": {
    "vscode": {
     "languageId": "plaintext"
    }
   },
   "source": [
    "Firstly, update pip:\n",
    "\n",
    "- `python3 -m pip install --upgrade pip`"
   ]
  },
  {
   "cell_type": "markdown",
   "metadata": {},
   "source": [
    "# 1. A Simple Project\n",
    "Project name: `example_package_YOUR_USERNAME_HERE`\n",
    "\n",
    "- If username is `me`, then `example_package_me`\n",
    "- or `example_package_tonyjustdevs`"
   ]
  },
  {
   "cell_type": "markdown",
   "metadata": {},
   "source": [
    "# 2. File Stucture\n",
    "Create the following file structure locally:\n",
    "\n",
    "    packaging_tutorial/\n",
    "    └── src/\n",
    "        └── example_package_YOUR_USERNAME_HERE/\n",
    "            ├── __init__.py\n",
    "            └── example.py\n",
    "\n",
    "or\n",
    "\n",
    "    packaging_tutorial/\n",
    "    └── src/\n",
    "        └── example_package_tonyjustdevs/\n",
    "            ├── __init__.py\n",
    "            └── example.py"
   ]
  },
  {
   "cell_type": "markdown",
   "metadata": {
    "vscode": {
     "languageId": "plaintext"
    }
   },
   "source": [
    "The directory of files be same as the project name in toml file \n",
    "\n",
    "Creating `__init__.py`:\n",
    "\n",
    "- allows users to import directory as a regular package\n",
    "\n",
    "`example.py` is a module: \n",
    "\n",
    "- **module** it may contain:\n",
    "- **logic** (functions, classes, constants, etc.) of package"
   ]
  },
  {
   "cell_type": "code",
   "execution_count": 2,
   "metadata": {},
   "outputs": [],
   "source": [
    "# example.py\n",
    "def add_one(number):\n",
    "    return number + 1"
   ]
  },
  {
   "cell_type": "markdown",
   "metadata": {},
   "source": [
    "# 3. Creating Package Files\n",
    "\n",
    "    packaging_tutorial/\n",
    "    ├── LICENSE\n",
    "    ├── pyproject.toml\n",
    "    ├── README.md\n",
    "    ├── src/\n",
    "    │   └── example_package_YOUR_USERNAME_HERE/\n",
    "    │       ├── __init__.py\n",
    "    │       └── example.py\n",
    "    └── tests/\n",
    "\n",
    "or\n",
    "\n",
    "    packaging_tutorial/\n",
    "    ├── LICENSE\n",
    "    ├── pyproject.toml\n",
    "    ├── README.md\n",
    "    ├── src/\n",
    "    │   └── example_package_tonyjustdevs/\n",
    "    │       ├── __init__.py\n",
    "    │       └── example.py\n",
    "    └── tests/\n",
    "\n"
   ]
  },
  {
   "cell_type": "markdown",
   "metadata": {},
   "source": [
    "# 4. Choosing a Build-Backend\n",
    "\n",
    "## 4.1 `pip` & `build` versus `build-backend`\n",
    "Convert sources into distribution packages:  \n",
    "\n",
    "- `build-backend` does\n",
    "- `pip` & `build` does not\n",
    "\n",
    "The `build-backend` determines:\n",
    "\n",
    "- Project configuration specifics\n",
    "    - metadata (name, tags etc on PyPI)\n",
    "    - input files. \n",
    "    \n",
    "- Different functionalities\n",
    "    - Single purpose tools or multi-purple tools\n",
    "    - Support building extension modules or not\n",
    "    - Command-line interfaces\n",
    "    - Project Initialisation\n",
    "    - Version Management\n",
    "    - Building, Uploading & Installing packages. "
   ]
  },
  {
   "cell_type": "markdown",
   "metadata": {},
   "source": [
    "## 4.2 Hatchling Example\n",
    "\n",
    "    [build-system]\n",
    "    requires = [\"hatchling >= 1.26\"]\n",
    "    build-backend = \"hatchling.build\"\n",
    "\n",
    "## 4.3 `requires` key is a:\n",
    "List of packages that are needed to **build** your package:\n",
    "\n",
    "- backend’s package, \n",
    "- other build-time dependencies. \n",
    "    - **build-time errors** if dependencies ommited here"
   ]
  },
  {
   "cell_type": "markdown",
   "metadata": {},
   "source": [
    "## 4.4 `build-frontend`\n",
    "The `build-frontend` (e.g. `pip`, `build`) automatically **install** list of packagies when building your package, is tool run by user\n",
    "\n",
    "**Input**:\n",
    "\n",
    "- **arbitrary source trees** or **source distributions**\n",
    "\n",
    "**Builds** in isolaated environments (typically):\n",
    "\n",
    "- **source distributions** or **wheels** from them. \n",
    "- actual building is delegated to each source tree's `build-backend`.\n",
    "\n"
   ]
  },
  {
   "cell_type": "markdown",
   "metadata": {},
   "source": [
    "## 4.5 `build-backend`\n",
    "The `build-backend` key is the:\n",
    "\n",
    "- name of Python object\n",
    "- frontends will use to perform the build.\n",
    "\n",
    "Values from:\n",
    "\n",
    "- build backend tool **documentation**, or \n",
    "- *generated* by its **command line interface**. \n",
    "- No need for Author to customize these settings.\n",
    "\n",
    "## 4.6 Additional Configurations of Build Tool \n",
    "- `tool` section of `pyproject.toml` or in a \n",
    "- **Special file** defined by the build tool. \n",
    "    - E.g. `setuptools` additional configuration added to:\n",
    "    - `setup.py` or `setup.cfg file`, and `specifying setuptools.build_meta` in your build allows the tools to locate and use these automatically."
   ]
  },
  {
   "cell_type": "markdown",
   "metadata": {},
   "source": [
    "# 5. Configuring Metadata\n",
    "\n",
    "    [project]\n",
    "        name = \"example_package_tonyjustdevs\"\n",
    "        version = \"0.0.1\"\n",
    "        authors = [\n",
    "            { name=\"Tony JustDevs\", email=\"tonyjustdevs@gmail.com\" },\n",
    "            ]\n",
    "        description = \"A small example package\"\n",
    "        readme = \"README.md\"\n",
    "        requires-python = \">=3.9\"\n",
    "        classifiers = [\n",
    "                \"Programming Language :: Python :: 3\",\n",
    "                \"Operating System :: OS Independent\",\n",
    "            ]\n",
    "        license = \"MIT\"\n",
    "        license-files = [\"LICEN[CS]E*\"]\n",
    "\n",
    "    [project.urls]\n",
    "        Homepage = \"https://github.com/pypa/sampleproject_tonyjustdevs\"\n",
    "        Issues = \"https://github.com/pypa/sampleproject_tonyjustdevs/issues\"\n"
   ]
  },
  {
   "cell_type": "markdown",
   "metadata": {},
   "source": [
    "# 6. Update README.md & `LICENSE`\n",
    "[README Reference](https://packaging.python.org/en/latest/tutorials/packaging-projects/#creating-readme-md)\n",
    "\n",
    "[LICENSE Reference](https://packaging.python.org/en/latest/tutorials/packaging-projects/#creating-a-license)"
   ]
  },
  {
   "cell_type": "markdown",
   "metadata": {},
   "source": [
    "# 7. Generating Distribution Archives\n",
    "These **archives** are:\n",
    "\n",
    "- uploaded to PyPI\n",
    "- installed by `pip`\n",
    "\n",
    "Update `build`:\n",
    "\n",
    "- `python3 -m pip install --upgrade build`\n",
    "\n",
    "Build command in `pyproject.toml` directory:\n",
    "\n",
    "- `python3 -m build`\n",
    "\n",
    "Sample Files Generated:\n",
    "\n",
    "        dist/\n",
    "        ├── example_package_YOUR_USERNAME_HERE-0.0.1-py3-none-any.whl\n",
    "        └── example_package_YOUR_USERNAME_HERE-0.0.1.tar.gz\n",
    "\n",
    "`tar.gz` file is a source distribution \n",
    "`.whl` file is a built distribution. \n",
    "\n",
    "**Recommended**:\n",
    "\n",
    "- Always upload a source distribution (`tar.gz`)\n",
    "- Provide built distributions (`.whl`) for the platforms project is compatible with. \n"
   ]
  },
  {
   "cell_type": "markdown",
   "metadata": {},
   "source": [
    "# 8. Upload to Distribution Archives\n",
    "\n",
    "Upgrade or Install `twine`:\n",
    "\n",
    "- `python3 -m pip install --upgrade twine`\n",
    "- `python3 -m pip install twine --user`\n",
    "\n",
    "Register Test PyPI:\n",
    "\n",
    "- https://test.pypi.org/account/register/\n",
    "\n",
    "PyPI API token:\n",
    "\n",
    "- https://test.pypi.org/manage/account/#api-tokens\n",
    "\n",
    "Use API token:\n",
    "\n",
    "- Create `$HOME/.pypirc` file like this: \n",
    "\n",
    "        [testpypi]\n",
    "        username = __token__\n",
    "        password = ACTUAL_API_TOKEN_FROM_TEST_PYPI\n",
    "\n",
    "Run `twine` command to upload archives under dist:\n",
    "\n",
    "- `python3 -m twine upload --repository testpypi dist/*`"
   ]
  },
  {
   "cell_type": "markdown",
   "metadata": {},
   "source": [
    "Update their CI configuration file (e.g. .travis.yml if you are using Travis). \n",
    "\n",
    "[Reference Link](https://test.pypi.org/help/#apitoken)\n",
    "\n",
    "Upgrade `twine`\n",
    "\n",
    "- `python3 -m pip install --upgrade twine`\n",
    "\n",
    "Run `Twine` to upload archives:\n",
    "\n",
    "- `python3 -m twine upload --repository testpypi dist/*`"
   ]
  },
  {
   "cell_type": "markdown",
   "metadata": {},
   "source": [
    "# 9. Installing your newly uploaded package\n",
    "\n",
    "Test Package Uploaded & Created in Test PyPI:\n",
    "\n",
    "- https://test.pypi.org/project/example-package-tonyjustdevs/0.0.1/\n",
    "\n",
    "Create venv and install:\n",
    "\n",
    "- `python3 -m venv .venv && source .venv/bin/activate`\n",
    "- `pip install -i https://test.pypi.org/simple/  --no-deps example-package-tonyjustdevs==0.0.1`\n",
    "\n",
    "or Generically: \n",
    "\n",
    "- `python3 -m pip install --index-url https://test.pypi.org/simple/ --no-deps example-package-YOUR-USERNAME-HERE`"
   ]
  },
  {
   "cell_type": "markdown",
   "metadata": {},
   "source": [
    "![](imgs/install_tonypkg.png)"
   ]
  },
  {
   "cell_type": "markdown",
   "metadata": {},
   "source": [
    "# 10. Import Package\n",
    "\n",
    "- `from example_package_tonyjustdevs import example`\n",
    "- `example.add_one(11)`"
   ]
  },
  {
   "cell_type": "markdown",
   "metadata": {},
   "source": [
    "![](imgs/import_tonypkg.png)\n",
    "\n",
    "My Python project has been packaged and distributed successfully!\n",
    "\n"
   ]
  },
  {
   "cell_type": "markdown",
   "metadata": {},
   "source": [
    "# 11. Development Workflow\n",
    "\n",
    "![](imgs/code-028-dev-workflow.png)"
   ]
  },
  {
   "cell_type": "markdown",
   "metadata": {},
   "source": [
    "# 11. Dev Process\n",
    "- git clone \n",
    "- or pip install -e git+https://github.com/numpy/numpy.git@v1.25.0#egg=numpy\n",
    "- or pip install -e git+https://github.com/owner/repo.git@branch#egg=package\n",
    "- or pip install -e git+https://@github.com/owner/repo.git@branch#egg=package_name\n",
    "- or pip install -e git+ssh://git@github.com/owner/repo.git@main#egg=private_pkg\n",
    "- add venv \n",
    "- pip install -e .\n",
    "- or pip install -e \".[dev]\"\n",
    "- python -c \"import my_package; print(my_package.__file__)\"\n",
    "- git commit -am \"Prepare release v...\"\n",
    "- git tag -a v1.0.0 -m \"Release v...\"\n",
    "- or git push origin main --tags\n",
    "- or git push origin v...\n",
    "- git push origin main --tags\n",
    "- rm -rf dist\n",
    "- [if not in backend build] pip install build twine \n",
    "- [if not in backend build] python -m build\n",
    "- twine upload -r testpypi dist/*\n",
    "- pip install dist/my_package-v0.0.0.whl\n",
    "- python -c \"import my_package; print(my_package.__file__)\n",
    "- pip install -e ."
   ]
  }
 ],
 "metadata": {
  "kernelspec": {
   "display_name": "blog-T-2huGx2",
   "language": "python",
   "name": "python3"
  },
  "language_info": {
   "codemirror_mode": {
    "name": "ipython",
    "version": 3
   },
   "file_extension": ".py",
   "mimetype": "text/x-python",
   "name": "python",
   "nbconvert_exporter": "python",
   "pygments_lexer": "ipython3",
   "version": "3.10.12"
  }
 },
 "nbformat": 4,
 "nbformat_minor": 2
}
