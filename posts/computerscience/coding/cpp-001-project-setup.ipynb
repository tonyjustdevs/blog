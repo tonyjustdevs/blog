{
 "cells": [
  {
   "cell_type": "raw",
   "id": "efabadf1",
   "metadata": {
    "vscode": {
     "languageId": "raw"
    }
   },
   "source": [
    "---\n",
    "title: \"CPP 1: Setting Up Visual Studio for C++\"\n",
    "author: \"Tony Phung\"\n",
    "date: \"2025-08-12\"\n",
    "categories: [coding, cplusplus, visual studio]\n",
    "image: \"imgs/cpp/cpp.png\"\n",
    "toc: true\n",
    "description: \"The C++ Journey Begins...(with Visual Studio)\"\n",
    "---"
   ]
  },
  {
   "cell_type": "markdown",
   "id": "25c22a55",
   "metadata": {},
   "source": [
    "![](imgs/cpp/cpp.png)"
   ]
  },
  {
   "cell_type": "markdown",
   "id": "ac0fe4ab",
   "metadata": {},
   "source": [
    "# 1. Configurations\n",
    "### 1.1 Compiler\n",
    "|What?|How?|\n",
    "|-|-|\n",
    "|**Conformance Mode**| Project ->  Configuration: **All Configurations** -> C/C++ -> Language -> Comformance Mode -> Choose: `Yes`<br>Disables compiler extensions ensuringp program is compliant with C++ standards & will work on any system. |\n",
    "\n",
    "Ref: https://www.learncpp.com/cpp-tutorial/configuring-your-compiler-compiler-extensions/"
   ]
  },
  {
   "cell_type": "markdown",
   "id": "58e70865",
   "metadata": {},
   "source": [
    "### 1.2 Warnings\n",
    "|What?|How?|\n",
    "|-|-|\n",
    "|**Platform**| x86 (32-bit) or  x64 (64-bit)  |\n",
    "|**Increase warning level**| Project -> C/C++ -> General -> Warning Level -> Choose `Level 4`|\n",
    "|**Enable signed/unsigned conversion warnings**| Project -> C/C++ -> Command Line -> Additional -> Enter `/w44365`<br>Compiler enables these warnings at warning level 4 (as above)<br>Project -> C/C++ -> External Includes -> External Header Level-> Choose `Level 3`|\n",
    "|**Warnings as errors**| Project -> Configuration: **All Configurations** -> General ->Choose `Treat Warnings as Errors`|\n",
    "\n",
    "Reference: https://www.learncpp.com/cpp-tutorial/configuring-your-compiler-warning-and-error-levels/"
   ]
  },
  {
   "cell_type": "markdown",
   "id": "304b3593",
   "metadata": {},
   "source": [
    "### 1.3 Language Standard\n",
    "Visual Studio 2022 defaults to `C++14` capabilities, i.e. excludes new features introduced in `C++17`/`C++20`.\n",
    "\n",
    "|What?|How?|\n",
    "|-|-|\n",
    "|**Change Language Standard**| Project -> Configuration: **All Configurations** -> Language -> C++ Language Standard -> Choose: `ISO C++ Latest Standard`    |\n",
    "|**Export Configurations**| Project -> Export Template: **Project Template** -> Enter & Description: e.g. \"`C++23 Latest Console Application`\" -> Finish|\n",
    "|**Import Configurations**| List of Project templates: Choose Template|\n",
    "|**Compile Support C++23 Link**| https://en.cppreference.com/w/cpp/compiler_support/23|\n",
    "\n",
    "### 1.4 Language Options\n",
    "|Publication Year\t|Formal Name\t    |Conventional name\t|Development name\t|Notes|\n",
    "|-------------------|-------------------|-------------------|-------|-|\n",
    "|2011\t            |ISO/IEC 14882:2011\t|C++11\t            |C++0x\t||\n",
    "|2014\t            |ISO/IEC 14882:2014\t|C++14\t            |C++1y\t||\n",
    "|2017\t            |ISO/IEC 14882:2017\t|C++17\t            |C++1z\t||\n",
    "|2020\t            |ISO/IEC 14882:2020\t|C++20\t            |C++2a\t||\n",
    "|2024\t            |ISO/IEC 14882:2024\t|C++23\t            |C++2b\t|Finalised 2023|\n",
    "|TBD                |TBD\t            |C++26\t            |C++2c\t||\n",
    "\n",
    "\n",
    "Ref: https://www.learncpp.com/cpp-tutorial/configuring-your-compiler-choosing-a-language-standard/"
   ]
  },
  {
   "cell_type": "raw",
   "id": "d38c1745",
   "metadata": {
    "vscode": {
     "languageId": "raw"
    }
   },
   "source": [
    "# 2. [Removed]"
   ]
  },
  {
   "cell_type": "markdown",
   "id": "8e2763ff",
   "metadata": {},
   "source": [
    "# 3. Initialisation\n",
    "### 3.1 Narrowing Conversions\n",
    "|Initialisation  | Statement         |Results|\n",
    "|----------------|-------------------|-|\n",
    "|**List-init**   | `int w1{ 4.5 };`  |`compile error: list-init doesnt allow narrowing conversion`  |\n",
    "|**Copy-init**   | `int w2=4.5;`     |`4`  |\n",
    "|**Direct-init** | `int w3=4.5;`     |`4`  |\n",
    "|**Zero-init**   | `int w4={};`      |`0`  |"
   ]
  },
  {
   "cell_type": "markdown",
   "id": "57fdff8a",
   "metadata": {},
   "source": [
    "# 4. Literals\n",
    "A `literal`'s value is placed directly in the `executable`, and the executable itself ***can’t be changed*** after it is created. \n",
    "\n",
    "A `variable`'s value is placed in `memory`, and the value of memory ***can be changed*** while the executable is running.\n",
    "\n",
    "Ref: https://www.learncpp.com/cpp-tutorial/introduction-to-literals-and-operators/\n",
    "\n",
    "### 4.1 Format\n",
    "`Ctrl+k`, `Ctrl+f`: Format Selection\n",
    "\n",
    "Ref: https://www.learncpp.com/cpp-tutorial/whitespace-and-basic-formatting/"
   ]
  },
  {
   "cell_type": "markdown",
   "id": "04d5640f",
   "metadata": {},
   "source": [
    "# 5. Preprocessor\n",
    "### 5.1 Phases of Translate\n",
    "The entire process of preprocessing, compiling, and linking is called **translation**.\n",
    "\n",
    "The text of a C++ program is kept in units called source files.\n",
    "\n",
    "C++ source files undergo translation to become a translation unit, consisting of the following steps:\n",
    "\n",
    "- Maps each source file to a character sequence.\n",
    "- Converts each character sequence to a preprocessing token sequence, separated by whitespace.\n",
    "- Converts each preprocessing token to a token, forming a token sequence.\n",
    "- Converts each token sequence to a translation unit. \n",
    "\n",
    "Ref: https://en.cppreference.com/w/cpp/language/translation_phases.html"
   ]
  },
  {
   "cell_type": "markdown",
   "id": "416974aa",
   "metadata": {},
   "source": [
    "### 5.2 Preprocessor Directives\n",
    "**Preprocessor directives** (often just called directives) are instructions that start with a # symbol and end with a newline (NOT a semicolon). \n",
    "\n",
    "The final output of the preprocessor contains no directives -- only the output of the processed directive is passed to the compiler."
   ]
  },
  {
   "cell_type": "markdown",
   "id": "b026111b",
   "metadata": {},
   "source": [
    "### 5.3 `#include`\n",
    "When you `#include` a file:  \n",
    "\n",
    "- the preprocessor replaces the #include directive   \n",
    "- with the contents of the included file. \n",
    "\n",
    "The included contents are then preprocessed (which may result in additional #includes being preprocessed recursively), then the rest of the file is preprocessed."
   ]
  },
  {
   "cell_type": "markdown",
   "id": "b8c71ad0",
   "metadata": {},
   "source": [
    "### 5.4 Preprocessor Directive Example\n",
    "    \n",
    "    #include <iostream>\n",
    "\n",
    "    int main()\n",
    "    {\n",
    "        std::cout << \"Hello, world!\\n\";\n",
    "        return 0;\n",
    "    }\n",
    "\n",
    "the preprocessor will:  \n",
    "\n",
    "- replace `#include <iostream>` \n",
    "- with the **contents** of the file named `iostream` and \n",
    "- then preprocess the included content and the rest of the file."
   ]
  },
  {
   "cell_type": "markdown",
   "id": "154c05ec",
   "metadata": {},
   "source": [
    "### 5.5 Translation Unit\n",
    "Each translation unit typically consists of:\n",
    "\n",
    "- a single code (.cpp) file and \n",
    "- all header files it #includes (applied recursively\n",
    "    - since header files can #include other header files)."
   ]
  },
  {
   "cell_type": "markdown",
   "id": "aa03dc08",
   "metadata": {},
   "source": [
    "### 5.5 Macro defines\n",
    "\n",
    "The `#define` directive can be used to create a **macro**. \n",
    "\n",
    "In C++, a macro is a rule that defines:\n",
    "\n",
    "- how input text is ***converted*** into \n",
    "- replacement output text.\n",
    "\n",
    "There are two basic types of macros: \n",
    "\n",
    "- object-like macros, and \n",
    "- function-like macros (unsafe).\n",
    "\n",
    "### 5.5.1 Object-like macros\n",
    "**Macro Identifiers**: Macro names should be written in all uppercase letters, with words separated by underscores\n",
    "\n",
    "    #define IDENTIFIER\n",
    "    #define IDENTIFIER substitution_text"
   ]
  },
  {
   "cell_type": "markdown",
   "id": "b2a15c30",
   "metadata": {},
   "source": [
    "### 5.6 Conditional Compilation\n",
    "The **conditional compilation** *preprocessor directives* allow you to specify under what conditions something will or won’t compile:\n",
    "\n",
    "or **Preprocessor commands**:\n",
    "\n",
    "- `#ifdef SOME_NAME2`: run if `SOME_NAME1` is defined\n",
    "- `#ifndef SOME_NAME2`: opposite to `ifdef`\n",
    "- `#endif`: end above\n",
    "- `#if 0`: exclude a block of code\n",
    "\n",
    "In most cases, ***macro substitution*** does not occur when a `macro identifier` is used within another `preprocessor command`.\n",
    "\n",
    "There is at least one exception to this rule: most forms of `#if` and `#elif` do ***macro substitution*** within the preprocessor command."
   ]
  },
  {
   "cell_type": "markdown",
   "id": "db218e36",
   "metadata": {},
   "source": [
    "### 5.6.1 Macro Substitution within Preprocessor Command\n",
    "\n",
    "    #define FOO 9 // Here's a macro substitution\n",
    "\n",
    "    #ifdef FOO // This FOO does not get replaced with 9 because it’s part of another preprocessor directive\n",
    "        std::cout << FOO << '\\n'; // This FOO gets replaced with 9 because it's part of the normal code\n",
    "    #endif"
   ]
  },
  {
   "cell_type": "markdown",
   "id": "6daae578",
   "metadata": {},
   "source": [
    "### 5.7 `#defines`\n",
    "Directives are resolved before compilation, from top to bottom on a file-by-file basis.\n"
   ]
  },
  {
   "cell_type": "markdown",
   "id": "308c03a1",
   "metadata": {},
   "source": [
    "# 6. Header Files\n",
    "Prefer a `.h` suffix when naming your header files (unless your project already follows some other convention):\n",
    "\n",
    "- A **header guard**, which we’ll discuss in more detail in the next lesson (2.12 -- Header guards).\n",
    "- The actual content of the header file, which should be the **forward declarations** for **all of the identifiers**.\n",
    "\n",
    "\n",
    "Header files are often paired with code files, with:\n",
    "\n",
    "- the header file providing forward declarations for \n",
    "- the corresponding code file. \n",
    "\n",
    "Since our header file will contain a forward declaration for functions defined in \n",
    "\n",
    "- `add.cpp`, we’ll call our \n",
    "- new header file `add.h`.\n",
    "\n",
    "|What?|How?|\n",
    "|-|-|\n",
    "|**Add Header Directories**| Properties -> VC++ Directories -> General: Include Directories|"
   ]
  },
  {
   "cell_type": "markdown",
   "id": "2cf21327",
   "metadata": {},
   "source": [
    "### 6.1 Best Practice\n",
    "Order #includes, alphabetically per group, as follows:\n",
    "\n",
    "- The **paired header file** for this code file (e.g. `add.cpp` should `#include \"add.h\"`)\n",
    "- Other headers from the same project (e.g. `#include \"mymath.h`\")\n",
    "- **3rd party** library headers (e.g. `#include <boost/tuple/tuple.hpp>`)\n",
    "- **Standard** library headers (e.g. `#include <iostream>`)"
   ]
  },
  {
   "cell_type": "markdown",
   "id": "243473a6",
   "metadata": {},
   "source": [
    "# 7. Header Guards\n",
    "All of your header files should have header guards on them. `SOME_UNIQUE_NAME_HERE` can be:\n",
    "\n",
    "- any name you want, but by **convention** is,\n",
    "- full filename of the header file, \n",
    "- typed in all caps, \n",
    "- using underscores for spaces or punctuation"
   ]
  },
  {
   "cell_type": "markdown",
   "id": "d8194564",
   "metadata": {},
   "source": [
    "### 7.1 Example 1\n",
    "\n",
    "    #ifndef SQUARE_H // square.h\n",
    "    #define SQUARE_H\n",
    "    \n",
    "    int getSquareSides()\n",
    "    {\n",
    "        return 4;\n",
    "    }\n",
    "    \n",
    "    #endif"
   ]
  },
  {
   "cell_type": "markdown",
   "id": "810c8133",
   "metadata": {},
   "source": [
    "### 7.2 Example 2\n",
    "\n",
    "    #ifndef _IOSTREAM_\n",
    "    #define _IOSTREAM_\n",
    "\n",
    "    // content here\n",
    "\n",
    "    #endif"
   ]
  },
  {
   "cell_type": "markdown",
   "id": "1203b14f",
   "metadata": {},
   "source": [
    "### 7.3 Naming Suggestions\n",
    "\n",
    "- `PROJECT_PATH_FILE_H`, \n",
    "- `FILE_LARGE-RANDOM-NUMBER_H`, or \n",
    "- `FILE_CREATION-DATE_H`."
   ]
  }
 ],
 "metadata": {
  "kernelspec": {
   "display_name": "blog",
   "language": "python",
   "name": "python3"
  },
  "language_info": {
   "codemirror_mode": {
    "name": "ipython",
    "version": 3
   },
   "file_extension": ".py",
   "mimetype": "text/x-python",
   "name": "python",
   "nbconvert_exporter": "python",
   "pygments_lexer": "ipython3",
   "version": "3.13.1"
  }
 },
 "nbformat": 4,
 "nbformat_minor": 5
}
