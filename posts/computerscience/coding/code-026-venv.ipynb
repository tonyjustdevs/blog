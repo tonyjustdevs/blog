{
 "cells": [
  {
   "cell_type": "raw",
   "metadata": {
    "vscode": {
     "languageId": "raw"
    }
   },
   "source": [
    "---\n",
    "title: \"Code 26: `pip` versus `pip-tools`\"\n",
    "author: \"Tony Phung\"\n",
    "date: \"2025-03-27\"\n",
    "categories: [coding, python]\n",
    "image: \"imgs/code-026-piptools.svg\"\n",
    "toc: true\n",
    "description: \"Virtual Environment & Dependencies Management\"\n",
    "---"
   ]
  },
  {
   "cell_type": "markdown",
   "metadata": {},
   "source": [
    "![](imgs/code-026-piptools.svg)"
   ]
  },
  {
   "cell_type": "markdown",
   "metadata": {},
   "source": [
    "# 1. Python's Built-In Module: `venv`\n",
    "## 1.1 Installation\n",
    "- `sudo apt update && sudo apt install python-venv`\n",
    "\n",
    "## 1.2 Check installed (Debian/Ubuntu)\n",
    "- `dpkg -l | grep python3-venv` \n",
    "\n",
    "## 1.3 Create virtual environment (e.g. `.my_venv`)\n",
    "- `python3 -m venv .my_venv`"
   ]
  },
  {
   "cell_type": "markdown",
   "metadata": {},
   "source": [
    "# 2. Activation\n",
    "## 2.1 Pre-Activate\n",
    "Note: if the virtual environment `.tonys_venv` ***IS NOT ACTIVATED***:\n",
    "\n",
    "- `pip show pip` and `which python3` are the are **system-wide** version.\n",
    "\n",
    "Useful commands to confirm activated:\n",
    "\n",
    "- `which python`\n",
    "- `which pip`\n",
    "- `type pip`\n",
    "- `pip list`\n",
    "\n",
    "![](imgs/code-026-pre-actviate-venv.png)"
   ]
  },
  {
   "cell_type": "markdown",
   "metadata": {},
   "source": [
    "## 2.2 Post-Activate\n",
    "- *Linux*: `source .venv/bin/activate`\n",
    "- *Windows*: `.\\.venv\\Scripts\\activate`\n",
    "\n",
    "Note: ***AFTER ACTIONAL***:\n",
    "\n",
    "- `pip` and `python3` are those inside `.tonys_venv` virtual environment.\n",
    "\n",
    "Useful commands to confirm activated:\n",
    "\n",
    "- `which python`\n",
    "- `which pip`\n",
    "- `type pip`\n",
    "- `pip list`"
   ]
  },
  {
   "cell_type": "markdown",
   "metadata": {
    "vscode": {
     "languageId": "raw"
    }
   },
   "source": [
    "![](imgs/code-026-tonys-venv.png)"
   ]
  },
  {
   "cell_type": "markdown",
   "metadata": {
    "vscode": {
     "languageId": "raw"
    }
   },
   "source": [
    "# 3. **The Best & Proper Way**: `pip-tools` Work-Flow\n",
    "## 3.1 Create `.venv` and *activate* it\n",
    "- `python -m venv .venv`\n",
    "- `source .venv/bin/activate`"
   ]
  },
  {
   "cell_type": "markdown",
   "metadata": {},
   "source": [
    "## 3.2 Install `pip-tools` into virtual environment\n",
    "- `pip install pip-tools`"
   ]
  },
  {
   "cell_type": "markdown",
   "metadata": {},
   "source": [
    "## 3.3 Define deps: **Isolate Intentional Dependencies**\n",
    "- `echo \"flask>=3.0.0\" > requirements.in`\n",
    "- `echo \"pandas>=2.0.0\" >> requirements.in`\n",
    "- *[Optional]*: `echo \"pytest>=7.0.0\" > dev-requirements.in`"
   ]
  },
  {
   "cell_type": "markdown",
   "metadata": {},
   "source": [
    "## 3.4 Compile dependencies to `requirements.txt`\n",
    "- `pip-compile requirements.in`\n",
    "- *[Optional]*: `pip-compile dev-requirements.in`"
   ]
  },
  {
   "cell_type": "markdown",
   "metadata": {},
   "source": [
    "### 3.4.1 Security: Verified Installs\n",
    "- Add `--generate-hashes` to `pip-compile` for Verified Installs."
   ]
  },
  {
   "cell_type": "markdown",
   "metadata": {},
   "source": [
    "## 3.5 Install from `requirements.txt`\n",
    "`sync` all dependencies (or files). This will removes unused packages, compared typical `pip install -r requirements`:\n",
    "\n",
    "- `pip-sync requirements.txt` or\n",
    "- `pip-sync requirements.txt dev-requirements.txt`"
   ]
  },
  {
   "cell_type": "markdown",
   "metadata": {},
   "source": [
    "## 3.6 Verify\n",
    "Showing production and (optional) development packages\n",
    "- `pip list`"
   ]
  },
  {
   "cell_type": "markdown",
   "metadata": {},
   "source": [
    "#### 3.7 ***[tba] Automate with a script***\n",
    "Add to `Makefile` or `justfile`\n",
    "- `sync:`\n",
    "    - `pip-sync requirements.txt dev-requirements.txt`"
   ]
  },
  {
   "cell_type": "markdown",
   "metadata": {},
   "source": [
    "# 4. **BAD WAY**: `pip install` & `pip freeze` \n",
    "- Do this at your own **peril** 😈. \n",
    "- Only during adhoc quick-testing.\n",
    "- With a plan to switch over to `pip-tools`!"
   ]
  },
  {
   "cell_type": "markdown",
   "metadata": {},
   "source": [
    "## 4.1 Why It's Bad\n",
    "**No Separation of Direct vs. Transitive Dependencies**: \n",
    "\n",
    "- `pip freeze` dumps everything (e.g., werkzeug, click) without clarifying which packages you intentionally installed, therefore:\n",
    "    - Hard to audit or prune unused dependencies later.\n",
    "\n",
    "**Over-Pinning (Exact Versions for Everything)**:\n",
    "\n",
    "- `pip freeze` uses `==` for all packages, even if you only need `>=` for flexibility.\n",
    "    - `flask==3.0.0`  # You might want \"flask>=3.0.0\" instead!\n",
    "    - `werkzeug==3.0.1`  # Do you care about Werkzeug's exact version?\n",
    "\n",
    "**Accidental Inclusion of Dev Tools**:\n",
    " \n",
    "- If `pip install pytest` for *testing*:\n",
    "    - `pip freeze` will include it in `requirements.txt` (even if it shouldn’t be in production).\n",
    "\n",
    "**No Hash Checking (Security Risk)**:  \n",
    "\n",
    "- `pip freeze` doesn’t include **package hashes**, leaving you vulnerable to supply-chain attacks."
   ]
  },
  {
   "cell_type": "markdown",
   "metadata": {},
   "source": [
    "## 4.2 Show Location and Versions\n",
    "`python -m pip show flask`   \n",
    "`python -m flask --version`\n",
    "\n",
    "![](imgs/code-026-pipshowflask.png)"
   ]
  },
  {
   "cell_type": "markdown",
   "metadata": {},
   "source": [
    "## 4.3 Freeze/Lock Versions to `requirements.txt`\n",
    "`pip freeze > requirements.txt`"
   ]
  },
  {
   "cell_type": "markdown",
   "metadata": {},
   "source": [
    "![](imgs/code-026-pip-freeze.png)"
   ]
  },
  {
   "cell_type": "markdown",
   "metadata": {
    "vscode": {
     "languageId": "raw"
    }
   },
   "source": [
    "## 4.4 Install Exact Versions with `pip freeze > requirements.txt` (After Activation)\n",
    "\n",
    "Activate Virtual Environment:\n",
    "\n",
    "- `source temp_venv/bin/activate` or \n",
    "- `.\\temp_venv\\Scripts\\activate`\n",
    "\n",
    "### 4.4.1 Method 1: Same Machine\n",
    "By referencing `site_packages` original project's `.venv`:  \n",
    "\n",
    "- `pip freeze > og_venv_requirements.txt`  \n",
    "- `pip install --no-index --find-links=./path_to_og_venv/.../site_packages -r og_venv_requirements.txt`\n",
    "\n",
    "### 4.4.2 Method 2: Different Machine\n",
    "Downloaded required files (`.whl`) to a folder (`CUSTOM_REQS_FLDR`), copy to new machine and install:   \n",
    "\n",
    "- `pip freeze > requirements.txt`  \n",
    "- `pip download -r requirements.txt -d CUSTOM_REQS_FLDR`  \n",
    "- Copy `CUSTOM_REQS_FLDR` folder to the new machine  \n",
    "- `pip install --no-index --find-links=./CUSTOM_REQS_FLDR -r requirements.txt`  "
   ]
  }
 ],
 "metadata": {
  "kernelspec": {
   "display_name": "blog-T-2huGx2",
   "language": "python",
   "name": "python3"
  },
  "language_info": {
   "codemirror_mode": {
    "name": "ipython",
    "version": 3
   },
   "file_extension": ".py",
   "mimetype": "text/x-python",
   "name": "python",
   "nbconvert_exporter": "python",
   "pygments_lexer": "ipython3",
   "version": "3.10.12"
  }
 },
 "nbformat": 4,
 "nbformat_minor": 2
}
