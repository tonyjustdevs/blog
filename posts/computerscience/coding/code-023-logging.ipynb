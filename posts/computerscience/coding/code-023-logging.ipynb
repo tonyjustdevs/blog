{
 "cells": [
  {
   "cell_type": "raw",
   "metadata": {
    "vscode": {
     "languageId": "raw"
    }
   },
   "source": [
    "---\n",
    "title: \"Code 23: Logging\"\n",
    "author: \"Tony Phung\"\n",
    "date: \"2025-02-10\"\n",
    "categories: [coding, python]\n",
    "image: \"imgs/code-027-log.png\"\n",
    "toc: true\n",
    "description: \"Learning Logs for Different Levels\"\n",
    "---"
   ]
  },
  {
   "cell_type": "markdown",
   "metadata": {},
   "source": [
    "![](imgs/code-027-log.png)"
   ]
  },
  {
   "cell_type": "markdown",
   "metadata": {},
   "source": [
    "# 1. Root Logger\n",
    "Configure Root Logger that apples to whole app\n",
    "\n",
    "* Pros: **Simple and quick** & **Less code**\n",
    "* Cons: **Lack of control** & **Limited customization**"
   ]
  },
  {
   "cell_type": "code",
   "execution_count": 4,
   "metadata": {},
   "outputs": [
    {
     "name": "stderr",
     "output_type": "stream",
     "text": [
      "2025-02-10 13:12:50,256 - DEBUG - This is a debug message\n",
      "2025-02-10 13:12:50,259 - INFO - This is an info message\n",
      "2025-02-10 13:12:50,260 - WARNING - This is a warning message\n"
     ]
    }
   ],
   "source": [
    "import logging\n",
    "\n",
    "logging.basicConfig(level=logging.DEBUG, format='%(asctime)s - %(levelname)s - %(message)s')\n",
    "logging.debug(\"This is a debug message\")\n",
    "logging.info(\"This is an info message\")\n",
    "logging.warning(\"This is a warning message\")\n"
   ]
  },
  {
   "cell_type": "markdown",
   "metadata": {},
   "source": [
    "# 2. Custom Logger Instance - To File\n",
    "Pros:  \n",
    "\n",
    "* **Modular and organized**\n",
    "* **Granular control**\n",
    "* **Better for larger applications**\n",
    "\n",
    "Cons:   \n",
    "* **More setup**\n",
    "* **Potential for inconsistency**"
   ]
  },
  {
   "cell_type": "code",
   "execution_count": null,
   "metadata": {},
   "outputs": [
    {
     "name": "stdout",
     "output_type": "stream",
     "text": [
      "__main__\n"
     ]
    }
   ],
   "source": [
    "import logging\n",
    "\n",
    "# logger = logging.getLogger(\"my_app.module1\") #create logger named my_app.module1\n",
    "logger = logging.getLogger(__name__) \n",
    "\n",
    "logger.setLevel(logging.DEBUG)\n",
    "print(logger.name)\n",
    "file_handler = logging.FileHandler(\"app.log\")\n",
    "file_handler.setFormatter(logging.Formatter('%(asctime)s - %(levelname)s - %(message)s'))\n",
    "logger.addHandler(file_handler)\n",
    "\n"
   ]
  },
  {
   "cell_type": "markdown",
   "metadata": {},
   "source": [
    "# 3. Log to Console As Well"
   ]
  },
  {
   "cell_type": "code",
   "execution_count": null,
   "metadata": {},
   "outputs": [
    {
     "name": "stderr",
     "output_type": "stream",
     "text": [
      "DEBUG - a debug msg going to file and console\n",
      "INFO - an info msg to file and console\n"
     ]
    }
   ],
   "source": [
    "console_handler = logging.StreamHandler()\n",
    "console_formatter = logging.Formatter('%(levelname)s - %(message)s')  # Simple format for console\n",
    "console_handler.setFormatter(console_formatter)\n",
    "logger.addHandler(console_handler)\n",
    "logger.debug(\"a debug msg going to file and console\")\n",
    "logger.info(\"an info msg to file and console\")\n"
   ]
  },
  {
   "cell_type": "markdown",
   "metadata": {},
   "source": [
    "# 4. Multiple Loggers and Hierarchy"
   ]
  },
  {
   "cell_type": "code",
   "execution_count": null,
   "metadata": {},
   "outputs": [],
   "source": [
    "import logging\n",
    "\n",
    "logging.basicConfig(level=logging.DEBUG) # root logger\n",
    "\n",
    "app_logger = logging.getLogger(\"my_app\") # main app logger\n",
    "app_logger.setLevel(logging.INFO)\n",
    "\n",
    "module1_logger = logging.getLogger(\"my_app.module1\")# specific module logger\n",
    "module1_logger.setLevel(logging.DEBUG)\n",
    "\n",
    "module2_logger = logging.getLogger(\"my_app.module2\") # Logger for another module\n",
    "module2_logger.setLevel(logging.WARNING)\n",
    "\n",
    "app_logger.info(\"This is an info message from the main app\") \n",
    "module1_logger.debug(\"This is a debug message from module 1\")\n",
    "module2_logger.warning(\"This is a warning message from module 2\")\n"
   ]
  }
 ],
 "metadata": {
  "kernelspec": {
   "display_name": "blog-T-2huGx2",
   "language": "python",
   "name": "python3"
  },
  "language_info": {
   "codemirror_mode": {
    "name": "ipython",
    "version": 3
   },
   "file_extension": ".py",
   "mimetype": "text/x-python",
   "name": "python",
   "nbconvert_exporter": "python",
   "pygments_lexer": "ipython3",
   "version": "3.10.12"
  }
 },
 "nbformat": 4,
 "nbformat_minor": 2
}
