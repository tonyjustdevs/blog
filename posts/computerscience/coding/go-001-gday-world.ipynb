{
 "cells": [
  {
   "cell_type": "raw",
   "metadata": {
    "vscode": {
     "languageId": "raw"
    }
   },
   "source": [
    "---\n",
    "title: \"GO 1: Install & G'Day World\"\n",
    "author: \"Tony Phung\"\n",
    "date: \"2025-02-19\"\n",
    "categories: [coding, golang]\n",
    "image: \"imgs/go-001-go.png\"\n",
    "toc: true\n",
    "description: \"Let's Go 🚤!\"\n",
    "---"
   ]
  },
  {
   "cell_type": "markdown",
   "metadata": {
    "vscode": {
     "languageId": "raw"
    }
   },
   "source": [
    "![](imgs/go-001-go.png)"
   ]
  },
  {
   "cell_type": "markdown",
   "metadata": {
    "vscode": {
     "languageId": "raw"
    }
   },
   "source": [
    "# 1. What is **Go**\n",
    "**Go** (Golang) is a:  \n",
    "\n",
    "* high-performance,   \n",
    "* statically typed programming language   \n",
    "* designed by Google.   \n",
    "\n",
    "It’s optimized for:  \n",
    "\n",
    "* simplicity,     \n",
    "* efficiency &   \n",
    "* scalability.   \n",
    "\n",
    "[See *4. Advantages of Go for more information*]"
   ]
  },
  {
   "cell_type": "markdown",
   "metadata": {},
   "source": [
    "# 2. Install **Go** on WSL\n",
    "Instructions: [https://go.dev/doc/install](https://go.dev/doc/install)"
   ]
  },
  {
   "cell_type": "markdown",
   "metadata": {},
   "source": [
    "## 2.1 Pre-download:\n",
    "* Update Packages:\n",
    "    - `sudo apt update`\n",
    "* Install necessary dependencies: \n",
    "    - `sudo apt install wget tar`"
   ]
  },
  {
   "cell_type": "markdown",
   "metadata": {},
   "source": [
    "# 2.2 Download & Install: \n",
    "Downloads List: [https://go.dev/dl/](https://go.dev/dl/)"
   ]
  },
  {
   "cell_type": "markdown",
   "metadata": {},
   "source": [
    "* Download **Go Binary**\n",
    "    - `wget https://golang.org/dl/go1.24.0.linux-amd64.tar.gz`\n",
    "* Move **Go Binary** to `/usr/local`:\n",
    "    - `mv go1.24.0.linux-amd64.tar.gz /usr/local`\n",
    "    - If you don't move it you'll be greeted with some lovely errors upon *untarring*.\n",
    "\n",
    "![](imgs/go-001-error.png)  \n",
    "\n",
    "* Create Fresh **Go Tree** via *Untarring*: \n",
    "    - `sudo rm -rf /usr/local/go && tar -C /usr/local -xzf go1.24.0.linux-amd64.tar.gz`\n",
    "\n",
    "![](imgs/go-001-untar.png)  \n"
   ]
  },
  {
   "cell_type": "markdown",
   "metadata": {},
   "source": [
    "# 2.3 Add **Go Binary** to `Path` *Environment Variable*:\n",
    "* Add following line:\n",
    "    - `export PATH=$PATH:/usr/local/go/bin`\n",
    "\n",
    "* To local profile: \n",
    "    - `$HOME/.profile`\n",
    "\n",
    "![](imgs/go-001-path.png)"
   ]
  },
  {
   "cell_type": "markdown",
   "metadata": {},
   "source": [
    "# 2.4 Check **Go** Install\n",
    "Restart Linux then:  \n",
    "\n",
    "* `go version`\n",
    "\n",
    "![](imgs/go-001-version.png)"
   ]
  },
  {
   "cell_type": "markdown",
   "metadata": {},
   "source": [
    "# 3. Hello World\n",
    "\n",
    "# 3.1 Setup\n",
    "* Create folder: \n",
    "    - `mkdir gday && cd gday`\n",
    "* Create **Go Module**: \n",
    "    - `go mod init example/gday`\n",
    "* Create **Go Script**: \n",
    "    - `code gday.go`\n",
    "    - Enter code into `gday.go` script"
   ]
  },
  {
   "cell_type": "markdown",
   "metadata": {},
   "source": [
    "![](imgs/go-001-go-gday.png)"
   ]
  },
  {
   "cell_type": "markdown",
   "metadata": {
    "vscode": {
     "languageId": "raw"
    }
   },
   "source": [
    "# 3.2 Run `.Go` Script\n",
    "* `go run .` "
   ]
  },
  {
   "cell_type": "markdown",
   "metadata": {},
   "source": [
    "![](imgs/go-001-gday-run.png)"
   ]
  },
  {
   "cell_type": "markdown",
   "metadata": {},
   "source": [
    "# 4. Advantages of **Go**"
   ]
  },
  {
   "cell_type": "markdown",
   "metadata": {},
   "source": [
    "## 4.1 Performance & Efficiency\n",
    "* **Compiled** to **native machine code**:\n",
    "    - Faster execution than interpreted languages (e.g., Python, JavaScript)."
   ]
  },
  {
   "cell_type": "markdown",
   "metadata": {},
   "source": [
    "## 4.2 Concurrency & Scalability\n",
    "* **Goroutines**:\n",
    "    - lightweight threads\n",
    "    - Better concurrency handling than OS threads.\n",
    "* **Channel-based concurrency**:\n",
    "    - Safer than traditional multithreading.\n",
    "    - Ideal for high-performance network services & APIs."
   ]
  },
  {
   "cell_type": "markdown",
   "metadata": {},
   "source": [
    "## 4.3 Simplicity & Fast Development\n",
    "* **Minimalistic syntax**  \n",
    "* **No complex OOP**:\n",
    "    - No inheritance.\n",
    "    - No classes.\n",
    "    - Uses simple structs & interfaces.  \n",
    "* **Fast compilation & execution**:\n",
    "    - Great for CI/CD pipelines."
   ]
  },
  {
   "cell_type": "markdown",
   "metadata": {},
   "source": [
    "## 4.4 Cross-Platform & Portability\n",
    "* **Write once, compile anywhere**: \n",
    "    - **GOOS** and **GOARCH** allow easy *cross-compilation* (e.g., Linux, Windows, macOS).\n",
    "* **Small, self-contained binaries**:\n",
    "    - No need for dependencies or interpreters."
   ]
  },
  {
   "cell_type": "markdown",
   "metadata": {},
   "source": [
    "## 4.5 Built-in Tools & Standard Library\n",
    "* **Powerful standard library**:\n",
    "    - Comes with built-in support for HTTP servers, JSON handling, cryptography, concurrency, etc.\n",
    "* **Go modules** for **dependency management**:\n",
    "    - No external package managers needed."
   ]
  },
  {
   "cell_type": "markdown",
   "metadata": {},
   "source": [
    "## 4.6 Memory Safety & Garbage Collection\n",
    "* **Automatic garbage collection**:\n",
    "    - Helps manage memory efficiently.\n",
    "* **Avoids memory leaks** & **segmentation faults**:\n",
    "    - Common in C/C++."
   ]
  }
 ],
 "metadata": {
  "kernelspec": {
   "display_name": "blog-T-2huGx2",
   "language": "python",
   "name": "python3"
  },
  "language_info": {
   "codemirror_mode": {
    "name": "ipython",
    "version": 3
   },
   "file_extension": ".py",
   "mimetype": "text/x-python",
   "name": "python",
   "nbconvert_exporter": "python",
   "pygments_lexer": "ipython3",
   "version": "3.10.12"
  }
 },
 "nbformat": 4,
 "nbformat_minor": 2
}
