{
 "cells": [
  {
   "cell_type": "raw",
   "metadata": {
    "vscode": {
     "languageId": "raw"
    }
   },
   "source": [
    "---\n",
    "title: \"Code 19: `uv` Python & Package Manager\"\n",
    "author: \"Tony Phung\"\n",
    "date: \"2024-12-03\"\n",
    "categories: [coding, python]\n",
    "image: \"imgs/21uv.jpg\"\n",
    "toc: true\n",
    "description: \"A modern alternative to creating & managing Python projects\"\n",
    "---"
   ]
  },
  {
   "cell_type": "markdown",
   "metadata": {
    "vscode": {
     "languageId": "raw"
    }
   },
   "source": [
    "![](imgs/21uv.jpg)"
   ]
  },
  {
   "cell_type": "markdown",
   "metadata": {},
   "source": [
    "# 1. Initialise A New Python Project\n",
    "\n",
    "## 1.1 Download and Install `uv`\n",
    "- `curl -LsSf https://astral.sh/uv/install.sh | sh`\n",
    "- `mkdir NameOfNewProject && cd $_`\n",
    "\n",
    "## 1.2 Create Project\n",
    "- `uv init`"
   ]
  },
  {
   "cell_type": "markdown",
   "metadata": {
    "vscode": {
     "languageId": "raw"
    }
   },
   "source": [
    "![](imgs/21uv-init.jpg)"
   ]
  },
  {
   "cell_type": "markdown",
   "metadata": {
    "vscode": {
     "languageId": "raw"
    }
   },
   "source": [
    "## 1.3 Check Project Initialisations\n",
    "Inside `pyproject.toml`:  \n",
    "\n",
    "- `requires-python = \">=3.13\"`\n",
    "- `dependencies = []`\n",
    "\n",
    "These can be updated later."
   ]
  },
  {
   "cell_type": "markdown",
   "metadata": {
    "vscode": {
     "languageId": "raw"
    }
   },
   "source": [
    "![](imgs/21uv-toml.jpg)\n"
   ]
  },
  {
   "cell_type": "markdown",
   "metadata": {},
   "source": [
    "## 1.4 Check Python Version\n",
    "- `uv run python --version`\n",
    "\n",
    "The first time `uv run` is executed, two files are created:    \n",
    "\n",
    "- `.venv` and\n",
    "- `uv.lock`  \n",
    "\n",
    "Responsible for keeping track of python package dependencies and versions. \n",
    "\n"
   ]
  },
  {
   "cell_type": "markdown",
   "metadata": {},
   "source": [
    "![](imgs/21uv-run.jpg)"
   ]
  },
  {
   "cell_type": "markdown",
   "metadata": {},
   "source": [
    "# 2. Add Dependencies\n",
    "\n"
   ]
  },
  {
   "cell_type": "markdown",
   "metadata": {},
   "source": [
    "## 2.1 Add a project dependency via terminal\n",
    "- `uv add typer`  \n",
    "\n",
    "Adds `typer` to `dependencies` list in `.toml` file and resolves all dependencies."
   ]
  },
  {
   "cell_type": "markdown",
   "metadata": {},
   "source": [
    "![](imgs/21uv-dep-1.jpg)"
   ]
  },
  {
   "cell_type": "markdown",
   "metadata": {},
   "source": [
    "## 2.2 Add dev-dependency via terminal\n",
    "- `uv add pytest --dev`\n",
    "\n",
    "Adds `pytest` to `dev` `dependencies` list in `.toml` file and resolves all dependencies."
   ]
  },
  {
   "cell_type": "markdown",
   "metadata": {},
   "source": [
    "![](imgs/21uv-devdep.jpg)"
   ]
  },
  {
   "cell_type": "markdown",
   "metadata": {},
   "source": [
    "# 3. Create `pytest` Tests"
   ]
  },
  {
   "cell_type": "markdown",
   "metadata": {
    "vscode": {
     "languageId": "raw"
    }
   },
   "source": [
    "## 3.1 Create Test Folder & File\n",
    "- `code tests/test_main.py`\n",
    "\n",
    "[Inside **test_main.py**]:  \n",
    "\n",
    "- `def test_main(): assert True`"
   ]
  },
  {
   "cell_type": "markdown",
   "metadata": {},
   "source": [
    "## 3.2 Run Test\n",
    "- `uv run pytest`  \n",
    "\n",
    "*Note*: I wrote the equivalent thing but in `bash`"
   ]
  },
  {
   "cell_type": "markdown",
   "metadata": {},
   "source": [
    "![](imgs/21uv-test-1.jpg)"
   ]
  },
  {
   "cell_type": "markdown",
   "metadata": {
    "vscode": {
     "languageId": "raw"
    }
   },
   "source": [
    "#### [TBA] Updating Python versions \n",
    "#### [TBA] Updating Redudencies `.toml`\n",
    "<!-- - open `.toml` \n",
    "- add `requests` to `dependencies` list\n",
    "- `uv \n",
    "\n",
    "I used vim but any editor will do. -->\n",
    "<!-- ![](imgs/21uv-dep-2.jpg) -->\n",
    "\n",
    "<!-- # 1c. check/update python version [optional] -->\n",
    "<!-- - uv run python --version\n",
    "- *update* `requires-python` to `>=3.69`\n",
    "- uv sync (install new py vers, update deps, linking to vm, update lock file)\n",
    "(updates `.venv` & `.lock`) -->\n",
    "#### [TBA] DEV DEP VIA UVX OR UV TOOL RUN\n",
    " <!-- # 3b. add dev-dep - method 2: uvx (or uv tool run)\n",
    "- uvx rust ruff check . (exec in completely isolated env - ruff is linter) -->\n",
    "\n",
    "#### [TBA] ADD COMPLEX PKGS\n",
    "  <!-- 4a. add complex pkgs and check okay -->\n",
    "<!-- - uv add fastapi jupyter pandas\n",
    "- uv run jupyter lab -->\n",
    "\n",
    "\n"
   ]
  },
  {
   "cell_type": "markdown",
   "metadata": {
    "vscode": {
     "languageId": "raw"
    }
   },
   "source": []
  },
  {
   "cell_type": "markdown",
   "metadata": {},
   "source": []
  },
  {
   "cell_type": "markdown",
   "metadata": {},
   "source": []
  },
  {
   "cell_type": "markdown",
   "metadata": {},
   "source": []
  }
 ],
 "metadata": {
  "kernelspec": {
   "display_name": "blog-T-2huGx2",
   "language": "python",
   "name": "python3"
  },
  "language_info": {
   "codemirror_mode": {
    "name": "ipython",
    "version": 3
   },
   "file_extension": ".py",
   "mimetype": "text/x-python",
   "name": "python",
   "nbconvert_exporter": "python",
   "pygments_lexer": "ipython3",
   "version": "3.10.12"
  }
 },
 "nbformat": 4,
 "nbformat_minor": 2
}
