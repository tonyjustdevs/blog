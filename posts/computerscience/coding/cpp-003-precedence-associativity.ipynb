{
 "cells": [
  {
   "cell_type": "raw",
   "id": "efabadf1",
   "metadata": {
    "vscode": {
     "languageId": "raw"
    }
   },
   "source": [
    "---\n",
    "title: \"Cpp 3: Precedence & Associativity - Question 1\"\n",
    "author: \"Tony Phung\"\n",
    "date: \"2025-09-03\"\n",
    "categories: [coding, cplusplus, compiler]\n",
    "image: \"imgs/cpp/003_precedence.jpg\"\n",
    "toc: true\n",
    "\n",
    "description: \"Task: Add Parentheses Where Appropriate\"\n",
    "---"
   ]
  },
  {
   "cell_type": "markdown",
   "id": "1c9b12a3",
   "metadata": {
    "vscode": {
     "languageId": "raw"
    }
   },
   "source": [
    "![](imgs/cpp/003_precedence.jpg)"
   ]
  },
  {
   "cell_type": "markdown",
   "id": "315f0cae",
   "metadata": {},
   "source": [
    "# 1. Question 1: ` x = 3 + 4 + 5`\n",
    "**Task**:\n",
    " \n",
    "- Given a set of expressions that have no parentheses.  \n",
    "- Using the operator precedence and associativity rules: \n",
    "    - add parentheses to each expression \n",
    "    - to make it clear how the compiler will evaluate the expression.\n",
    "\n",
    "**Reference**:\n",
    "\n",
    "- [https://en.cppreference.com/w/cpp/language/operator_precedence.html](https://en.cppreference.com/w/cpp/language/operator_precedence.html)"
   ]
  },
  {
   "cell_type": "markdown",
   "id": "e9a7b174",
   "metadata": {
    "vscode": {
     "languageId": "raw"
    }
   },
   "source": [
    "# 2. Tp Solution\n",
    "## 2.1 Operator: Precedence Level & Associativity\n",
    "Operator '$+$':\n",
    "  \n",
    "- Precedence: $[3]$ \n",
    "- Associativity: $[L \\to R]$     \n",
    "\n",
    "Operator '$=$':  \n",
    "\n",
    "- Precedence: $[16]$ \n",
    "- Associativity: $[L \\leftarrow R]$   "
   ]
  },
  {
   "cell_type": "markdown",
   "id": "03e2becc",
   "metadata": {},
   "source": [
    "## 2.2 Workout\n",
    "$$x = 3 + 4 + 5;$$\n",
    "$$x_{16} = {}_{16}3_{3}         + {}_{3}4_{3}   + {3}_5$$\n",
    "$$x_{16} = {}_{16}(3_{3}        + {}_{3}4)_{3}  + {3}_5$$\n",
    "$$x_{16} = {}_{16}(3+4)_{3}     + {}_{3}5$$\n",
    "$$x_{16} = {}_{16}((3+4)_{3}    + {}_{3}5)$$\n",
    "$$x_{16} = {}_{16}((3+4)+5)$$\n",
    "$$x_{16} = {}_{16}((3+4)+5)$$\n",
    "$$(x=((3+4)+5))$$"
   ]
  }
 ],
 "metadata": {
  "kernelspec": {
   "display_name": "blog",
   "language": "python",
   "name": "python3"
  },
  "language_info": {
   "codemirror_mode": {
    "name": "ipython",
    "version": 3
   },
   "file_extension": ".py",
   "mimetype": "text/x-python",
   "name": "python",
   "nbconvert_exporter": "python",
   "pygments_lexer": "ipython3",
   "version": "3.13.1"
  }
 },
 "nbformat": 4,
 "nbformat_minor": 5
}
