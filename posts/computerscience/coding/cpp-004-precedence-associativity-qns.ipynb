{
 "cells": [
  {
   "cell_type": "raw",
   "id": "efabadf1",
   "metadata": {
    "vscode": {
     "languageId": "raw"
    }
   },
   "source": [
    "---\n",
    "title: \"Cpp 4: Precedence & Associativity - Question 2 to 4\"\n",
    "author: \"Tony Phung\"\n",
    "date: \"2025-09-03\"\n",
    "categories: [coding, cplusplus, compiler]\n",
    "image: \"imgs/cpp/003_precedence.jpg\"\n",
    "toc: true\n",
    "description: \"Task: Add Parentheses Where Appropriate\"\n",
    "---"
   ]
  },
  {
   "cell_type": "markdown",
   "id": "1c9b12a3",
   "metadata": {
    "vscode": {
     "languageId": "raw"
    }
   },
   "source": [
    "![](imgs/cpp/003_precedence.jpg)"
   ]
  },
  {
   "cell_type": "markdown",
   "id": "315f0cae",
   "metadata": {},
   "source": [
    "# 1. **Task** & **References**\n",
    "- [Same as Question 1](https://tonyjustdevs.github.io/blog/posts/computerscience/coding/cpp-003-precedence-associativity.html#question-1-x-3-4-5)\n"
   ]
  },
  {
   "cell_type": "markdown",
   "id": "67eef0ad",
   "metadata": {},
   "source": [
    "# Q2: `x = y = z;`"
   ]
  },
  {
   "cell_type": "markdown",
   "id": "e9a7b174",
   "metadata": {
    "vscode": {
     "languageId": "raw"
    }
   },
   "source": [
    "# 2.1 Soln: Precedence Level & Associativity \n",
    "|Operator|Precedence Level|Associativity|\n",
    "|-|-|-|\n",
    "|'$=$'|$16$ |$[L \\leftarrow R]$   |"
   ]
  },
  {
   "cell_type": "markdown",
   "id": "03e2becc",
   "metadata": {},
   "source": [
    "# 2.2 Soln: Workout\n",
    "$$x = y = z;$$\n",
    "$$x_{16} = {}_{16}y_{16} = {}_{16}z;$$\n",
    "$$x_{16} = {}_{16}(y_{16} = {}_{16}z);$$\n",
    "$$x_{16} = {}_{16}(y=z);$$\n",
    "$$(x_{16} = {}_{16}(y=z));$$\n",
    "$$(x = (y=z));$$\n"
   ]
  },
  {
   "cell_type": "markdown",
   "id": "11a4f310",
   "metadata": {},
   "source": [
    "# Q3: `z *= ++y + 5;`"
   ]
  },
  {
   "cell_type": "markdown",
   "id": "87899641",
   "metadata": {},
   "source": [
    "# 3.1 Soln: Precedence Level & Associativity \n",
    "|`c++` Operator|Precedence Level|Associativity|Description|\n",
    "|-|-|-|-|\n",
    "|`*=`|$16$ |$[L \\leftarrow R]$   |Multiplication assignment|\n",
    "|`++`|$3$ |$[L \\leftarrow R]$    |Prefix increment (`++y`)<br>- opposed to `y++`<br>- i.e. Suffix increment<br>- i.e. $[2: L \\to R]$|\n",
    "|`+`|$6$ |$[L \\leftarrow R]$    |Unary plus|"
   ]
  },
  {
   "cell_type": "markdown",
   "id": "2d32d96c",
   "metadata": {},
   "source": [
    "# 3.2 Soln: Workout\n",
    "$$z \\texttt{ *=} \\texttt{ ++}y + 5;$$\n",
    "$$z_{[16]} \\texttt{ *= }_{[16]}\\texttt{++}{}_{[3]}y_{[6]} + {}_{[6]}5;$$\n",
    "$$z_{[16]} \\texttt{ *= }_{[16]}(\\texttt{++}{}_{[3]}y)_{[6]} + {}_{[6]}5;$$\n",
    "$$z_{[16]} \\texttt{ *= }_{[16]}(\\texttt{++}y)_{[6]} + {}_{[6]}5;$$\n",
    "$$z_{[16]} \\texttt{ *= }_{[16]}((\\texttt{++}y)_{[6]} + {}_{[6]}5);$$\n",
    "$$z_{[16]} \\texttt{ *= }_{[16]}((\\texttt{++}y) + 5);$$\n",
    "$$(z \\texttt{ *= }((\\texttt{++}y) + 5));$$"
   ]
  },
  {
   "cell_type": "markdown",
   "id": "26386d39",
   "metadata": {
    "vscode": {
     "languageId": "raw"
    }
   },
   "source": [
    "# Q4: ` a || b&&c || d;`"
   ]
  },
  {
   "cell_type": "markdown",
   "id": "fdbc1627",
   "metadata": {},
   "source": [
    "# 4.1 Soln: Precedence Level & Associativity \n",
    "|`c++` Operator|Precedence Level|Associativity|Description|\n",
    "|--------------|----------------|-------------|-----------|\n",
    "|`||`        |$15$            |$[L \\to R]$  |Logical OR (also `or`)  |\n",
    "|`&&`          |$14$            |$[L \\to R]$  |Logical AND (also `and`)|"
   ]
  },
  {
   "cell_type": "markdown",
   "id": "3e4283cf",
   "metadata": {},
   "source": [
    "# 4.2 Soln: Workout\n",
    "\n",
    "$$a_{[15]}{}_{[15]}\\texttt{ || }_{[15]}{}_{[15]}b_{[14]}{}_{[14]}\\&\\&_{[14]}{}_{[14]}c_{[15]}{}_{[15]}\\texttt{ || }_{[15]}{}_{[15]}d;$$\n",
    "$$a_{[15]}{}_{[15]}\\texttt{ || }_{[15]}{}_{[15]}(b_{[14]}{}_{[14]}\\&\\&_{[14]}{}_{[14]}c)_{[15]}{}_{[15]}\\texttt{ || }_{[15]}{}_{[15]}d;$$\n",
    "$$a_{[15]}{}_{[15]}\\texttt{ || }_{[15]}{}_{[15]}(b\\&\\&c)_{[15]}{}_{[15]}\\texttt{ || }_{[15]}{}_{[15]}d;$$\n",
    "$$(a_{[15]}{}_{[15]}\\texttt{ || }_{[15]}{}_{[15]}(b\\&\\&c))_{[15]}{}_{[15]}\\texttt{ || }_{[15]}{}_{[15]}d;$$\n",
    "$$(a||(b\\&\\&c))_{[15]}{}_{[15]}\\texttt{ || }_{[15]}{}_{[15]}d;$$\n",
    "$$((a||(b\\&\\&c))_{[15]}{}_{[15]}\\texttt{ || }_{[15]}{}_{[15]}d);$$\n",
    "$$((a||(b\\&\\&c))d);$$"
   ]
  }
 ],
 "metadata": {
  "kernelspec": {
   "display_name": "blog",
   "language": "python",
   "name": "python3"
  },
  "language_info": {
   "codemirror_mode": {
    "name": "ipython",
    "version": 3
   },
   "file_extension": ".py",
   "mimetype": "text/x-python",
   "name": "python",
   "nbconvert_exporter": "python",
   "pygments_lexer": "ipython3",
   "version": "3.13.1"
  }
 },
 "nbformat": 4,
 "nbformat_minor": 5
}
