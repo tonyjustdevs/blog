{
 "cells": [
  {
   "cell_type": "raw",
   "metadata": {
    "vscode": {
     "languageId": "raw"
    }
   },
   "source": [
    "---\n",
    "title: \"Code 9: Creating and using Symlinks\"\n",
    "author: \"Tony Phung\"\n",
    "date: \"2024-09-20\"\n",
    "categories: [coding, linux]\n",
    "image: \"imgs/9symlinks.jpg\"\n",
    "toc: true\n",
    "description: \"Avoiding unnecessarily duplicating files with Symlinks\"\n",
    "---"
   ]
  },
  {
   "cell_type": "markdown",
   "metadata": {
    "vscode": {
     "languageId": "raw"
    }
   },
   "source": [
    "![](imgs/9symlinks.jpg)"
   ]
  },
  {
   "cell_type": "markdown",
   "metadata": {
    "vscode": {
     "languageId": "raw"
    }
   },
   "source": [
    "# 1. The Problem and the **Symlink** Use-Case\n",
    "\n",
    "When starting new projects, I want the least amount of friction from set-up to development:\n",
    "\n",
    "- I've heard of **`symlink`** before but never used them.\n",
    "    - After googling, looks like a perfect use-case.\n",
    "\n",
    "- I noticed I am reusing or updating previous functions and processes from previous projects and \n",
    "    - Resulting in a `tony_files` folder that I always use at initialisation (of projects).\n",
    "\n",
    "- Rather than:\n",
    "    1. Copying the set of tony_files manually each time to every new project,\n",
    "    1. Then save and update all changes to these copy of files as I work on a project. \n",
    "    1. Then copy these files to replace the original files (so I can use these updated files for the next new project)\n",
    "\n",
    "- I can now simply **create a symlink once** to these original tony_files and whenever I update/save them, the originals reference files are automatically updated (removing step 2. and 3. above completely)!"
   ]
  },
  {
   "cell_type": "markdown",
   "metadata": {
    "vscode": {
     "languageId": "sql"
    }
   },
   "source": [
    "# 2. How to Create a Symlink  \n",
    "## 2.1 Check existing Symlinks in **Linux/Ubuntu** (Optional):\n",
    "- A symlink is represented with `->`:   "
   ]
  },
  {
   "cell_type": "code",
   "execution_count": null,
   "metadata": {
    "vscode": {
     "languageId": "shellscript"
    }
   },
   "outputs": [],
   "source": [
    "ls -l /path/to/symlink"
   ]
  },
  {
   "cell_type": "markdown",
   "metadata": {},
   "source": [
    "![](imgs/9tony_files.jpg)\n"
   ]
  },
  {
   "cell_type": "markdown",
   "metadata": {},
   "source": [
    "## 2.2 Check existing Symlinks in **Visual Studio Code** (Optional):\n",
    "- The same symlink is represented by `down-then-right-arrow` (reverse L):"
   ]
  },
  {
   "cell_type": "markdown",
   "metadata": {},
   "source": [
    "![](imgs/9tony_files_vsc.jpg)    "
   ]
  },
  {
   "cell_type": "markdown",
   "metadata": {},
   "source": [
    "## 2.3 Delete existing Symlinks (Optional):"
   ]
  },
  {
   "cell_type": "code",
   "execution_count": null,
   "metadata": {
    "vscode": {
     "languageId": "shellscript"
    }
   },
   "outputs": [],
   "source": [
    "rm /path/to/symlink"
   ]
  },
  {
   "cell_type": "markdown",
   "metadata": {},
   "source": [
    "![](imgs/9rm_symlink.jpg)"
   ]
  },
  {
   "cell_type": "markdown",
   "metadata": {
    "vscode": {
     "languageId": "shellscript"
    }
   },
   "source": [
    "## 2.4 Create a new Symlink"
   ]
  },
  {
   "cell_type": "code",
   "execution_count": null,
   "metadata": {
    "vscode": {
     "languageId": "shellscript"
    }
   },
   "outputs": [],
   "source": [
    "ln -s /path/to/original/file.md /chosen/path/for/symlink/file.md"
   ]
  },
  {
   "cell_type": "markdown",
   "metadata": {
    "vscode": {
     "languageId": "shellscript"
    }
   },
   "source": [
    "## 2.5 Check existing Symlink\n",
    "See the symlink has been established again."
   ]
  },
  {
   "cell_type": "code",
   "execution_count": null,
   "metadata": {
    "vscode": {
     "languageId": "shellscript"
    }
   },
   "outputs": [],
   "source": [
    "ls -l"
   ]
  },
  {
   "cell_type": "markdown",
   "metadata": {
    "vscode": {
     "languageId": "shellscript"
    }
   },
   "source": [
    "![](imgs/9redo_symlink.jpg)"
   ]
  },
  {
   "cell_type": "markdown",
   "metadata": {},
   "source": [
    "# 3. (Bonus) Create Multiple Symlinks [Quick-Fire mode]\n",
    "## 3.1 How-To\n",
    "1. Check files in working directory (wd): `ll` (If symlink existing, it wont be overriden, delete it if required)\n",
    "1. Check files in original directory (ogdir): `ll ~/og_files`  \n",
    "1. Move files required for symlinks: `mv tony_* ~/og_files`\n",
    "1. Check files no longer in wd: `ll`\n",
    "1. Check files are in ogdir: `ll ~/og_files`\n",
    "1. For Loop: create symlinks for files prefixed with `tony_` to wd: `for file in ~/og_files/tony_*; do ln -s $file .; done`\n",
    "1. Check files in wd: `ll`\n",
    "1. Looks all good!"
   ]
  },
  {
   "cell_type": "markdown",
   "metadata": {
    "vscode": {
     "languageId": "shellscript"
    }
   },
   "source": [
    "## 3.2 The Code"
   ]
  },
  {
   "cell_type": "code",
   "execution_count": null,
   "metadata": {
    "vscode": {
     "languageId": "shellscript"
    }
   },
   "outputs": [],
   "source": [
    "ll\n",
    "ll ~/og_files\n",
    "mv tony_* ~/og_files\n",
    "ll\n",
    "ll ~/og_files\n",
    "for file in ~/og_files/tony_*; do ln -s $file .; done\n",
    "ll"
   ]
  },
  {
   "cell_type": "markdown",
   "metadata": {
    "vscode": {
     "languageId": "sql"
    }
   },
   "source": [
    "## 3.3 Screenshot of How-To and Code \n",
    "![](imgs/9multiple_symlinks.jpg)"
   ]
  }
 ],
 "metadata": {
  "kernelspec": {
   "display_name": "fastai",
   "language": "python",
   "name": "python3"
  },
  "language_info": {
   "codemirror_mode": {
    "name": "ipython",
    "version": 3
   },
   "file_extension": ".py",
   "mimetype": "text/x-python",
   "name": "python",
   "nbconvert_exporter": "python",
   "pygments_lexer": "ipython3",
   "version": "3.10.12"
  }
 },
 "nbformat": 4,
 "nbformat_minor": 2
}
