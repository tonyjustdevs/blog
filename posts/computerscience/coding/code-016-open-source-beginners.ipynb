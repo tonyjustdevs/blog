{
 "cells": [
  {
   "cell_type": "raw",
   "metadata": {
    "vscode": {
     "languageId": "raw"
    }
   },
   "source": [
    "---\n",
    "title: \"Code 16: Open Source as a Beginner\"\n",
    "author: \"Tony Phung\"\n",
    "date: \"2024-10-23\"\n",
    "categories: [coding, python]\n",
    "image: \"imgs/16opensource.jpg\"\n",
    "toc: true\n",
    "description: \"Learning How To Contribute to Open Source Projects as a Beginner\"\n",
    "---"
   ]
  },
  {
   "cell_type": "markdown",
   "metadata": {},
   "source": [
    "![](imgs/16opensource.jpg)"
   ]
  },
  {
   "cell_type": "markdown",
   "metadata": {},
   "source": [
    "\n",
    "[FreeCodeCamp Open Source Beginners Guide](https://www.freecodecamp.org/news/how-to-contribute-to-open-source-projects-beginners-guide/)"
   ]
  },
  {
   "cell_type": "markdown",
   "metadata": {},
   "source": [
    "# 1. Questions to be answered\n",
    "- What exactly is open source?\n",
    "- How can you get started contributing?\n",
    "- What should you expect?\n",
    "\n"
   ]
  },
  {
   "cell_type": "markdown",
   "metadata": {},
   "source": [
    "# 2. What is open source?\n",
    "A projects where it's source code is: \n",
    "\n",
    "- made available \n",
    "- to the public to \n",
    "    - view, \n",
    "    - use, \n",
    "    - modify, and \n",
    "    - distribute \n",
    "    under a permissive license. "
   ]
  },
  {
   "cell_type": "markdown",
   "metadata": {},
   "source": [
    "# 3. How to get started?\n",
    "\n",
    "Level 1 Checklist:\n",
    "\n",
    "- Check out if it has a license file.\n",
    "- Check when the last commit was made. This will help you know if the maintainers are active and also give you an estimate on how long it will take to respond to your contribution.\n",
    "- Look for the number of contributors.\n",
    "- Check how often people make commits.\n",
    "\n",
    "Level 2 Checklist:\n",
    "\n",
    "- Does it have any open issues?\n",
    "- How long does it take for maintainers to respond?\n",
    "- Is there an active discussion on an issue?\n",
    "- Are the issues getting closed regularly?\n",
    "- How many open pull requests are there?\n",
    "- How recently was the latest pull requests merged?\n",
    "- Do the maintainers thank people for contributing?\n"
   ]
  },
  {
   "cell_type": "markdown",
   "metadata": {},
   "source": [
    "# 4. How to Submit a PR Request?\n",
    "## 4.1 Step-by-Steps\n",
    "- Fork: os project becomes \"https://github.com/<YourUserName>/projectname\"\n",
    "- Clone:`git clone https://github.com/<YourUserName>/<projectname>`\n",
    "    - this creates a copy of project on local machine\n",
    "- Create local folder + branch: cd to folder + eg `git checkout -b tonyjustdev-branch`\n",
    "    - see all changes:  `git status`\n",
    "    - add all changes:  `git add *`\n",
    "    - commit changes:   `git commit -m \"message here\"`     \n",
    "    - push to remote:   `git push origin tonyjustdev-branch`\n",
    "\n",
    "## 4.2 Advantages of Above Steps\n",
    "- It allows you to contribute to another repo without needing administrative privileges to make changes to the repo.\n",
    "- It allows others to review your changes and suggest corrections, additions, edits, and so on.\n",
    "- It gives repo administrators control over what gets added to their project repo."
   ]
  },
  {
   "cell_type": "markdown",
   "metadata": {
    "vscode": {
     "languageId": "raw"
    }
   },
   "source": [
    "# 5. Let's do it myself!"
   ]
  },
  {
   "cell_type": "markdown",
   "metadata": {},
   "source": [
    "## 5.1 Fork a repo `first contributions`\n",
    "By **forking** a repo, I am creating a copy of the particular repository in my own github account:\n",
    "\n",
    "- Click `fork` button on top right of the repo\n",
    "- Rename **[Repository name]** (if you want)\n",
    "- Click `Create fork`\n",
    "\n",
    "Repo used: https://github.com/firstcontributions/first-contributions."
   ]
  },
  {
   "cell_type": "markdown",
   "metadata": {},
   "source": [
    "![](imgs/16os1.jpg)"
   ]
  },
  {
   "cell_type": "markdown",
   "metadata": {},
   "source": [
    "## 5.2 Clone your forked repo `tonyjustdevs/first-contributions`\n",
    "\n",
    "- Copy URL and `git clone <your copied url>`"
   ]
  },
  {
   "cell_type": "markdown",
   "metadata": {},
   "source": [
    "![](imgs/16os2.jpg)"
   ]
  },
  {
   "cell_type": "markdown",
   "metadata": {},
   "source": [
    "## 5.3 Create local branch\n",
    "### 5.3.1 Clone to local with Windows Terminal\n",
    "My current workflow involves firstly opening VSCode , then creating/switching to a branch in the Terminal of VSCode.\n",
    "\n",
    "- cd to cloned folder\n",
    "- open vscode\n",
    "- create/switch to new branch\n",
    "\n",
    "(I have not had a chance to test whether there a difference to creating the branch first before launching VS Code. I currently run almost all  terminal commands in VSCode's Terminal rather than Windows Terminal)"
   ]
  },
  {
   "cell_type": "markdown",
   "metadata": {},
   "source": [
    "![](imgs/16os3.jpg)"
   ]
  },
  {
   "cell_type": "markdown",
   "metadata": {},
   "source": [
    "### 5.3.2 Create Local Branch with VS Code's Terminal\n",
    "\n",
    "VSCode shows which branch you're currently in which is neat.\n",
    "\n",
    "![](imgs/16os4.jpg)"
   ]
  },
  {
   "cell_type": "markdown",
   "metadata": {},
   "source": [
    "# 6. Make Changes via IDE (VSCode)\n",
    "- Add myself to `Contributors.md`, ***preview***, then ***save*** the file [Label 1 & 2]\n",
    "- Check status: `git status` [Label 3]\n",
    "- Add changes (local branch): `git add Contributors.md` [Label 3]\n",
    "- Commit: `git commit -m \"Add your-name to Contributors list\"` [Label 3]\n",
    "- Push (remote branch): `git push -u origin your-branch-name` [Label 3]\n",
    "\n",
    "![](imgs/16os5.jpg)"
   ]
  },
  {
   "cell_type": "markdown",
   "metadata": {},
   "source": [
    "# 7. Create Pull Requests\n",
    "- Go to your forked repo and you should see a **Compare & pull request** button to click. Click it.\n",
    "\n",
    "![](imgs/16os6.jpg)\n"
   ]
  },
  {
   "cell_type": "markdown",
   "metadata": {},
   "source": [
    "- Then Submit via **Create pull request** button.\n",
    "\n",
    "![](imgs/16os7.jpg)"
   ]
  },
  {
   "cell_type": "markdown",
   "metadata": {},
   "source": [
    "# 8. Wait for it to be Merged\n",
    "\n",
    "![](imgs/16os8.jpg)"
   ]
  },
  {
   "cell_type": "markdown",
   "metadata": {},
   "source": [
    "# 9. Merge Successful!\n",
    "\n",
    "![](imgs/16os9.jpg)"
   ]
  },
  {
   "cell_type": "markdown",
   "metadata": {
    "vscode": {
     "languageId": "raw"
    }
   },
   "source": [
    "# 10. Don't forget to Star🌟 it\n",
    "\n",
    "![](imgs/16os10.jpg)"
   ]
  },
  {
   "cell_type": "markdown",
   "metadata": {},
   "source": [
    "# 11. Don't let the fame get to you Tony\n",
    "\n",
    "![](imgs/16os11.jpg)\n"
   ]
  }
 ],
 "metadata": {
  "kernelspec": {
   "display_name": "blog-T-2huGx2",
   "language": "python",
   "name": "python3"
  },
  "language_info": {
   "codemirror_mode": {
    "name": "ipython",
    "version": 3
   },
   "file_extension": ".py",
   "mimetype": "text/x-python",
   "name": "python",
   "nbconvert_exporter": "python",
   "pygments_lexer": "ipython3",
   "version": "3.10.12"
  }
 },
 "nbformat": 4,
 "nbformat_minor": 2
}
