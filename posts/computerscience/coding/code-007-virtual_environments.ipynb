{
 "cells": [
  {
   "cell_type": "raw",
   "metadata": {
    "vscode": {
     "languageId": "raw"
    }
   },
   "source": [
    "---\n",
    "title: \"Code 7: Virtual Environments\"\n",
    "author: \"Tony Phung\"\n",
    "date: \"2024-07-20\"\n",
    "categories: [coding, python]\n",
    "image: \"imgs/7virtual.jpg\"\n",
    "toc: true\n",
    "description: \"Setting up virtual environments to produce reproducible work\"\n",
    "---"
   ]
  },
  {
   "cell_type": "markdown",
   "metadata": {},
   "source": [
    "![](imgs/7virtual.jpg)"
   ]
  },
  {
   "cell_type": "markdown",
   "metadata": {},
   "source": [
    "## 1. Virtual Environments\n",
    "\n",
    "A **virtual environment** in Python is a self-contained directory that contains a Python installation and a set of packages.\n",
    "\n",
    "This post will go through 3 methods to create virtual environments:\n",
    "- `venv`\n",
    "- `conda` virtual environments\n",
    "- `pipenv`\n",
    "\n",
    "\n",
    "## 2. Purpose\n",
    "\n",
    "**Dependency Management**:  \n",
    "- Different projects may require different versions of the same package.   \n",
    "- Virtual environments allow you to maintain these dependencies separately.\n",
    "\n",
    "**Isolation**:  \n",
    "- Packages installed in a virtual environment are isolated from those installed system-wide or in other virtual environments  \n",
    "- Reducing the risk of version conflicts and compatibility issues.\n",
    "\n",
    "**Portability**:  \n",
    "- A virtual environment can be easily replicated on another system by sharing the environment configuration file, such as requirements.txt."
   ]
  },
  {
   "cell_type": "markdown",
   "metadata": {},
   "source": [
    "## 3. Method 1: `venv`"
   ]
  },
  {
   "cell_type": "code",
   "execution_count": null,
   "metadata": {
    "vscode": {
     "languageId": "shellscript"
    }
   },
   "outputs": [],
   "source": [
    "mkdir proj && cd $_         # create proj1 and cd into proj1\n",
    "python -m venv venv1        # run python module venv and create venv1\n",
    "ls                          # note: venv1 folder is created (inside proj1)\n",
    "source venv1/bin/activate   # activate venv1 by running bash script with source\n",
    "(venv1)                     # note: (venv1) appears in front of (base) in terminal\n",
    "pip freeze                  # note: no packages installed so no output\n",
    "pip install sqalchemy       # install packages required\n",
    "pip freeze                  # see list of packages installed\n",
    "deactivate                  # deactivate venv1"
   ]
  },
  {
   "cell_type": "markdown",
   "metadata": {},
   "source": [
    "![](imgs/7venv.jpg)"
   ]
  }
 ],
 "metadata": {
  "kernelspec": {
   "display_name": "fastai",
   "language": "python",
   "name": "python3"
  },
  "language_info": {
   "codemirror_mode": {
    "name": "ipython",
    "version": 3
   },
   "file_extension": ".py",
   "mimetype": "text/x-python",
   "name": "python",
   "nbconvert_exporter": "python",
   "pygments_lexer": "ipython3",
   "version": "3.12.2"
  }
 },
 "nbformat": 4,
 "nbformat_minor": 2
}
