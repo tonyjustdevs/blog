{
 "cells": [
  {
   "cell_type": "raw",
   "metadata": {},
   "source": [
    "---\n",
    "title: \"Post With Git Clone\"\n",
    "author: \"Tony Phung\"\n",
    "date: \"2024-01-16\"\n",
    "date-modified: \"2024-01-16\"\n",
    "categories: [quarto test]\n",
    "image: \"clone.jpg\"\n",
    "---\n",
    "\n",
    "![](clone.jpg)\n",
    "\n",
    "1. Learning how git work and \n",
    "2. this is a post initiated by cloning existing repo. \n"
   ]
  }
 ],
 "metadata": {
  "kernelspec": {
   "display_name": "fast_ai",
   "language": "python",
   "name": "python3"
  },
  "language_info": {
   "codemirror_mode": {
    "name": "ipython",
    "version": 3
   },
   "file_extension": ".py",
   "mimetype": "text/x-python",
   "name": "python",
   "nbconvert_exporter": "python",
   "pygments_lexer": "ipython3",
   "version": "3.11.5"
  }
 },
 "nbformat": 4,
 "nbformat_minor": 2
}
