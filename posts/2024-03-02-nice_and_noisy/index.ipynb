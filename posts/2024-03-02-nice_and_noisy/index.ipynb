{
 "cells": [
  {
   "cell_type": "raw",
   "metadata": {},
   "source": [
    "---\n",
    "title: \"How to add noise to data\"\n",
    "author: \"Tony Phung\"\n",
    "date: \"2024-03-02\"\n",
    "categories: [basics]\n",
    "image: \"noise.jpg\"\n",
    "toc: true\n",
    "description: \"A simple function to add noise\"\n",
    "---"
   ]
  },
  {
   "cell_type": "markdown",
   "metadata": {},
   "source": [
    "![](noise.jpg)"
   ]
  },
  {
   "cell_type": "markdown",
   "metadata": {},
   "source": [
    "# 1. Introduction\n",
    "\n",
    "Adding noise can be useful for siulating real-world scenarios where measurements are often accompanied with some level of random error."
   ]
  },
  {
   "cell_type": "markdown",
   "metadata": {},
   "source": [
    "# 2. The Function\n",
    "\n",
    "Lets write a simple function named `noise` that add `Gaussian` noise to an existing array."
   ]
  },
  {
   "cell_type": "code",
   "execution_count": 3,
   "metadata": {},
   "outputs": [],
   "source": [
    "import numpy as np\n",
    "def noise(y, scale): \n",
    "    return np.random.normal(scale=scale, size=y.shape)"
   ]
  },
  {
   "cell_type": "markdown",
   "metadata": {},
   "source": [
    "## 2.1 Parameters\n",
    "\n",
    "`y`: \n",
    "- The input array to which noise will be added.  \n",
    "\n",
    "`scale`: \n",
    "- The standard deviation of the added noise (a floating-point number). \n",
    "- A higher value for scale results in larger variations in the noise.\n"
   ]
  },
  {
   "cell_type": "markdown",
   "metadata": {},
   "source": [
    "## 2.2 Function Body:\n",
    "\n",
    "`np.random.normal(scale=scale, size=y.shape)`: \n",
    "- This line utilizes the ***normal function*** from NumPy's random module.\n",
    "\n",
    "`scale=scale`: \n",
    "- The ***standard deviation*** of the generated noise distribution.\n",
    "\n",
    "`size=y.shape`: \n",
    "- Ensures that the generated noise array has the same shape as the input array `y`. \n",
    "- Allows ***element-wise*** addition of noise to the original data.\n"
   ]
  },
  {
   "cell_type": "markdown",
   "metadata": {},
   "source": [
    "## 2.3 Return Value:\n",
    "- NumPy array with the ***same shape*** as the input array `y`. \n",
    "- This `returned array` contains random values drawn from a ***normal distribution*** with the specified standard deviation (`scale`).\n"
   ]
  },
  {
   "cell_type": "markdown",
   "metadata": {},
   "source": [
    "# 3. Real World Applications"
   ]
  },
  {
   "cell_type": "markdown",
   "metadata": {},
   "source": [
    "## 3.1 Regularization and Preventing Memorization:\n",
    "`Avoid and  Discouraging Overfitting`: \n",
    "- Adding random noise to the input data can act as a form of regularization, preventing the model from fitting the training data too closely. \n",
    "- This can improve the generalization of the model to new, unseen data.\n",
    "- Models that are too complex may memorize the training data instead of learning the underlying patterns. \n",
    "- Adding noise makes it more challenging for the model to memorize specific examples and encourages it to focus on general patterns.\n",
    "\n",
    "## 3.2 Data Augmentation:\n",
    "`Increased Variability`: \n",
    "- Introducing noise during training can artificially increase the variability in the dataset. \n",
    "- This can be particularly useful when dealing with limited training data, helping the model generalize better to different variations of the input.\n",
    "\n",
    "## 3.3 Robustness Testing:\n",
    "`Model Robustness`: \n",
    "- Adding noise during training can make the model more robust to variations and uncertainties in real-world data. \n",
    "- This is especially important when the model needs to perform well on data that may have different levels of noise or unexpected variations.\n",
    "\n",
    "## 3.4 Stochasticity in Training:\n",
    "`Encouraging Exploration`: \n",
    "- During the training process, introducing randomness can encourage the model to explore different parts of the parameter space. \n",
    "- This can be especially beneficial in reinforcement learning or optimization problems, helping to avoid getting stuck in local minima.\n"
   ]
  }
 ],
 "metadata": {
  "kernelspec": {
   "display_name": "fastai",
   "language": "python",
   "name": "python3"
  },
  "language_info": {
   "codemirror_mode": {
    "name": "ipython",
    "version": 3
   },
   "file_extension": ".py",
   "mimetype": "text/x-python",
   "name": "python",
   "nbconvert_exporter": "python",
   "pygments_lexer": "ipython3",
   "version": "3.11.5"
  }
 },
 "nbformat": 4,
 "nbformat_minor": 2
}
