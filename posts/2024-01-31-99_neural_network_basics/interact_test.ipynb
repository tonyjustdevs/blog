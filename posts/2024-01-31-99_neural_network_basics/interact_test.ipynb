{
 "cells": [
  {
   "cell_type": "code",
   "execution_count": null,
   "metadata": {},
   "outputs": [],
   "source": [
    "import torch\n",
    "import matplotlib.pyplot as plt\n",
    "import pandas as pd\n",
    "\n",
    "# Assuming df, custom_quad_fn, mae, and other necessary functions are defined\n",
    "\n",
    "plt.rc('figure', dpi=90)\n",
    "\n",
    "def interactive_plot(a, b, c):\n",
    "    # Your existing plotting code here\n",
    "    plt.scatter(df.x, df.y)\n",
    "    xs_interact = torch.linspace(-2.1, 2.1, 100)\n",
    "    plt.ylim(-1, 15)\n",
    "    ys_interact = custom_quad_fn(a, b, c)(xs_interact)\n",
    "    y_actual = df.y\n",
    "    y_predicted = custom_quad_fn(a, b, c)(df.x)\n",
    "    interact_mae = round(mae(y_actual, y_predicted), 3)\n",
    "    plt.plot(xs_interact, ys_interact)\n",
    "    plt.title(f\"MAE: {interact_mae}\")\n",
    "\n",
    "# Use nbi.show to define the interactive plot\n",
    "nbi.show(interactive_plot, a=(0, 5, 0.1), b=(0, 5, 0.1), c=(0, 5, 0.1))\n"
   ]
  }
 ],
 "metadata": {
  "language_info": {
   "name": "python"
  }
 },
 "nbformat": 4,
 "nbformat_minor": 2
}
