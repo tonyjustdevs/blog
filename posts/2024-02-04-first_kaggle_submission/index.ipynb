{
 "cells": [
  {
   "cell_type": "raw",
   "metadata": {},
   "source": [
    "---\n",
    "title: \"First Kaggle Submission - Titanic\"\n",
    "author: \"Tony Phung\"\n",
    "date: \"2024-02-04\"\n",
    "categories: [basics, excel]\n",
    "image: \"titanic.jpg\"\n",
    "toc: true\n",
    "description: \"Creating a Neural Network model in Excel and Submitting to Kaggle\"\n",
    "---"
   ]
  },
  {
   "cell_type": "markdown",
   "metadata": {},
   "source": [
    "![](activation.jpg)"
   ]
  },
  {
   "cell_type": "markdown",
   "metadata": {},
   "source": [
    "## 1. Download Kaggle Data\n",
    "\n",
    "Log into Kaggle:  \n",
    "1. Competitions    \n",
    "2. Titanic  \n",
    "3. Data  \n",
    "4. Train.csv and Download\n",
    "\n",
    "![](data.jpg)\n",
    "![](data2.jpg)"
   ]
  },
  {
   "cell_type": "markdown",
   "metadata": {},
   "source": [
    "## 2. Clean Dataset\n",
    "\n",
    "Each single passenger is represented by a single row with demographics and information across the columns. \n",
    "\n",
    "For this first attempt, I'll keep the model simple and used 8 columns and discarded the rest.\n",
    "\n",
    "**[Future Iteration]**: Would using more columns increase my accuracy?\n",
    "\n",
    "*The **training set** should be used to build your machine learning models. For the training set, we provide the outcome (also known as the “**ground truth**”) for each passenger* - [Kaggle Data Description](https://www.kaggle.com/competitions/titanic/data)\n",
    "\n",
    "Note: There are originally 891 Passengers (rows) in the `training` dataset.\n",
    "\n",
    "There were a few steps taken to clean the data:  \n",
    "1. Keep Certain Columns Only:  \n",
    "    - Survived\t\n",
    "    - Pclass\n",
    "    - Sex\n",
    "    - Age\n",
    "    - SibSp\n",
    "    - Parch\n",
    "    - Fare\n",
    "    - Embarked\n",
    "2. Remove blanks from:\n",
    "    - `Sex` (177 rows removed) \n",
    "    - `Embarked` (2 rows removed)\n",
    "Columns: Remaining Passengers (712 = 891-177-2)\n",
    "\n",
    "3. Create a **New Sheet** and Copy over the editted Dataset\n",
    "\n",
    "![](clean.jpg)\n"
   ]
  },
  {
   "cell_type": "markdown",
   "metadata": {},
   "source": [
    "## 3. Binary Categorical Variables\n",
    "\n",
    "Recall a Function has `inputs` and `parameters`. The output is calculated by adding the all the inputs which are weighted (multiplied) by the parameters.\n",
    "\n",
    "In [neural network basics](https://tonyjustdevs.github.io/blog/posts/2024-01-31-99_neural_network_basics/): \n",
    "- the inputs were a single variable `x` and the output was a single `y` (or `f(x)`).  \n",
    "- the **parameters** (coefficients of `x`) could be optimised against a **Loss Function** (Mean Squared Error) to achieve a high accuracy (good predictability) for that function, called **Gradient Descent** \n",
    "- an arbitrary number of **Rectified Linear Unit (ReLU)** could be added together to form any function to fit a given set of data and parameter (weights) can be optimised to minimise the loss function as above with gradient descent.\n",
    "\n",
    "Similarly, the inputs in the Titanic model will be the information describing the passengers, i.e. columns in our spreadsheet, are multiplied by the parameters (weights or coefficients) to represents its importance.\n",
    "\n",
    "- **Question**:  ***But*** how can a parameter (***number***) be multiplied to word (***text***) such as `male` or `female` from the `Sex` Column or Letter `S` or `C` or `Q` from the `Embarked` Column? \n",
    "- **Answer**: You Can't.\n",
    "\n",
    "However, **Categorical Variables** (unordered) can be converted into **Binary Categorical Variables**:  \n",
    "    - `IsMale` will indicate a `1` for True (Male) and `0` for False (Female)  \n",
    "    - `Embarked` has 3 categories \"`S`, `C` and `Q`: Having two columns (`S` and `C`) to represent the 3 categories will suffice. If both `S` and `C` columns have `0`'s, this implies it is a `Q`, so we do not need the extra column to have all the information.  \n",
    "    - `PClass` (`1`, `2` and `3`) also has 3 categories and is treated the same as above.  \n",
    "    - `Age` and `Fare` are continuous values and left them as is for now\n",
    "\n",
    "![](model.jpg)\n"
   ]
  },
  {
   "cell_type": "markdown",
   "metadata": {},
   "source": [
    "## 4. First Model\n",
    "\n",
    "I created random variables (coefficients or weights for our parameters) with rand() and multiplied them to each parameter.\n",
    "I did this for several rows to and looked at the output.\n",
    "\n",
    "Looks like `Age` and `Fare` columns are dominating our function. \n",
    "\n",
    "![](model1.jpg)"
   ]
  },
  {
   "cell_type": "markdown",
   "metadata": {},
   "source": [
    "### 4.1 Normalising Continuous Variables `Age` and `Fare`\n",
    "Its probably fair (see what I did there) that a Passenger's age (or fare) shouldn't be the only two defining factors to determine their survivability as the above model suggests.\n",
    "\n",
    "These values need to be `normalised`."
   ]
  },
  {
   "cell_type": "markdown",
   "metadata": {},
   "source": [
    "###"
   ]
  },
  {
   "cell_type": "raw",
   "metadata": {},
   "source": []
  }
 ],
 "metadata": {
  "kernelspec": {
   "display_name": "fastai",
   "language": "python",
   "name": "python3"
  },
  "language_info": {
   "codemirror_mode": {
    "name": "ipython",
    "version": 3
   },
   "file_extension": ".py",
   "mimetype": "text/x-python",
   "name": "python",
   "nbconvert_exporter": "python",
   "pygments_lexer": "ipython3",
   "version": "3.11.5"
  }
 },
 "nbformat": 4,
 "nbformat_minor": 2
}
