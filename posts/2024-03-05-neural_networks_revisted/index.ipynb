{
 "cells": [
  {
   "cell_type": "raw",
   "metadata": {
    "editable": true,
    "raw_mimetype": "",
    "slideshow": {
     "slide_type": ""
    },
    "tags": []
   },
   "source": [
    "---\n",
    "title: \"Neural Networks revisited\"\n",
    "author: \"Tony Phung\"\n",
    "date: \"2024-03-05\"\n",
    "categories: [basics]\n",
    "image: \"graddesc.jpg\"\n",
    "toc: true\n",
    "description: \"Neural networks revisited from scratch from jupyter notebooks in linux\"\n",
    "---"
   ]
  },
  {
   "cell_type": "markdown",
   "metadata": {},
   "source": [
    "![](graddesc.jpg)"
   ]
  },
  {
   "cell_type": "code",
   "execution_count": 1,
   "metadata": {
    "editable": true,
    "slideshow": {
     "slide_type": ""
    },
    "tags": []
   },
   "outputs": [
    {
     "name": "stdout",
     "output_type": "stream",
     "text": [
      "/home/tonydevs/miniforge3/envs/fast/bin/python\n"
     ]
    }
   ],
   "source": [
    "!which python"
   ]
  },
  {
   "cell_type": "code",
   "execution_count": 2,
   "metadata": {},
   "outputs": [
    {
     "name": "stdout",
     "output_type": "stream",
     "text": [
      "# conda environments:\n",
      "#\n",
      "base                     /home/tonydevs/miniforge3\n",
      "fast                  *  /home/tonydevs/miniforge3/envs/fast\n",
      "fastai                   /home/tonydevs/miniforge3/envs/fastai\n",
      "\n",
      "\n",
      "Note: you may need to restart the kernel to use updated packages.\n"
     ]
    }
   ],
   "source": [
    "conda env list"
   ]
  },
  {
   "cell_type": "code",
   "execution_count": 3,
   "metadata": {},
   "outputs": [],
   "source": [
    "import torch"
   ]
  },
  {
   "cell_type": "code",
   "execution_count": 4,
   "metadata": {},
   "outputs": [
    {
     "data": {
      "text/plain": [
       "tensor([1, 1, 1])"
      ]
     },
     "execution_count": 4,
     "metadata": {},
     "output_type": "execute_result"
    }
   ],
   "source": [
    "torch.tensor([1,1,1])"
   ]
  },
  {
   "cell_type": "code",
   "execution_count": 5,
   "metadata": {},
   "outputs": [],
   "source": [
    "import numpy as np\n",
    "from functools import partial\n",
    "from ipywidgets import interact\n",
    "import torch\n",
    "import matplotlib.pyplot as plt"
   ]
  },
  {
   "cell_type": "code",
   "execution_count": 6,
   "metadata": {},
   "outputs": [],
   "source": [
    "def quad(a,b,c,x): return a*x**2 + b*x + c\n",
    "def quad_abc_fn(a,b,c): return partial(quad,a,b,c)"
   ]
  },
  {
   "cell_type": "code",
   "execution_count": 7,
   "metadata": {},
   "outputs": [
    {
     "data": {
      "application/vnd.jupyter.widget-view+json": {
       "model_id": "4d840f58b5a0415ea9f62337f00c2fc2",
       "version_major": 2,
       "version_minor": 0
      },
      "text/plain": [
       "interactive(children=(IntSlider(value=3, description='a', max=9, min=-3), IntSlider(value=2, description='b', …"
      ]
     },
     "metadata": {},
     "output_type": "display_data"
    }
   ],
   "source": [
    "# a=3\n",
    "# b=2\n",
    "# c=1\n",
    "\n",
    "@interact(a=3,b=2,c=1)\n",
    "def plot_quad(a,b,c):\n",
    "    xs_plotting = torch.linspace(-2.1, 2.1, steps=100)\n",
    "    quad_model_fn = quad_abc_fn(a,b,c)\n",
    "    ys_plotting = quad_model_fn(xs_plotting)\n",
    "    plt.ylim((-1,15))\n",
    "    plt.xlim((-2.1,2.1))\n",
    "    plt.plot(xs_plotting, ys_plotting)\n",
    "\n",
    "    # Save the plot as an image\n",
    "    plt.savefig(\"quad_plot1.png\")"
   ]
  },
  {
   "cell_type": "markdown",
   "metadata": {},
   "source": [
    "![](quad_plot1.png)"
   ]
  },
  {
   "cell_type": "code",
   "execution_count": 8,
   "metadata": {},
   "outputs": [],
   "source": [
    "# 1. get 20 samples of actual data\n",
    "quad_321_model = quad_abc_fn(3,2,1)\n",
    "xs_actual = xs_321_20_inputs_tsr = torch.linspace(-2,2,steps=20)\n",
    "ys_actual = ys_321_20_actual_tsr = quad_321_model(xs_321_20_inputs_tsr)\n",
    "\n",
    "np.random.seed(42)\n",
    "\n",
    "def noise(tsr, scale): return np.random.normal(scale=scale, size=tsr.shape)\n",
    "def add_noise(tsr,scale,add):\n",
    "    scale_noise = tsr*noise(tsr, scale)\n",
    "    added_noise = noise(tsr, scale)\n",
    "    total_noise = scale_noise + added_noise\n",
    "    tsr_noisify = tsr + total_noise \n",
    "    return tsr_noisify\n",
    "\n",
    "# 2. add noise to 20 samples of actual data\n",
    "ys_noisey = ys_321_20_noisey_tsr = add_noise(ys_actual, 0.15, 0.5)"
   ]
  },
  {
   "cell_type": "code",
   "execution_count": 9,
   "metadata": {},
   "outputs": [],
   "source": [
    "# 3. cal mae\n",
    "def mae_calc(actual, preds): return torch.abs(actual-preds).mean()\n"
   ]
  },
  {
   "cell_type": "code",
   "execution_count": 10,
   "metadata": {},
   "outputs": [
    {
     "data": {
      "application/vnd.jupyter.widget-view+json": {
       "model_id": "5855da0b8307485ab6cc8f504da85320",
       "version_major": 2,
       "version_minor": 0
      },
      "text/plain": [
       "interactive(children=(FloatSlider(value=1.1, description='a', max=3.3000000000000003, min=-1.1), FloatSlider(v…"
      ]
     },
     "metadata": {},
     "output_type": "display_data"
    }
   ],
   "source": [
    "@interact(a=1.1,b=1.1,c=1.1)\n",
    "def plot_all(a,b,c):\n",
    "    plot_quad(a,b,c)\n",
    "    plt.scatter(xs_actual,ys_noisey)\n",
    "    ys_preds = quad_abc_fn(a,b,c)(xs_actual)\n",
    "    mae = mae_calc(ys_noisey, ys_preds)\n",
    "\n",
    "    plt.title(label=f\"MAE: {mae:.2f}\")\n",
    "    # Save the plot as an image\n",
    "    plt.savefig(\"quad_plot2.png\")"
   ]
  },
  {
   "cell_type": "markdown",
   "metadata": {},
   "source": [
    "![](quad_plot2.png)"
   ]
  },
  {
   "cell_type": "code",
   "execution_count": 11,
   "metadata": {},
   "outputs": [
    {
     "data": {
      "text/plain": [
       "tensor(2.3439, dtype=torch.float64)"
      ]
     },
     "execution_count": 11,
     "metadata": {},
     "output_type": "execute_result"
    }
   ],
   "source": [
    "def loss_function(params):\n",
    "    model = quad_abc_fn(*params)\n",
    "    ys_preds = model(xs_actual)\n",
    "    return mae_calc(ys_noisey, ys_preds)\n",
    "\n",
    "loss_function([1.1,1.1,1.1])"
   ]
  },
  {
   "cell_type": "code",
   "execution_count": 12,
   "metadata": {},
   "outputs": [
    {
     "data": {
      "text/plain": [
       "tensor([1.1000, 1.1000, 1.1000])"
      ]
     },
     "execution_count": 12,
     "metadata": {},
     "output_type": "execute_result"
    }
   ],
   "source": [
    "abc_tsr = torch.tensor([1.1,1.1,1.1])\n",
    "abc_tsr"
   ]
  },
  {
   "cell_type": "code",
   "execution_count": 13,
   "metadata": {},
   "outputs": [
    {
     "data": {
      "text/plain": [
       "tensor([1.1000, 1.1000, 1.1000], requires_grad=True)"
      ]
     },
     "execution_count": 13,
     "metadata": {},
     "output_type": "execute_result"
    }
   ],
   "source": [
    "abc_tsr.requires_grad_()"
   ]
  },
  {
   "cell_type": "code",
   "execution_count": 14,
   "metadata": {},
   "outputs": [
    {
     "data": {
      "text/plain": [
       "tensor(2.3439, dtype=torch.float64, grad_fn=<MeanBackward0>)"
      ]
     },
     "execution_count": 14,
     "metadata": {},
     "output_type": "execute_result"
    }
   ],
   "source": [
    "loss = loss_function(abc_tsr)\n",
    "loss"
   ]
  },
  {
   "cell_type": "code",
   "execution_count": 15,
   "metadata": {},
   "outputs": [],
   "source": [
    "loss.backward()"
   ]
  },
  {
   "cell_type": "code",
   "execution_count": 16,
   "metadata": {},
   "outputs": [
    {
     "data": {
      "text/plain": [
       "tensor([-1.4615, -0.0316, -0.7000])"
      ]
     },
     "execution_count": 16,
     "metadata": {},
     "output_type": "execute_result"
    }
   ],
   "source": [
    "abc_tsr.grad"
   ]
  },
  {
   "cell_type": "code",
   "execution_count": 17,
   "metadata": {},
   "outputs": [
    {
     "name": "stdout",
     "output_type": "stream",
     "text": [
      "tensor(2.3176, dtype=torch.float64)\n"
     ]
    }
   ],
   "source": [
    "with torch.no_grad():\n",
    "    abc_tsr -= abc_tsr.grad * 0.01\n",
    "    loss = loss_function(abc_tsr)\n",
    "    print(loss)"
   ]
  },
  {
   "cell_type": "code",
   "execution_count": 18,
   "metadata": {},
   "outputs": [
    {
     "name": "stdout",
     "output_type": "stream",
     "text": [
      "tensor(2.3176, dtype=torch.float64, grad_fn=<MeanBackward0>) tensor([1.1438, 1.1009, 1.1210], requires_grad=True) tensor([-2.9230, -0.0632, -1.4000])\n",
      "tensor(2.2651, dtype=torch.float64, grad_fn=<MeanBackward0>) tensor([1.1877, 1.1019, 1.1420], requires_grad=True) tensor([-4.3845, -0.0947, -2.1000])\n",
      "tensor(2.1862, dtype=torch.float64, grad_fn=<MeanBackward0>) tensor([1.2461, 1.1032, 1.1700], requires_grad=True) tensor([-5.8460, -0.1263, -2.8000])\n",
      "tensor(2.0822, dtype=torch.float64, grad_fn=<MeanBackward0>) tensor([1.3189, 1.1053, 1.2040], requires_grad=True) tensor([-7.2798, -0.2105, -3.4000])\n",
      "tensor(1.9572, dtype=torch.float64, grad_fn=<MeanBackward0>) tensor([1.4061, 1.1082, 1.2440], requires_grad=True) tensor([-8.7136, -0.2947, -4.0000])\n",
      "tensor(1.8138, dtype=torch.float64, grad_fn=<MeanBackward0>) tensor([1.5070, 1.1113, 1.2890], requires_grad=True) tensor([-10.0931,  -0.3053,  -4.5000])\n",
      "tensor(1.6553, dtype=torch.float64, grad_fn=<MeanBackward0>) tensor([1.6212, 1.1152, 1.3380], requires_grad=True) tensor([-11.4183,  -0.3895,  -4.9000])\n",
      "tensor(1.4840, dtype=torch.float64, grad_fn=<MeanBackward0>) tensor([1.7486, 1.1199, 1.3910], requires_grad=True) tensor([-12.7435,  -0.4737,  -5.3000])\n",
      "tensor(1.3084, dtype=torch.float64, grad_fn=<MeanBackward0>) tensor([1.8884, 1.1264, 1.4470], requires_grad=True) tensor([-13.9789,  -0.6526,  -5.6000])\n",
      "tensor(1.1322, dtype=torch.float64, grad_fn=<MeanBackward0>) tensor([2.0392, 1.1359, 1.5050], requires_grad=True) tensor([-15.0803,  -0.9474,  -5.8000])\n"
     ]
    }
   ],
   "source": [
    "for i in range(10):\n",
    "    loss = loss_function(abc_tsr)\n",
    "    loss.backward()\n",
    "    with torch.no_grad():\n",
    "        abc_tsr -= 0.01 * abc_tsr.grad\n",
    "    print(loss, abc_tsr, abc_tsr.grad)"
   ]
  },
  {
   "cell_type": "code",
   "execution_count": 19,
   "metadata": {},
   "outputs": [
    {
     "data": {
      "text/plain": [
       "tensor([2.0392, 1.1359, 1.5050], requires_grad=True)"
      ]
     },
     "execution_count": 19,
     "metadata": {},
     "output_type": "execute_result"
    }
   ],
   "source": [
    "abc_tsr"
   ]
  },
  {
   "cell_type": "code",
   "execution_count": 20,
   "metadata": {},
   "outputs": [
    {
     "data": {
      "application/vnd.jupyter.widget-view+json": {
       "model_id": "74ea7058b8bf457e80a3f1558bc9426d",
       "version_major": 2,
       "version_minor": 0
      },
      "text/plain": [
       "interactive(children=(FloatSlider(value=2.039224147796631, description='a', max=6.117672443389893, min=-2.0392…"
      ]
     },
     "metadata": {},
     "output_type": "display_data"
    }
   ],
   "source": [
    "a,b,c = abc_tsr.tolist()\n",
    "\n",
    "@interact(a=a,b=b,c=c)\n",
    "def plot_all_after_gradient_descent(a,b,c):\n",
    "    plot_quad(a,b,c)\n",
    "    plt.scatter(xs_actual,ys_noisey)\n",
    "    ys_preds = quad_abc_fn(a,b,c)(xs_actual)\n",
    "    mae = mae_calc(ys_noisey, ys_preds)\n",
    "\n",
    "    plt.title(label=f\"MAE: {mae:.2f}\")\n",
    "    # Save the plot as an image\n",
    "    plt.savefig(\"quad_plot3.png\")"
   ]
  },
  {
   "cell_type": "markdown",
   "metadata": {},
   "source": [
    "![](quad_plot3.png)  \n",
    "\n",
    "See mae reduced to 0.94 after gradient descent"
   ]
  },
  {
   "cell_type": "code",
   "execution_count": null,
   "metadata": {},
   "outputs": [],
   "source": []
  },
  {
   "cell_type": "code",
   "execution_count": null,
   "metadata": {},
   "outputs": [],
   "source": []
  },
  {
   "cell_type": "code",
   "execution_count": null,
   "metadata": {},
   "outputs": [],
   "source": []
  }
 ],
 "metadata": {
  "kernelspec": {
   "display_name": "Python 3 (ipykernel)",
   "language": "python",
   "name": "python3"
  },
  "language_info": {
   "codemirror_mode": {
    "name": "ipython",
    "version": 3
   },
   "file_extension": ".py",
   "mimetype": "text/x-python",
   "name": "python",
   "nbconvert_exporter": "python",
   "pygments_lexer": "ipython3",
   "version": "3.12.2"
  }
 },
 "nbformat": 4,
 "nbformat_minor": 4
}
