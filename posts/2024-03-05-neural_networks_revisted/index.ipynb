{
 "cells": [
  {
   "cell_type": "raw",
   "metadata": {
    "editable": true,
    "raw_mimetype": "",
    "slideshow": {
     "slide_type": ""
    },
    "tags": []
   },
   "source": [
    "---\n",
    "title: \"Neural Networks revisited\"\n",
    "author: \"Tony Phung\"\n",
    "date: \"2024-03-05\"\n",
    "categories: [basics]\n",
    "image: \"graddesc.jpg\"\n",
    "toc: true\n",
    "description: \"Neural networks revisited from scratch from jupyter notebooks in linux\"\n",
    "---"
   ]
  },
  {
   "cell_type": "markdown",
   "metadata": {},
   "source": [
    "![](graddesc.jpg)"
   ]
  },
  {
   "cell_type": "code",
   "execution_count": null,
   "metadata": {
    "editable": true,
    "slideshow": {
     "slide_type": ""
    },
    "tags": []
   },
   "outputs": [],
   "source": [
    "!which python"
   ]
  },
  {
   "cell_type": "code",
   "execution_count": null,
   "metadata": {},
   "outputs": [],
   "source": [
    "conda env list"
   ]
  },
  {
   "cell_type": "code",
   "execution_count": null,
   "metadata": {},
   "outputs": [],
   "source": [
    "import torch"
   ]
  },
  {
   "cell_type": "code",
   "execution_count": null,
   "metadata": {},
   "outputs": [],
   "source": [
    "torch.tensor([1,1,1])"
   ]
  },
  {
   "cell_type": "code",
   "execution_count": null,
   "metadata": {},
   "outputs": [],
   "source": [
    "import numpy as np\n",
    "from functools import partial\n",
    "from ipywidgets import interact\n",
    "import torch\n",
    "import matplotlib.pyplot as plt"
   ]
  },
  {
   "cell_type": "code",
   "execution_count": null,
   "metadata": {},
   "outputs": [],
   "source": [
    "def quad(a,b,c,x): return a*x**2 + b*x + c\n",
    "def quad_abc_fn(a,b,c): return partial(quad,a,b,c)"
   ]
  },
  {
   "cell_type": "code",
   "execution_count": null,
   "metadata": {},
   "outputs": [],
   "source": [
    "# a=3\n",
    "# b=2\n",
    "# c=1\n",
    "\n",
    "@interact(a=3,b=2,c=1)\n",
    "def plot_quad(a,b,c):\n",
    "    xs_plotting = torch.linspace(-2.1, 2.1, steps=100)\n",
    "    quad_model_fn = quad_abc_fn(a,b,c)\n",
    "    ys_plotting = quad_model_fn(xs_plotting)\n",
    "    plt.ylim((-1,15))\n",
    "    plt.xlim((-2.1,2.1))\n",
    "    plt.plot(xs_plotting, ys_plotting)\n",
    "\n",
    "    # Save the plot as an image\n",
    "    plt.savefig(\"quad_plot1.png\")"
   ]
  },
  {
   "cell_type": "markdown",
   "metadata": {},
   "source": [
    "![](quad_plot1.png)"
   ]
  },
  {
   "cell_type": "code",
   "execution_count": null,
   "metadata": {},
   "outputs": [],
   "source": [
    "# 1. get 20 samples of actual data\n",
    "quad_321_model = quad_abc_fn(3,2,1)\n",
    "xs_actual = xs_321_20_inputs_tsr = torch.linspace(-2,2,steps=20)\n",
    "ys_actual = ys_321_20_actual_tsr = quad_321_model(xs_321_20_inputs_tsr)\n",
    "\n",
    "np.random.seed(42)\n",
    "\n",
    "def noise(tsr, scale): return np.random.normal(scale=scale, size=tsr.shape)\n",
    "def add_noise(tsr,scale,add):\n",
    "    scale_noise = tsr*noise(tsr, scale)\n",
    "    added_noise = noise(tsr, scale)\n",
    "    total_noise = scale_noise + added_noise\n",
    "    tsr_noisify = tsr + total_noise \n",
    "    return tsr_noisify\n",
    "\n",
    "# 2. add noise to 20 samples of actual data\n",
    "ys_noisey = ys_321_20_noisey_tsr = add_noise(ys_actual, 0.15, 0.5)"
   ]
  },
  {
   "cell_type": "code",
   "execution_count": null,
   "metadata": {},
   "outputs": [],
   "source": [
    "# 3. cal mae\n",
    "def mae_calc(actual, preds): return torch.abs(actual-preds).mean()\n"
   ]
  },
  {
   "cell_type": "code",
   "execution_count": null,
   "metadata": {},
   "outputs": [],
   "source": [
    "@interact(a=1.1,b=1.1,c=1.1)\n",
    "def plot_all(a,b,c):\n",
    "    plot_quad(a,b,c)\n",
    "    plt.scatter(xs_actual,ys_noisey)\n",
    "    ys_preds = quad_abc_fn(a,b,c)(xs_actual)\n",
    "    mae = mae_calc(ys_noisey, ys_preds)\n",
    "\n",
    "    plt.title(label=f\"MAE: {mae:.2f}\")\n",
    "    # Save the plot as an image\n",
    "    plt.savefig(\"quad_plot2.png\")"
   ]
  },
  {
   "cell_type": "markdown",
   "metadata": {},
   "source": [
    "![](quad_plot2.png)"
   ]
  },
  {
   "cell_type": "code",
   "execution_count": null,
   "metadata": {},
   "outputs": [],
   "source": [
    "def loss_function(params):\n",
    "    model = quad_abc_fn(*params)\n",
    "    ys_preds = model(xs_actual)\n",
    "    return mae_calc(ys_noisey, ys_preds)\n",
    "\n",
    "loss_function([1.1,1.1,1.1])"
   ]
  },
  {
   "cell_type": "code",
   "execution_count": null,
   "metadata": {},
   "outputs": [],
   "source": [
    "abc_tsr = torch.tensor([1.1,1.1,1.1])\n",
    "abc_tsr"
   ]
  },
  {
   "cell_type": "code",
   "execution_count": null,
   "metadata": {},
   "outputs": [],
   "source": [
    "abc_tsr.requires_grad_()"
   ]
  },
  {
   "cell_type": "code",
   "execution_count": null,
   "metadata": {},
   "outputs": [],
   "source": [
    "loss = loss_function(abc_tsr)\n",
    "loss"
   ]
  },
  {
   "cell_type": "code",
   "execution_count": null,
   "metadata": {},
   "outputs": [],
   "source": [
    "loss.backward()"
   ]
  },
  {
   "cell_type": "code",
   "execution_count": null,
   "metadata": {},
   "outputs": [],
   "source": [
    "abc_tsr.grad"
   ]
  },
  {
   "cell_type": "code",
   "execution_count": null,
   "metadata": {},
   "outputs": [],
   "source": [
    "with torch.no_grad():\n",
    "    abc_tsr -= abc_tsr.grad * 0.01\n",
    "    loss = loss_function(abc_tsr)\n",
    "    print(loss)"
   ]
  },
  {
   "cell_type": "code",
   "execution_count": null,
   "metadata": {},
   "outputs": [],
   "source": [
    "for i in range(10):\n",
    "    loss = loss_function(abc_tsr)\n",
    "    loss.backward()\n",
    "    with torch.no_grad():\n",
    "        abc_tsr -= 0.01 * abc_tsr.grad\n",
    "    print(loss, abc_tsr, abc_tsr.grad)"
   ]
  },
  {
   "cell_type": "code",
   "execution_count": null,
   "metadata": {},
   "outputs": [],
   "source": [
    "abc_tsr"
   ]
  },
  {
   "cell_type": "code",
   "execution_count": null,
   "metadata": {},
   "outputs": [],
   "source": [
    "a,b,c = abc_tsr.tolist()\n",
    "\n",
    "@interact(a=a,b=b,c=c)\n",
    "def plot_all_after_gradient_descent(a,b,c):\n",
    "    plot_quad(a,b,c)\n",
    "    plt.scatter(xs_actual,ys_noisey)\n",
    "    ys_preds = quad_abc_fn(a,b,c)(xs_actual)\n",
    "    mae = mae_calc(ys_noisey, ys_preds)\n",
    "\n",
    "    plt.title(label=f\"MAE: {mae:.2f}\")\n",
    "    # Save the plot as an image\n",
    "    plt.savefig(\"quad_plot3.png\")"
   ]
  },
  {
   "cell_type": "markdown",
   "metadata": {},
   "source": [
    "![](quad_plot3.png)  \n",
    "\n",
    "See mae reduced to 0.94 after gradient descent"
   ]
  },
  {
   "cell_type": "code",
   "execution_count": 3,
   "metadata": {},
   "outputs": [],
   "source": [
    "import numpy as np\n",
    "from functools import partial\n",
    "from ipywidgets import interact\n",
    "import torch\n",
    "import matplotlib.pyplot as plt"
   ]
  },
  {
   "cell_type": "code",
   "execution_count": null,
   "metadata": {
    "editable": true,
    "slideshow": {
     "slide_type": ""
    },
    "tags": []
   },
   "outputs": [],
   "source": [
    "\n",
    "# ctl shft d - simple interface\n",
    "# ctl shft f - files\n",
    "# ctl shft b - kernels\n",
    "# ctl shft k - delete line\n"
   ]
  },
  {
   "cell_type": "code",
   "execution_count": null,
   "metadata": {},
   "outputs": [],
   "source": [
    "conda env list\n"
   ]
  },
  {
   "cell_type": "code",
   "execution_count": 16,
   "metadata": {},
   "outputs": [],
   "source": [
    "def quad_fn(a,b,c,x): return a*x**2 + b*x + c\n",
    "def quad_model(a,b,c): return partial(quad_fn, a,b,c)\n",
    "\n",
    "quad_321_model = quad_model(3,2,1)\n",
    "\n",
    "# 1. create sample xs (inputs)\n",
    "xs_20inputs_tnsr = torch.linspace(-2,2, steps=20)\n",
    "\n",
    "# 2. create sample og ys (outputs)\n",
    "ys_20outputs_tnsr = quad_321_model(xs_20inputs_tnsr)\n",
    "\n",
    "# 3. create noise\n",
    "def noise(tsr, scale): return np.random.normal(scale=scale, size=tsr.shape)\n",
    "def add_scale_noise(tsr,scale,add):\n",
    "    tsr = tsr*(1+noise(tsr, scale))\n",
    "    tsr = tsr + noise(tsr, add)\n",
    "    return tsr\n",
    "\n",
    "ys_20noisey_tnsr = add_scale_noise(ys_20outputs_tnsr, 0.15, 0.5)"
   ]
  },
  {
   "cell_type": "code",
   "execution_count": 17,
   "metadata": {},
   "outputs": [
    {
     "data": {
      "text/plain": [
       "tensor([ 7.7756,  5.8827,  5.7155,  4.8781,  3.4138,  1.6932,  1.9979,  1.4042,\n",
       "         0.9028,  1.0271,  1.9754,  1.8039,  3.5549,  3.8706,  4.9721,  7.8123,\n",
       "         8.3284, 12.8774, 11.9713, 14.7696], dtype=torch.float64)"
      ]
     },
     "execution_count": 17,
     "metadata": {},
     "output_type": "execute_result"
    }
   ],
   "source": [
    "ys_20noisey_tnsr"
   ]
  },
  {
   "cell_type": "code",
   "execution_count": null,
   "metadata": {},
   "outputs": [],
   "source": [
    "\n",
    "# 4. prediction line\n",
    "a=1.1\n",
    "b=1.1\n",
    "c=1.1\n",
    "@interact(a=1.1,b=1.1,c=1.1)\n",
    "def plot_abc_quad(a,b,c):\n",
    "    xs_100inputs_tnsr  = torch.linspace(-2.1,2.1, steps=100)\n",
    "    # ys_100outputs_tnsr = quad_321_model(xs_100inputs_tnsr)\n",
    "    quad_abc_model = quad_model(a,b,c)\n",
    "    ys_100outputs_tnsr = quad_abc_model(xs_100inputs_tnsr)\n",
    "\n",
    "    plt.ylim((-1,15))\n",
    "    plt.xlim((-2,2))\n",
    "    \n",
    "    plt.plot(xs_100inputs_tnsr, ys_100outputs_tnsr)\n",
    "\n",
    "# plot_abc_quad(a,b,c)"
   ]
  },
  {
   "cell_type": "code",
   "execution_count": null,
   "metadata": {},
   "outputs": [],
   "source": [
    "@interact(a=1.1,b=1.1,c=1.1)\n",
    "def plot_all(a,b,c):\n",
    "    plot_abc_quad(a,b,c)\n",
    "    plt.scatter(xs_20inputs_tnsr,ys_20noisey_tnsr) \n",
    "# plot_all(a,b,c)"
   ]
  },
  {
   "cell_type": "code",
   "execution_count": null,
   "metadata": {},
   "outputs": [],
   "source": [
    "# 4. calculate mae\n",
    "def mae(actual, preds): return torch.abs(actual-preds).mean()\n",
    "\n",
    "# 5. create loss function - input = params | output mae\n",
    "def loss_function(params):\n",
    "    quad_abc_model = quad_model(*params)\n",
    "    ys_20outputs_lossfn_tnsr = quad_abc_model(xs_20inputs_tnsr)\n",
    "    return mae(ys_20noisey_tnsr, ys_20outputs_lossfn_tnsr)\n",
    "loss_function([1.1,1.1,1.1])"
   ]
  },
  {
   "cell_type": "code",
   "execution_count": null,
   "metadata": {},
   "outputs": [],
   "source": [
    "# 6. get gradients\n",
    "abc_tsr = torch.tensor([1.1,1.1,1.1])\n",
    "abc_tsr.requires_grad_()"
   ]
  },
  {
   "cell_type": "code",
   "execution_count": null,
   "metadata": {},
   "outputs": [],
   "source": [
    "loss_abc = loss_function(abc_tsr)\n",
    "loss_abc.backward()\n",
    "abc_tsr.grad"
   ]
  },
  {
   "cell_type": "code",
   "execution_count": null,
   "metadata": {},
   "outputs": [],
   "source": [
    "# 7. sgd\n",
    "with torch.no_grad():\n",
    "    abc_tsr -= abc_tsr.grad * 0.01\n",
    "    print(abc_tsr)\n",
    "    loss_abc = loss_function(abc_tsr)\n",
    "    print(loss_abc)"
   ]
  },
  {
   "cell_type": "code",
   "execution_count": null,
   "metadata": {},
   "outputs": [],
   "source": [
    "# 8. automate\n",
    "\n",
    "for i in range(10):\n",
    "    # abc_tsr.requires_grad_()\n",
    "    loss_abc = loss_function(abc_tsr)\n",
    "    loss_abc.backward()    \n",
    "    with torch.no_grad():\n",
    "        abc_tsr -= abc_tsr.grad * 0.01\n",
    "        print(loss_abc, abc_tsr)"
   ]
  },
  {
   "cell_type": "code",
   "execution_count": null,
   "metadata": {},
   "outputs": [],
   "source": [
    "def relu_fn(m,b,x):\n",
    "    y = m*x+b\n",
    "    # return np.clip(y,0,None)\n",
    "    return torch.clip(y,0)\n",
    "\n",
    "\n",
    "def relu_mb_fn(m,b): return partial(relu_fn,m,b)\n",
    "relu_11_model = relu_mb_fn(1,1)\n",
    "\n",
    "m=1\n",
    "b=1\n",
    "@interact(m=1,b=1)\n",
    "def plot_relu(m,b):\n",
    "    xs_100inputs_tnsr  = torch.linspace(-2.1,2.1, steps=100)\n",
    "    relu_mb_model = relu_mb_fn(m,b)\n",
    "    ys_100relu_tnsr = relu_mb_model(xs_100inputs_tnsr)\n",
    "    # plt.ylim((-1,15))\n",
    "    plt.xlim((-1,4))    \n",
    "    plt.plot(xs_100inputs_tnsr, ys_100relu_tnsr)\n",
    "    \n",
    "# plot_relu(m,b)\n"
   ]
  },
  {
   "cell_type": "code",
   "execution_count": null,
   "metadata": {},
   "outputs": [],
   "source": [
    "    # ys_100outputs_relu11_tsr = relu_mb_fn(xs_100inputs_tnsr)#     quad_abc_model = relu_model(a,b,c)\n",
    "    # plt.plot(xs_100inputs_tnsr, ys_100outputs_relu11_tsr) \n",
    "\n",
    "# plot_relu(1,1)\n",
    "#     ys_100outputs_tnsr = quad_abc_model(xs_100inputs_tnsr)\n",
    "#     plt.ylim((-1,15))\n",
    "#     plt.xlim((-2,2))    \n",
    "#     plt.plot(xs_100inputs_tnsr, ys_100outputs_tnsr)"
   ]
  },
  {
   "cell_type": "code",
   "execution_count": null,
   "metadata": {},
   "outputs": [],
   "source": [
    "import torch.nn.functional as F\n",
    "\n",
    "def relu_torch_fn(m,b,x):\n",
    "    # y = m*x+b\n",
    "    return F.relu(m*x+b)\n",
    "\n",
    "\n",
    "# def relu_mb_fn(m,b): return partial(relu_fn,m,b)\n",
    "def relu_mb_torch_fn(m,b): return partial(relu_torch_fn,m,b)\n",
    "\n",
    "\n",
    "# relu_mb_torch_fn(1,1)\n"
   ]
  },
  {
   "cell_type": "code",
   "execution_count": 4,
   "metadata": {},
   "outputs": [],
   "source": [
    "plt.rc('figure', dpi=90)\n",
    "\n",
    "def plot_function(f, title=None, min=-2.1, max=2.1, color='r', ylim=None):\n",
    "    x = torch.linspace(min,max, 100)[:,None]\n",
    "    if ylim: plt.ylim(ylim)\n",
    "    plt.plot(x, f(x), color)\n",
    "    if title is not None: plt.title(title)"
   ]
  },
  {
   "cell_type": "code",
   "execution_count": null,
   "metadata": {},
   "outputs": [],
   "source": [
    "\n",
    "# def relu_plotter(m,b)\n",
    "# @interact(m=1, b=1)\n",
    "\n",
    "import torch.nn.functional as F\n",
    "\n",
    "# 1. single relu fn \n",
    "def sgl_relu_fn(m,b,x): return F.relu(m*x+b) \n",
    "\n",
    "# 2. double relu fn\n",
    "def dbl_relu_fn(m1,b1,m2,b2,x): return sgl_relu_fn(m1,b1,x) + sgl_relu_fn(m2,b2,x)\n",
    "\n",
    "# 3. partial double fn\n",
    "def dbl_relu_partial_fn(m1,b1,m2,b2): return partial(dbl_relu_fn,m1,b1,m2,b2)\n",
    "\n",
    "# 4. partial double model \n",
    "@interact(m1=1,b1=2,m2=-1,b2=-2)\n",
    "def dbl_relu_plotter(m1,b1,m2,b2):\n",
    "    # dbl_relu_model = dbl_relu_partial_fn(m1,b1,m2,b2)\n",
    "    # plot_function(dbl_relu_model, ylim=(-1,6))\n",
    "    plot_function(dbl_relu_partial_fn(m1,b1,m2,b2), ylim=(-1,6))\n",
    "\n",
    "# @interact(m1=-1.5, b1=-1.5, m2=1.5, b2=1.5)\n",
    "# def plot_double_relu(m1, b1, m2, b2):\n",
    "#     plot_function(partial(double_relu, m1,b1,m2,b2), ylim=(-1,6))\n",
    "    \n",
    "    "
   ]
  },
  {
   "cell_type": "code",
   "execution_count": null,
   "metadata": {},
   "outputs": [],
   "source": [
    "import torch.nn.functional as F\n",
    "# 1. sgl relu\n",
    "def relu_1_fn(m,b,x): return F.relu(m*x+b)\n",
    "\n",
    "# 2. dbl relu\n",
    "def relu_2_fn(m1,b1,m2,b2,x): return relu_1_fn(m1,b1,x) + relu_1_fn(m2,b2,x) \n",
    "\n",
    "# 3. tpl relu\n",
    "def relu_3_fn(m1,b1,m2,b2,m3,b3,x): return relu_1_fn(m1,b1,x) + relu_1_fn(m2,b2,x) + relu_1_fn(m3,b3,x) \n",
    "\n",
    "# 4. triple_relu_plotter\n",
    "\n",
    "@interact(m1=1,b1=1,m2=-1,b2=-1,m3=0.5,b3=-0.5)\n",
    "def triple_relu_plotter(m1,b1,m2,b2,m3,b3):\n",
    "    relu_3_model = partial(relu_3_fn,m1,b1,m2,b2,m3,b3)\n",
    "    plot_function(partial(relu_3_fn,m1,b1,m2,b2,m3,b3),ylim=(-1,4))\n",
    "    \n"
   ]
  },
  {
   "cell_type": "code",
   "execution_count": 20,
   "metadata": {},
   "outputs": [
    {
     "data": {
      "text/plain": [
       "tensor(3.9695, dtype=torch.float64)"
      ]
     },
     "execution_count": 20,
     "metadata": {},
     "output_type": "execute_result"
    }
   ],
   "source": [
    "# assume some function\n",
    "\n",
    "# y = fn(m1,b1,m2,b2,m3,b3)\n",
    "\n",
    "\n",
    "xs_100inputs_tnsr = torch.linspace(-2.1,2.1, steps=100)\n",
    "\n",
    "def mae(actual,preds): return torch.abs(actual-preds).mean()\n",
    "def relu_loss_function(params):\n",
    "    relu_3_model = partial(relu_3_fn,*params)\n",
    "    # ys_preds_relu_3_model = relu_3_model(xs_100inputs_tnsr)\n",
    "    ys_20preds_relu_3_model = relu_3_model(xs_20inputs_tnsr)\n",
    "    # ys_20noisey_tnsr\n",
    "    \n",
    "    return mae(ys_20noisey_tnsr,ys_20preds_relu_3_model)\n",
    "loss = relu_loss_function([1,1,-1,-1,0.5,-0.5])\n",
    "\n"
   ]
  },
  {
   "cell_type": "code",
   "execution_count": 75,
   "metadata": {},
   "outputs": [
    {
     "data": {
      "text/plain": [
       "tensor(4.6544, dtype=torch.float64, grad_fn=<MeanBackward0>)"
      ]
     },
     "execution_count": 75,
     "metadata": {},
     "output_type": "execute_result"
    }
   ],
   "source": [
    "# torch.manual_seed(442)\n",
    "np.random.seed(42)\n",
    "\n",
    "rnd_arr = np.random.random_sample(6)-0.5\n",
    "rnd_6_tsr = torch.tensor(rnd_arr)\n",
    "rnd_6_tsr.requires_grad_()\n",
    "loss = relu_loss_function(rnd_6_tsr)\n",
    "loss"
   ]
  },
  {
   "cell_type": "code",
   "execution_count": 76,
   "metadata": {},
   "outputs": [],
   "source": [
    "loss.backward()"
   ]
  },
  {
   "cell_type": "code",
   "execution_count": 81,
   "metadata": {},
   "outputs": [
    {
     "data": {
      "text/plain": [
       "tensor([-7.4506e-09, -1.0000e+00, -5.0526e-01, -6.0000e-01,  3.9474e-01,\n",
       "        -2.5000e-01], dtype=torch.float64)"
      ]
     },
     "execution_count": 81,
     "metadata": {},
     "output_type": "execute_result"
    }
   ],
   "source": [
    "rnd_6_tsr.grad"
   ]
  },
  {
   "cell_type": "code",
   "execution_count": 82,
   "metadata": {},
   "outputs": [
    {
     "name": "stdout",
     "output_type": "stream",
     "text": [
      "tensor([-0.1255,  0.4507,  0.2320,  0.0987, -0.3440, -0.3440],\n",
      "       dtype=torch.float64, requires_grad=True)\n",
      "tensor([-0.1255,  0.4607,  0.2370,  0.1047, -0.3479, -0.3415],\n",
      "       dtype=torch.float64, requires_grad=True)\n",
      "tensor(4.6361, dtype=torch.float64)\n"
     ]
    }
   ],
   "source": [
    "# 1. decrease by negative of gradient\n",
    "print(rnd_6_tsr)\n",
    "with torch.no_grad():\n",
    "    rnd_6_tsr -= rnd_6_tsr.grad*0.01\n",
    "    print(rnd_6_tsr)\n",
    "    loss = relu_loss_function(rnd_6_tsr)\n",
    "\n",
    "print(loss)\n",
    "\n",
    "\n"
   ]
  },
  {
   "cell_type": "code",
   "execution_count": null,
   "metadata": {},
   "outputs": [],
   "source": [
    "\n",
    "\n",
    "for i in range(10):\n",
    "    # abc_tsr.requires_grad_()\n",
    "    loss = relu_loss_function(rnd_6_tsr)\n",
    "    loss.backward()    \n",
    "        \n",
    "    with torch.no_grad():\n",
    "        rnd_6_tsr -= rnd_6_tsr.grad*0.01\n",
    "        print(rnd_6_tsr)\n",
    "        loss = relu_loss_function(rnd_6_tsr)\n",
    "\n",
    "print(loss)\n",
    "\n",
    "\n"
   ]
  },
  {
   "cell_type": "code",
   "execution_count": 83,
   "metadata": {},
   "outputs": [
    {
     "name": "stdout",
     "output_type": "stream",
     "text": [
      "tensor([-0.1255,  0.4807,  0.2472,  0.1167, -0.3558, -0.3365],\n",
      "       dtype=torch.float64, requires_grad=True)\n",
      "tensor(4.5994, dtype=torch.float64)\n",
      "tensor([-0.1255,  0.5107,  0.2623,  0.1347, -0.3681, -0.3285],\n",
      "       dtype=torch.float64, requires_grad=True)\n",
      "tensor(4.5431, dtype=torch.float64)\n",
      "tensor([-0.1255,  0.5507,  0.2825,  0.1587, -0.3849, -0.3175],\n",
      "       dtype=torch.float64, requires_grad=True)\n",
      "tensor(4.4673, dtype=torch.float64)\n",
      "tensor([-0.1255,  0.6007,  0.3075,  0.1892, -0.4060, -0.3035],\n",
      "       dtype=torch.float64, requires_grad=True)\n",
      "tensor(4.3719, dtype=torch.float64)\n",
      "tensor([-0.1255,  0.6607,  0.3373,  0.2262, -0.4316, -0.2865],\n",
      "       dtype=torch.float64, requires_grad=True)\n",
      "tensor(4.2556, dtype=torch.float64)\n",
      "tensor([-0.1255,  0.7307,  0.3719,  0.2697, -0.4620, -0.2660],\n",
      "       dtype=torch.float64, requires_grad=True)\n",
      "tensor(4.1211, dtype=torch.float64)\n",
      "tensor([-0.1251,  0.8097,  0.4116,  0.3187, -0.4971, -0.2420],\n",
      "       dtype=torch.float64, requires_grad=True)\n",
      "tensor(3.9829, dtype=torch.float64)\n",
      "tensor([-0.1244,  0.8967,  0.4561,  0.3727, -0.5373, -0.2140],\n",
      "       dtype=torch.float64, requires_grad=True)\n",
      "tensor(3.8331, dtype=torch.float64)\n",
      "tensor([-0.1232,  0.9917,  0.5055,  0.4317, -0.5826, -0.1820],\n",
      "       dtype=torch.float64, requires_grad=True)\n",
      "tensor(3.6681, dtype=torch.float64)\n",
      "tensor([-0.1217,  1.0947,  0.5597,  0.4957, -0.6328, -0.1465],\n",
      "       dtype=torch.float64, requires_grad=True)\n",
      "tensor(3.5046, dtype=torch.float64)\n"
     ]
    }
   ],
   "source": [
    "for i in range(10):\n",
    "    # abc_tsr.requires_grad_()\n",
    "    loss = relu_loss_function(rnd_6_tsr)\n",
    "    loss.backward()    \n",
    "        \n",
    "    with torch.no_grad():\n",
    "        rnd_6_tsr -= rnd_6_tsr.grad*0.01\n",
    "        print(rnd_6_tsr)\n",
    "        loss = relu_loss_function(rnd_6_tsr)\n",
    "        print(loss)\n",
    "\n",
    "\n"
   ]
  },
  {
   "cell_type": "code",
   "execution_count": null,
   "metadata": {},
   "outputs": [],
   "source": []
  },
  {
   "cell_type": "code",
   "execution_count": null,
   "metadata": {},
   "outputs": [],
   "source": []
  },
  {
   "cell_type": "code",
   "execution_count": null,
   "metadata": {},
   "outputs": [],
   "source": []
  },
  {
   "cell_type": "code",
   "execution_count": null,
   "metadata": {},
   "outputs": [],
   "source": []
  },
  {
   "cell_type": "code",
   "execution_count": null,
   "metadata": {},
   "outputs": [],
   "source": []
  },
  {
   "cell_type": "code",
   "execution_count": null,
   "metadata": {},
   "outputs": [],
   "source": []
  },
  {
   "cell_type": "code",
   "execution_count": null,
   "metadata": {},
   "outputs": [],
   "source": []
  },
  {
   "cell_type": "code",
   "execution_count": null,
   "metadata": {},
   "outputs": [],
   "source": []
  },
  {
   "cell_type": "code",
   "execution_count": null,
   "metadata": {},
   "outputs": [],
   "source": []
  },
  {
   "cell_type": "code",
   "execution_count": null,
   "metadata": {},
   "outputs": [],
   "source": []
  }
 ],
 "metadata": {
  "kernelspec": {
   "display_name": "Python 3 (ipykernel)",
   "language": "python",
   "name": "python3"
  },
  "language_info": {
   "codemirror_mode": {
    "name": "ipython",
    "version": 3
   },
   "file_extension": ".py",
   "mimetype": "text/x-python",
   "name": "python",
   "nbconvert_exporter": "python",
   "pygments_lexer": "ipython3",
   "version": "3.12.2"
  }
 },
 "nbformat": 4,
 "nbformat_minor": 4
}
