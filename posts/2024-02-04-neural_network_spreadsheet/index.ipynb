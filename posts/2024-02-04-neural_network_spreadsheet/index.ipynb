{
 "cells": [
  {
   "cell_type": "raw",
   "metadata": {},
   "source": [
    "---\n",
    "title: \"Neural Networks in a Spreadsheet (Attempt 1)\"\n",
    "author: \"Tony Phung\"\n",
    "date: \"2024-02-04\"\n",
    "categories: [spreadsheet, failed attempt]\n",
    "image: \"cup.jpg\"\n",
    "toc: true\n",
    "description: \"A failed attempt to apply neural network concepts in a spreadsheet\"\n",
    "---"
   ]
  },
  {
   "cell_type": "markdown",
   "metadata": {},
   "source": [
    "![](cup.jpg)"
   ]
  },
  {
   "cell_type": "markdown",
   "metadata": {},
   "source": [
    "## 1. Download Kaggle Data\n",
    "\n",
    "Log into Kaggle:  \n",
    "1. Competitions    \n",
    "2. Titanic  \n",
    "3. Data  \n",
    "4. Train.csv and Download\n",
    "\n",
    "![](data.jpg)\n",
    "![](data2.jpg)"
   ]
  },
  {
   "cell_type": "markdown",
   "metadata": {},
   "source": [
    "## 2. Clean Dataset\n",
    "\n",
    "Each single passenger is represented by a single row with demographics and information across the columns. \n",
    "\n",
    "For this first attempt, I'll keep the model simple and used 8 columns and discarded the rest.\n",
    "\n",
    "**[Future Iteration]**: Would using more columns increase my accuracy?\n",
    "\n",
    "*The **training set** should be used to build your machine learning models. For the training set, we provide the outcome (also known as the “**ground truth**”) for each passenger* - [Kaggle Data Description](https://www.kaggle.com/competitions/titanic/data)\n",
    "\n",
    "Note: There are originally 891 Passengers (rows) in the `training` dataset.\n",
    "\n",
    "There were a few steps taken to clean the data:  \n",
    "1. Keep Certain Columns Only:  \n",
    "    - Survived\t\n",
    "    - Pclass\n",
    "    - Sex\n",
    "    - Age\n",
    "    - SibSp\n",
    "    - Parch\n",
    "    - Fare\n",
    "    - Embarked\n",
    "2. Remove blanks from:\n",
    "    - `Sex` (177 rows removed) \n",
    "    - `Embarked` (2 rows removed)\n",
    "Columns: Remaining Passengers (712 = 891-177-2)\n",
    "\n",
    "3. Create a **New Sheet** and Copy over the editted Dataset\n",
    "\n",
    "![](clean.jpg)\n"
   ]
  },
  {
   "cell_type": "markdown",
   "metadata": {},
   "source": [
    "## 3. Binary Categorical Variables\n",
    "\n",
    "Recall a Function has `inputs` and `parameters`. The output is calculated by adding the all the inputs which are weighted (multiplied) by the parameters.\n",
    "\n",
    "In [neural network basics](https://tonyjustdevs.github.io/blog/posts/2024-01-31-99_neural_network_basics/): \n",
    "- the inputs were a single variable `x` and the output was a single `y` (or `f(x)`).  \n",
    "- the **parameters** (coefficients of `x`) could be optimised against a **Loss Function** (Mean Squared Error) to achieve a high accuracy (good predictability) for that function, called **Gradient Descent** \n",
    "- an arbitrary number of **Rectified Linear Unit (ReLU)** could be added together to form any function to fit a given set of data and parameter (weights) can be optimised to minimise the loss function as above with gradient descent.\n",
    "\n",
    "Similarly, the inputs in the Titanic model will be the information describing the passengers, i.e. columns in our spreadsheet, are multiplied by the parameters (weights or coefficients) to represents its importance.\n",
    "\n",
    "- **Question**:  ***But*** how can a parameter (***number***) be multiplied to word (***text***) such as `male` or `female` from the `Sex` Column or Letter `S` or `C` or `Q` from the `Embarked` Column? \n",
    "- **Answer**: You Can't.\n",
    "\n",
    "However, **Categorical Variables** (unordered) can be converted into **Binary Categorical Variables**:  \n",
    "    - `IsMale` will indicate a `1` for True (Male) and `0` for False (Female)  \n",
    "    - `Embarked` has 3 categories \"`S`, `C` and `Q`: Having two columns (`S` and `C`) to represent the 3 categories will suffice. If both `S` and `C` columns have `0`'s, this implies it is a `Q`, so we do not need the extra column to have all the information.  \n",
    "    - `PClass` (`1`, `2` and `3`) also has 3 categories and is treated the same as above.  \n",
    "    - `Age` and `Fare` are continuous values and left them as is for now\n",
    "\n",
    "![](model.jpg)\n"
   ]
  },
  {
   "cell_type": "markdown",
   "metadata": {},
   "source": [
    "## 4. Regression\n",
    "\n",
    "I created random variables (coefficients or weights for our parameters) with rand() and multiplied them to each parameter.\n",
    "I did this for several rows to and looked at the output.\n",
    "\n",
    "Looks like `Age` and `Fare` columns are dominating our function. \n",
    "\n",
    "![](model1.jpg)"
   ]
  },
  {
   "cell_type": "markdown",
   "metadata": {},
   "source": [
    "### 4.1 Dealing with Continuous Variables `Age` and `Fare`\n",
    "Its probably fair (see what I did there) that a Passenger's age (or fare) shouldn't be the only two defining factors to determine their survivability as the above model suggests.\n",
    "\n",
    "These values need to be `normalised`:\n",
    "- For `Age`, I divided each passengers age by the maximum age.\n",
    "- For `Fare`, I took the `Logarithm` of each passengers fare. Taking the Log of a variable where there are very small values and a few large ones distributes the values more evenly.\n",
    "\n",
    "![](normalise.jpg)"
   ]
  },
  {
   "cell_type": "markdown",
   "metadata": {},
   "source": [
    "### 4.2 Prediction and Loss and Average Loss\n",
    "\n",
    "**Prediction**: Multiply each parameter by the random coefficient created and sum it up to have our prediction.  \n",
    "- I used the **SumProduct()** function.\n",
    "- I also created a **manual linear version** from scratch to see test my understanding was correct and sumproduct was working as expected. It was. \n",
    "\n",
    "**Loss**: It's the survival (0 No, 1 Yes) minus the Prediction, then squared. \n",
    "- This is the **squared error**. If the errors are not squared, the errors end up cancelling each other off. Alternatively, the absolute errors could be taken done previously.\n",
    "\n",
    "**Average Loss**: Self-explanatory.\n",
    "\n",
    "![](loss.jpg)\n",
    "\n",
    "Note: Current **`Average Loss`** is **`0.886`** with random parameters. "
   ]
  },
  {
   "cell_type": "markdown",
   "metadata": {},
   "source": [
    "### 4.3 Gradient Descent (or Solver)\n",
    "\n",
    "Setting the Solver to Minimise our Average Loss, our parameters have been adjusted and **`Average Loss`** has come down to: **`0.535`**!\n",
    "\n",
    "Not but but this isn't a neural net yet, its just a regression.\n",
    "\n",
    "![](loss2.jpg)\n",
    "\n"
   ]
  },
  {
   "cell_type": "markdown",
   "metadata": {},
   "source": [
    "## 5. Neural Network\n",
    "\n",
    "**`Params_2`**:  Add another set of random coefficients.   \n",
    "**`Linear_2`**:  Calculate the linear model on this set of coefficients.  \n",
    "**`ReLU`**: ReLUs are calculated with an `IF()` statement, if it is below zero, then set to zero, otherwise keep the value.  \n",
    "**`Prediction`**: Add the ReLUs.  \n",
    "**`Loss`** Prediction minus Survived.  \n",
    "**`Average Loss`**: Run Solver, but this time allow the change of both sets of coefficients **`Params_1`** and **`Params_2`**\n",
    "\n",
    "Note: Current Neural Network **`Average Loss`** is **`0.527`** with random parameters. \n",
    "\n",
    "![](nn1.jpg)\n",
    "\n",
    "**[Future Iteration]**: ***To be honest, I haven't quite understood fully whats going on here. The concept of adding a second set of parameters and then having two Linear Models and adding together their reLUs will give a prediction that can be optimised, just dont get it yet.  \\To be fair, I just learnt Gradient Descent a day or two ago.***"
   ]
  },
  {
   "cell_type": "markdown",
   "metadata": {},
   "source": [
    "### 5.1 Error In Optimisation - All ReLUs going to Zero\n",
    "\n",
    "Having **no constraints on whether coefficients can be negative or positive**, the Solver found the most convenient result of making all parameters less than zero, hence making outputs a negative linear output, which **makes all the ReLUs Zero**, hence simply making the prediction that everyone died! A quick and dirty prediction thats not too bad but very scientific...\n",
    "\n",
    "Note: I'm currently using **WPS Solver rather than Excel Solver** (Don't own paid version of Excel).  Not sure if I did a mistake in my model or its a Solver thing.\n",
    "\n",
    "![](zeros.jpg)"
   ]
  },
  {
   "cell_type": "markdown",
   "metadata": {},
   "source": [
    "### 5.2 Setting Constraints (Coefficients > 0)\n",
    "\n",
    "By placing the constraint the Solver seems to finally do what is expected.  \n",
    "The **`Average Loss`** has come down from the Regresssion **`0.535`** to **`0.235`**!\n",
    "\n",
    "![](soln1.jpg)"
   ]
  },
  {
   "cell_type": "markdown",
   "metadata": {},
   "source": [
    "### 5.3 Added Ones Columns\n",
    "\n",
    "But this didn't fix the Solver Issuer.\n",
    "\n",
    "![](ones.jpg)"
   ]
  },
  {
   "cell_type": "markdown",
   "metadata": {},
   "source": [
    "### 5.4 Matrix Multiplication\n",
    "\n",
    "I made a Matrix Multiplication version and optimised with the same silly negative parameters solution\n",
    "\n",
    "![](mm404.jpg)"
   ]
  },
  {
   "cell_type": "markdown",
   "metadata": {},
   "source": [
    "## 6. Mission Failed.\n",
    "\n",
    "Having downloaded the spreadsheet from Jeremy and ran the Solver, the Zero ReLUs error persists. This is a WPS Sheets issue.\n",
    "\n",
    "I also tried getting Solver on Google Sheets with no Luck however my emails permissions didn't allow the install. Will give it a go to fix it next time.\n",
    "\n",
    "For now, today I'll admit defeat.  Onwards to tomorrow...\n",
    "\n",
    "I'll upload this notebook anyway because I want to record my failures as well as my triumphs."
   ]
  }
 ],
 "metadata": {
  "kernelspec": {
   "display_name": "fastai",
   "language": "python",
   "name": "python3"
  },
  "language_info": {
   "codemirror_mode": {
    "name": "ipython",
    "version": 3
   },
   "file_extension": ".py",
   "mimetype": "text/x-python",
   "name": "python",
   "nbconvert_exporter": "python",
   "pygments_lexer": "ipython3",
   "version": "3.11.5"
  }
 },
 "nbformat": 4,
 "nbformat_minor": 2
}
