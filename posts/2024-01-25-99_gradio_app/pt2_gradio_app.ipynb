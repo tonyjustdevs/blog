{
 "cells": [
  {
   "cell_type": "raw",
   "metadata": {},
   "source": [
    "---\n",
    "title: \"How to Build and Deploy a Deep-Learning Multi-Classifier Web App (Part 2)\"\n",
    "author: \"Tony Phung\"\n",
    "date: \"2024-01-25\"\n",
    "categories: [gradio, tutorial]\n",
    "image: \"gradio.jpg\"\n",
    "toc: true\n",
    "---\n",
    "\n",
    "![](gradio.jpg)\n"
   ]
  },
  {
   "cell_type": "markdown",
   "metadata": {},
   "source": [
    "This is Part 2 creating a **multi-category classifier** Web App\n",
    "\n",
    "Part 1: Create **Learner** (.pkl file)  \n",
    "Part 2: Create **Gradio** application file (app.py)    \n",
    "Part 3: Upload to **HuggingSpace** account"
   ]
  },
  {
   "cell_type": "markdown",
   "metadata": {},
   "source": []
  }
 ],
 "metadata": {
  "kernelspec": {
   "display_name": "fastai",
   "language": "python",
   "name": "python3"
  },
  "language_info": {
   "codemirror_mode": {
    "name": "ipython",
    "version": 3
   },
   "file_extension": ".py",
   "mimetype": "text/x-python",
   "name": "python",
   "nbconvert_exporter": "python",
   "pygments_lexer": "ipython3",
   "version": "3.11.5"
  }
 },
 "nbformat": 4,
 "nbformat_minor": 2
}
