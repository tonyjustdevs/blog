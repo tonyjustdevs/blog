{
 "cells": [
  {
   "cell_type": "raw",
   "metadata": {},
   "source": [
    "---\n",
    "title: \"Rectified Linear Unit (ReLU)\"\n",
    "author: \"Tony Phung\"\n",
    "date: \"2024-03-12\"\n",
    "categories: [basics]\n",
    "image: \"relu.jpg\"\n",
    "toc: true\n",
    "description: \"ReLU from scratch with Gradient Descent\"\n",
    "---"
   ]
  },
  {
   "cell_type": "markdown",
   "metadata": {},
   "source": [
    "![](relu.jpg)"
   ]
  },
  {
   "cell_type": "markdown",
   "metadata": {},
   "source": [
    "# 1. Introduction\n",
    "\n",
    "The key advantages of ReLU include:\n",
    "\n",
    "- **Non-linearity**: ReLU introduces non-linearity into the model, allowing it to ***learn complex relationships and patterns*** in the data. Without non-linear activation functions, a neural network would behave like a linear model, and stacking multiple layers would not provide any additional expressive power.\n",
    "\n",
    "- **Computational Efficiency**: ReLU is computationally efficient compared to some other activation functions like sigmoid or hyperbolic tangent (tanh). The computation of the ReLU function involves a simple thresholding operation, making it ***faster to compute during both training and inference***.\n",
    "\n",
    "- **Sparse Activation**: ReLU tends to produce sparse activations (i.e., many neurons output zero), which can lead to more efficient and less redundant representations in the network. This sparsity can be beneficial for both ***memory usage and computation***."
   ]
  },
  {
   "cell_type": "markdown",
   "metadata": {},
   "source": [
    "# 2. Formula\n",
    "\n",
    "The ReLU activation function is defined as follows:\n",
    "\n",
    "$$f(x)=max⁡(0,x)$$"
   ]
  },
  {
   "cell_type": "markdown",
   "metadata": {},
   "source": [
    "## 2.1 `numpy.maximum`"
   ]
  },
  {
   "cell_type": "code",
   "execution_count": 2,
   "metadata": {},
   "outputs": [
    {
     "data": {
      "text/plain": [
       "2"
      ]
     },
     "execution_count": 2,
     "metadata": {},
     "output_type": "execute_result"
    }
   ],
   "source": [
    "import numpy as np\n",
    "\n",
    "def sgl_relu_np(m,b,x):\n",
    "    y = m*x+b\n",
    "    relu_y = np.maximum(y,0)\n",
    "    return relu_y \n",
    "\n",
    "sgl_relu_np(1,1,1)"
   ]
  },
  {
   "cell_type": "markdown",
   "metadata": {},
   "source": [
    "## 2.2 `torch.clip` - version 1\n",
    "\n"
   ]
  },
  {
   "cell_type": "markdown",
   "metadata": {},
   "source": [
    "Note: `torch.clip` won't work because it accepts tensors only, and the below function is inputting python native types"
   ]
  },
  {
   "cell_type": "code",
   "execution_count": 3,
   "metadata": {},
   "outputs": [
    {
     "name": "stdout",
     "output_type": "stream",
     "text": [
      "<class 'int'>\n"
     ]
    },
    {
     "ename": "TypeError",
     "evalue": "clip() received an invalid combination of arguments - got (int, float), but expected one of:\n * (Tensor input, Tensor min, Tensor max, *, Tensor out)\n * (Tensor input, Number min, Number max, *, Tensor out)\n",
     "output_type": "error",
     "traceback": [
      "\u001b[0;31m---------------------------------------------------------------------------\u001b[0m",
      "\u001b[0;31mTypeError\u001b[0m                                 Traceback (most recent call last)",
      "Cell \u001b[0;32mIn[3], line 9\u001b[0m\n\u001b[1;32m      5\u001b[0m     \u001b[38;5;28mprint\u001b[39m(\u001b[38;5;28mtype\u001b[39m(y))\n\u001b[1;32m      6\u001b[0m     \u001b[38;5;28;01mreturn\u001b[39;00m torch\u001b[38;5;241m.\u001b[39mclip(y,\u001b[38;5;241m0.\u001b[39m)\n\u001b[0;32m----> 9\u001b[0m \u001b[43msgl_relu_pytclip_v1\u001b[49m\u001b[43m(\u001b[49m\u001b[38;5;241;43m1\u001b[39;49m\u001b[43m,\u001b[49m\u001b[38;5;241;43m1\u001b[39;49m\u001b[43m,\u001b[49m\u001b[38;5;241;43m1\u001b[39;49m\u001b[43m)\u001b[49m\n",
      "Cell \u001b[0;32mIn[3], line 6\u001b[0m, in \u001b[0;36msgl_relu_pytclip_v1\u001b[0;34m(m, b, x)\u001b[0m\n\u001b[1;32m      4\u001b[0m y \u001b[38;5;241m=\u001b[39m m\u001b[38;5;241m*\u001b[39mx\u001b[38;5;241m+\u001b[39mb \u001b[38;5;66;03m# input to torch needs to be a tensor, ie y=mx+b doesnt work as seen in error:\u001b[39;00m\n\u001b[1;32m      5\u001b[0m \u001b[38;5;28mprint\u001b[39m(\u001b[38;5;28mtype\u001b[39m(y))\n\u001b[0;32m----> 6\u001b[0m \u001b[38;5;28;01mreturn\u001b[39;00m \u001b[43mtorch\u001b[49m\u001b[38;5;241;43m.\u001b[39;49m\u001b[43mclip\u001b[49m\u001b[43m(\u001b[49m\u001b[43my\u001b[49m\u001b[43m,\u001b[49m\u001b[38;5;241;43m0.\u001b[39;49m\u001b[43m)\u001b[49m\n",
      "\u001b[0;31mTypeError\u001b[0m: clip() received an invalid combination of arguments - got (int, float), but expected one of:\n * (Tensor input, Tensor min, Tensor max, *, Tensor out)\n * (Tensor input, Number min, Number max, *, Tensor out)\n"
     ]
    }
   ],
   "source": [
    "import torch\n",
    "\n",
    "def sgl_relu_pytclip_v1(m,b,x):\n",
    "    y = m*x+b # input to torch needs to be a tensor, ie y=mx+b doesnt work as seen in error:\n",
    "    print(type(y))\n",
    "    return torch.clip(y,0.)\n",
    "    \n",
    "\n",
    "sgl_relu_pytclip_v1(1,1,1)"
   ]
  },
  {
   "cell_type": "markdown",
   "metadata": {},
   "source": [
    "## 2.3 `torch.clip` - version 2"
   ]
  },
  {
   "cell_type": "code",
   "execution_count": null,
   "metadata": {},
   "outputs": [
    {
     "name": "stdout",
     "output_type": "stream",
     "text": [
      "<class 'torch.Tensor'>\n"
     ]
    },
    {
     "data": {
      "text/plain": [
       "tensor(2.)"
      ]
     },
     "execution_count": 8,
     "metadata": {},
     "output_type": "execute_result"
    }
   ],
   "source": [
    "def sgl_relu_pytclip_v2(m,b,x):\n",
    "    xs_tsr = torch.tensor(x)\n",
    "    y = m*xs_tsr+b # convert inputs to tensor first\n",
    "    print(type(y))\n",
    "    return torch.clip(y,0.)\n",
    "    \n",
    "sgl_relu_pytclip_v2(1,1,1)"
   ]
  },
  {
   "cell_type": "markdown",
   "metadata": {},
   "source": [
    "## 2.4 `torch.nn.functional.relu`"
   ]
  },
  {
   "cell_type": "markdown",
   "metadata": {},
   "source": [
    "`nn.relu` also only takes Tensor input. I'll use this function going forward."
   ]
  },
  {
   "cell_type": "code",
   "execution_count": null,
   "metadata": {},
   "outputs": [
    {
     "name": "stdout",
     "output_type": "stream",
     "text": [
      "<class 'torch.Tensor'>\n"
     ]
    },
    {
     "data": {
      "text/plain": [
       "tensor(2)"
      ]
     },
     "execution_count": 9,
     "metadata": {},
     "output_type": "execute_result"
    }
   ],
   "source": [
    "import torch.nn.functional as nn\n",
    "\n",
    "def sgl_relu_nn(m,b,x):\n",
    "    xs_tsr = torch.tensor(x)\n",
    "    ys_tsr = m*xs_tsr+b # convert inputs to tensor first\n",
    "    relu_y = nn.relu(ys_tsr)\n",
    "    print(type(relu_y))\n",
    "    return relu_y\n",
    "\n",
    "sgl_relu_nn(1,1,1)"
   ]
  },
  {
   "cell_type": "markdown",
   "metadata": {},
   "source": [
    "# 3. Single ReLU plotter\n",
    "\n",
    "**Goal**  \n",
    "\n",
    "- Create a function `relu_plotter_fn`  \n",
    "  \n",
    "**inputs** :\n",
    "\n",
    "- `m`   \n",
    "- `b`  \n",
    "\n",
    "**outputs**:\n",
    "\n",
    "- relu plot   \n",
    "- within a `x` range  \n",
    "- within a `y` range  "
   ]
  },
  {
   "cell_type": "code",
   "execution_count": null,
   "metadata": {},
   "outputs": [
    {
     "data": {
      "image/png": "[encoded data removed]",
      "text/plain": [
       "<Figure size 640x480 with 1 Axes>"
      ]
     },
     "metadata": {},
     "output_type": "display_data"
    }
   ],
   "source": [
    "import torch\n",
    "import torch.nn.functional as nn\n",
    "from functools import partial\n",
    "import matplotlib.pyplot as plt\n",
    "\n",
    "def relu_sgl_fn(m,b,x):\n",
    "    y = m*x+b\n",
    "    return nn.relu(y)\n",
    "\n",
    "def relu_sgl_plotter_fn(m,b):\n",
    "    xs_sgl_100_tsr = torch.linspace(-2.1,2.1,steps=100)\n",
    "    def relu_sgl_mb_fn(m,b): return partial(relu_sgl_fn,m,b)\n",
    "\n",
    "    relu_sgl_mb_model = relu_sgl_mb_fn(m,b)\n",
    "    ys_sgl_mb_100_tsr = relu_sgl_mb_model(xs_sgl_100_tsr)\n",
    "\n",
    "    plt.xlim((-2,2))\n",
    "    plt.ylim((-1,10))\n",
    "    plt.plot(xs_sgl_100_tsr, ys_sgl_mb_100_tsr)\n",
    "\n",
    "m=2\n",
    "b=1\n",
    "relu_sgl_plotter_fn(m,b)"
   ]
  },
  {
   "cell_type": "markdown",
   "metadata": {},
   "source": [
    "# 4. Double ReLU plotter"
   ]
  },
  {
   "cell_type": "code",
   "execution_count": 46,
   "metadata": {},
   "outputs": [
    {
     "data": {
      "image/png": "[encoded data removed]",
      "text/plain": [
       "<Figure size 640x480 with 1 Axes>"
      ]
     },
     "metadata": {},
     "output_type": "display_data"
    }
   ],
   "source": [
    "import torch\n",
    "import torch.nn.functional as nn\n",
    "from functools import partial\n",
    "import matplotlib.pyplot as plt\n",
    "from ipywidgets import interact\n",
    "\n",
    "def relu_dbl_fn(m1,b1,m2,b2,x):\n",
    "    y1 = m1*x+b1\n",
    "    y2 = m2*x+b2\n",
    "    return nn.relu(y1) + nn.relu(y2)\n",
    "\n",
    "def relu_dbl_m1b1m2b2_fn(m1,b1,m2,b2): return partial(relu_dbl_fn,m1,b1,m2,b2)\n",
    "\n",
    "# @interact(m1=1,b1=1,m2=-1,b2=-1)\n",
    "def relu_dbl_interactive_plotter_fn(m1,b1,m2,b2):\n",
    "    xs_sgl_100_tsr = torch.linspace(-4.1,4.1,steps=100)\n",
    "    \n",
    "    relu_dbl_m1b1m2b2_model = relu_dbl_m1b1m2b2_fn(m1,b1,m2,b2)\n",
    "    ys_dbl_m1b1m2b2_100_tsr = relu_dbl_m1b1m2b2_model(xs_sgl_100_tsr)\n",
    "\n",
    "    plt.xlim((-4,4))\n",
    "    plt.ylim((-1,10))\n",
    "    plt.plot(xs_sgl_100_tsr, ys_dbl_m1b1m2b2_100_tsr)\n",
    "\n",
    "relu_dbl_interactive_plotter_fn(1,1,-1,-1)"
   ]
  },
  {
   "cell_type": "markdown",
   "metadata": {},
   "source": [
    "# 5. Gradient Descent on Double ReLU\n"
   ]
  },
  {
   "cell_type": "markdown",
   "metadata": {},
   "source": [
    "## 5.1 Create noisey data we wish to model"
   ]
  },
  {
   "cell_type": "code",
   "execution_count": null,
   "metadata": {},
   "outputs": [],
   "source": [
    "import torch\n",
    "import torch.nn.functional as nn\n",
    "from functools import partial\n",
    "import matplotlib.pyplot as plt\n",
    "from ipywidgets import interact\n",
    "\n",
    "def quad_fn(a,b,c,x): return a*x**2 + b*x + c\n",
    "def quad_abc_fn(a,b,c): return partial(quad_fn,a,b,c)\n",
    "\n",
    "og_a= 3\n",
    "og_b= 2\n",
    "og_c= 1\n",
    "\n",
    "xs_100_tsr = torch.linspace(-2.1,2.1,steps=100)\n",
    "quad_og_model = quad_abc_fn(og_a,og_b,og_c)\n",
    "\n",
    "np.random.seed(42)\n",
    "\n",
    "def noise(tsr, scale): return np.random.normal(scale=scale,size=tsr.shape)\n",
    "def add_scale_noise_to_tsr(tsr,scale,additive):\n",
    "    tsr = tsr+tsr*noise(tsr, scale)\n",
    "    tsr = tsr+noise(tsr, additive)\n",
    "    return tsr\n",
    "\n",
    "xs_20_tsr = torch.linspace(-2,2,steps=20)\n",
    "ys_20_og_tsr = quad_og_model(xs_20_tsr)\n",
    "ys_20_noisey_tsr = add_scale_noise_to_tsr(ys_20_og_tsr,0.15,1.5)\n"
   ]
  },
  {
   "cell_type": "markdown",
   "metadata": {},
   "source": [
    "## 5.2 Recreate Double ReLU functions learnt earlier"
   ]
  },
  {
   "cell_type": "code",
   "execution_count": 63,
   "metadata": {},
   "outputs": [],
   "source": [
    "def relu_dbl_fn(m1,b1,m2,b2,x):\n",
    "    y1 = m1*x+b1\n",
    "    y2 = m2*x+b2\n",
    "    return nn.relu(y1) + nn.relu(y2)\n",
    "\n",
    "\n",
    "def relu_dbl_m1b1m2b2_fn(m1,b1,m2,b2): return partial(relu_dbl_fn,m1,b1,m2,b2)"
   ]
  },
  {
   "cell_type": "markdown",
   "metadata": {},
   "source": [
    "## 5.3 Create MAE calculate and Loss Function"
   ]
  },
  {
   "cell_type": "code",
   "execution_count": 47,
   "metadata": {},
   "outputs": [],
   "source": [
    "def calc_mae(actual, preds): return torch.abs(actual-preds).mean()\n",
    "\n",
    "def relu_2_loss_function(params):\n",
    "    def relu_dbl_m1b1m2b2_fn(m1,b1,m2,b2): return partial(relu_dbl_fn,m1,b1,m2,b2)\n",
    "    relu_dbl_m1b1m2b2_model = relu_dbl_m1b1m2b2_fn(*params)\n",
    "    ys_preds_20_tsr = relu_dbl_m1b1m2b2_model(xs_20_tsr)\n",
    "    return calc_mae(ys_20_noisey_tsr,ys_preds_20_tsr)"
   ]
  },
  {
   "cell_type": "markdown",
   "metadata": {},
   "source": [
    "## 5.4 Loss is `4.1318` with original input tensor([`0.5,0.5,-0.5,-0.5`])\n",
    "\n",
    "Original model predictions (blue line) are not great, not very close to our data (red dots)\n",
    "\n",
    "That makes sense since I arbitrarily chose the parameters of `0.5` and `-0.5`"
   ]
  },
  {
   "cell_type": "code",
   "execution_count": 20,
   "metadata": {},
   "outputs": [
    {
     "data": {
      "text/plain": [
       "tensor(4.1318, dtype=torch.float64, grad_fn=<MeanBackward0>)"
      ]
     },
     "execution_count": 20,
     "metadata": {},
     "output_type": "execute_result"
    }
   ],
   "source": [
    "m1b1_m2b2_tsr = torch.tensor([0.5,0.5,-0.5,-0.5],requires_grad=True)\n",
    "relu_2_loss_function(m1b1_m2b2_tsr)\n"
   ]
  },
  {
   "cell_type": "code",
   "execution_count": 62,
   "metadata": {},
   "outputs": [
    {
     "data": {
      "image/png": "[encoded data removed]",
      "text/plain": [
       "<Figure size 640x480 with 1 Axes>"
      ]
     },
     "metadata": {},
     "output_type": "display_data"
    }
   ],
   "source": [
    "# @interact(m1=0.5,b1=0.5,m2=-.5,b2=-.5)\n",
    "def relu_dbl_interactive_plotter_fn(m1,b1,m2,b2):\n",
    "    xs_sgl_100_tsr = torch.linspace(-4.1,4.1,steps=100)\n",
    "    \n",
    "    relu_dbl_m1b1m2b2_model = relu_dbl_m1b1m2b2_fn(m1,b1,m2,b2)\n",
    "    ys_dbl_m1b1m2b2_100_tsr = relu_dbl_m1b1m2b2_model(xs_sgl_100_tsr)\n",
    "\n",
    "    plt.xlim((-2,2))\n",
    "    plt.ylim((-1,15))\n",
    "    plt.plot(xs_sgl_100_tsr, ys_dbl_m1b1m2b2_100_tsr)\n",
    "    plt.scatter(xs_20_tsr,ys_20_noisey_tsr, color='r')\n",
    "\n",
    "    # print(ys_20_noisey_tsr)\n",
    "    ys_dbl_preds_20_tsr = relu_dbl_m1b1m2b2_model(xs_20_tsr)\n",
    "    mae = calc_mae(ys_20_noisey_tsr, ys_dbl_preds_20_tsr)\n",
    "    plt.title(label=f\"mae: {mae:.2f}\")\n",
    "relu_dbl_interactive_plotter_fn(0.5,0.5,-0.5,-0.5)\n"
   ]
  },
  {
   "cell_type": "markdown",
   "metadata": {},
   "source": [
    "## 5.5 `1.96` Loss with Gradient Descent after 40 epochs "
   ]
  },
  {
   "cell_type": "code",
   "execution_count": 53,
   "metadata": {},
   "outputs": [
    {
     "name": "stdout",
     "output_type": "stream",
     "text": [
      "loss_1: 4.13 - [tensor([ 0.5049,  0.5045, -0.5039, -0.4975], requires_grad=True)]\n",
      "loss_2: 4.13 - [tensor([ 0.5147,  0.5135, -0.5118, -0.4925], requires_grad=True)]\n",
      "loss_3: 4.11 - [tensor([ 0.5295,  0.5260, -0.5237, -0.4850], requires_grad=True)]\n",
      "loss_4: 4.09 - [tensor([ 0.5493,  0.5420, -0.5399, -0.4745], requires_grad=True)]\n",
      "loss_5: 4.07 - [tensor([ 0.5741,  0.5615, -0.5606, -0.4610], requires_grad=True)]\n",
      "loss_6: 4.04 - [tensor([ 0.6038,  0.5845, -0.5857, -0.4445], requires_grad=True)]\n",
      "loss_7: 4.00 - [tensor([ 0.6386,  0.6110, -0.6153, -0.4250], requires_grad=True)]\n",
      "loss_8: 3.95 - [tensor([ 0.6784,  0.6410, -0.6488, -0.4030], requires_grad=True)]\n",
      "loss_9: 3.90 - [tensor([ 0.7237,  0.6740, -0.6865, -0.3785], requires_grad=True)]\n",
      "loss_10: 3.85 - [tensor([ 0.7744,  0.7100, -0.7282, -0.3515], requires_grad=True)]\n",
      "loss_11: 3.78 - [tensor([ 0.8306,  0.7490, -0.7742, -0.3215], requires_grad=True)]\n",
      "loss_12: 3.71 - [tensor([ 0.8916,  0.7900, -0.8245, -0.2885], requires_grad=True)]\n",
      "loss_13: 3.65 - [tensor([ 0.9573,  0.8330, -0.8791, -0.2525], requires_grad=True)]\n",
      "loss_14: 3.57 - [tensor([ 1.0277,  0.8780, -0.9379, -0.2140], requires_grad=True)]\n",
      "loss_15: 3.50 - [tensor([ 1.1028,  0.9250, -1.0008, -0.1730], requires_grad=True)]\n",
      "loss_16: 3.41 - [tensor([ 1.1827,  0.9740, -1.0679, -0.1295], requires_grad=True)]\n",
      "loss_17: 3.33 - [tensor([ 1.2674,  1.0250, -1.1392, -0.0835], requires_grad=True)]\n",
      "loss_18: 3.24 - [tensor([ 1.3567,  1.0780, -1.2146, -0.0355], requires_grad=True)]\n",
      "loss_19: 3.15 - [tensor([ 1.4508,  1.1330, -1.2941,  0.0145], requires_grad=True)]\n",
      "loss_20: 3.05 - [tensor([ 1.5497,  1.1900, -1.3776,  0.0665], requires_grad=True)]\n",
      "loss_21: 2.94 - [tensor([ 1.6533,  1.2490, -1.4653,  0.1205], requires_grad=True)]\n",
      "loss_22: 2.84 - [tensor([ 1.7616,  1.3100, -1.5559,  0.1755], requires_grad=True)]\n",
      "loss_23: 2.74 - [tensor([ 1.8746,  1.3730, -1.6496,  0.2310], requires_grad=True)]\n",
      "loss_24: 2.65 - [tensor([ 1.9926,  1.4375, -1.7457,  0.2860], requires_grad=True)]\n",
      "loss_25: 2.57 - [tensor([ 2.1154,  1.5035, -1.8419,  0.3385], requires_grad=True)]\n",
      "loss_26: 2.51 - [tensor([ 2.2432,  1.5710, -1.9384,  0.3885], requires_grad=True)]\n",
      "loss_27: 2.45 - [tensor([ 2.3758,  1.6400, -2.0349,  0.4360], requires_grad=True)]\n",
      "loss_28: 2.39 - [tensor([ 2.5133,  1.7105, -2.1317,  0.4810], requires_grad=True)]\n",
      "loss_29: 2.33 - [tensor([ 2.6552,  1.7815, -2.2286,  0.5235], requires_grad=True)]\n",
      "loss_30: 2.27 - [tensor([ 2.8015,  1.8530, -2.3256,  0.5635], requires_grad=True)]\n",
      "loss_31: 2.23 - [tensor([ 2.9509,  1.9240, -2.4228,  0.6010], requires_grad=True)]\n",
      "loss_32: 2.19 - [tensor([ 3.1036,  1.9945, -2.5202,  0.6360], requires_grad=True)]\n",
      "loss_33: 2.16 - [tensor([ 3.2595,  2.0645, -2.6177,  0.6685], requires_grad=True)]\n",
      "loss_34: 2.12 - [tensor([ 3.4186,  2.1340, -2.7154,  0.6985], requires_grad=True)]\n",
      "loss_35: 2.07 - [tensor([ 3.5809,  2.2030, -2.8133,  0.7260], requires_grad=True)]\n",
      "loss_36: 2.05 - [tensor([ 3.7455,  2.2705, -2.9113,  0.7510], requires_grad=True)]\n",
      "loss_37: 2.03 - [tensor([ 3.9124,  2.3365, -3.0094,  0.7735], requires_grad=True)]\n",
      "loss_38: 2.01 - [tensor([ 4.0815,  2.4010, -3.1077,  0.7935], requires_grad=True)]\n",
      "loss_39: 1.98 - [tensor([ 4.2528,  2.4640, -3.2062,  0.8110], requires_grad=True)]\n",
      "loss_40: 1.96 - [tensor([ 4.4251,  2.5245, -3.3031,  0.8250], requires_grad=True)]\n"
     ]
    }
   ],
   "source": [
    "m1b1_m2b2_tsr = torch.tensor([0.5,0.5,-0.5,-0.5],requires_grad=True)\n",
    "\n",
    "for i in range(40):\n",
    "    loss = relu_2_loss_function(m1b1_m2b2_tsr)\n",
    "    loss.backward()\n",
    "\n",
    "    with torch.no_grad():\n",
    "        m1b1_m2b2_tsr -= m1b1_m2b2_tsr.grad*0.01\n",
    "        print(f\"loss_{i+1}: {loss:.2f} - [{m1b1_m2b2_tsr}]\")\n"
   ]
  },
  {
   "cell_type": "markdown",
   "metadata": {},
   "source": [
    "## 5.6 Predictions (blue line) vs Data (red dots)\n",
    "New Parameters has created a Double ReLU predictions shaped closer to the Noisey Data as seen below!"
   ]
  },
  {
   "cell_type": "code",
   "execution_count": 60,
   "metadata": {},
   "outputs": [
    {
     "data": {
      "image/png": "[encoded data removed]",
      "text/plain": [
       "<Figure size 640x480 with 1 Axes>"
      ]
     },
     "metadata": {},
     "output_type": "display_data"
    }
   ],
   "source": [
    "def relu_dbl_interactive_plotter_fn(m1,b1,m2,b2):\n",
    "    xs_sgl_100_tsr = torch.linspace(-4.1,4.1,steps=100)\n",
    "    \n",
    "    relu_dbl_m1b1m2b2_model = relu_dbl_m1b1m2b2_fn(m1,b1,m2,b2)\n",
    "    ys_dbl_m1b1m2b2_100_tsr = relu_dbl_m1b1m2b2_model(xs_sgl_100_tsr)\n",
    "\n",
    "    plt.xlim((-2,2))\n",
    "    plt.ylim((-1,15))\n",
    "    plt.plot(xs_sgl_100_tsr, ys_dbl_m1b1m2b2_100_tsr)\n",
    "    plt.scatter(xs_20_tsr,ys_20_noisey_tsr, color='r')\n",
    "\n",
    "    # print(ys_20_noisey_tsr)\n",
    "    ys_dbl_preds_20_tsr = relu_dbl_m1b1m2b2_model(xs_20_tsr)\n",
    "    mae = calc_mae(ys_20_noisey_tsr, ys_dbl_preds_20_tsr)\n",
    "    plt.title(label=f\"mae: {mae:.2f}\")\n",
    "relu_dbl_interactive_plotter_fn(m1=4.4251,  b1=2.5245, m2=-3.3031,  b2=0.8250)"
   ]
  },
  {
   "cell_type": "markdown",
   "metadata": {},
   "source": [
    "# 6. Completed\n",
    "\n",
    "I managed to apply `gradient descent` to a `double relu` and reduce errror by 50%, not bad!\n",
    "\n",
    "In a future post, I'll fit more ReLUs to see how close we can get to our data."
   ]
  },
  {
   "cell_type": "markdown",
   "metadata": {},
   "source": []
  }
 ],
 "metadata": {
  "kernelspec": {
   "display_name": "fastai",
   "language": "python",
   "name": "python3"
  },
  "language_info": {
   "codemirror_mode": {
    "name": "ipython",
    "version": 3
   },
   "file_extension": ".py",
   "mimetype": "text/x-python",
   "name": "python",
   "nbconvert_exporter": "python",
   "pygments_lexer": "ipython3",
   "version": "3.12.2"
  }
 },
 "nbformat": 4,
 "nbformat_minor": 2
}
