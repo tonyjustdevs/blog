{
 "cells": [
  {
   "cell_type": "raw",
   "metadata": {},
   "source": [
    "---\n",
    "title: \"How to Build and Deploy a Deep-Learning Multi-Classifier Web App (Part 3)\"\n",
    "author: \"Tony Phung\"\n",
    "date: \"2024-01-25\"\n",
    "categories: [huggingface, tutorial]\n",
    "image: \"dog_cat.jpg\"\n",
    "toc: true\n",
    "---\n",
    "\n",
    "![](dog_cat.jpg)\n"
   ]
  },
  {
   "cell_type": "markdown",
   "metadata": {},
   "source": [
    "This post shows how to how to host your working Local Gradio App on HuggingFace. This app should:  \n",
    "\n",
    "This post is part of a series:  \n",
    "Part 1: Create **Learner** (.pkl file)  \n",
    "Part 2: Create **Gradio** application file (app.py)    \n",
    "Part 3: Host on **HuggingFace** account"
   ]
  },
  {
   "cell_type": "markdown",
   "metadata": {},
   "source": [
    "## Part 3: Host on **HuggingFace** account"
   ]
  }
 ],
 "metadata": {
  "kernelspec": {
   "display_name": "fast_ai",
   "language": "python",
   "name": "python3"
  },
  "language_info": {
   "codemirror_mode": {
    "name": "ipython",
    "version": 3
   },
   "file_extension": ".py",
   "mimetype": "text/x-python",
   "name": "python",
   "nbconvert_exporter": "python",
   "pygments_lexer": "ipython3",
   "version": "3.11.5"
  }
 },
 "nbformat": 4,
 "nbformat_minor": 2
}
