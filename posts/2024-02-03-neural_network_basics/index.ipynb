{
 "cells": [
  {
   "cell_type": "raw",
   "metadata": {},
   "source": [
    "---\n",
    "title: \"Neural Network Basics (Part 3)\"\n",
    "author: \"Tony Phung\"\n",
    "date: \"2024-02-03\"\n",
    "categories: [basics]\n",
    "image: \"mae.jpg\"\n",
    "toc: true\n",
    "description: \"Creating the ReLU Function \"\n",
    "---"
   ]
  },
  {
   "cell_type": "markdown",
   "metadata": {},
   "source": [
    "![](activation.jpg)"
   ]
  },
  {
   "cell_type": "markdown",
   "metadata": {},
   "source": [
    "In [Neural Network Basics: Part 2](https://tonyjustdevs.github.io/blog/posts/2024-02-02-neural_network_basics/), the parameters of a function were found (optimised) to Minimise the Loss Function. The Loss Function chosen was the Mean Absolute Error, it could have been chosen to be the Mean Squared Error. \n",
    "\n",
    "But **What is the mathematical function** if the wish to model something more complex like predicting the breed of Cat?\n",
    "\n",
    "Unfortunately, its unlikely the relationship between the parameters and whether a pixel is part of a Maine Coon 🐈 is a Quadratic, its going to be something more complicated.\n",
    "\n",
    "Thankfully, there exists the *infinitely flexible function* known as **Rectified Linear Unit (ReLU)**"
   ]
  },
  {
   "cell_type": "markdown",
   "metadata": {},
   "source": [
    "## 1. Rectified Linear Unit (ReLU)"
   ]
  },
  {
   "cell_type": "code",
   "execution_count": 1,
   "metadata": {},
   "outputs": [],
   "source": [
    "from ipywidgets import interact\n",
    "from fastai.basics import *\n",
    "from functools import partial"
   ]
  },
  {
   "cell_type": "markdown",
   "metadata": {},
   "source": [
    "### 1.1 Function  \n",
    "The function does two things:  \n",
    "1. Calculate the output of a line  \n",
    "2. If the output is smaller than zero, return zero"
   ]
  },
  {
   "cell_type": "code",
   "execution_count": 2,
   "metadata": {},
   "outputs": [],
   "source": [
    "def rectified_linear(m,b,x):\n",
    "    y = m*x+b\n",
    "    return torch.clip(y,0.)"
   ]
  },
  {
   "cell_type": "markdown",
   "metadata": {},
   "source": [
    "### 1.2 Create A Custom ReLU Method"
   ]
  },
  {
   "cell_type": "code",
   "execution_count": 10,
   "metadata": {},
   "outputs": [],
   "source": [
    "def custom_relu_fn(m,b): return partial(rectified_linear,m,b)"
   ]
  },
  {
   "cell_type": "markdown",
   "metadata": {},
   "source": [
    "### 1.3 Create `y = 1x + 1` with Custom ReLU Method"
   ]
  },
  {
   "cell_type": "code",
   "execution_count": 4,
   "metadata": {},
   "outputs": [
    {
     "data": {
      "text/plain": [
       "functools.partial(<function rectified_linear at 0x00000220331C9D00>, 1, 1)"
      ]
     },
     "execution_count": 4,
     "metadata": {},
     "output_type": "execute_result"
    }
   ],
   "source": [
    "fn_11 = custom_relu_fn(1,1)\n",
    "fn_11"
   ]
  },
  {
   "cell_type": "markdown",
   "metadata": {},
   "source": [
    "### 1.4 ReLU `y = 1x+ 1` Plot"
   ]
  },
  {
   "cell_type": "code",
   "execution_count": 5,
   "metadata": {},
   "outputs": [
    {
     "data": {
      "text/plain": [
       "[<matplotlib.lines.Line2D at 0x22033206690>]"
      ]
     },
     "execution_count": 5,
     "metadata": {},
     "output_type": "execute_result"
    },
    {
     "data": {
      "image/png": "[encoded data removed]",
      "text/plain": [
       "<Figure size 640x480 with 1 Axes>"
      ]
     },
     "metadata": {},
     "output_type": "display_data"
    }
   ],
   "source": [
    "x = torch.linspace(-2.1,2.1,20)\n",
    "plt.plot(x,fn_11(x))"
   ]
  },
  {
   "cell_type": "markdown",
   "metadata": {},
   "source": [
    "#### 1.4.1 Interactive ReLU"
   ]
  },
  {
   "cell_type": "code",
   "execution_count": 6,
   "metadata": {},
   "outputs": [
    {
     "data": {
      "application/vnd.jupyter.widget-view+json": {
       "model_id": "17dad4b022104f7487cc9c8b807e0919",
       "version_major": 2,
       "version_minor": 0
      },
      "text/plain": [
       "interactive(children=(FloatSlider(value=1.2, description='m', max=3.5999999999999996, min=-1.2), FloatSlider(v…"
      ]
     },
     "metadata": {},
     "output_type": "display_data"
    }
   ],
   "source": [
    "plt.rc('figure', dpi=90)\n",
    "\n",
    "@interact(m=1.2, b=1.2)\n",
    "def plot_relu(m, b):\n",
    "    min, max = -4.1, 4.1\n",
    "    x = torch.linspace(min,max, 100)[:,None]\n",
    "    fn_fixed = partial(rectified_linear, m,b)\n",
    "    ylim=(-1,4)\n",
    "    plt.ylim(ylim)\n",
    "    plt.axvline(0, color='gray', linestyle='dotted', linewidth=2)\n",
    "    plt.axhline(0, color='gray', linestyle='dotted', linewidth=2)\n",
    "    plt.plot(x, fn_fixed(x))"
   ]
  },
  {
   "cell_type": "markdown",
   "metadata": {},
   "source": [
    "![](relu.jpg)"
   ]
  },
  {
   "cell_type": "markdown",
   "metadata": {},
   "source": [
    "### 1.5 Double ReLU Function"
   ]
  },
  {
   "cell_type": "code",
   "execution_count": 7,
   "metadata": {},
   "outputs": [],
   "source": [
    "def double_relu(m1,b1,m2,b2,x):\n",
    "    return rectified_linear(m1,b1) + rectified_linear(m2,b2) "
   ]
  },
  {
   "cell_type": "markdown",
   "metadata": {},
   "source": [
    "#### 1.5.1 Interactive Double ReLU"
   ]
  },
  {
   "cell_type": "code",
   "execution_count": 8,
   "metadata": {},
   "outputs": [
    {
     "data": {
      "application/vnd.jupyter.widget-view+json": {
       "model_id": "ace43579987543189d0d59e2a4755302",
       "version_major": 2,
       "version_minor": 0
      },
      "text/plain": [
       "interactive(children=(FloatSlider(value=-1.2, description='m1', max=1.2, min=-3.5999999999999996), FloatSlider…"
      ]
     },
     "metadata": {},
     "output_type": "display_data"
    }
   ],
   "source": [
    "plt.rc('figure', dpi=90)\n",
    "\n",
    "def dbl_rectified_linear(m1, b1,m2,b2,x): \n",
    "    return rectified_linear(m1,b1,x) + rectified_linear(m2,b2,x)\n",
    " \n",
    "@interact(m1=-1.2, b1=-1.2,m2=1.2, b2=1.2)\n",
    "def plot_dbl_relu(m1,b1,m2,b2):\n",
    "    min, max = -3.1, 3.1\n",
    "    x = torch.linspace(min,max, 100)[:,None]\n",
    "    fn_fixed = partial(dbl_rectified_linear, m1,b1,m2,b2)\n",
    "    ylim=(-1,4)\n",
    "    xlim=(-4,4)\n",
    "    plt.ylim(ylim)\n",
    "    plt.xlim(xlim)\n",
    "    plt.axvline(0, color='gray', linestyle='dotted', linewidth=2)\n",
    "    plt.axhline(0, color='gray', linestyle='dotted', linewidth=2)\n",
    "    plt.plot(x, fn_fixed(x))"
   ]
  },
  {
   "cell_type": "markdown",
   "metadata": {},
   "source": [
    "![](dbl_relu.jpg)"
   ]
  },
  {
   "cell_type": "markdown",
   "metadata": {},
   "source": [
    "#### 1.5.1 Triple ReLU for Good Measure!"
   ]
  },
  {
   "cell_type": "code",
   "execution_count": 9,
   "metadata": {},
   "outputs": [
    {
     "data": {
      "application/vnd.jupyter.widget-view+json": {
       "model_id": "ef75b047a8e04162860606c2fefb1209",
       "version_major": 2,
       "version_minor": 0
      },
      "text/plain": [
       "interactive(children=(FloatSlider(value=-1.2, description='m1', max=1.2, min=-3.5999999999999996), FloatSlider…"
      ]
     },
     "metadata": {},
     "output_type": "display_data"
    }
   ],
   "source": [
    "def trple_rectified_linear(m1, b1, m2, b2, m3, b3, x): \n",
    "    return rectified_linear(m1,b1,x) + rectified_linear(m2,b2,x) + rectified_linear(m3,b3,x)\n",
    " \n",
    "@interact(m1=-1.2, b1=-1.2,m2=1.2, b2=1.2, m3=0.5, b3=0.5)\n",
    "def plot_trple_relu(m1,b1,m2,b2,m3,b3):\n",
    "# static variables\n",
    "    min, max = -3.1, 3.1\n",
    "    x = torch.linspace(min,max, 100)[:,None]\n",
    "    \n",
    "# update partial to include extra parameters m3, b3\n",
    "    triple_relu_fn_y = partial(trple_rectified_linear, m1,b1,m2,b2,m3,b3)\n",
    "\n",
    "# static variables\n",
    "    ylim=(-1,4) \n",
    "    xlim=(-4,4)\n",
    "    plt.ylim(ylim)\n",
    "    plt.xlim(xlim)\n",
    "    plt.axvline(0, color='gray', linestyle='dotted', linewidth=2)\n",
    "    plt.axhline(0, color='gray', linestyle='dotted', linewidth=2)\n",
    "    plt.plot(x, triple_relu_fn_y(x))"
   ]
  },
  {
   "cell_type": "markdown",
   "metadata": {},
   "source": [
    "![](triple_relu.jpg)"
   ]
  },
  {
   "cell_type": "markdown",
   "metadata": {},
   "source": [
    "## 2. ReLU is An Infinitely Flexible Function\n",
    "\n",
    "There could be arbitrarily many ReLus added together to form any function!\n",
    "\n",
    "The previous functions are of a single input `x` i.e. 2-Dimensions.\n",
    "\n",
    "ReLU's could be added together over **as many dimensions as desired**, i.e. ReLU's over surfaces or ReLU's over 3D, 4D 5D etc.\n",
    "\n",
    "But adding these ReLU's, this means there are **arbitrary amount of parameters** related to each ReLU, how can these parameters be calculated?\n",
    "\n",
    "In [Part 2](https://tonyjustdevs.github.io/blog/posts/2024-02-02-neural_network_basics/), a optimisation method called **Gradient Descent** was used to determine Parameters.\n",
    "\n",
    "That's ***Deep Learning in a nutshell***. Beyond this, Tweaks are to:  \n",
    "- make it faster  \n",
    "- require less data  \n",
    "![](owl_dl.jpg)"
   ]
  },
  {
   "cell_type": "markdown",
   "metadata": {},
   "source": [
    "## Neural Network Basics Completed.\n",
    "\n",
    "Go back to a previous post:  \n",
    "    \n",
    "[Neural Network Basics: Part 1](https://tonyjustdevs.github.io/blog/posts/2024-01-31-99_neural_network_basics/)  \n",
    "[Neural Network Basics: Part 2](https://tonyjustdevs.github.io/blog/posts/2024-02-02-neural_network_basics/)   \n",
    "[Neural Network Basics: Part 3](https://tonyjustdevs.github.io/blog/posts/2024-02-03-neural_network_basics/)  "
   ]
  }
 ],
 "metadata": {
  "kernelspec": {
   "display_name": "fastai",
   "language": "python",
   "name": "python3"
  },
  "language_info": {
   "codemirror_mode": {
    "name": "ipython",
    "version": 3
   },
   "file_extension": ".py",
   "mimetype": "text/x-python",
   "name": "python",
   "nbconvert_exporter": "python",
   "pygments_lexer": "ipython3",
   "version": "3.11.5"
  }
 },
 "nbformat": 4,
 "nbformat_minor": 2
}
