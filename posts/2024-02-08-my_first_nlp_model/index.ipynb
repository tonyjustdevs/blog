{
 "cells": [
  {
   "cell_type": "raw",
   "metadata": {},
   "source": [
    "---\n",
    "title: \"A Basic NLP model\"\n",
    "author: \"Tony Phung\"\n",
    "date: \"2024-02-08\"\n",
    "categories: [NLP]\n",
    "image: \"nlp.jpg\"\n",
    "toc: true\n",
    "description: \"Training my first NLP Model\"\n",
    "---"
   ]
  },
  {
   "cell_type": "markdown",
   "metadata": {},
   "source": [
    "![](nlpcup.jpg)"
   ]
  },
  {
   "cell_type": "markdown",
   "metadata": {},
   "source": [
    "## 1. What's a Pre-trained Model\n",
    "\n",
    "Recall in [Neural Network Basics](https://tonyjustdevs.github.io/blog/posts/2024-01-31-99_neural_network_basics/), I tried to fit a line by adjusting the coefficients for a quadratic function:\n",
    "\n",
    "![](mae.jpg)\n",
    "\n",
    "\n",
    "A **Pre-Trained Model** is being like being told the coefficients that the coefficient of `a` is definitely 3 and `b` is around 2. \n",
    "\n",
    "**Fine-Tuning** is process of finding the coefficients that are not known, in this case, `c`, whilst slightly moving `a` and `b`."
   ]
  },
  {
   "cell_type": "markdown",
   "metadata": {},
   "source": [
    "## 2. ULMFiT: 3 Stages of Transfer Learning in NLP\n",
    "\n",
    "The **ULMFiT** process is shown in the diagram below:\n",
    "\n",
    "![](ulm.jpg)\n",
    "\n",
    "1. Build **Language Model 1 Wikipedia**:\n",
    "- *Goal*: To predict the next word (or every next word) of every wikipedia article.\n",
    "- *Process*: Started with random weights\n",
    "- *Acheivement*: a model that can predict >30% correclty the next word in a wikipedia article.\n",
    "\n",
    "2. Build **Language Model 2 IMDb**:\n",
    "- *Goal*: Predict next word of IMDb movie review.\n",
    "- *Process*: Use Pre-trained model (i.e. its weights) from 1, run a few more epochs (fine-tune) with IMDb movie reviews\n",
    "- *Achievement*: Predicted with high accuracy next word of IMbd review.\n",
    "\n",
    "2. Build **IMDb Movie Review Classifier**:\n",
    "- *Goal*: Classify whether an IMDb movie review is positive or negative sentiment\n",
    "- *Process*: Use pre-trained model (i.e. its weights ) from 2 and fine-tune.\n",
    "- *Achievement*: Classify IMbd reviews."
   ]
  },
  {
   "cell_type": "markdown",
   "metadata": {},
   "source": [
    "## 3. Transformers Model (a different architecture)\n",
    "\n",
    "Built to take advantage of accelerators (Googles TPUs)\n",
    "Unlike ULMFit, Transformers didn't predict the next word of the sentence. \n",
    "\n",
    "However, it was trained by taking texts and deleting at random a few words and asked the model what were the models removed.\n",
    "\n",
    "Comparisons to ULMfit:\n",
    "- RNN vs Transformer model\n",
    "- Language model vs Masked Language model\n",
    "\n",
    "Hence, this post will focus on the more popular method, from the Transformer Models."
   ]
  },
  {
   "cell_type": "markdown",
   "metadata": {},
   "source": [
    "## 4. Background\n",
    "\n",
    "Zeiler and Fergus paper\n",
    "\n",
    "High level\n",
    "1. Layer 1: sets of weights that found diagonal edges, ie **edge detectors*\n",
    "2. Layer 2: combined layer 1 ReLUs added together, sets of output so of those ReLUS, i.e Activations, then run through a MM ReLU, resulting in **corner detectors**\n",
    "3. Layer 5: Bird and Lizard eyeball detectors, dog face dectors, flower detector and etc\n",
    "\n",
    "**ResNet50** has 50 layer.\n",
    "\n",
    "The **latter layers** do things more specific to the training task, ie predicting whats being looked at.\n",
    "\n",
    "Whilst the **early layers**, don't change much as they're generalised for most natural photos, sharp and rounded edges etc"
   ]
  },
  {
   "cell_type": "markdown",
   "metadata": {},
   "source": []
  },
  {
   "cell_type": "markdown",
   "metadata": {},
   "source": []
  },
  {
   "cell_type": "markdown",
   "metadata": {},
   "source": []
  },
  {
   "cell_type": "markdown",
   "metadata": {},
   "source": []
  },
  {
   "cell_type": "markdown",
   "metadata": {},
   "source": []
  },
  {
   "cell_type": "markdown",
   "metadata": {},
   "source": []
  },
  {
   "cell_type": "markdown",
   "metadata": {},
   "source": []
  }
 ],
 "metadata": {
  "kernelspec": {
   "display_name": "fastai",
   "language": "python",
   "name": "python3"
  },
  "language_info": {
   "codemirror_mode": {
    "name": "ipython",
    "version": 3
   },
   "file_extension": ".py",
   "mimetype": "text/x-python",
   "name": "python",
   "nbconvert_exporter": "python",
   "pygments_lexer": "ipython3",
   "version": "3.11.5"
  }
 },
 "nbformat": 4,
 "nbformat_minor": 2
}
