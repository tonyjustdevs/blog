{
 "cells": [
  {
   "cell_type": "raw",
   "metadata": {
    "vscode": {
     "languageId": "raw"
    }
   },
   "source": [
    "---\n",
    "title: \"Transfer Multiple Issues via Github API in Bash\"\n",
    "author: \"Tony Phung\"\n",
    "date: \"2024-10-21\"\n",
    "categories: [github, bash]\n",
    "image: \"imgs/11ghapi.jpg\"\n",
    "toc: true\n",
    "description: \"Run a simple loop to transfer multiple issues from one repo to another\"\n",
    "---"
   ]
  },
  {
   "cell_type": "markdown",
   "metadata": {
    "vscode": {
     "languageId": "raw"
    }
   },
   "source": [
    "![](imgs/11ghapi.jpg)"
   ]
  },
  {
   "cell_type": "markdown",
   "metadata": {
    "vscode": {
     "languageId": "raw"
    }
   },
   "source": [
    "# 1. Backstory (Short)\n",
    "- I created an original repo [tonyjustdevs/learning_csharp](https://github.com/tonyjustdevs/learning_csharp) and created all the issues on this repo.  \n",
    "- I realised this repo isnt right for these issues and created a new repo [tonyjustdevs/learning_csharp_vs](https://github.com/tonyjustdevs/learning_csharp_vs) for these issues.  \n",
    "- I want to transfer these issues to the new repo (in hindsight I could've just renamed the original repo?) and   \n",
    "- I did not want to do it manually."
   ]
  },
  {
   "cell_type": "markdown",
   "metadata": {},
   "source": [
    "#### 1.1 Backstory (Long)\n",
    "\n",
    "- I created a repo [tonyjustdevs/learning_csharp](https://github.com/tonyjustdevs/learning_csharp) via wsl (I did this for all my repos so far).\n",
    "- Then I manually (and painstakingly) decomposed the course [Foundational C# with Microsoft](https://www.freecodecamp.org/learn/foundational-c-sharp-with-microsoft/) into 8 Parts.\n",
    "    - I mass copied the whole page above and then created an issue (to have an outline of the course on gh)\n",
    "    - Each part has about of 7-8 units, so I created issues for each part via the `Github PR: Issues Extension` in VSC. \n",
    "        Each unit was a dot point prefixed with `- [ ]` so when it appears in the issue description, it is automatically a github task. \n",
    "        - (I like converting lists into tasks because Github makes it pretty with a counter for each task etc)\n",
    "    - [A previous post introduces how I setup GH-API via Python](https://tonyjustdevs.github.io/blog/posts/notes/coding/11-github-api.html)\n",
    "    - I then ran a python script that converts all tasks into  issue description to be into new individual issues (This is like pressing the circle that post up when you hover your mouse over a task).\n",
    "        - Since I have had parts, I ran this for each of the 7 Parts.\n",
    "- After this, I began the course and quickly realised I wanted to focus on building c# applications with Visual Studio not Visual Studio Code\n",
    "    - No other reason beyond already being familiar with VSC and wanting to learn a new IDE and\n",
    "    - VS isn't a bad option for C# 😅\n",
    "- I also want to keep the original repo for when I build apps with wsl and vsc, so I created a new repo c# app I built with **Visual Studio**: [tonyjustdevs/learning_csharp_vs](https://github.com/tonyjustdevs/learning_csharp_vs)\n",
    "- At first, I clicked the transfer issue button on the Github website, which is fine. But I figured, this isn't what a software engineer would do. So lets use the api to do it."
   ]
  },
  {
   "cell_type": "markdown",
   "metadata": {},
   "source": [
    "# 2. Solution: Create a loop Bash via Github-API\n",
    "\n",
    "## 2.1 Install Github API in wsl\n",
    "- Run `sudo apt install gh`.\n",
    "- Run `gh` to see if install properly. Looks Good.\n",
    "- See `Command`: `issue` available for us to call.\n",
    "\n",
    "![](imgs/18issues1.jpg)"
   ]
  },
  {
   "cell_type": "markdown",
   "metadata": {},
   "source": [
    "## 2.2 Get Authenticated\n",
    "\n",
    "- If you don't have ssh setup then here is a [[Two Step Tutorial]](https://tonyjustdevs.github.io/blog/posts/notes/coding/4-wsl_new_user.html#ssh-github-and-blog)\n",
    "\n",
    "\n"
   ]
  },
  {
   "cell_type": "markdown",
   "metadata": {},
   "source": [
    "![](imgs/18issues2.jpg)\n",
    "\n",
    "![](imgs/18issues3.jpg)\n"
   ]
  },
  {
   "cell_type": "markdown",
   "metadata": {},
   "source": [
    "## 2.3 Test out a single `Issue Transfer`\n",
    "\n",
    "\n",
    "- Run `gh issue transfer 23 tonyjustdevs/learning_csharp_vs -R tonyjustdevs/learning_csharp`\n",
    "\n",
    "\n",
    "![](imgs/18issues4.jpg)\n",
    "\n",
    "- No error message and it looked like it [[github issue event]](https://github.com/tonyjustdevs/learning_csharp_vs/issues/24#event-14970092668)\n",
    "\n",
    "![](imgs/18issues5.jpg)"
   ]
  },
  {
   "cell_type": "markdown",
   "metadata": {},
   "source": [
    "# 3. Transfer Multiple Issues with loop\n",
    "## 3.1 Before Transfer \n",
    "Issues are currently with original repo:    \n",
    "\n",
    "- `tonyjustdevs/learning_csharp`\n",
    "\n",
    "Recall, the goal is to transfer them to:    \n",
    "\n",
    "- `tonyjustdevs/learning_csharp_vs`"
   ]
  },
  {
   "cell_type": "markdown",
   "metadata": {},
   "source": [
    "![](imgs/18issues6.jpg)"
   ]
  },
  {
   "cell_type": "markdown",
   "metadata": {},
   "source": [
    "# 3.2 Run Bash Loop\n",
    "For **[Part 3]**: the issues are from **[24]** to **[31]**"
   ]
  },
  {
   "cell_type": "code",
   "execution_count": null,
   "metadata": {
    "vscode": {
     "languageId": "shellscript"
    }
   },
   "outputs": [],
   "source": [
    "for issue_number in {24..31}\n",
    "do\n",
    "  gh issue transfer \"$issue_number\" tonyjustdevs/learning_csharp_vs -R tonyjustdevs/learning_csharp\n",
    "done"
   ]
  },
  {
   "cell_type": "markdown",
   "metadata": {},
   "source": [
    "![](imgs/18issues7.jpg)"
   ]
  },
  {
   "cell_type": "markdown",
   "metadata": {},
   "source": [
    "The `Response` from Github is the same previously when we ran a single issue transfer! (A link to new issue number in the new repo)."
   ]
  },
  {
   "cell_type": "markdown",
   "metadata": {},
   "source": [
    "# 3.3 Github Website\n",
    "- Look back to see the new issues:  \n",
    "\n",
    "    - [[https://github.com/tonyjustdevs/learning_csharp_vs/issues/3]](https://github.com/tonyjustdevs/learning_csharp_vs/issues/3)\n",
    "\n",
    "- Notice our issues are all updated to be part of the required repo now. \n"
   ]
  },
  {
   "cell_type": "markdown",
   "metadata": {},
   "source": [
    "![](imgs/18issues8.jpg)"
   ]
  },
  {
   "cell_type": "markdown",
   "metadata": {},
   "source": [
    "# 4. Complete Transfer Remaining Issues 32 to 54\n",
    "Now for the rest of the issues:     \n",
    "\n",
    "- Part 4: Issues 32 to 39\n",
    "- Part 5: Issues 40 to 45\n",
    "- Part 6: Issues 46 to 52\n",
    "- Part 7: Issues 53 to 54"
   ]
  },
  {
   "cell_type": "markdown",
   "metadata": {},
   "source": [
    "## 4.1 [Before Transfer] \n",
    "### 4.1.1 Part 4: Issues 32 to 39  \n",
    "![](imgs/18issues9.jpg)"
   ]
  },
  {
   "cell_type": "markdown",
   "metadata": {},
   "source": [
    "### 4.1.2 [Before Transfer] Part 5: Issues 40 to 45\n",
    "![](imgs/18issues10.jpg)"
   ]
  },
  {
   "cell_type": "markdown",
   "metadata": {},
   "source": [
    "### 4.1.3 [Before Transfer] Part 4: Issues 46 to 52\n",
    "![](imgs/18issues11.jpg)"
   ]
  },
  {
   "cell_type": "markdown",
   "metadata": {},
   "source": [
    "### 4.1.4 [Before Transfer] Part 4: Issues 53 to 54\n",
    "![](imgs/18issues12.jpg)"
   ]
  },
  {
   "cell_type": "markdown",
   "metadata": {},
   "source": [
    "## 4.2 Run Code for Issues 32 to 54 \n",
    "\n",
    "Looks like theres a limit of 20 requests per minutes or something since it stopped:  \n",
    "\n",
    "- Issues 32 to 51 went through\n",
    "- Halted at Issues 52\n",
    "\n",
    "I ran the code again for Issue 52 to 54 a minute later and everything worked fine."
   ]
  },
  {
   "cell_type": "markdown",
   "metadata": {},
   "source": [
    "![](imgs/18issues13.jpg)"
   ]
  },
  {
   "cell_type": "markdown",
   "metadata": {},
   "source": [
    "# 5. Mission Accomplished!\n",
    "\n",
    "You'll have to take my word that everything worked or:\n",
    "\n",
    "1. Choose one of the following issue links `parts`,\n",
    "2. Click any individual issue `units`, \n",
    "3. It'll have an event saying it was `transferred` on todays date **[29-Oct-2024]**:\n",
    "\n",
    "- [https://github.com/tonyjustdevs/learning_csharp_vs/issues/4](https://github.com/tonyjustdevs/learning_csharp_vs/issues/4)\n",
    "- [https://github.com/tonyjustdevs/learning_csharp_vs/issues/5](https://github.com/tonyjustdevs/learning_csharp_vs/issues/5)\n",
    "- [https://github.com/tonyjustdevs/learning_csharp_vs/issues/6](https://github.com/tonyjustdevs/learning_csharp_vs/issues/6)\n",
    "- [https://github.com/tonyjustdevs/learning_csharp_vs/issues/7](https://github.com/tonyjustdevs/learning_csharp_vs/issues/7)\n"
   ]
  },
  {
   "cell_type": "markdown",
   "metadata": {
    "vscode": {
     "languageId": "shellscript"
    }
   },
   "source": [
    "## 5.1 [After Transfer] Example\n",
    "![](imgs/18issues14.jpg)\n",
    "\n"
   ]
  }
 ],
 "metadata": {
  "kernelspec": {
   "display_name": "blog-T-2huGx2",
   "language": "python",
   "name": "python3"
  },
  "language_info": {
   "codemirror_mode": {
    "name": "ipython",
    "version": 3
   },
   "file_extension": ".py",
   "mimetype": "text/x-python",
   "name": "python",
   "nbconvert_exporter": "python",
   "pygments_lexer": "ipython3",
   "version": "3.10.12"
  }
 },
 "nbformat": 4,
 "nbformat_minor": 2
}
