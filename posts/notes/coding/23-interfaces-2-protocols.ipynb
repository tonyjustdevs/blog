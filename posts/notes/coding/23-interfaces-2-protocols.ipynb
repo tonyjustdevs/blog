{
 "cells": [
  {
   "cell_type": "raw",
   "metadata": {
    "vscode": {
     "languageId": "raw"
    }
   },
   "source": [
    "---\n",
    "title: \"Interfaces [Part 2]: Protocols\"\n",
    "author: \"Tony Phung\"\n",
    "date: \"2024-12-07\"\n",
    "categories: [python]\n",
    "image: \"imgs/23protocols.jpg\"\n",
    "toc: true\n",
    "description: \"Programming to Interfaces rather than Implementation specificsgit\"\n",
    "---"
   ]
  },
  {
   "cell_type": "markdown",
   "metadata": {},
   "source": [
    "![](imgs/23protocols.jpg)"
   ]
  },
  {
   "cell_type": "markdown",
   "metadata": {},
   "source": [
    "# 1. Introduction\n",
    "## 1.1 The Scenario\n",
    "\n",
    "## 1.2 The Problem\n",
    "\n",
    "## 1.3 (One of) The Solution(s): "
   ]
  }
 ],
 "metadata": {
  "kernelspec": {
   "display_name": "blog-T-2huGx2",
   "language": "python",
   "name": "python3"
  },
  "language_info": {
   "codemirror_mode": {
    "name": "ipython",
    "version": 3
   },
   "file_extension": ".py",
   "mimetype": "text/x-python",
   "name": "python",
   "nbconvert_exporter": "python",
   "pygments_lexer": "ipython3",
   "version": "3.10.12"
  }
 },
 "nbformat": 4,
 "nbformat_minor": 2
}
