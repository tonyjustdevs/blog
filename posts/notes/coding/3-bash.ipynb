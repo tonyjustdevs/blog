{
 "cells": [
  {
   "cell_type": "raw",
   "metadata": {},
   "source": [
    "---\n",
    "title: \"Bash Basics\"\n",
    "author: \"Tony Phung\"\n",
    "date: \"2024-02-28\"\n",
    "categories: [coding]\n",
    "image: \"3bash.jpg\"\n",
    "toc: true\n",
    "description: \"Learning Bash from scratch\"\n",
    "---"
   ]
  },
  {
   "cell_type": "markdown",
   "metadata": {},
   "source": [
    "## 1. Basics\n",
    "`echo $SHELL`: The shell?  \n",
    "`vim shelltest.sh`: Open shelltest.sh in Vim  \n",
    "`#! /bin/bash`: Place in front of bash script to tell Linux which Shell to run  \n",
    "`ls -l`: long format list  \n",
    "`chmod u+x shelltest.sh`: user to have executable rights on shell.sh\n",
    "`man wc` + `arrows` + `q`: manual of word-count script  \n",
    "`wc --help`: quick reference of word-count script\n",
    "`${1,,}`: Parameter Expansion - Ignores lower and upper-cases when comparing to values"
   ]
  },
  {
   "cell_type": "markdown",
   "metadata": {},
   "source": [
    "\n",
    "## 2. Variables\n",
    "`FIRST_NAME=tony`: set a variable  \n",
    "`echo FIRST_NAME`: echo the variable'  \n",
    "`\\'`: escape the single quote with backtick  \n"
   ]
  },
  {
   "cell_type": "markdown",
   "metadata": {},
   "source": [
    "### 2.1 Fixed Variables"
   ]
  },
  {
   "cell_type": "code",
   "execution_count": null,
   "metadata": {
    "vscode": {
     "languageId": "shellscript"
    }
   },
   "outputs": [],
   "source": [
    "hellothere.sh # [Terminal]"
   ]
  },
  {
   "cell_type": "code",
   "execution_count": null,
   "metadata": {
    "vscode": {
     "languageId": "shellscript"
    }
   },
   "outputs": [],
   "source": [
    "#!/bin/bash\n",
    "FIRST_NAME=Tony\n",
    "LAST_NAME=JustDevs\n",
    "echo Hello $FIRST_NAME $LAST_NAME"
   ]
  },
  {
   "cell_type": "code",
   "execution_count": null,
   "metadata": {
    "vscode": {
     "languageId": "shellscript"
    }
   },
   "outputs": [],
   "source": [
    "cbmod u+x hellothere.sh # [Terminal]\n",
    "./hellothere.sh # [Terminal]"
   ]
  },
  {
   "cell_type": "markdown",
   "metadata": {},
   "source": [
    "### 2.2 Interactive Variables"
   ]
  },
  {
   "cell_type": "code",
   "execution_count": null,
   "metadata": {
    "vscode": {
     "languageId": "shellscript"
    }
   },
   "outputs": [],
   "source": [
    "hellothere_interactive.sh # [Terminal]"
   ]
  },
  {
   "cell_type": "code",
   "execution_count": null,
   "metadata": {
    "vscode": {
     "languageId": "shellscript"
    }
   },
   "outputs": [],
   "source": [
    "#/bin/bash\n",
    "\n",
    "echo What is your first name?\n",
    "read FIRST_NAME\n",
    "echo What is your last name?\n",
    "read LAST_NAME\n",
    "\n",
    "echo Hello $FIRST_NAME $LAST_NAME"
   ]
  },
  {
   "cell_type": "code",
   "execution_count": null,
   "metadata": {
    "vscode": {
     "languageId": "shellscript"
    }
   },
   "outputs": [],
   "source": [
    "cbmod u+x hellothere_interactive.sh # [Terminal]\n",
    "./hellothere_interactive.sh # [Terminal]"
   ]
  },
  {
   "cell_type": "markdown",
   "metadata": {},
   "source": [
    "### 2.3 Positional Arguments"
   ]
  },
  {
   "cell_type": "code",
   "execution_count": null,
   "metadata": {
    "vscode": {
     "languageId": "shellscript"
    }
   },
   "outputs": [],
   "source": [
    "vim hellothere_posarg.sh  # [Terminal]"
   ]
  },
  {
   "cell_type": "code",
   "execution_count": null,
   "metadata": {
    "vscode": {
     "languageId": "shellscript"
    }
   },
   "outputs": [],
   "source": [
    "#!/bin/bash\n",
    "\n",
    "echo Hello $1 $2"
   ]
  },
  {
   "cell_type": "code",
   "execution_count": null,
   "metadata": {
    "vscode": {
     "languageId": "shellscript"
    }
   },
   "outputs": [],
   "source": [
    "cbmod u+x hellothere_posargs.sh     # [Terminal]\n",
    "./hellothere_posargs.sh Tony JustDevs # [Terminal]"
   ]
  },
  {
   "cell_type": "markdown",
   "metadata": {},
   "source": [
    "## 3. Output redirection\n",
    "### 3.1 Piping `|`\n",
    "- The output of the previous command `ls -l /usr/bin` is forwarded to the command after the `|`. \n",
    "- Add `grep bash` to filter for bash."
   ]
  },
  {
   "cell_type": "code",
   "execution_count": null,
   "metadata": {
    "vscode": {
     "languageId": "shellscript"
    }
   },
   "outputs": [],
   "source": [
    "ls -l /usr/bin | grep bash # [Terminal]"
   ]
  },
  {
   "cell_type": "markdown",
   "metadata": {},
   "source": [
    "### 3.2 Override `>`\n",
    "E.g. Logging something from a script to a log-file:\n",
    "1. Catch output from echo command  \n",
    "2. **Override** of a text file  "
   ]
  },
  {
   "cell_type": "code",
   "execution_count": null,
   "metadata": {
    "vscode": {
     "languageId": "shellscript"
    }
   },
   "outputs": [],
   "source": [
    "echo Hello World! > output_override_to_text.txt\n",
    "cat output_override_to_text.txt"
   ]
  },
  {
   "cell_type": "markdown",
   "metadata": {},
   "source": [
    "### 3.3 Append `>>`\n",
    "Append from script to a log-file:\n",
    "1. Catch output from echo command  \n",
    "2. **Append** output into a text file  "
   ]
  },
  {
   "cell_type": "code",
   "execution_count": null,
   "metadata": {
    "vscode": {
     "languageId": "shellscript"
    }
   },
   "outputs": [],
   "source": [
    "echo Hello World! > output_append_to_text.txt\n",
    "cat output_override_to_text.txt\n",
    "echo Good day matey! > output_append_to_text.txt\n",
    "cat output_override_to_text.txt"
   ]
  },
  {
   "cell_type": "markdown",
   "metadata": {},
   "source": [
    "## 4. Input direction\n",
    "1. `<`:   from a **file** \n",
    "2. `<<`:  from **multiple lines of text** \n",
    "3. `<<<`: from **single string of text** "
   ]
  },
  {
   "cell_type": "markdown",
   "metadata": {},
   "source": [
    "### 4.1 `<` from a line\n",
    "Use word-count `wc` command to for number of words in text\n",
    "1. Command to receive Input\n",
    "2. Input direction of text"
   ]
  },
  {
   "cell_type": "code",
   "execution_count": null,
   "metadata": {
    "vscode": {
     "languageId": "shellscript"
    }
   },
   "outputs": [],
   "source": [
    "wc -w < output_append_to_text.txt # input direction\n",
    "cat output_append_to_text.txt | wc -w # output direction"
   ]
  },
  {
   "cell_type": "markdown",
   "metadata": {},
   "source": [
    "### 4.2 `<<` from multiple lines\n",
    "Supply multiple lines of words\n",
    "1. Command to receive Input\n",
    "2. Input direction to Command\n",
    "3. KeywordStart\n",
    "4. Actual text\n",
    "5. KeywordEnd\n"
   ]
  },
  {
   "cell_type": "code",
   "execution_count": null,
   "metadata": {
    "vscode": {
     "languageId": "shellscript"
    }
   },
   "outputs": [],
   "source": [
    "cat << EOF\n",
    "this is some text\n",
    "with multiple\n",
    "lines\n",
    "EOF"
   ]
  },
  {
   "cell_type": "markdown",
   "metadata": {},
   "source": [
    "### 4.3 `<<<` from single line"
   ]
  },
  {
   "cell_type": "code",
   "execution_count": null,
   "metadata": {
    "vscode": {
     "languageId": "shellscript"
    }
   },
   "outputs": [],
   "source": [
    "wc -w <<< \"a sentence line with 6 words\""
   ]
  },
  {
   "cell_type": "markdown",
   "metadata": {},
   "source": [
    "## 5. Test Operators \n",
    "\n",
    "### 5.1 Equality\n",
    "Tests whether an express exists with `0`(No issues) or `1` (Error)\n",
    "1. Write expression\n",
    "2. Print exit-code of last executed command"
   ]
  },
  {
   "cell_type": "code",
   "execution_count": null,
   "metadata": {
    "vscode": {
     "languageId": "shellscript"
    }
   },
   "outputs": [],
   "source": [
    "[ hello = hello ]\n",
    "echo $? # exits 0\n",
    "\n",
    "[ 1 = 0 ] \n",
    "echo $? # exits 1\n",
    "\n",
    "[ 1 -eq 1 ] # equate numericals\n",
    "echo $?"
   ]
  },
  {
   "cell_type": "markdown",
   "metadata": {},
   "source": [
    "### 5.2 If / Elif / Else\n",
    "\n",
    "`${1,,}` Parameter Expansion: Ignores lower and upper-cases when comparing to values"
   ]
  },
  {
   "cell_type": "code",
   "execution_count": null,
   "metadata": {
    "vscode": {
     "languageId": "shellscript"
    }
   },
   "outputs": [],
   "source": [
    "#/bin/bash\n",
    "\n",
    "if [ ${1,,} = tonydevs ]; then\n",
    "        echo \"Oh, you're the boss here. Welcome!\"\n",
    "elif [ ${1,,} = help]; then\n",
    "        echo \"Just enter your username, duh!\"\n",
    "else\n",
    "        echo \"I don't know who you are. But you're not the boss of me!\"\n",
    "fi\n",
    "~       "
   ]
  },
  {
   "cell_type": "markdown",
   "metadata": {},
   "source": [
    "### 5.3 Case statements\n",
    "\n",
    "Better than if / elif /else:\n",
    "- Checking for multiple values\n",
    "- is easier to read"
   ]
  },
  {
   "cell_type": "code",
   "execution_count": null,
   "metadata": {
    "vscode": {
     "languageId": "shellscript"
    }
   },
   "outputs": [],
   "source": [
    "vim case_stmts.sh #[Terminal]"
   ]
  },
  {
   "cell_type": "code",
   "execution_count": null,
   "metadata": {
    "vscode": {
     "languageId": "shellscript"
    }
   },
   "outputs": [],
   "source": [
    "#!/bin/bash\n",
    "\n",
    "case ${1,,} in\n",
    "        tony | administrator)\n",
    "                echo \"Gday, you're the boss here!\"\n",
    "                ;;\n",
    "        help)\n",
    "                echo \"Just enter your username!\"\n",
    "                ;;\n",
    "        *)\n",
    "                echo \"Hello there, you're not the boss of me. Enter a valid username!\"\n",
    "esac"
   ]
  },
  {
   "cell_type": "code",
   "execution_count": null,
   "metadata": {
    "vscode": {
     "languageId": "shellscript"
    }
   },
   "outputs": [],
   "source": [
    "https://www.youtube.com/watch?v=tK9Oc6AEnR4"
   ]
  },
  {
   "cell_type": "markdown",
   "metadata": {},
   "source": [
    "## 6. Arrays\n",
    "Store multiple variables in a list called Arrays"
   ]
  },
  {
   "cell_type": "markdown",
   "metadata": {},
   "source": [
    "### 6.1 Indexing"
   ]
  },
  {
   "cell_type": "code",
   "execution_count": null,
   "metadata": {
    "vscode": {
     "languageId": "shellscript"
    }
   },
   "outputs": [],
   "source": [
    "MY_FIRST_LIST=(one two three four five)\n",
    "echo $MY_FIRST_LIST # print only first element [TERMINAL]\n",
    "echo ${MY_FIRST_LIST[@]} # prints everything\n",
    "echo ${MY_FIRST_LIST[1]} # prints second element"
   ]
  },
  {
   "cell_type": "markdown",
   "metadata": {},
   "source": [
    "### 6.2 Indexing\n",
    "`item`: each element in loop  \n",
    "`${MY_FIRST_LIST[@]}`: all items in list  \n",
    "`do echo -n`: do echo and ignore all new line characters  \n",
    "`$item`: represents each single item in array  \n",
    "`|`: output direction  \n",
    "`wc -c`: count characters  \n",
    "`done`: finish loop  "
   ]
  },
  {
   "cell_type": "code",
   "execution_count": null,
   "metadata": {
    "vscode": {
     "languageId": "shellscript"
    }
   },
   "outputs": [],
   "source": [
    "for item in ${MY_FIRST_LIST[@]}; do echo -n $item | wc -c; done"
   ]
  },
  {
   "cell_type": "markdown",
   "metadata": {},
   "source": [
    "## 7. Functions\n",
    "### 7.1 Function only\n",
    "1. Create shell\n",
    "2. Define function\n",
    "3. Catch output for `up` and `since` with their different flags\n",
    "4. Print everything between the two `EOF`s keywords\n",
    "5. Call the variables generated\n",
    "6. Close function"
   ]
  },
  {
   "cell_type": "code",
   "execution_count": null,
   "metadata": {
    "vscode": {
     "languageId": "shellscript"
    }
   },
   "outputs": [],
   "source": [
    "vim first_function.sh # [Terminal]"
   ]
  },
  {
   "cell_type": "code",
   "execution_count": null,
   "metadata": {
    "vscode": {
     "languageId": "shellscript"
    }
   },
   "outputs": [],
   "source": [
    "#!/bin/bash \n",
    "showuptime(){\n",
    "    up=$(uptime -p | cut -c4-)\n",
    "    since=$(uptime -s)\n",
    "    cat << EOF\n",
    "------\n",
    "This machine has been up for ${up}\n",
    "It has been running since ${since}\n",
    "------\n",
    "EOF\n",
    "}\n",
    "showuptime"
   ]
  },
  {
   "cell_type": "markdown",
   "metadata": {},
   "source": [
    "### 7.2 Not Declaring Local Variables (Wrong!)\n",
    "\n",
    "If variables inside a function are not declared `local`, they may override variables of the same name in the `global` variables in the global environment/"
   ]
  },
  {
   "cell_type": "code",
   "execution_count": null,
   "metadata": {
    "vscode": {
     "languageId": "shellscript"
    }
   },
   "outputs": [],
   "source": [
    "#!/bin/bash \n",
    "up=\"global up\" # add global variable 1\n",
    "since=\"global since\" # add global variable 2 \n",
    "echo $up\n",
    "echo $since\n",
    "\n",
    "showuptime(){\n",
    "    up=$(uptime -p | cut -c4-)\n",
    "    since=$(uptime -s)\n",
    "    cat << EOF\n",
    "------\n",
    "This machine has been up for ${up}\n",
    "It has been running since ${since}\n",
    "------\n",
    "EOF\n",
    "}\n",
    "showuptime\n",
    "echo up is: $up\n",
    "echo since is: $since"
   ]
  },
  {
   "cell_type": "markdown",
   "metadata": {},
   "source": [
    "### 7.3 Declaring Local Variables in a Function\n",
    "\n",
    "Define variables inside functions as local variables so they're only available to the functions and not to the entire script."
   ]
  },
  {
   "cell_type": "code",
   "execution_count": null,
   "metadata": {
    "vscode": {
     "languageId": "shellscript"
    }
   },
   "outputs": [],
   "source": [
    "#!/bin/bash \n",
    "up=\"global up\" \n",
    "since=\"global since\" \n",
    "echo $up\n",
    "echo $since\n",
    "\n",
    "showuptime(){\n",
    "    local up=$(uptime -p | cut -c4-) # add local prefix to declare local variable 1\n",
    "    local since=$(uptime -s) # add local prefix to declare local variable 2\n",
    "    cat << EOF\n",
    "------\n",
    "This machine has been up for ${up}\n",
    "It has been running since ${since}\n",
    "------\n",
    "EOF\n",
    "}\n",
    "showuptime\n",
    "echo up is: $up\n",
    "echo since is: $since"
   ]
  },
  {
   "cell_type": "markdown",
   "metadata": {},
   "source": [
    "### 7.4 Position Arguments\n",
    "Just like shell scripts, shell functions can also have **positional arguments**\n"
   ]
  },
  {
   "cell_type": "code",
   "execution_count": null,
   "metadata": {
    "vscode": {
     "languageId": "shellscript"
    }
   },
   "outputs": [],
   "source": [
    "#!/bin/bash\n",
    "\n",
    "showname(){\n",
    "    echo hello $1 $2\n",
    "}\n",
    "showname Tony JustDevs"
   ]
  },
  {
   "cell_type": "markdown",
   "metadata": {},
   "source": [
    "## 8. Exit Codes\n",
    "\n",
    "# Incomplete"
   ]
  },
  {
   "cell_type": "code",
   "execution_count": null,
   "metadata": {
    "vscode": {
     "languageId": "shellscript"
    }
   },
   "outputs": [],
   "source": [
    "#!/bin/bash\n",
    "showname(){\n",
    "    echo hello $1\n",
    "    if [ ${1,,} = tony ]; then\n",
    "        return 0\n",
    "    else\n",
    "        return 1\n",
    "    fi\n",
    "}\n",
    "showname() $1\n",
    "if [ $? = 1 ]; then\n",
    "    echo = \"A strange has called the function!\"\n",
    "fi"
   ]
  },
  {
   "cell_type": "markdown",
   "metadata": {
    "vscode": {
     "languageId": "shellscript"
    }
   },
   "source": [
    "## 9. awk\n",
    "Filter contents to and fro: \n",
    "1. files  or \n",
    "2. output of a command "
   ]
  },
  {
   "cell_type": "markdown",
   "metadata": {},
   "source": [
    "### 9.1 Filter a Text File"
   ]
  },
  {
   "cell_type": "code",
   "execution_count": null,
   "metadata": {
    "vscode": {
     "languageId": "shellscript"
    }
   },
   "outputs": [],
   "source": [
    "echo one two three > onetwothree.txt #[Terminal]\n",
    "awk '{print $1}' onetwothree.txt\n"
   ]
  },
  {
   "cell_type": "markdown",
   "metadata": {},
   "source": [
    "### 9.2 Filter a CSV File"
   ]
  },
  {
   "cell_type": "code",
   "execution_count": null,
   "metadata": {
    "vscode": {
     "languageId": "shellscript"
    }
   },
   "outputs": [],
   "source": [
    "vim csv_test.csv \n",
    "one,two,three #[csv_test.csv]\n",
    "awk -F, '{print $1 $2}'\n",
    "\n",
    "\n"
   ]
  },
  {
   "cell_type": "markdown",
   "metadata": {},
   "source": [
    "### 9.3 Piping into awk"
   ]
  },
  {
   "cell_type": "code",
   "execution_count": null,
   "metadata": {
    "vscode": {
     "languageId": "shellscript"
    }
   },
   "outputs": [],
   "source": [
    "echo \"Just get this world: Hello\" | awk '{print $5}'\n",
    "echo \"Just get this world: Hello\" | awk -F: '{print $2}' | cut -c2"
   ]
  },
  {
   "cell_type": "markdown",
   "metadata": {},
   "source": [
    "## 9. sed\n",
    "Replace values in text files with **Regular Expressions**\n",
    "\n",
    "Example: `sed 's/word1/word2/g' sedtest.txt`  \n",
    "  \n",
    "`sed`: replace values command  \n",
    "`s`: means subtsitute  \n",
    "`g`: globally, across the whole text file\n",
    "`-i.ORIGINAL`: keeps original file appends `.ORIGINAL`to file name "
   ]
  },
  {
   "cell_type": "code",
   "execution_count": null,
   "metadata": {
    "vscode": {
     "languageId": "shellscript"
    }
   },
   "outputs": [],
   "source": [
    "# [terminal]\n",
    "vim sed_test.txt\n",
    "\n",
    "# [sed_test.txt]\n",
    "The fly flies like no fly flies. \n",
    "A fly is an insect that has wings and a fly likes to eat leftovers  \n",
    "\n",
    "# Just prints into terminal \n",
    "sed 's/fly/grasshopper/g' sedtest.txt \n",
    "\n",
    "# replace og file with command + creates new file .txt.ORIGINAL of og content\n",
    "sed -i.ORIGINAL 's/fly/grasshopper/g' sedtest.txt \n",
    "\n"
   ]
  }
 ],
 "metadata": {
  "kernelspec": {
   "display_name": "fastai",
   "language": "python",
   "name": "python3"
  },
  "language_info": {
   "codemirror_mode": {
    "name": "ipython",
    "version": 3
   },
   "file_extension": ".py",
   "mimetype": "text/x-python",
   "name": "python",
   "nbconvert_exporter": "python",
   "pygments_lexer": "ipython3",
   "version": "0.0.0"
  }
 },
 "nbformat": 4,
 "nbformat_minor": 2
}
