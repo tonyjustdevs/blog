{
 "cells": [
  {
   "cell_type": "raw",
   "metadata": {
    "vscode": {
     "languageId": "raw"
    }
   },
   "source": [
    "---\n",
    "title: \"Unicode, UTF-8 and Bytes\"\n",
    "author: \"Tony Phung\"\n",
    "date: \"2024-12-23\"\n",
    "categories: [python]\n",
    "image: \"imgs/24utf8.jpg\"\n",
    "toc: true\n",
    "description: \"Converting my (Chinese) name to bytes and back\"\n",
    "---"
   ]
  },
  {
   "cell_type": "markdown",
   "metadata": {
    "vscode": {
     "languageId": "raw"
    }
   },
   "source": [
    "![](imgs/24unicode.jpg)"
   ]
  },
  {
   "cell_type": "markdown",
   "metadata": {},
   "source": [
    "# 1. Introduction\n",
    "\n",
    "**Unicode** provides a comprehensive set of characters and assigns each a unique code point.  \n",
    "\n",
    "**UTF-8** is a method of encoding these Unicode code points into bytes, allowing for efficient storage and transmission of text. It is designed to be backward compatible with ASCII, meaning that any ASCII text is also valid UTF-8.  \n",
    "\n",
    "**Bytes** are the actual data representation of the encoded text. When you encode a string using UTF-8, you get a sequence of bytes that can be stored in files, sent over networks, or processed by applications.  \n"
   ]
  },
  {
   "cell_type": "markdown",
   "metadata": {
    "vscode": {
     "languageId": "raw"
    }
   },
   "source": [
    "# 2. Unicoding My Name"
   ]
  },
  {
   "cell_type": "markdown",
   "metadata": {},
   "source": [
    "## 2.1 A Cool Name \"😎梁國富⚽\""
   ]
  },
  {
   "cell_type": "code",
   "execution_count": 2,
   "metadata": {},
   "outputs": [],
   "source": [
    "my_str = \"😎梁國富⚽\" # a cool chinese name"
   ]
  },
  {
   "cell_type": "markdown",
   "metadata": {},
   "source": [
    "## 2.2 *Encode* `string` to `bytes` via `utf-8`\n",
    "Converts string into a `bytes` object using the UTF-8 encoding scheme.\n",
    "\n",
    "If string contains non-ASCII characters, UTF-8 ensures they are represented properly in bytes. "
   ]
  },
  {
   "cell_type": "code",
   "execution_count": 4,
   "metadata": {},
   "outputs": [
    {
     "data": {
      "text/plain": [
       "b'\\xf0\\x9f\\x98\\x8e\\xe6\\xa2\\x81\\xe5\\x9c\\x8b\\xe5\\xaf\\x8c\\xe2\\x9a\\xbd'"
      ]
     },
     "execution_count": 4,
     "metadata": {},
     "output_type": "execute_result"
    }
   ],
   "source": [
    "my_str_utf8_bytes = my_str.encode(\"utf-8\") # (str -> utf-8 bytes)\n",
    "my_str_utf8_bytes"
   ]
  },
  {
   "cell_type": "markdown",
   "metadata": {},
   "source": [
    "### 2.2.1 Why `bytes`?\n",
    "\n",
    "Bytes data/objects are important in programming for several key reasons:\n",
    "\n",
    " - **Efficient Storage**: Bytes provide an efficient way to store raw binary data. They use 8 bits per byte, which allows for compact storage of information.\n",
    "\n",
    " - **Low-Level Operations**: Bytes are fundamental units of data in computer systems. Working with bytes enables low-level operations like memory manipulation, file I/O, and network communication.\n",
    "\n",
    " - **Binary Data Handling**: Bytes are essential for handling binary data formats like images, audio files, and executable code. These formats are represented as sequences of bytes.\n",
    "\n",
    " - **Cryptographic Operations**: In cryptography and security-related tasks, working with raw byte data is often necessary. This includes generating random numbers, hashing, and encryption/decryption.\n",
    "\n",
    " - **Network Communication**: When sending data over networks, it's typically transmitted as byte streams. This allows for efficient transmission of various types of data.\n",
    "\n",
    " - **Compression Algorithms**: Some compression algorithms work directly on byte sequences rather than text strings.\n",
    "\n",
    " - **Memory Efficiency**: In scenarios where memory usage is critical (like embedded systems), working with bytes allows for more efficient use of available resources.\n",
    "\n",
    " - **Performance Optimization**: Certain operations, especially those involving large datasets, can be optimized by working directly with bytes rather than converting to and from strings repeatedly.\n",
    "\n",
    " - **Interoperability**: Bytes provide a common format that can be easily converted between different programming languages and systems.\n",
    "\n",
    " - **Data Integrity**: When dealing with binary data that may contain non-printable characters or invalid Unicode sequences, working with bytes ensures data integrity.\n",
    "\n",
    " - **File Handling**: Many file formats, especially those used in scientific computing or specialized applications, are represented as byte streams.\n",
    "\n",
    " - **Protocol Buffers**: In distributed systems and microservices architectures, protocols like Protocol Buffers often serialize data into byte streams for efficient transmission.\n"
   ]
  },
  {
   "cell_type": "markdown",
   "metadata": {},
   "source": [
    "## 2.3 Convert `bytes` to `hexadecimal`\n",
    "Converts to base-16 representation of the binary data."
   ]
  },
  {
   "cell_type": "code",
   "execution_count": 5,
   "metadata": {},
   "outputs": [
    {
     "data": {
      "text/plain": [
       "'f09f988ee6a281e59c8be5af8ce29abd'"
      ]
     },
     "execution_count": 5,
     "metadata": {},
     "output_type": "execute_result"
    }
   ],
   "source": [
    "my_str_hex = my_str_utf8_bytes.hex() # (utf-8-bytes -> hex-#)\n",
    "my_str_hex"
   ]
  },
  {
   "cell_type": "code",
   "execution_count": 6,
   "metadata": {},
   "outputs": [
    {
     "data": {
      "text/plain": [
       "b'\\xf0\\x9f\\x98\\x8e\\xe6\\xa2\\x81\\xe5\\x9c\\x8b\\xe5\\xaf\\x8c\\xe2\\x9a\\xbd'"
      ]
     },
     "execution_count": 6,
     "metadata": {},
     "output_type": "execute_result"
    }
   ],
   "source": [
    "my_str_bytes = bytes.fromhex(my_str_hex) # (hex-# -> utf-8-bytes)\n",
    "my_str_bytes"
   ]
  },
  {
   "cell_type": "code",
   "execution_count": 7,
   "metadata": {},
   "outputs": [
    {
     "data": {
      "text/plain": [
       "'😎梁國富⚽'"
      ]
     },
     "execution_count": 7,
     "metadata": {},
     "output_type": "execute_result"
    }
   ],
   "source": [
    "my_str_bytes.decode(\"utf-8\") # '梁國富' (utf-8-bytes to str)"
   ]
  }
 ],
 "metadata": {
  "kernelspec": {
   "display_name": "blog-T-2huGx2",
   "language": "python",
   "name": "python3"
  },
  "language_info": {
   "codemirror_mode": {
    "name": "ipython",
    "version": 3
   },
   "file_extension": ".py",
   "mimetype": "text/x-python",
   "name": "python",
   "nbconvert_exporter": "python",
   "pygments_lexer": "ipython3",
   "version": "3.10.12"
  }
 },
 "nbformat": 4,
 "nbformat_minor": 2
}
