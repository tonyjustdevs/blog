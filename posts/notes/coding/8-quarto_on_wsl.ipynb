{
 "cells": [
  {
   "cell_type": "raw",
   "metadata": {
    "vscode": {
     "languageId": "raw"
    }
   },
   "source": [
    "---\n",
    "title: \"How to install Quarto via WSL\"\n",
    "author: \"Tony Phung\"\n",
    "date: \"2024-09-18\"\n",
    "categories: [linux]\n",
    "image: \"imgs/8quarto.jpg\"\n",
    "toc: true\n",
    "description: \"Migrating quarto blog from windows to wsl\"\n",
    "---"
   ]
  },
  {
   "cell_type": "markdown",
   "metadata": {
    "vscode": {
     "languageId": "raw"
    }
   },
   "source": [
    "![](imgs/8quarto.jpg)"
   ]
  },
  {
   "cell_type": "markdown",
   "metadata": {},
   "source": [
    "# How to install Quarto on WSL (Ubuntu) \n",
    "- Check you are indeed on ubuntu (Note: All commands in [Windows Terminal] -> [Ubuntu distro]):\n",
    "    - `lsb_release -a` :  \n",
    "- Go to official site and get copy Ubuntu link:\n",
    "    - [`official quarto download site`](https://quarto.org/docs/download/index.html)\n",
    "- Create (or navigate to) Downloads folder: \n",
    "    - `mkdir downloads && cd downloads`\n",
    "- Download Official Quarto Deb file (your official link from above dotpoint is newer, use that!):\n",
    "    - `wget https://github.com/quarto-dev/quarto-cli/releases/download/v1.5.57/quarto-1.5.57-linux-amd64.deb`: \n",
    "- Install:\n",
    "    - `sudo dpkg -i quarto-1.5.57-linux-amd64.deb` \n",
    "- Test it (prints version to terminal):\n",
    "    - `quarto version`\n"
   ]
  }
 ],
 "metadata": {
  "kernelspec": {
   "display_name": "fastai",
   "language": "python",
   "name": "python3"
  },
  "language_info": {
   "codemirror_mode": {
    "name": "ipython",
    "version": 3
   },
   "file_extension": ".py",
   "mimetype": "text/x-python",
   "name": "python",
   "nbconvert_exporter": "python",
   "pygments_lexer": "ipython3",
   "version": "3.10.12"
  }
 },
 "nbformat": 4,
 "nbformat_minor": 2
}
