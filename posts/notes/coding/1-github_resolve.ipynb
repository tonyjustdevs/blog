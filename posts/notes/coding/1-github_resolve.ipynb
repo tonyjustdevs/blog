{
 "cells": [
  {
   "cell_type": "raw",
   "metadata": {
    "vscode": {
     "languageId": "raw"
    }
   },
   "source": [
    "---\n",
    "title: \"Automate the closing of Issues in Github Projects\"\n",
    "author: \"Tony Phung\"\n",
    "date: \"2024-02-20\"\n",
    "categories: [coding]\n",
    "image: \"imgs/1close.jpg\"\n",
    "toc: true\n",
    "description: \"How to automate the closing of an issue in Github Projects via a Commit Message\"\n",
    "---"
   ]
  },
  {
   "cell_type": "markdown",
   "metadata": {},
   "source": [
    "![](imgs/1close.jpg)"
   ]
  },
  {
   "cell_type": "markdown",
   "metadata": {},
   "source": [
    "## 1. The Setup\n",
    "\n",
    "Testing the automation of closing a GitHub Issue via a VSCode Commit Message shown in youtube tutorial: [How to Use GitHub for Automated Kanban Project Management](https://youtu.be/YVFa5VljCDY?si=hDLw6jX6ZxVXyDEo)\n",
    "\n",
    "#### High level steps:\n",
    "- Create **Issue**  \n",
    "- Attach associated **Repo**  \n",
    "- Attach associated **Project**  \n",
    "- Attach any relevant **Tags**  \n",
    "- Do required changes to your repo files    \n",
    "- Commit with \"`resolve #`\" associated to Issue\n",
    "\n",
    "\n",
    "**[Important]**: to include \"resolve #58\" in Commit Message in order to tell Github to automatically resolve it.  \n",
    "\n",
    "![](imgs/1res.jpg)\n"
   ]
  },
  {
   "cell_type": "markdown",
   "metadata": {},
   "source": [
    "## 2. Issue is Open\n",
    "\n",
    "![](imgs/1github.jpg)"
   ]
  },
  {
   "cell_type": "markdown",
   "metadata": {},
   "source": [
    "## 3. Issue is Closed successfully\n",
    "\n",
    "Actions: `Commmited`, `Staged` and `Pushed`.  \n",
    "\n",
    "**[SUCCESS]**: Issue #58 has indeed been **automatically closed** without a manual intervention on the kanban board!\n",
    "\n",
    "![](imgs/1closed.jpg)"
   ]
  },
  {
   "cell_type": "markdown",
   "metadata": {},
   "source": [
    "## 4. A **Tick ☑️** as a little reward for work done\n",
    "\n",
    "![](imgs/1close2.jpg)"
   ]
  },
  {
   "cell_type": "markdown",
   "metadata": {},
   "source": [
    "# 5. Resolve Multiple Issues at once!\n",
    "\n",
    "I attempted to **close two issues at once** with a single commmit message.\n",
    "\n",
    "\n",
    "[Commit message: \"test resolve #59 #60\" - Does not work](https://github.com/tonyjustdevs/blog/commit/bae4596e4d282cdfc8e8a5bc6849be0bede4fe2c)\n",
    "\n",
    "[Commit message: \"test double resolve #60 resolve #61\" - Did work](https://github.com/tonyjustdevs/blog/commit/33be87b8bf9be6b38a9d75ad29a6883c4a090d5c?diff=unified&w=0)\n",
    "\n",
    "There's probably a better way but this will do.\n",
    "\n",
    "![](imgs/1multiclose.jpg)\n"
   ]
  }
 ],
 "metadata": {
  "kernelspec": {
   "display_name": "fastai",
   "language": "python",
   "name": "python3"
  },
  "language_info": {
   "codemirror_mode": {
    "name": "ipython",
    "version": 3
   },
   "file_extension": ".py",
   "mimetype": "text/x-python",
   "name": "python",
   "nbconvert_exporter": "python",
   "pygments_lexer": "ipython3",
   "version": "3.12.2"
  }
 },
 "nbformat": 4,
 "nbformat_minor": 2
}
