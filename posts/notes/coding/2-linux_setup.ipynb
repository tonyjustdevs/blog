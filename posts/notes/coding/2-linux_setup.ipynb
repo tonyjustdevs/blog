{
 "cells": [
  {
   "cell_type": "raw",
   "metadata": {},
   "source": [
    "---\n",
    "title: \"Setting up a Data Science Machine\"\n",
    "author: \"Tony Phung\"\n",
    "date: \"2024-02-21\"\n",
    "categories: [coding]\n",
    "image: \"setup.jpg\"\n",
    "toc: true\n",
    "description: \"How to setup a Linux-based Python on a Windows PC for Data Science and Deep Learning Projects\"\n",
    "---"
   ]
  },
  {
   "cell_type": "markdown",
   "metadata": {},
   "source": [
    "## 1. Introduction \n",
    "\n",
    "This post shows how to set up **Linux-based Python Notebooks** on a **Windows PC** for Data Science and Deep Learning Projects.\n",
    "\n",
    "One of the drawbacks of Python-based Projects are **compatability issues** with packages which were developed with Linux.\n",
    "\n",
    "Linux is often preferred for Python development due to its:    \n",
    "- **powerful terminal** for scripting and automation    \n",
    "- has a **open-source** philosophy fostering community-driven ecosystem  \n",
    "- **containerization** (e.g. Docker) and **orchestration** (e.g. Kubernetes)  \n",
    "- Has a robust **package management** (APT and YUM)  \n",
    "- **Resource efficiency** suitable for running Python applications (in resource-constrained environments)  \n",
    "- compatibility with **production** environments & real-world deployments  "
   ]
  },
  {
   "cell_type": "markdown",
   "metadata": {},
   "source": [
    "## 2. Linux"
   ]
  },
  {
   "cell_type": "markdown",
   "metadata": {},
   "source": [
    "### 2.1 Install Linux\n",
    "\n",
    "I had previously blindly installed Linux, officially named **\"Windows Subsystem for Linux (wsl)\"** and then never used it again.  \n",
    "I'll firstly uninstall the existing distribution, then install a fresh copy.\n",
    "\n",
    "1. Check any existing installation: `wsl -l`\n",
    "2. If exists, uninstall: `wsl --unregister Ubuntu`\n",
    "3. Run 1. again `wsl - l`\n",
    "4. Install Linux `wsl --install`\n",
    "5. Create **username** \n",
    "6. Create **passwword**"
   ]
  },
  {
   "cell_type": "code",
   "execution_count": null,
   "metadata": {
    "vscode": {
     "languageId": "powershell"
    }
   },
   "outputs": [],
   "source": [
    "wsl -l # Run in Windows Powershell \n",
    "wsl --unregister Ubuntu # Unregister if exists\n",
    "wsl -l\n",
    "wsl --install # Install wsl"
   ]
  },
  {
   "cell_type": "markdown",
   "metadata": {},
   "source": [
    "![](imgs/2wsl_all.jpg)"
   ]
  },
  {
   "cell_type": "markdown",
   "metadata": {},
   "source": [
    "### 2.2 Linux Basics\n",
    "\n",
    "- Username: `whoami`\n",
    "- Switch user (from admin): `sudo -u user_name -i`\n",
    "- Switch user (user login): `su - username`\n",
    "- Working directory: `pwd`\n",
    "- Move to folder in current directory : `cd /`\n",
    "- Home: `echo $HOME`\n",
    "- Move to root : `cd /`\n",
    "- Move up 1-level: `cd ..`\n",
    "- List all in folder: `ls`\n",
    "- Move up a level: `cd ..`\n",
    "- Privledges: `sudo id`\n",
    "- Create user: `sudo adduser new_user_name`\n",
    "- List usernames: `cut -d: -f1 /etc/passwd`\n",
    "- Grant \"bob\" permission to install a pkg:: `sudo -u bob apt install pkg-name`\n",
    "- Download url: `wget url`\n",
    "- Remove: `rm folder`\n",
    "- Remove forcefully : `rm -rf folder`\n",
    "- Move folder: `mv folder_from folder_to`\n",
    "- List human readable: `ls -lh`\n",
    "- List all includes hidden: `la -a`\n",
    "- List with permissions: `ls -l`\n",
    "- Add permissions to file: `chmod u+x theshell.sh`\n",
    "- A Shell script: `.sh`\n",
    "- Read .sh script: `less scriptname.sh`\n",
    "- Run .sh with Bash: `bash scriptname.sh`\n",
    "- Run .sh with Bash accept all licenses: `bash scriptname.sh -b`\n",
    "- Run .sh with pattern with Bash: `bash Miniforge3-*.sh -b`\n",
    "- Automatically runs when Terminal starts: `.bashrc`\n",
    "- Edit a script: `vim .bashrc`\n",
    "- Bash history: `cat .bash_history`\n",
    "- Search Bash history: `ctrl r` + `word`\n",
    "- Run last command starting with: `!ju` (runs jupyter if you've previously run it)\n",
    "- Rerun last command: `!!`\n",
    "- Move to start of line: `ctrl+a`\n",
    "- Move to end of line: `ctrl+e`\n",
    "- Move by word: `alt+l, alt+r`\n",
    "- Create alias: `alias jl = \"jupyter lab --no-browser\"`\n",
    "- [`vim`] - enter normal mode: `Esc` key\n",
    "- [`vim`] - move to front: `gg`\n",
    "- [`vim`] - move to end: `G`\n",
    "- [`vim`] - highlight to end: `V`(visual mode) `G` (move to end) \n",
    "- [`vim`] - move along word: `h,j,k,l,w,b,e,0`\n",
    "- [`vim`] - move along line: `0,$,^`\n",
    "- [`vim`] - move along screen: `H,M,L`\n",
    "- [`vim`] - move along pages: `ctrl + f,b,d,u`\n",
    "- [`vim`] - move line: `zt,zz,zb`\n",
    "- [`vim`] - search: `/pattern,?pattern,n,N`\n",
    "- [`vim`] - move line nbr: `:[line number]`\n",
    "- [`vim`] - make changes / insert mode: `i` then `esc` \n",
    "- [`vim`] - save changes: `:w` \n",
    "- [`vim`] - quit: `:q` \n",
    "- [`vim`] - quit and discard changes: `:q!` \n",
    "- [`vim`] - help: self-explanatory \n",
    "\n",
    "\n",
    "\n",
    "\n"
   ]
  },
  {
   "cell_type": "markdown",
   "metadata": {},
   "source": [
    "## 3. Python\n",
    "\n",
    "There are several options for building linux python projects:\n",
    "\n",
    "- **Conda**: For extensive package management and control or flexibility beyond deep learning/data science.    \n",
    "\n",
    "- **Miniforge**: For lightweight and focused option for deep learning/data science projects.   \n",
    "\n",
    "- **Anaconda**: For a convenient, pre-configured environment for data science and deep learning, but be mindful of its larger size.\n",
    "\n",
    "For my purposes, I'd like to be focused on deep learning / data science projects hence I'll install **Miniforge**.\n",
    "\n",
    "[See miniforge github](https://github.com/conda-forge/miniforge)"
   ]
  },
  {
   "cell_type": "markdown",
   "metadata": {},
   "source": [
    "\n",
    "### 3.1 Miniforge\n",
    "\n",
    "**Miniforge** offers a powerful and user-friendly environment management platform for data science and deep learning.\n",
    "\n",
    "Several reasons to use Miniforge:  \n",
    "- **Virtual environments**: Isolate projects and manage dependencies.  \n",
    "- **Pre-built environments**: Quickly set up optimized environments (TensorFlow, PyTorch, etc.).  \n",
    "- **Cross-platform compatibility**: Works on Windows, macOS, and Linux.  \n",
    "- **Large community and support**: Extensive resources and active development.  \n",
    "- **Performance and efficiency**: Caching and optimized packages.  \n",
    "- **Free and open-source**: No licensing costs or limitations.  \n"
   ]
  },
  {
   "cell_type": "markdown",
   "metadata": {},
   "source": [
    "### 3.2 Get Miniforge download link\n",
    "\n",
    "- Get **amd64** (Windows) download link from [Miniforge Github](https://github.com/conda-forge/miniforge)\n",
    "- Download link used: \"https://github.com/conda-forge/miniforge/releases/latest/download/Miniforge3-Linux-x86_64.sh\"\n",
    "\n",
    "![](imgs/2miniforge.jpg)"
   ]
  },
  {
   "cell_type": "markdown",
   "metadata": {},
   "source": [
    "### 3.3 Install Miniforge in Ubuntu\n",
    "\n",
    "- Open Windows Terminal (this should automatically open Ubuntu now)\n",
    "- Go to Home directory (`echo $HOME`) :\n",
    "    - Logging in  `su - username` or\n",
    "    - Moving up `cd ..` and down `cd folder_name_in_curr_dir` \n",
    "- Go to your home/directory: `echo $HOME`\n",
    "- Create a new working directory: `mkdir downloads`\n",
    "- Move to downloads folder: `cd downloads`\n",
    "    - This folder should be empty, and your Ubuntu should be `not found` with these keywords: `Python`, `Jupyter`, `ipython` etc.\n",
    "    - If they are found:\n",
    "        - Uninstall: `pip install ipython`,\n",
    "        - Delete: `rm -rf ipython` or `rm usr/bin/jyp` or\n",
    "        - Move: `mv folder_from folder_to`\n",
    "- Download url: `wget the_copied_url_link_from_github_above` or  \n",
    "`wget https://github.com/conda-forge/miniforge/releases/latest/download/Miniforge3-Linux-x86_64.sh`\n",
    "\n",
    "![](imgs/2wget.jpg)"
   ]
  },
  {
   "cell_type": "markdown",
   "metadata": {},
   "source": [
    "### 3.4 Run downloaded Miniforge shell script\n",
    "- **[Manual Method]**: \n",
    "    - Accept All Permissions (Creates environment variables so that keywords like 'conda' works and automatically runs Conda when Terminal is first logged on and activates a `base` environment. This automation is done by editting the `.bashrc` file.) or\n",
    "- **[Script Method]**:  \n",
    "    - `bash Miniforge3-*.sh -b` and then \n",
    "    - `~/miniforge3/bin/conda init bash`. \n",
    "This runs python file conda.py within miniforge which runs another file that creates the Conda Paths and Adding Paths to Ubuntu Environment variables (same as accepting all permissions in  manual method)\n",
    "\n",
    "There should be two folders: `downloads` and `miniforge3` in the `Home` directory (Ignore `nbs`, this is created later)  \n",
    "\n",
    "![](imgs/2home.jpg)"
   ]
  },
  {
   "cell_type": "markdown",
   "metadata": {},
   "source": [
    "## 4. Conda\n",
    "\n",
    "Python should be now installed via miniforge3:  \n",
    "- `which python` should be running from `miniforge3` folder within your `Home` directory.  \n",
    "    - If not, something went wrong!  \n",
    "\n",
    "![](imgs/2which.jpg)"
   ]
  },
  {
   "cell_type": "markdown",
   "metadata": {},
   "source": [
    "### 4.1 Conda basics\n",
    "\n",
    "- Show conda arguments: `conda`  \n",
    "- General system info: `conda info`  \n",
    "- Show environments: `conda env`  \n",
    "- Create new environment: `conda create -n deep_learning`  \n",
    "- Activate environment: `conda activate deep_learning`  \n",
    "- Show installed packages: `conda list`  \n",
    "- Install a package: `conda install package_name`  \n"
   ]
  },
  {
   "cell_type": "markdown",
   "metadata": {},
   "source": [
    "### 4.2 Install Pytorch\n",
    "\n",
    "Go to  [Official Website ](https://pytorch.org/get-started/locally/) and choose accordingly and install\n",
    "\n",
    "I used `conda install pytorch torchvision torchaudio cpuonly -c pytorch`\n",
    "\n",
    "**Notes**: Following the website ensures all binary dependencies are install, simply typing `pip install pytorch`  wont work as normally due to requiring to also needing to installing CUDA SDK (if you have a NVidia GPU)\n",
    "\n",
    "![](imgs/2pytorch.jpg)\n",
    "\n",
    "### 4.3 Checking Pytorch is working\n",
    "\n",
    "- Have Ipython installed and `ipython`\n",
    "- `import torch`\n",
    "- `torch.` + `*tab*` button \n",
    "This should display a list of available pytorch methods.\n",
    "- `ctrl_d` to exit  \n",
    "\n",
    "![](imgs/2torch.jpg)\n"
   ]
  },
  {
   "cell_type": "markdown",
   "metadata": {},
   "source": [
    "## 5. Jupyter Notebooks\n",
    "\n",
    "Install Jupyter Lab to have suite of notebooks and other useful tools for testing and developing data science and deep learning projects."
   ]
  },
  {
   "cell_type": "markdown",
   "metadata": {},
   "source": [
    "### 5.1 Install Jupyter Lab  \n",
    "\n",
    "Go to  [Official Website ](https://jupyterlab.readthedocs.io/en/stable/getting_started/installation.html) and select appropriate install option\n",
    "I used `conda install -c conda-forge jupyterlab`.\n",
    "\n",
    "![](imgs/2jl.jpg)"
   ]
  },
  {
   "cell_type": "markdown",
   "metadata": {},
   "source": [
    "### 5.2 Run Jupyter Lab  \n",
    "\n",
    "- Run Jupyter: `jupyter lab` or\n",
    "- Run Jupyter: `jupyter lab --no-browser` (avoids attempting to open a browser in linux because it cant)\n",
    "\n",
    "![](imgs/2jupyter.jpg)\n",
    "\n"
   ]
  },
  {
   "cell_type": "markdown",
   "metadata": {},
   "source": [
    "### 5.3 Automate Alias\n",
    "\n",
    "Save `alias jl=\"jupyter lab --no-browser\"` into `.bashrc` to `jl` works everytime:\n",
    "\n",
    "1. Open bashrc: `vim ~/.bashrc`\n",
    "2. Go to End: `G`\n",
    "3. Paste: `alias jl=\"jupyter lab --no-browser`\n",
    "4. Save: `:qw:` (quit `q` and save `w`)\n",
    "\n",
    "![](imgs/2bashrc.jpg)"
   ]
  },
  {
   "cell_type": "markdown",
   "metadata": {},
   "source": [
    "### 5.4 Open in Browser  \n",
    "\n",
    "- Open in Browser by **[Control+Click]** the link\n",
    "\n",
    "![](imgs//2jupbrowser.jpg)"
   ]
  },
  {
   "cell_type": "markdown",
   "metadata": {},
   "source": [
    "### 5.5 Save First Notebook in Linux\n",
    "\n",
    "Try out PyTorch in the Notebook and save it.\n",
    "\n",
    "![](imgs/2notebook.jpg)"
   ]
  }
 ],
 "metadata": {
  "kernelspec": {
   "display_name": "fastai",
   "language": "python",
   "name": "python3"
  },
  "language_info": {
   "codemirror_mode": {
    "name": "ipython",
    "version": 3
   },
   "file_extension": ".py",
   "mimetype": "text/x-python",
   "name": "python",
   "nbconvert_exporter": "python",
   "pygments_lexer": "ipython3",
   "version": "3.11.5"
  }
 },
 "nbformat": 4,
 "nbformat_minor": 2
}
