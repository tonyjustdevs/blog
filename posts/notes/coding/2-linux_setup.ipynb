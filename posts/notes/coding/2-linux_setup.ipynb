{
 "cells": [
  {
   "cell_type": "raw",
   "metadata": {},
   "source": [
    "---\n",
    "title: \"Setting up a Data Science Machine\"\n",
    "author: \"Tony Phung\"\n",
    "date: \"2024-02-21\"\n",
    "categories: [coding]\n",
    "image: \"setup.jpg\"\n",
    "toc: true\n",
    "description: \"How to setup your Windows PC for Data Science Projects with Linux\"\n",
    "---"
   ]
  },
  {
   "cell_type": "markdown",
   "metadata": {},
   "source": [
    "## 1. Introduction \n",
    "\n",
    "This post highlights how to set up **Linux Python** on your **Windows PC** with to build Data Science Projects.\n",
    "\n",
    "One of the mains reasons for are due to **compatability issues** with Windows.\n",
    "\n",
    "Linux is often preferred for Python development due to its:    \n",
    "- **powerful terminal** for scripting and automation    \n",
    "- has a **open-source** philosophy fostering community-driven ecosystem  \n",
    "- **containerization** (e.g. Docker) and **orchestration** (e.g. Kubernetes)  \n",
    "- Has a robust **package management** (APT and YUM)  \n",
    "- **Resource efficiency** suitable for running Python applications (in resource-constrained environments)  \n",
    "- compatibility with **production** environments & real-world deployments  "
   ]
  },
  {
   "cell_type": "markdown",
   "metadata": {},
   "source": [
    "## 2. Code"
   ]
  },
  {
   "cell_type": "markdown",
   "metadata": {},
   "source": [
    "### 2.1 Install Linux\n",
    "\n",
    "I had previously blindly installed Linux, officially named **\"Windows Subsystem for Linux (wsl)\"** and then never used it again.  \n",
    "I'll uninstall now and install it a fresh copy.\n",
    "\n",
    "1. Check any existing installation: `wsl -l`\n",
    "2. If exists, uninstall: `wsl --unregister Ubuntu`\n",
    "3. Run 1. again `wsl - l`\n",
    "4. Install Linux `wsl --install`\n",
    "5. Create **username** \n",
    "6. Create **passwword**"
   ]
  },
  {
   "cell_type": "code",
   "execution_count": null,
   "metadata": {
    "vscode": {
     "languageId": "powershell"
    }
   },
   "outputs": [],
   "source": [
    "wsl -l # Run in Windows Powershell \n",
    "wsl --unregister Ubuntu # Unregister if exists\n",
    "wsl -l\n",
    "wsl --install # Install wsl"
   ]
  },
  {
   "cell_type": "markdown",
   "metadata": {},
   "source": [
    "![](imgs/2wsl_all.jpg)"
   ]
  }
 ],
 "metadata": {
  "kernelspec": {
   "display_name": "fastai",
   "language": "python",
   "name": "python3"
  },
  "language_info": {
   "codemirror_mode": {
    "name": "ipython",
    "version": 3
   },
   "file_extension": ".py",
   "mimetype": "text/x-python",
   "name": "python",
   "nbconvert_exporter": "python",
   "pygments_lexer": "ipython3",
   "version": "3.11.5"
  }
 },
 "nbformat": 4,
 "nbformat_minor": 2
}
