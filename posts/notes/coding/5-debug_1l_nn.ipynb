{
 "cells": [
  {
   "cell_type": "raw",
   "metadata": {
    "vscode": {
     "languageId": "raw"
    }
   },
   "source": [
    "---\n",
    "title: \"Debugging a 1-Hidden-Layer Neural Network Model\"\n",
    "author: \"Tony Phung\"\n",
    "date: \"2024-04-09\"\n",
    "categories: [coding, debugging]\n",
    "image: \"imgs/5debug.jpg\"\n",
    "toc: true\n",
    "description: \"Documenting my debugging of a neural network model I built from scratch\"\n",
    "---"
   ]
  },
  {
   "cell_type": "markdown",
   "metadata": {},
   "source": [
    "![](imgs/5debug.jpg)"
   ]
  },
  {
   "cell_type": "markdown",
   "metadata": {},
   "source": [
    "# 1. Introduction\n",
    "\n",
    "I've coded from scratch a neural network using Kaggle Titanic dataset based on a Jeremy Howard's popular NN-model.\n",
    "\n",
    "I noticed descrepancies in Loss between my model and the reference model and will attempt debug My Model (TP) without looking at the Reference Models (RM) code."
   ]
  },
  {
   "cell_type": "markdown",
   "metadata": {},
   "source": [
    "# 2. The Problem\n",
    "\n",
    "Loss differences (from 2nd epoch onwards):  \n",
    " \n",
    "- TP-Loss: 0.544 (epoch_1), 0.538 (epoch_2) \n",
    "- RM-Loss: 0.543 (epoch_1), 0.532 (epoch_2)\n",
    "\n",
    "The difference grows per epoch.\n"
   ]
  },
  {
   "cell_type": "markdown",
   "metadata": {},
   "source": [
    "\n",
    "![](imgs/5debug1_loss_diff.jpg)"
   ]
  },
  {
   "cell_type": "markdown",
   "metadata": {
    "vscode": {
     "languageId": "raw"
    }
   },
   "source": [
    "# 3. The Approach\n",
    "\n",
    "This neural network model only has `one-hidden-layer`.  \n",
    "I've decided to test differences at 3 stages:  \n",
    "\n",
    "1. **Input level** (input data, coefficients, and constants)\n",
    "2. **Intermediary Calculations** (hidden layers and relu)\n",
    "3. **Predictions** (predictions and sigmoid)\n",
    "4. **Update Coefficients** (gradients and updated coefficients)"
   ]
  },
  {
   "cell_type": "markdown",
   "metadata": {},
   "source": [
    "# 4. The Analysis\n",
    "### 4.1 Input Level - Normalised Input Data - `idep_mxn`\n",
    "**EPOCH 1 and 2**: OKAY (data-matching)\n",
    "![](imgs/5debug41_idep_mxn.jpg)"
   ]
  },
  {
   "cell_type": "markdown",
   "metadata": {},
   "source": [
    "### 4.2 Input Level - Coeffs - Layer 1 - `L1_nxq`\n",
    "**EPOCH 1**: OKAY (data-matching)\n",
    "![](imgs/5debug42_l1_nxq.jpg)"
   ]
  },
  {
   "cell_type": "markdown",
   "metadata": {},
   "source": [
    "### 4.3 Input Level - Coeffs - Layer 2 - `L2_qx1`\n",
    "**EPOCH 1**: OKAY (data-matching)\n",
    "![](imgs/5debug43_l2_qx1.jpg)"
   ]
  },
  {
   "cell_type": "markdown",
   "metadata": {},
   "source": [
    "### 4.4 Input Level - Coeffs - Constant - `CONST_1`\n",
    "**EPOCH 1**: OKAY (data-matching)  \n",
    "![](imgs/5debug44_const_1.jpg)"
   ]
  },
  {
   "cell_type": "markdown",
   "metadata": {},
   "source": [
    "### 4.5 Intermediary Calcs - idep@L1 - `pred_PSET_HL_mxq`\n",
    "**EPOCH 1**: OKAY (data-matching)\n",
    "![](imgs/5debug45_idepl1_mxq.jpg)"
   ]
  },
  {
   "cell_type": "markdown",
   "metadata": {},
   "source": [
    "### 4.6 Intermediary Calcs - relu(idep@L1) - `PSET_HL_mxq`\n",
    "**EPOCH 1**: OKAY (data-matching)\n",
    "![](imgs/5debug46_relu_idepl1_mxq.jpg)"
   ]
  },
  {
   "cell_type": "markdown",
   "metadata": {},
   "source": [
    "### 4.7 Final Preds - PSET_HL_mxq@L2 - `PREDS_mx1`\n",
    "**EPOCH 1**: OKAY (data-matching)  \n",
    "![](imgs/5debug47_preds_mx1.jpg)"
   ]
  },
  {
   "cell_type": "markdown",
   "metadata": {},
   "source": [
    "### 4.8 Final Preds - PREDS_mx1 + CONST_1 - `PREDS_C_mx1`\n",
    "**EPOCH 1**: OKAY (data-matching)  \n",
    "![](imgs/5debug48_preds_c_mx1.jpg)"
   ]
  },
  {
   "cell_type": "markdown",
   "metadata": {},
   "source": [
    "### 4.9 Final Preds - Sigmoid(PREDS_C_mx1) - `SGM_PREDS_C_mx1`\n",
    "**EPOCH 1**: OKAY (data-matching)  \n",
    "![](imgs/5debug49_sgm_preds_c_mx1.jpg)"
   ]
  },
  {
   "cell_type": "markdown",
   "metadata": {},
   "source": [
    "### 4.10 - Loss -\n",
    "**EPOCH 1**: **NOT OKAY, Loss values different from 4th decimals**  \n",
    "\n",
    "Since Loss is created taking the absolute difference (then mean) between the:  \n",
    "\n",
    "- `predictions` and \n",
    "- (actual) `dependent variables`\n",
    "\n",
    "Lets validate across the neural network models:    \n",
    "\n",
    "- `Dependent` Variable (\"Survived\")  \n",
    "- `Predictions`\n",
    "\n",
    "| Model | Loss |\n",
    "|-----|----------------------|\n",
    "| TP | 0.543***3918237686157*** |\n",
    "| RM | 0.543***9100861549377*** |"
   ]
  },
  {
   "cell_type": "markdown",
   "metadata": {
    "vscode": {
     "languageId": "raw"
    }
   },
   "source": [
    "# 5. The Bug \n",
    "### 5.1 Input Level - Dep Variable - `dep_mx1` \n",
    "**EPOCH 1**: **NOT OKAY**:- **Dimensions are different! \n",
    "\n",
    "**Found the Bug!**\n",
    "\n",
    "- TP-dimensions: [***713,1***]\n",
    "- RM-dimensions: [***713***]  \n",
    "\n",
    "![](imgs/5debug50_dep_mx1.jpg)\n"
   ]
  },
  {
   "cell_type": "markdown",
   "metadata": {},
   "source": [
    "# 6. The Fix\n",
    "### 6.1 Adding Trailing Dimension `[:,None]`\n",
    "\n",
    "**Solution**: Add trailing dimesion for dependent variables, fixing the predictions calculation, thus loss.\n",
    "\n",
    "![](imgs/5debug51_dep_add_dim_fix.jpg)\n",
    "\n"
   ]
  },
  {
   "cell_type": "markdown",
   "metadata": {
    "vscode": {
     "languageId": "raw"
    }
   },
   "source": [
    "### 6.2 Check New Loss\n",
    "\n",
    "**It matches EXACTLY!**\n",
    "\n",
    "![](imgs/5debug52_loss_matching.jpg)\n"
   ]
  },
  {
   "cell_type": "markdown",
   "metadata": {
    "vscode": {
     "languageId": "raw"
    }
   },
   "source": [
    "# 7. Conclusion\n",
    "\n",
    "It goes to show how important getting the `correct dimensions` can change things so `subtley` and `materially` at the same time."
   ]
  }
 ],
 "metadata": {
  "kernelspec": {
   "display_name": "fastai",
   "language": "python",
   "name": "python3"
  },
  "language_info": {
   "codemirror_mode": {
    "name": "ipython",
    "version": 3
   },
   "file_extension": ".py",
   "mimetype": "text/x-python",
   "name": "python",
   "nbconvert_exporter": "python",
   "pygments_lexer": "ipython3",
   "version": "3.12.2"
  }
 },
 "nbformat": 4,
 "nbformat_minor": 2
}
