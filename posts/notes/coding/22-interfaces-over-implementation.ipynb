{
 "cells": [
  {
   "cell_type": "raw",
   "metadata": {
    "vscode": {
     "languageId": "raw"
    }
   },
   "source": [
    "---\n",
    "title: \"Interfaces Over Implementation\"\n",
    "author: \"Tony Phung\"\n",
    "date: \"2024-12-06\"\n",
    "categories: [python]\n",
    "image: \"imgs/22interface.jpg\"\n",
    "toc: true\n",
    "description: \"A foundation design principles is to Program to Interfaces, not Implementation.\"\n",
    "---"
   ]
  },
  {
   "cell_type": "markdown",
   "metadata": {},
   "source": [
    "![](imgs/22interface.jpg)"
   ]
  },
  {
   "cell_type": "markdown",
   "metadata": {},
   "source": [
    "# 1. Introduction\n",
    "## 1.1 The Scenario\n",
    "Focusing on **specifics** or **details** of ***Implementation***\n",
    "\n",
    "## 1.2 The Problem\n",
    "Leads to **tightly coupled** or **difficult to modify** code.\n",
    "\n",
    "## 1.3 (One of) The Solution(s): \n",
    "The ***Program to Interfaces, not Implementations*** principle"
   ]
  },
  {
   "cell_type": "markdown",
   "metadata": {},
   "source": [
    "# 2. What does the principle mean?\n",
    "An interface defines a **contract** for classes:  \n",
    "\n",
    "- specifying a set of *methods*\n",
    "- that ***must*** be *implemented*."
   ]
  },
  {
   "cell_type": "markdown",
   "metadata": {},
   "source": [
    "# 3. Laymens\n",
    "This principle encourages to:  \n",
    "\n",
    "- code against an interface \n",
    "- rather than a concrete class.\n",
    "\n",
    "# 4. Techniques\n",
    "In Python, interfaces can be implemented using two primary techniques: \n",
    "\n",
    "- abstract base classes (ABCs) \n",
    "- and protocols."
   ]
  },
  {
   "cell_type": "markdown",
   "metadata": {},
   "source": [
    "# 5. Psuedo-Code\n",
    "- import from `abc`, `ABC`, `abstractmethod` \n",
    "- create `Interface` class inheriting from `ABC` (\"Abstract Base Class\")\n",
    "- add class method `some_method` decorated by `abstractmethod`: making the method \n",
    "    - add parameter `param: str` \n",
    "required for any sub-class inherited the Interface\n",
    "- create `MyClass` inheriting `Interface`\n",
    "- add (required) class method `some_method`\n",
    "    - add parameter `param: str` \n",
    "    - `#TEST`: [Can we completely change the method? I assume yes.] \n",
    "- test by creating instance of MyClass and running some_method()\n",
    "\n"
   ]
  },
  {
   "cell_type": "markdown",
   "metadata": {},
   "source": [
    "# 6. Code \n",
    "## 6.1 Scenario 1, Part 1: `ABC` and `@abstractmethod`\n",
    "By decorating `do_I_exist()` with `@abstractmethod` of `ABC` class `TonysExistentialCrisisBase`: \n",
    "\n",
    "- This applies the ***implementation requirement*** that a `do_I_exist` method must be implemented in all sub-classes."
   ]
  },
  {
   "cell_type": "code",
   "execution_count": 1,
   "metadata": {},
   "outputs": [],
   "source": [
    "from abc import ABC, abstractmethod\n",
    "\n",
    "class TonysExistentialCrisisBase(ABC):\n",
    "    def __init__(self, name: str):\n",
    "        self.name=name\n",
    "        \n",
    "    @abstractmethod\n",
    "    def do_I_exist(self, am_i_alive: bool):\n",
    "        pass"
   ]
  },
  {
   "cell_type": "markdown",
   "metadata": {},
   "source": [
    "## 6.2 Scenario 1, Part 2: No Required Method in Sub-Class"
   ]
  },
  {
   "cell_type": "code",
   "execution_count": 2,
   "metadata": {},
   "outputs": [],
   "source": [
    "class MyHumanBeingClass(TonysExistentialCrisisBase):\n",
    "    pass\n"
   ]
  },
  {
   "cell_type": "markdown",
   "metadata": {},
   "source": [
    "- Therefore, Python raises a very clear error, when an instance `MyHumanBeingClass` is attempted to be created\n",
    "- Since our sub-class does not have it's own implementation of `do_I_exist` method"
   ]
  },
  {
   "cell_type": "code",
   "execution_count": 3,
   "metadata": {},
   "outputs": [
    {
     "ename": "TypeError",
     "evalue": "Can't instantiate abstract class MyHumanBeingClass with abstract method do_I_exist",
     "output_type": "error",
     "traceback": [
      "\u001b[0;31m---------------------------------------------------------------------------\u001b[0m",
      "\u001b[0;31mTypeError\u001b[0m                                 Traceback (most recent call last)",
      "Cell \u001b[0;32mIn[3], line 1\u001b[0m\n\u001b[0;32m----> 1\u001b[0m dave \u001b[38;5;241m=\u001b[39m \u001b[43mMyHumanBeingClass\u001b[49m\u001b[43m(\u001b[49m\u001b[38;5;124;43m\"\u001b[39;49m\u001b[38;5;124;43mDave\u001b[39;49m\u001b[38;5;124;43m\"\u001b[39;49m\u001b[43m)\u001b[49m\n\u001b[1;32m      2\u001b[0m dave\n",
      "\u001b[0;31mTypeError\u001b[0m: Can't instantiate abstract class MyHumanBeingClass with abstract method do_I_exist"
     ]
    }
   ],
   "source": [
    "dave = MyHumanBeingClass(\"Dave\")\n",
    "dave"
   ]
  },
  {
   "cell_type": "markdown",
   "metadata": {},
   "source": [
    "## 6.3 Scenario 2, Part 1: Sub-Class With Required Abstract Method"
   ]
  },
  {
   "cell_type": "code",
   "execution_count": 4,
   "metadata": {},
   "outputs": [],
   "source": [
    "class MyHumanBeingClass(TonysExistentialCrisisBase):\n",
    "    def do_I_exist(self, am_i_alive: bool=True):\n",
    "        print(\"Cogito, ergo sum...👽\")\n"
   ]
  },
  {
   "cell_type": "markdown",
   "metadata": {},
   "source": [
    "## 6.4 Scenario 2, Part 2: No errors\n",
    "\n",
    "By adding the required method, an instance of `MyHumanBeingClass` is allowed."
   ]
  },
  {
   "cell_type": "code",
   "execution_count": 5,
   "metadata": {},
   "outputs": [
    {
     "name": "stdout",
     "output_type": "stream",
     "text": [
      "Cogito, ergo sum...👽\n"
     ]
    }
   ],
   "source": [
    "james = MyHumanBeingClass(\"James\")\n",
    "james.do_I_exist()"
   ]
  },
  {
   "cell_type": "markdown",
   "metadata": {},
   "source": [
    "# 7. [TBA] Protocol Technique"
   ]
  }
 ],
 "metadata": {
  "kernelspec": {
   "display_name": "blog-T-2huGx2",
   "language": "python",
   "name": "python3"
  },
  "language_info": {
   "codemirror_mode": {
    "name": "ipython",
    "version": 3
   },
   "file_extension": ".py",
   "mimetype": "text/x-python",
   "name": "python",
   "nbconvert_exporter": "python",
   "pygments_lexer": "ipython3",
   "version": "3.10.12"
  }
 },
 "nbformat": 4,
 "nbformat_minor": 2
}
