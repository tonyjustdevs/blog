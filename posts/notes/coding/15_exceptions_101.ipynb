{
 "cells": [
  {
   "cell_type": "raw",
   "metadata": {
    "vscode": {
     "languageId": "raw"
    }
   },
   "source": [
    "---\n",
    "title: \"Python Exceptions 101\"\n",
    "author: \"Tony Phung\"\n",
    "date: \"2024-11-05\"\n",
    "categories: [python]\n",
    "image: \"imgs/15e.jpg\"\n",
    "toc: true\n",
    "description: \"Del\n",
    "ving into Python Exceptions, In-Builts vs Custom Exceptions, Assert, Raise and Exception-Handlers\"\n",
    "---"
   ]
  },
  {
   "cell_type": "markdown",
   "metadata": {
    "vscode": {
     "languageId": "raw"
    }
   },
   "source": [
    "![](imgs/15e.jpg)"
   ]
  },
  {
   "cell_type": "markdown",
   "metadata": {},
   "source": [
    "# 0. Introduction\n",
    "Python follows the :  \n",
    "\n",
    "- ***\"Easier to Ask for Forgiveness than Permission\"*** (*EAFP*) philosophy:\n",
    "    - encouraging developers to try actions and \n",
    "    - handle exceptions \n",
    "        - if they fail, \n",
    "        - rather than checking every condition beforehand."
   ]
  },
  {
   "cell_type": "markdown",
   "metadata": {},
   "source": [
    "# 1. Unexpected things happen!"
   ]
  },
  {
   "cell_type": "markdown",
   "metadata": {},
   "source": [
    "## 1.1 Common Errors\n",
    "*Unexpected things* or **errors** will occur at times in Python (and in life).  \n",
    "\n",
    "They might happen so often they get their own names and get categorised. \n",
    "\n",
    "Python has done exactly that. Creating names for specific errors whilst maintaining Python's hierarchy structure too. Some common (automatic) errors are:  \n",
    "\n",
    "- *Invalid syntax/code*: \n",
    "    - E.g. missing closing bracket, unexpected colons, or periods etc (`SyntaxError` exception)\n",
    "- *Invalid username or key*: \n",
    "    - E.g. not existing in the database (`KeyError` exception)\n",
    "- *Invalid calculation or operation*: \n",
    "    - E.g. dividing by zero or dividing a number by a letter (`ZeroDivisionError`, `TypeError` exception)\n",
    "- *Invalid index*: \n",
    "    - E.g. indexing a value larger than the array/list length (`IndexError` exception)\n",
    "- *Invalid attribute or method*: \n",
    "    - E.g. calling an non-existent function from an instance (`AttributeError` exception)\n",
    "- ....the *list* goes on... (*pun intended*)"
   ]
  },
  {
   "cell_type": "markdown",
   "metadata": {},
   "source": [
    "## 1.2 Python In-Built (Automatic) Exceptions\n",
    "All the above exceptions, being automatically raised by Python, are known as `In-Built` exceptions.\n",
    "\n",
    "That is, when something unexpected happens, Python will:  \n",
    "\n",
    "- Automatically *halt* the program, \n",
    "- Automatically `raise` or *create* a specific type `Exception` object (related to the error),\n",
    "    - E.g. Syntax, KeyError, ZeriDivisionError, TypeError, IndexdError exception object\n",
    "- Automatically look for *something* that can *deal with* this specific type of exception, \n",
    "    - called an `Exception Handler` (**EH**)\n",
    "- If no **EH** in current scope, Python looks for **EH** in `call-stack`,\n",
    "    - If no **EH** in call-stack, the program is **terminated**. \n",
    "\n",
    "Exceptions can also `manually` raised by the developer (discussed later).\n"
   ]
  },
  {
   "cell_type": "markdown",
   "metadata": {},
   "source": [
    "# 2. Exception Handlers (**EH**)\n",
    "**EH** are created with `Try-Except` statements:  \n",
    "\n",
    "- to *catch* and \n",
    "- *handle* errors."
   ]
  },
  {
   "cell_type": "markdown",
   "metadata": {},
   "source": [
    "## 2.1 Example 1"
   ]
  },
  {
   "cell_type": "code",
   "execution_count": 1,
   "metadata": {},
   "outputs": [
    {
     "name": "stdout",
     "output_type": "stream",
     "text": [
      "An specific error has occured: [division by zero]\n"
     ]
    }
   ],
   "source": [
    "try:\n",
    "    print(1/0)\n",
    "except ZeroDivisionError as e:\n",
    "    print(f\"An specific error has occured: [{e}]\")"
   ]
  },
  {
   "cell_type": "markdown",
   "metadata": {},
   "source": [
    "## 2.2 Example 2"
   ]
  },
  {
   "cell_type": "code",
   "execution_count": 2,
   "metadata": {},
   "outputs": [
    {
     "name": "stdout",
     "output_type": "stream",
     "text": [
      "KeyError caught: ['c']\n"
     ]
    }
   ],
   "source": [
    "cool_dict = {\"a\": 420, \"b\":69}\n",
    "\n",
    "try:\n",
    "    a_val = cool_dict[\"a\"]\n",
    "    b_val = cool_dict[\"b\"]\n",
    "    c_val = cool_dict[\"c\"]\n",
    "except KeyError as e:\n",
    "    print(f\"KeyError caught: [{e}]\")\n",
    "else:\n",
    "    print(f\"Code has run succesfully!\")"
   ]
  },
  {
   "cell_type": "markdown",
   "metadata": {},
   "source": [
    "## 2.3 Example 3"
   ]
  },
  {
   "cell_type": "code",
   "execution_count": 3,
   "metadata": {},
   "outputs": [
    {
     "name": "stdout",
     "output_type": "stream",
     "text": [
      "TypeError caught: [unsupported operand type(s) for /: 'int' and 'str']\n"
     ]
    }
   ],
   "source": [
    "try:\n",
    "    print(1/\"chode\")\n",
    "except TypeError as e:\n",
    "    print(f\"TypeError caught: [{e}]\")"
   ]
  },
  {
   "cell_type": "markdown",
   "metadata": {},
   "source": [
    "## 2.4 Example 4"
   ]
  },
  {
   "cell_type": "code",
   "execution_count": 4,
   "metadata": {},
   "outputs": [
    {
     "name": "stdout",
     "output_type": "stream",
     "text": [
      "666\n",
      "420\n",
      "69\n",
      "Index caught: [list index out of range]\n"
     ]
    }
   ],
   "source": [
    "cool_list = [666,420,69]\n",
    "\n",
    "try:\n",
    "    print(cool_list[0])\n",
    "    print(cool_list[1])\n",
    "    print(cool_list[2])\n",
    "    print(cool_list[3])\n",
    "except IndexError as e:\n",
    "    print(f\"Index caught: [{e}]\")"
   ]
  },
  {
   "cell_type": "markdown",
   "metadata": {},
   "source": [
    "## 2.5 Example 5"
   ]
  },
  {
   "cell_type": "code",
   "execution_count": 5,
   "metadata": {},
   "outputs": [
    {
     "name": "stdout",
     "output_type": "stream",
     "text": [
      "Attribute error caught: ['int' object has no attribute 'append']\n"
     ]
    }
   ],
   "source": [
    "mad_int = 69\n",
    "\n",
    "try:\n",
    "    mad_int.append(420)\n",
    "except AttributeError as e:\n",
    "    print(f\"Attribute error caught: [{e}]\")"
   ]
  },
  {
   "cell_type": "markdown",
   "metadata": {},
   "source": [
    "# 3. Raising an Exception\n",
    "\n",
    "How can a developer know *all the exceptions*?    \n",
    "\n",
    "- and *handle* them all (when building software)?  \n",
    "- It seems hard to be able to predict or prepare for all the different exceptions that occur?\n",
    "\n",
    "Python is an *inherited* language:  \n",
    "\n",
    "- All ***in-built*** are in fact sub-classes `Exception` class:\n",
    "- And the Exception class is a sub-class of the `BaseException` class\n",
    "\n",
    "A developer can raise an exception when a condition is met. This condition could be:\n",
    "\n",
    "- boolean logic (`True`, `False`)\n",
    "- comparison logic (`<`, `>`, `==,` `>=,` `<=`, `!`)\n",
    "- an python in-built exception \n",
    "\n",
    "Then once the exception is *caught*, it can be handled in an `except` clause. This whole process is known as the **Exception-Handler (EH)**"
   ]
  },
  {
   "cell_type": "markdown",
   "metadata": {},
   "source": [
    "## 3.1 Bare `except` clause\n",
    "A bare except clause:  \n",
    "\n",
    "- Python catches *any* exception that inherits from `Exception` (most built-in exceptions!) \n",
    "- Catching *parent class* `Exception` will:\n",
    "    - ***Hides all errors***— even unexpected or previously unseen errors!\n"
   ]
  },
  {
   "cell_type": "markdown",
   "metadata": {},
   "source": [
    "## 3.1.1 Bare `except` clause example"
   ]
  },
  {
   "cell_type": "code",
   "execution_count": 6,
   "metadata": {},
   "outputs": [
    {
     "name": "stdout",
     "output_type": "stream",
     "text": [
      "Couldn't open file.log\n"
     ]
    }
   ],
   "source": [
    "try:\n",
    "    with open(\"file.log\") as file:\n",
    "        read_data = file.read()\n",
    "except:\n",
    "    print(\"Couldn't open file.log\")"
   ]
  },
  {
   "cell_type": "markdown",
   "metadata": {},
   "source": [
    "## 3.2 `except` Exception clause\n",
    "\n",
    "By catching `Exception as e`, there are attributes the developer can use:  \n",
    "\n",
    "- The error **occured**: specific information about the error\n",
    "- The error **type**: the specific class of error\n",
    "- The error **trace-back**: a detailed trace-back of the error\n",
    "\n"
   ]
  },
  {
   "cell_type": "code",
   "execution_count": 7,
   "metadata": {},
   "outputs": [
    {
     "name": "stdout",
     "output_type": "stream",
     "text": [
      "[Error Occured 1/3]: \n",
      "\t[  [Errno 2] No such file or directory: 'file.log'  ]\n",
      "\n",
      "[Error Type 2/3]: \n",
      "\t[  FileNotFoundError  ]\n",
      "\n",
      "[Error Traceback 3/3]: \n",
      "\t[  Traceback (most recent call last):\n",
      "  File \"/tmp/ipykernel_76566/3916192492.py\", line 2, in <module>\n",
      "    with open(\"file.log\") as file:\n",
      "  File \"/home/tonydevs/.local/share/virtualenvs/blog-T-2huGx2/lib/python3.10/site-packages/IPython/core/interactiveshell.py\", line 324, in _modified_open\n",
      "    return io_open(file, *args, **kwargs)\n",
      "FileNotFoundError: [Errno 2] No such file or directory: 'file.log'\n",
      "  ]\n"
     ]
    }
   ],
   "source": [
    "try:\n",
    "    with open(\"file.log\") as file:\n",
    "        read_data = file.read()\n",
    "except Exception as e:\n",
    "    import traceback\n",
    "    print(f\"[Error Occured 1/3]: \\n\\t[  {e}  ]\\n\")\n",
    "    print(f\"[Error Type 2/3]: \\n\\t[  {type(e).__name__}  ]\\n\")\n",
    "    print(f\"[Error Traceback 3/3]: \\n\\t[  {traceback.format_exc()}  ]\")"
   ]
  },
  {
   "cell_type": "markdown",
   "metadata": {},
   "source": [
    "##  3.3 Raising an `in-built` exception"
   ]
  },
  {
   "cell_type": "code",
   "execution_count": 8,
   "metadata": {},
   "outputs": [],
   "source": [
    "def squared(numbers):\n",
    "    if not isinstance(numbers, list | tuple):\n",
    "        raise TypeError(\n",
    "            f\"list or tuple expected, got '{type(numbers).__name__}'\"\n",
    "        )\n",
    "    return [number**2 for number in numbers]"
   ]
  },
  {
   "cell_type": "markdown",
   "metadata": {
    "vscode": {
     "languageId": "sql"
    }
   },
   "source": [
    "# 4. `assert` keyword\n",
    "- Use only when debugging program during development. \n",
    "- This exception is the `AssertionError`. \n",
    "- The AssertionError is ***special***:  \n",
    "    - It is not manually raised by the developer using `raise`.\n",
    "    - Unlike every other manually raised exceptions.\n",
    "    "
   ]
  },
  {
   "cell_type": "markdown",
   "metadata": {},
   "source": [
    "## 4.1 Original Method: *manually* `raise` an `Exception()` (when condition met)\n",
    "Below example raises an exception when a specific value is above arbitrary value (e.g. 5)\n",
    "\n",
    "This exception can only be *manually* raised because it is:  \n",
    "\n",
    "- not a syntax error exception\n",
    "- not an in-built error exception\n",
    "\n",
    "In a way, this is more like:  \n",
    "\n",
    "- model-error (e.g. specific to some real-world model specification)\n",
    "- business-logic (e.g. business application)"
   ]
  },
  {
   "cell_type": "code",
   "execution_count": 9,
   "metadata": {},
   "outputs": [
    {
     "ename": "Exception",
     "evalue": "[Manual Exc Raised & Caught]: The number should not exceed 5. (number=6)",
     "output_type": "error",
     "traceback": [
      "\u001b[0;31m---------------------------------------------------------------------------\u001b[0m",
      "\u001b[0;31mException\u001b[0m                                 Traceback (most recent call last)",
      "Cell \u001b[0;32mIn[9], line 4\u001b[0m\n\u001b[1;32m      2\u001b[0m number \u001b[38;5;241m=\u001b[39m \u001b[38;5;241m6\u001b[39m\n\u001b[1;32m      3\u001b[0m \u001b[38;5;28;01mif\u001b[39;00m number \u001b[38;5;241m>\u001b[39m \u001b[38;5;241m5\u001b[39m:\n\u001b[0;32m----> 4\u001b[0m     \u001b[38;5;28;01mraise\u001b[39;00m \u001b[38;5;167;01mException\u001b[39;00m(\u001b[38;5;124mf\u001b[39m\u001b[38;5;124m\"\u001b[39m\u001b[38;5;124m[Manual Exc Raised & Caught]: The number should not exceed 5. (\u001b[39m\u001b[38;5;132;01m{\u001b[39;00mnumber\u001b[38;5;132;01m=}\u001b[39;00m\u001b[38;5;124m)\u001b[39m\u001b[38;5;124m\"\u001b[39m)\n\u001b[1;32m      5\u001b[0m \u001b[38;5;28mprint\u001b[39m(number)\n",
      "\u001b[0;31mException\u001b[0m: [Manual Exc Raised & Caught]: The number should not exceed 5. (number=6)"
     ]
    }
   ],
   "source": [
    "# number = 1\n",
    "number = 6\n",
    "if number > 5:\n",
    "    raise Exception(f\"[Manual Exc Raised & Caught]: The number should not exceed 5. ({number=})\")\n",
    "print(number)"
   ]
  },
  {
   "cell_type": "markdown",
   "metadata": {},
   "source": [
    "## 4.2 Another Method: Automated `AssertionError` with `assert` (when condition met) \n",
    "\n"
   ]
  },
  {
   "cell_type": "code",
   "execution_count": 10,
   "metadata": {},
   "outputs": [
    {
     "name": "stdout",
     "output_type": "stream",
     "text": [
      "1\n"
     ]
    }
   ],
   "source": [
    "number = 1\n",
    "assert(number < 5), f\"[Manual Exc Raised & Caught]: The number should not exceed 5. ({number=})\"\n",
    "print(number)"
   ]
  },
  {
   "cell_type": "code",
   "execution_count": 11,
   "metadata": {},
   "outputs": [
    {
     "name": "stdout",
     "output_type": "stream",
     "text": [
      "Running on a Linux system: [linux]\n"
     ]
    }
   ],
   "source": [
    "# example: https://realpython.com/python-exceptions/\n",
    "def linux_interaction():\n",
    "    import sys # https://docs.python.org/3.10/library/sys.html\n",
    "    if \"linux\" not in sys.platform: \n",
    "        raise RuntimeError(\"Function can only run on Linux systems.\")\n",
    "    print(f\"Running on a Linux system: [{sys.platform}]\")\n",
    "linux_interaction()"
   ]
  },
  {
   "cell_type": "code",
   "execution_count": 12,
   "metadata": {},
   "outputs": [
    {
     "ename": "RuntimeError",
     "evalue": "Function can only run on Windows systems.",
     "output_type": "error",
     "traceback": [
      "\u001b[0;31m---------------------------------------------------------------------------\u001b[0m",
      "\u001b[0;31mRuntimeError\u001b[0m                              Traceback (most recent call last)",
      "Cell \u001b[0;32mIn[12], line 7\u001b[0m\n\u001b[1;32m      5\u001b[0m         \u001b[38;5;28;01mraise\u001b[39;00m \u001b[38;5;167;01mRuntimeError\u001b[39;00m(\u001b[38;5;124m\"\u001b[39m\u001b[38;5;124mFunction can only run on Windows systems.\u001b[39m\u001b[38;5;124m\"\u001b[39m)\n\u001b[1;32m      6\u001b[0m     \u001b[38;5;28mprint\u001b[39m(\u001b[38;5;124mf\u001b[39m\u001b[38;5;124m\"\u001b[39m\u001b[38;5;124mRunning on a Windows system: [\u001b[39m\u001b[38;5;132;01m{\u001b[39;00msys\u001b[38;5;241m.\u001b[39mplatform\u001b[38;5;132;01m}\u001b[39;00m\u001b[38;5;124m]\u001b[39m\u001b[38;5;124m\"\u001b[39m)\n\u001b[0;32m----> 7\u001b[0m \u001b[43mwindows_interaction\u001b[49m\u001b[43m(\u001b[49m\u001b[43m)\u001b[49m\n",
      "Cell \u001b[0;32mIn[12], line 5\u001b[0m, in \u001b[0;36mwindows_interaction\u001b[0;34m()\u001b[0m\n\u001b[1;32m      3\u001b[0m \u001b[38;5;28;01mimport\u001b[39;00m \u001b[38;5;21;01msys\u001b[39;00m \u001b[38;5;66;03m# https://docs.python.org/3.10/library/sys.html\u001b[39;00m\n\u001b[1;32m      4\u001b[0m \u001b[38;5;28;01mif\u001b[39;00m \u001b[38;5;124m\"\u001b[39m\u001b[38;5;124mwindows\u001b[39m\u001b[38;5;124m\"\u001b[39m \u001b[38;5;129;01mnot\u001b[39;00m \u001b[38;5;129;01min\u001b[39;00m sys\u001b[38;5;241m.\u001b[39mplatform: \n\u001b[0;32m----> 5\u001b[0m     \u001b[38;5;28;01mraise\u001b[39;00m \u001b[38;5;167;01mRuntimeError\u001b[39;00m(\u001b[38;5;124m\"\u001b[39m\u001b[38;5;124mFunction can only run on Windows systems.\u001b[39m\u001b[38;5;124m\"\u001b[39m)\n\u001b[1;32m      6\u001b[0m \u001b[38;5;28mprint\u001b[39m(\u001b[38;5;124mf\u001b[39m\u001b[38;5;124m\"\u001b[39m\u001b[38;5;124mRunning on a Windows system: [\u001b[39m\u001b[38;5;132;01m{\u001b[39;00msys\u001b[38;5;241m.\u001b[39mplatform\u001b[38;5;132;01m}\u001b[39;00m\u001b[38;5;124m]\u001b[39m\u001b[38;5;124m\"\u001b[39m)\n",
      "\u001b[0;31mRuntimeError\u001b[0m: Function can only run on Windows systems."
     ]
    }
   ],
   "source": [
    "# example: https://realpython.com/python-exceptions/\n",
    "def windows_interaction():\n",
    "    import sys # https://docs.python.org/3.10/library/sys.html\n",
    "    if \"windows\" not in sys.platform: \n",
    "        raise RuntimeError(\"Function can only run on Windows systems.\")\n",
    "    print(f\"Running on a Windows system: [{sys.platform}]\")\n",
    "windows_interaction()"
   ]
  },
  {
   "cell_type": "markdown",
   "metadata": {},
   "source": [
    "# 5. Custom Exceptions\n",
    "\n",
    "This **Custom Exception** are exceptions that the developer can create in-built exceptions may not be suitable.\n",
    "\n",
    "Scenarios may require them:\n",
    "\n",
    "- maybe a file doesn’t exist, \n",
    "- a network or database connection fails, \n",
    "- or code gets invalid input. "
   ]
  },
  {
   "cell_type": "markdown",
   "metadata": {},
   "source": [
    "## 5.1 Create Custom Exception (**CE**)\n",
    "**CE** are created by the:\n",
    "\n",
    "- `class NameOfCustomException(Exception)`: use class `constructor` and *inherit* from `Exception`.\n",
    "\n",
    "- `raise` exception in a function defintion (when condition is met):\n",
    "    - with no **EH**: call function outside *try-except* (exception is not handled): Program terminates.\n",
    "    - with an **EH**: call function in *try-except* (exception is handled): Program continues."
   ]
  },
  {
   "cell_type": "markdown",
   "metadata": {},
   "source": [
    "## 5.2 Raising **CE** without **EH**\n",
    "## 5.2.1 Example 1: PlatformException"
   ]
  },
  {
   "cell_type": "code",
   "execution_count": 13,
   "metadata": {},
   "outputs": [
    {
     "name": "stdout",
     "output_type": "stream",
     "text": [
      "Doing Linux things.\n"
     ]
    }
   ],
   "source": [
    "class PlatformException(Exception):\n",
    "    \"\"\"Incompatible platform.\"\"\"\n",
    "    pass\n",
    "\n",
    "def linux_interaction():\n",
    "    import sys\n",
    "    if \"linux\" not in sys.platform:\n",
    "        # raise RuntimeError(\"Function only for Linux systems.\")    # previous-code: in-built exception\n",
    "        raise PlatformException(\"Function only for Linux systems.\") # updated-code: custom exception     \n",
    "    print(\"Doing Linux things.\")\n",
    "    \n",
    "linux_interaction()"
   ]
  },
  {
   "cell_type": "markdown",
   "metadata": {},
   "source": [
    "## 5.2.2 Example 2: GradeValueError"
   ]
  },
  {
   "cell_type": "code",
   "execution_count": 14,
   "metadata": {},
   "outputs": [
    {
     "ename": "GradeValueError",
     "evalue": "grade values must be between 0 and 100 inclusive",
     "output_type": "error",
     "traceback": [
      "\u001b[0;31m---------------------------------------------------------------------------\u001b[0m",
      "\u001b[0;31mGradeValueError\u001b[0m                           Traceback (most recent call last)",
      "Cell \u001b[0;32mIn[14], line 16\u001b[0m\n\u001b[1;32m     13\u001b[0m         count \u001b[38;5;241m+\u001b[39m\u001b[38;5;241m=\u001b[39m \u001b[38;5;241m1\u001b[39m\n\u001b[1;32m     14\u001b[0m     \u001b[38;5;28;01mreturn\u001b[39;00m \u001b[38;5;28mround\u001b[39m(total \u001b[38;5;241m/\u001b[39m count, \u001b[38;5;241m2\u001b[39m)\n\u001b[0;32m---> 16\u001b[0m \u001b[38;5;28mprint\u001b[39m(\u001b[43mcalculate_average_grade\u001b[49m\u001b[43m(\u001b[49m\u001b[43m[\u001b[49m\u001b[38;5;241;43m80\u001b[39;49m\u001b[43m,\u001b[49m\u001b[38;5;241;43m70\u001b[39;49m\u001b[43m,\u001b[49m\u001b[38;5;241;43m-\u001b[39;49m\u001b[38;5;241;43m90\u001b[39;49m\u001b[43m]\u001b[49m\u001b[43m)\u001b[49m)\n\u001b[1;32m     17\u001b[0m \u001b[38;5;28mprint\u001b[39m(\u001b[38;5;124m\"\u001b[39m\u001b[38;5;124mException is not handled, Program is terminated by Python. This line is not printed\u001b[39m\u001b[38;5;124m\"\u001b[39m)\n",
      "Cell \u001b[0;32mIn[14], line 9\u001b[0m, in \u001b[0;36mcalculate_average_grade\u001b[0;34m(grades)\u001b[0m\n\u001b[1;32m      7\u001b[0m \u001b[38;5;28;01mfor\u001b[39;00m grade \u001b[38;5;129;01min\u001b[39;00m grades:\n\u001b[1;32m      8\u001b[0m     \u001b[38;5;28;01mif\u001b[39;00m grade \u001b[38;5;241m<\u001b[39m \u001b[38;5;241m0\u001b[39m \u001b[38;5;129;01mor\u001b[39;00m grade \u001b[38;5;241m>\u001b[39m \u001b[38;5;241m100\u001b[39m:\n\u001b[0;32m----> 9\u001b[0m         \u001b[38;5;28;01mraise\u001b[39;00m GradeValueError(\n\u001b[1;32m     10\u001b[0m             \u001b[38;5;124m\"\u001b[39m\u001b[38;5;124mgrade values must be between 0 and 100 inclusive\u001b[39m\u001b[38;5;124m\"\u001b[39m\n\u001b[1;32m     11\u001b[0m         )\n\u001b[1;32m     12\u001b[0m     total \u001b[38;5;241m+\u001b[39m\u001b[38;5;241m=\u001b[39m grade\n\u001b[1;32m     13\u001b[0m     count \u001b[38;5;241m+\u001b[39m\u001b[38;5;241m=\u001b[39m \u001b[38;5;241m1\u001b[39m\n",
      "\u001b[0;31mGradeValueError\u001b[0m: grade values must be between 0 and 100 inclusive"
     ]
    }
   ],
   "source": [
    "class GradeValueError(Exception):\n",
    "    pass\n",
    "\n",
    "def calculate_average_grade(grades):\n",
    "    total = 0\n",
    "    count = 0\n",
    "    for grade in grades:\n",
    "        if grade < 0 or grade > 100:\n",
    "            raise GradeValueError(\n",
    "                \"grade values must be between 0 and 100 inclusive\"\n",
    "            )\n",
    "        total += grade\n",
    "        count += 1\n",
    "    return round(total / count, 2)\n",
    "\n",
    "print(calculate_average_grade([80,70,-90]))\n",
    "print(\"Exception is not handled, Program is terminated by Python. This line is not printed\")"
   ]
  },
  {
   "cell_type": "markdown",
   "metadata": {},
   "source": [
    "## 5.3 Raising **CE** with **EH**\n"
   ]
  },
  {
   "cell_type": "markdown",
   "metadata": {},
   "source": [
    "## 5.3.1 GradeValueError (**EH** less verbosity)\n",
    "\n",
    "Captured Error output with less verbosity. This may be suitable and it may not.  "
   ]
  },
  {
   "cell_type": "code",
   "execution_count": 15,
   "metadata": {},
   "outputs": [
    {
     "name": "stdout",
     "output_type": "stream",
     "text": [
      "Captured Error: [GradeValueError]:\n",
      "\t[grade values must be between 0 and 100 inclusive]\n",
      "\n",
      "Finished Grading!\n"
     ]
    }
   ],
   "source": [
    "try:\n",
    "    GPA = calculate_average_grade([80,70,-90])\n",
    "except GradeValueError as e:\n",
    "    print(f\"Captured Error: [{type(e).__name__}]:\\n\\t[{e}]\\n\")\n",
    "    # import traceback\n",
    "    # print(f\"Traceback here: \\n\\t{traceback.format_exc()}\")\n",
    "else:\n",
    "    print(f\"Congrats, your gpa is {GPA}\")\n",
    "print(f\"Finished Grading!\")"
   ]
  },
  {
   "cell_type": "markdown",
   "metadata": {},
   "source": [
    "## 5.3.2 GradeValueError (Exception-Handler more verbosity)\n",
    "By using `traceback`, the verbose output could also be provided."
   ]
  },
  {
   "cell_type": "code",
   "execution_count": 16,
   "metadata": {},
   "outputs": [
    {
     "name": "stdout",
     "output_type": "stream",
     "text": [
      "Captured Error: [GradeValueError]:\n",
      "\t[grade values must be between 0 and 100 inclusive]\n",
      "\n",
      "Traceback here: \n",
      "\tTraceback (most recent call last):\n",
      "  File \"/tmp/ipykernel_76566/3646266675.py\", line 2, in <module>\n",
      "    GPA = calculate_average_grade([80,70,-90])\n",
      "  File \"/tmp/ipykernel_76566/2024016610.py\", line 9, in calculate_average_grade\n",
      "    raise GradeValueError(\n",
      "GradeValueError: grade values must be between 0 and 100 inclusive\n",
      "\n",
      "Finished Grading!\n"
     ]
    }
   ],
   "source": [
    "try:\n",
    "    GPA = calculate_average_grade([80,70,-90])\n",
    "except GradeValueError as e:\n",
    "    print(f\"Captured Error: [{type(e).__name__}]:\\n\\t[{e}]\\n\")\n",
    "    import traceback\n",
    "    print(f\"Traceback here: \\n\\t{traceback.format_exc()}\")\n",
    "else:\n",
    "    print(f\"Congrats, your gpa is {GPA}\")\n",
    "print(f\"Finished Grading!\")"
   ]
  },
  {
   "cell_type": "markdown",
   "metadata": {},
   "source": [
    "## 6. Multiple Exceptions"
   ]
  },
  {
   "cell_type": "code",
   "execution_count": 17,
   "metadata": {},
   "outputs": [
    {
     "name": "stdout",
     "output_type": "stream",
     "text": [
      "{'success': True, 'message': 'OK', 'result': 1.0}\n",
      "{'success': False, 'message': 'division by zero', 'type': 'ZeroDivisionError', 'result': None}\n",
      "{'success': False, 'message': \"unsupported operand type(s) for /: 'str' and 'int'\", 'type': 'TypeError', 'result': None}\n"
     ]
    }
   ],
   "source": [
    "def division(a, b):\n",
    "    try:\n",
    "        return {\n",
    "            'success': True,\n",
    "            'message': 'OK',\n",
    "            'result': a / b\n",
    "        }\n",
    "    except (TypeError, ZeroDivisionError, Exception) as e:\n",
    "        return {\n",
    "            'success': False,\n",
    "            'message': str(e),\n",
    "            'type': type(e).__name__,\n",
    "            'result': None\n",
    "        }\n",
    "\n",
    "result1 = division(10,10)\n",
    "result2 = division(10, 0)\n",
    "result3 = division(\"A\", 10)\n",
    "print(result1)\n",
    "print(result2)\n",
    "print(result3)"
   ]
  }
 ],
 "metadata": {
  "kernelspec": {
   "display_name": "blog-T-2huGx2",
   "language": "python",
   "name": "python3"
  },
  "language_info": {
   "codemirror_mode": {
    "name": "ipython",
    "version": 3
   },
   "file_extension": ".py",
   "mimetype": "text/x-python",
   "name": "python",
   "nbconvert_exporter": "python",
   "pygments_lexer": "ipython3",
   "version": "3.10.12"
  }
 },
 "nbformat": 4,
 "nbformat_minor": 2
}
