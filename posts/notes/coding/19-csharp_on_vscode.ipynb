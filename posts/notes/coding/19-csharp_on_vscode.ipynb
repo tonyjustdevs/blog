{
 "cells": [
  {
   "cell_type": "raw",
   "metadata": {
    "vscode": {
     "languageId": "raw"
    }
   },
   "source": [
    "---\n",
    "title: \"Introduction to C# in Visual Studio Code\"\n",
    "author: \"Tony Phung\"\n",
    "date: \"2024-10-30\"\n",
    "categories: [c#, vscode]\n",
    "image: \"imgs/19csvscode.jpg\"\n",
    "toc: true\n",
    "description: \"Creating, Building and Running Simple C# Console Apps\"\n",
    "---"
   ]
  },
  {
   "cell_type": "markdown",
   "metadata": {
    "vscode": {
     "languageId": "raw"
    }
   },
   "source": [
    "![](imgs/19csvscode.jpg)"
   ]
  },
  {
   "cell_type": "markdown",
   "metadata": {},
   "source": [
    "# 1. Introduction \n",
    "\n",
    "Visual Studio Code supports the *development of `C#` applications* using:  \n",
    " \n",
    "- `C#` language extensions and \n",
    "- the `.NET` **Software Development Kit** (SDK)."
   ]
  },
  {
   "cell_type": "markdown",
   "metadata": {},
   "source": [
    "# 2. `.NET` Platform and Visual Studio Code Extensions\n",
    "\n",
    "`.NET` is a an open-source developer platform to **develop applications** (in `C#`, F#, or Visual Basic). \n",
    "- It is used to develop & run applications **cross-platform** (for Windows, macOS, and Linux)\n",
    "- It includes software languages and code libraries.\n",
    "- The `.NET` platform provides a **runtime environment** for running applications."
   ]
  },
  {
   "cell_type": "markdown",
   "metadata": {},
   "source": [
    "## 2.1 .NET Runtime Explained\n",
    "\n",
    "The **`.NET` runtime** is the:\n",
    "- *code library* \n",
    "- ***required*** to **run your C# applications**\n",
    "- also known as **Common Language Runtime**, or CLR. \n",
    "    \n",
    "        The .NET runtime isn't required to WRITE C# code, \n",
    "        The .NET runtime is required to RUN `C#` applications."
   ]
  },
  {
   "cell_type": "markdown",
   "metadata": {},
   "source": [
    "## 2.2 Visual Studio Code Extensions\n",
    "Visual Studio Code provides a development environment for:\n",
    "\n",
    "- *writing*, \n",
    "- *running*, and \n",
    "- *debugging* `C#` applications\n",
    "\n",
    "By using Visual Studio Extenions:\n",
    "\n",
    "- **`.NET` SDK**\n",
    "- **`C#` extensions** "
   ]
  },
  {
   "cell_type": "markdown",
   "metadata": {},
   "source": [
    "## 2.3 Install Extensions\n",
    "\n",
    "### 2.3.1 [C# Dev Kit - Official C#]\n",
    "This extensions helps to develop, edit, and debug C# code in Visual Studio Code. It also installs:  \n",
    "\n",
    "- **[.NET Install Tool]**: This extension installs & manages different versions of: \n",
    "    - `.NET SDK`\n",
    "    - `Runtime`.\n",
    "- **[C#]**: Base language support for `C#`.\n",
    "- **[C# Dev Kit]**: Official `C#` extension from Microsoft."
   ]
  },
  {
   "cell_type": "markdown",
   "metadata": {},
   "source": [
    "## 2.3.2 [IntelliCode for C# Dev Kit]\n",
    "This extension provides AI-assisted development for the `C# Dev Kit`."
   ]
  },
  {
   "cell_type": "markdown",
   "metadata": {},
   "source": [
    "## 2.3.3 .NET SDK\n",
    "This is required to *run* and *debug* C# applications:\n",
    "\n",
    "- Check if already install: `dotnet --version`\n",
    "- If not installed: \n",
    "    - type `.NET: Install` and then \n",
    "    - select `.NET: Install New .NET SDK`.\n",
    "    - Under `Latest`, select `.NET 8`, select `Install`.\n"
   ]
  },
  {
   "cell_type": "markdown",
   "metadata": {},
   "source": [
    "# 3. Create, build, and run your application\n",
    "The **[.NET software development kit (SDK)]** includes: \n",
    "\n",
    "- A command-line interface (CLI) VSC's Terminal. \n",
    "- `.NET CLI` commands can: \n",
    "    - *create* new console applications, \n",
    "    - *build* project code, and \n",
    "    - *run* applications."
   ]
  },
  {
   "cell_type": "markdown",
   "metadata": {},
   "source": [
    "## 3.1 `.NET CLI`\n",
    "Sample .NET CLI command Code below will *create new console app* in *specified folder*.  \n",
    "\n",
    "- `dotnet new console -o ./CsharpProjects/TestProject`"
   ]
  },
  {
   "cell_type": "markdown",
   "metadata": {},
   "source": [
    "## 3.2 .NET CLI Command Structure\n",
    "There are 3 parts:   [*driver*] [*command*] [*command arguments*]: \n",
    "\n",
    "- The ***driver***: \n",
    "    - `dotnet`\n",
    "- The ***command***: \n",
    "    - `new console`\n",
    "- The ***command arguments***: \n",
    "    - `-o ./CsharpProjects/TestProjectByCLI`\n",
    "\n",
    "*command arguments* are optional, so `dotnet new console` creates a new console app in the current working directory."
   ]
  },
  {
   "cell_type": "markdown",
   "metadata": {},
   "source": [
    "![](imgs/19dotnet_template.jpg)"
   ]
  },
  {
   "cell_type": "markdown",
   "metadata": {},
   "source": [
    "## 3.3 C# Console Application Template \n",
    "- `Program.cs`: Source Code ? (TBA)  \n",
    "- `TestProject1.csproj`: Project File    \n",
    "- `obj`: Build files and dependencies like .dlls (TBA)"
   ]
  },
  {
   "cell_type": "markdown",
   "metadata": {},
   "source": [
    "# 4. Update, Build, and Run Application\n",
    "The `dotnet build` command:\n",
    "\n",
    "- builds the **project** and \n",
    "- builds its **dependencies** \n",
    "- into a set of **binaries**. \n",
    "\n",
    "The **binaries** include the:\n",
    "\n",
    "- project's code in `Intermediate Language (IL)` files with a `.dll extension`.\n",
    "- Location: `.\\bin\\Debug\\net7.0\\`"
   ]
  },
  {
   "cell_type": "markdown",
   "metadata": {},
   "source": [
    "## 4.1 Build Application\n",
    "- Navigate to `TestProject` (`Ctrl + q`: **Folders**)\n",
    "- `Shift + F10`\n",
    "- `Open in Terminal`\n",
    "- \n",
    "`dotnet build`"
   ]
  },
  {
   "cell_type": "markdown",
   "metadata": {},
   "source": [
    "![](imgs/19dotnet_build.jpg)"
   ]
  },
  {
   "cell_type": "markdown",
   "metadata": {},
   "source": [
    "## 4.2 Run Application\n",
    "The `dotnet run` command:\n",
    "\n",
    "- runs source code without any explicit compile or launch commands. \n",
    "- A convenient option to run application ***from the source code***\n",
    "    - Useful for fast iterative development from CLI. \n",
    "    - The command depends on the dotnet build command to build the code.\n",
    "\n",
    "Code: `dotnet run`"
   ]
  },
  {
   "cell_type": "markdown",
   "metadata": {},
   "source": [
    "# 5. Create, Build and Run a Test Project (in one screenshot) \n",
    "\n",
    "## 5.1 Old/Bad (Version 1)\n",
    "\n",
    "1. Check dotnet (exists): `dotnet --version`\n",
    "2. Create console app with dotnet cli command:  `dotnet new console -o 2-CreateRunCSConsoleApps`\n",
    "3. Check app has been created... [Realised I made a mistake]\n",
    "\n",
    "Should have created a extra folder within the top folder, that is: `2-CreateRunCSConsoleApps\\SimpleApp`\n",
    "\n",
    "I'll leave screenshot below and also provide update."
   ]
  },
  {
   "cell_type": "markdown",
   "metadata": {},
   "source": [
    "![](imgs/19create_build_run.jpg)"
   ]
  },
  {
   "cell_type": "markdown",
   "metadata": {},
   "source": [
    "## 5.2 Better/Updated (Version 2)\n",
    "\n",
    "Current Project Structure: \n",
    "\n",
    "- `2-CreateRunCSConsoleApps\\Program.cs`: \n",
    "    - Only one project per solution, an undesirable structure. \n",
    "    - `Program.cs` is directly under the Solution Name. \n",
    "    - Preferred to be able to have multiple projects within a single Solution (see next section).\n",
    "\n",
    "New Project Structure: \n",
    "\n",
    "- `2-CreateRunCSConsoleApps\\TestProjectNo\\Program.cs`: \n",
    "    - Allows for multiple projects within single Solution. Example:   \n",
    "        - **[Project 1]**: `2-CreateRunCSConsoleApps\\TestProject1\\Program.cs`\n",
    "        - **[Project 2]**: `2-CreateRunCSConsoleApps\\TestProject2\\Program.cs`\n"
   ]
  },
  {
   "cell_type": "markdown",
   "metadata": {},
   "source": [
    "## 5.3 Create, Build Run: Version 2 Steps\n",
    "1. Create **TestProject1**: `dotnet new console -o 2-CreateRunCSConsoleApp\\TestProject1`.\n",
    "2. Create **TestProject2**: See 2.\n",
    "3. Check projects created succesfully.\n",
    "4. Update **Program.cs** scripts and save.\n",
    "5. Build.. ***[Realised I didnt build it first, but still works??]***: No issues (see 4.3.1 `dotnet run` notes).\n",
    "6. Build TestProject1: Go to TestProject 1 directly then: `dotnet build`, then `dotnet run`.\n",
    "7. Build TestProject2: see 6. \n",
    "\n",
    "Output for both projects are as expected."
   ]
  },
  {
   "cell_type": "markdown",
   "metadata": {},
   "source": [
    "![](imgs/19create_build_run2.jpg)"
   ]
  },
  {
   "cell_type": "markdown",
   "metadata": {},
   "source": [
    "### 5.3.1 `dotnet run` notes\n",
    "\n",
    "Turns out `dotnet run` also runs `dotnet build`. GPT output:\n",
    "\n",
    "- **Separate Build and Run Steps**: In scenarios like continuous integration (CI) pipelines or deployment scripts, you often want to explicitly build the project first (dotnet build) and then run or test it separately. This allows for better error handling and control over each step.\n",
    "\n",
    "- **Build Output for Distribution**: dotnet build creates the build artifacts (compiled .dll files and dependencies) without running the project. If you’re distributing your code or creating deployment packages, you’ll want the output from dotnet build, not the temporary output that dotnet run uses.\n",
    "\n",
    "- **Faster Subsequent Runs**: Running dotnet build first creates a compiled version that dotnet run will use as long as there are no code changes. This can make dotnet run faster on subsequent runs.\n",
    "\n",
    "- **Debugging and Optimization**: dotnet build allows for setting specific build configurations, like Release or Debug, without running the program. This is useful for testing different build configurations or optimizing the final build before deployment.\n",
    "\n"
   ]
  },
  {
   "cell_type": "markdown",
   "metadata": {},
   "source": [
    "# 6. [Bonus] Clone Repo in Windows\n",
    "\n",
    "Terminal: `git@github.com:tonyjustdevs/learning_csharp_vs.git`\n",
    "\n",
    "If `git` is not recognised: Add git bin as **environment variable**.\n",
    "\n",
    "![](imgs/19add_env_var.jpg)"
   ]
  }
 ],
 "metadata": {
  "kernelspec": {
   "display_name": "blog-T-2huGx2",
   "language": "python",
   "name": "python3"
  },
  "language_info": {
   "codemirror_mode": {
    "name": "ipython",
    "version": 3
   },
   "file_extension": ".py",
   "mimetype": "text/x-python",
   "name": "python",
   "nbconvert_exporter": "python",
   "pygments_lexer": "ipython3",
   "version": "3.10.12"
  }
 },
 "nbformat": 4,
 "nbformat_minor": 2
}
