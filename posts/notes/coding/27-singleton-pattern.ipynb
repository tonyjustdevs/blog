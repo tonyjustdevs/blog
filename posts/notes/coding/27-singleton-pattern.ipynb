{
 "cells": [
  {
   "cell_type": "raw",
   "metadata": {
    "vscode": {
     "languageId": "raw"
    }
   },
   "source": [
    "---\n",
    "title: \"Singleton Pattern\"\n",
    "author: \"Tony Phung\"\n",
    "date: \"2024-12-31\"\n",
    "categories: [python]\n",
    "image: \"imgs/27singleton.jpg\"\n",
    "toc: true\n",
    "description: \"A Design (or Anti) Pattern Allowing Only A Single Instance\"\n",
    "---"
   ]
  },
  {
   "cell_type": "markdown",
   "metadata": {
    "vscode": {
     "languageId": "raw"
    }
   },
   "source": [
    "![](imgs/27singleton.jpg)"
   ]
  },
  {
   "cell_type": "markdown",
   "metadata": {},
   "source": [
    "# 1. Create Singleton Class\n",
    "\n",
    "**Singleton** pattern creates a *metaclass* that limits the number of instance of a particular class to 1\n",
    "\n",
    "**Metaclasses** allow the customisation of object instantiation (see [metaclasses post](https://tonyjustdevs.github.io/blog/posts/notes/coding/26-metaclasses.html))\n",
    "\n",
    "- `__call__` method is overriden (see: [call-magic-method post](https://tonyjustdevs.github.io/blog/posts/notes/coding/25-call-magic-method.html))\n",
    "\n",
    "- `self._instances` list: keeps track of existence of instance\n",
    "\n",
    "- `id(cls._instances[cls])`: allows us compare object instances"
   ]
  },
  {
   "cell_type": "code",
   "execution_count": 28,
   "metadata": {},
   "outputs": [],
   "source": [
    "class SingleTonyCls(type):\n",
    "    _instances = {}\n",
    "    \n",
    "    def __call__(cls, *args, **kwds):\n",
    "        if cls not in cls._instances:\n",
    "            print(f\"{cls} does not exist! Creating new... \")\n",
    "            object_instance = super().__call__(*args, **kwds)\n",
    "            cls._instances[cls] = object_instance\n",
    "            print(f\"[{id(object_instance)}] added to {cls} list\")\n",
    "            # print(f\"[__name__]: {__name__}\") -- main file\n",
    "            # print(f\"[cls]: {cls}\") --  class name\n",
    "            # print(f\"[__class__]: {__class__}\") metaclass name\n",
    "        else:\n",
    "            print(f\"{cls} exists: [{id(cls._instances[cls])}] \")\n",
    "        return cls._instances[cls]"
   ]
  },
  {
   "cell_type": "markdown",
   "metadata": {},
   "source": [
    "# 2. Create Classes: Singleton\n",
    "\n",
    "There should only be a single instances of any class that has metaclass following the singleton pattern.\n",
    "\n",
    "All objects have the ***same id***."
   ]
  },
  {
   "cell_type": "code",
   "execution_count": 29,
   "metadata": {},
   "outputs": [],
   "source": [
    "class FooSGL(metaclass = SingleTonyCls):\n",
    "    pass"
   ]
  },
  {
   "cell_type": "markdown",
   "metadata": {},
   "source": [
    "# 3. Create Classes: Regular Way\n",
    "\n",
    "There is no limit to unique instances created.\n",
    "\n",
    "Each object should have a ***unique id***."
   ]
  },
  {
   "cell_type": "code",
   "execution_count": 30,
   "metadata": {},
   "outputs": [],
   "source": [
    "class Foo():\n",
    "    pass"
   ]
  },
  {
   "cell_type": "markdown",
   "metadata": {},
   "source": [
    "# 4. Compare Object IDs: Singleton vs Regular Way"
   ]
  },
  {
   "cell_type": "markdown",
   "metadata": {},
   "source": [
    "# 4.1 Create Multiple Objects: Singleton"
   ]
  },
  {
   "cell_type": "code",
   "execution_count": 31,
   "metadata": {},
   "outputs": [
    {
     "name": "stdout",
     "output_type": "stream",
     "text": [
      "<class '__main__.FooSGL'> does not exist! Creating new... \n",
      "[139808669538272] added to <class '__main__.FooSGL'> list\n",
      "<class '__main__.FooSGL'> exists: [139808669538272] \n",
      "<class '__main__.FooSGL'> exists: [139808669538272] \n"
     ]
    }
   ],
   "source": [
    "foo_sgl_a = FooSGL()\n",
    "foo_sgl_b = FooSGL()\n",
    "foo_sgl_c = FooSGL()"
   ]
  },
  {
   "cell_type": "markdown",
   "metadata": {},
   "source": [
    "# 4.2 Compare Object IDs: Singleton \n",
    "\n",
    "Each instantiation results in the returning of the first created object evidenced by the ***same object id***"
   ]
  },
  {
   "cell_type": "code",
   "execution_count": 32,
   "metadata": {},
   "outputs": [
    {
     "name": "stdout",
     "output_type": "stream",
     "text": [
      "139808669538272\n",
      "139808669538272\n",
      "139808669538272\n"
     ]
    }
   ],
   "source": [
    "print(id(foo_sgl_a))\n",
    "print(id(foo_sgl_b))\n",
    "print(id(foo_sgl_c))"
   ]
  },
  {
   "cell_type": "markdown",
   "metadata": {},
   "source": [
    "# 4.3 Create Multiple Objects: Regular Way"
   ]
  },
  {
   "cell_type": "code",
   "execution_count": 37,
   "metadata": {},
   "outputs": [],
   "source": [
    "foo_a = Foo()\n",
    "foo_b = Foo()\n",
    "foo_c = Foo()"
   ]
  },
  {
   "cell_type": "markdown",
   "metadata": {},
   "source": [
    "# 4.4 Compare Object IDs: Regular Way\n",
    "Each instantiation results in a ***unique object id*** "
   ]
  },
  {
   "cell_type": "code",
   "execution_count": 38,
   "metadata": {},
   "outputs": [
    {
     "name": "stdout",
     "output_type": "stream",
     "text": [
      "139808669355984\n",
      "139808669358432\n",
      "139808669357808\n"
     ]
    }
   ],
   "source": [
    "print(id(foo_a))\n",
    "print(id(foo_b))\n",
    "print(id(foo_c))"
   ]
  }
 ],
 "metadata": {
  "kernelspec": {
   "display_name": "blog-T-2huGx2",
   "language": "python",
   "name": "python3"
  },
  "language_info": {
   "codemirror_mode": {
    "name": "ipython",
    "version": 3
   },
   "file_extension": ".py",
   "mimetype": "text/x-python",
   "name": "python",
   "nbconvert_exporter": "python",
   "pygments_lexer": "ipython3",
   "version": "3.10.12"
  }
 },
 "nbformat": 4,
 "nbformat_minor": 2
}
