{
 "cells": [
  {
   "cell_type": "raw",
   "metadata": {
    "vscode": {
     "languageId": "raw"
    }
   },
   "source": [
    "---\n",
    "title: \"Python Classes Basics 101\"\n",
    "author: \"Tony Phung\"\n",
    "date: \"2024-10-23\"\n",
    "categories: [python]\n",
    "image: \"imgs/14classes.jpg\"\n",
    "toc: true\n",
    "description: \"Python Classes, Instance Objects, Data Attributes and Method Objects\"\n",
    "\n",
    "---"
   ]
  },
  {
   "cell_type": "markdown",
   "metadata": {},
   "source": [
    "![](imgs/14classes.jpg)"
   ]
  },
  {
   "cell_type": "markdown",
   "metadata": {
    "vscode": {
     "languageId": "raw"
    }
   },
   "source": [
    "# 1. Class Objects\n",
    "\n",
    "Class objects support two kinds of operations:   \n",
    "\n",
    "- **attribute references** \n",
    "    - Code: `ClassObjectName.attribute_name`\n",
    "- **instantiation**\n",
    "    - Code: `new_object_instance = ClassObjectName()`"
   ]
  },
  {
   "cell_type": "code",
   "execution_count": 1,
   "metadata": {},
   "outputs": [],
   "source": [
    "class MyClass:\n",
    "    \"\"\"A simple example class\"\"\"\n",
    "    i = 12345\n",
    "\n",
    "    def f(self):\n",
    "        return 'hello world'\n",
    "\n",
    "def temp_fn():\n",
    "    pass\n",
    "\n",
    "instance_object = MyClass()\n"
   ]
  },
  {
   "cell_type": "markdown",
   "metadata": {},
   "source": [
    "# 2. Classes Objects vs Object Instances Influence on Class Type\n",
    "\n",
    "An objects **class** or **type** dependings on the context in which its created.\n",
    "\n",
    "- For instance (pun intended), an object's class can be different depending whether declared class attribute versus object attribute\n",
    "\n",
    "## 2.1 `function` class vs `method` class:\n",
    "\n",
    "A `function` becomes a `method` when the function is accessed via an `object instance` (see examples)\n",
    "\n",
    "## 2.2 `function` and `integer` class:\n",
    "\n",
    "These two classes remain as is when declared within a Class.\n",
    "- Wheter **standalone** or \n",
    "- A Class attribute (e.g. ***ClassName.function***). \n",
    "\n",
    "- `integer` remains as is as Object Instance attribute too."
   ]
  },
  {
   "cell_type": "markdown",
   "metadata": {},
   "source": [
    "## 2.3 Class and Instance Attributes Examples"
   ]
  },
  {
   "cell_type": "code",
   "execution_count": 2,
   "metadata": {},
   "outputs": [
    {
     "name": "stdout",
     "output_type": "stream",
     "text": [
      "type(MyClass.i):         <class 'int'>\n",
      "type(MyClass.f):         <class 'function'>\n",
      "type(temp_fn):           <class 'function'>\n",
      "type(instance_object.f): <class 'method'>\n",
      "type(instance_object.i): <class 'int'>\n"
     ]
    }
   ],
   "source": [
    "delim = \": \"\n",
    "\n",
    "line0=\"type(MyClass.i)\" + delim\n",
    "line0val=type(MyClass.i)\n",
    "\n",
    "line1=\"type(MyClass.f)\" + delim\n",
    "line1val=type(MyClass.f)\n",
    "\n",
    "line2=\"type(temp_fn)\" + delim\n",
    "line2val=type(temp_fn)\n",
    "\n",
    "line3=\"type(instance_object.f)\" + delim\n",
    "line3val=type(instance_object.f)\n",
    "\n",
    "line4=\"type(instance_object.i)\" + delim\n",
    "line4val=type(instance_object.i)\n",
    "\n",
    "print(f\"{line0:<25}{str(line0val)}\") # experimenting new way to print()\n",
    "print(f\"{line1:<25}{str(line1val)}\")\n",
    "print(f\"{line2:<25}{str(line2val)}\")\n",
    "print(f\"{line3:<25}{str(line3val)}\")\n",
    "print(f\"{line4:<25}{str(line4val)}\")\n"
   ]
  },
  {
   "cell_type": "markdown",
   "metadata": {},
   "source": [
    "# 3. Instance Objects\n",
    "Instance Objects have two types of attributes (or instance attribute reference):\n",
    "\n",
    "- Data Attributes\n",
    "- Method Objects"
   ]
  },
  {
   "cell_type": "markdown",
   "metadata": {},
   "source": [
    "## 3.1 Data Attributes\n",
    "- Need not be declared\n",
    "- data members in C++\n",
    "- spring into existence when first assigned"
   ]
  },
  {
   "cell_type": "markdown",
   "metadata": {},
   "source": [
    "## 3.1.1 Example\n",
    "\n",
    "Below `counter` is data_attribute of the object `instance_object` (which is of type `MyClass`).  \n",
    "\n",
    "`counters` value 16 is printed, then deleted without leaving a trace:"
   ]
  },
  {
   "cell_type": "code",
   "execution_count": 3,
   "metadata": {},
   "outputs": [
    {
     "name": "stdout",
     "output_type": "stream",
     "text": [
      "<class '__main__.MyClass'>\n",
      "<class 'int'>\n",
      "16\n"
     ]
    },
    {
     "ename": "AttributeError",
     "evalue": "'MyClass' object has no attribute 'counter'",
     "output_type": "error",
     "traceback": [
      "\u001b[0;31m---------------------------------------------------------------------------\u001b[0m",
      "\u001b[0;31mAttributeError\u001b[0m                            Traceback (most recent call last)",
      "Cell \u001b[0;32mIn[3], line 12\u001b[0m\n\u001b[1;32m      9\u001b[0m \u001b[38;5;28mprint\u001b[39m(instance_object\u001b[38;5;241m.\u001b[39mcounter)\n\u001b[1;32m     10\u001b[0m \u001b[38;5;28;01mdel\u001b[39;00m instance_object\u001b[38;5;241m.\u001b[39mcounter\n\u001b[0;32m---> 12\u001b[0m \u001b[38;5;28mprint\u001b[39m(\u001b[38;5;28mtype\u001b[39m(\u001b[43minstance_object\u001b[49m\u001b[38;5;241;43m.\u001b[39;49m\u001b[43mcounter\u001b[49m))  \n",
      "\u001b[0;31mAttributeError\u001b[0m: 'MyClass' object has no attribute 'counter'"
     ]
    }
   ],
   "source": [
    "print(type(instance_object))  \n",
    "\n",
    "instance_object.counter = 1\n",
    "\n",
    "print(type(instance_object.counter))  \n",
    "\n",
    "while instance_object.counter < 10:\n",
    "    instance_object.counter = instance_object.counter * 2\n",
    "print(instance_object.counter)\n",
    "del instance_object.counter\n",
    "\n",
    "print(type(instance_object.counter))  \n"
   ]
  },
  {
   "cell_type": "markdown",
   "metadata": {},
   "source": [
    "# 4. Method Objects\n",
    "- Functions that ***belong to*** an object.\n",
    "- Are called **method objects**, not **function objects**.\n",
    "\n",
    "If `x` is an instance object, then `x.f` is a method object.  \n",
    "\n",
    "Method objects can be:  \n",
    "\n",
    "- [4.1] assigned first: `xf = x.f`  \n",
    "- [4.2] and then called: `xf()`"
   ]
  },
  {
   "cell_type": "markdown",
   "metadata": {},
   "source": [
    "## 4.1 Assign a Method Object"
   ]
  },
  {
   "cell_type": "code",
   "execution_count": 5,
   "metadata": {},
   "outputs": [
    {
     "data": {
      "text/plain": [
       "<bound method MyClass.f of <__main__.MyClass object at 0x7fc46c36b8b0>>"
      ]
     },
     "execution_count": 5,
     "metadata": {},
     "output_type": "execute_result"
    }
   ],
   "source": [
    "# assign method object\n",
    "xf = instance_object.f\n",
    "xf"
   ]
  },
  {
   "cell_type": "markdown",
   "metadata": {},
   "source": [
    "## 4.2 Call the Method Oject"
   ]
  },
  {
   "cell_type": "code",
   "execution_count": 6,
   "metadata": {},
   "outputs": [
    {
     "data": {
      "text/plain": [
       "'hello world'"
      ]
     },
     "execution_count": 6,
     "metadata": {},
     "output_type": "execute_result"
    }
   ],
   "source": [
    "xf()"
   ]
  }
 ],
 "metadata": {
  "kernelspec": {
   "display_name": "blog-T-2huGx2",
   "language": "python",
   "name": "python3"
  },
  "language_info": {
   "codemirror_mode": {
    "name": "ipython",
    "version": 3
   },
   "file_extension": ".py",
   "mimetype": "text/x-python",
   "name": "python",
   "nbconvert_exporter": "python",
   "pygments_lexer": "ipython3",
   "version": "3.10.12"
  }
 },
 "nbformat": 4,
 "nbformat_minor": 2
}
