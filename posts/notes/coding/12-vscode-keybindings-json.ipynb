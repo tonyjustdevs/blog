{
 "cells": [
  {
   "cell_type": "raw",
   "metadata": {
    "vscode": {
     "languageId": "raw"
    }
   },
   "source": [
    "---\n",
    "title: \"Create new key-bindings in VSCode via JSON file\"\n",
    "author: \"Tony Phung\"\n",
    "date: \"2024-10-08\"\n",
    "categories: [vscode]\n",
    "image: \"imgs/12keybinding.jpg\"\n",
    "toc: true\n",
    "description: \"A handy keybinding to switch between Terminals in VSCode\"\n",
    "---"
   ]
  },
  {
   "cell_type": "markdown",
   "metadata": {
    "vscode": {
     "languageId": "raw"
    }
   },
   "source": [
    "![](imgs/12keybinding.jpg)"
   ]
  },
  {
   "cell_type": "markdown",
   "metadata": {
    "vscode": {
     "languageId": "raw"
    }
   },
   "source": [
    "# 1. How to add a new Key-Binding via VSCode JSON file\n",
    "### 1.1 Go to Preferences\n",
    "- Go to Preferences or  \n",
    "- `ctrl-shift-p` then `[**Preferences: Open Keyboard Shortcuts (JSON)**]`"
   ]
  },
  {
   "cell_type": "markdown",
   "metadata": {},
   "source": [
    "### 1.2 Add entry JSON file\n",
    "- The entry is all the code below (including curly brackets).\n",
    "- Insert code into the json list already existing in the json file:\n",
    "    -   ie in betweeen the square brackets in the json file."
   ]
  },
  {
   "cell_type": "markdown",
   "metadata": {},
   "source": [
    "### 1.3 Keybinding: [Go to next terminal] - json code"
   ]
  },
  {
   "cell_type": "code",
   "execution_count": null,
   "metadata": {},
   "outputs": [],
   "source": [
    "{\n",
    "    \"key\": \"ctrl+tab\",\n",
    "    \"command\": \"workbench.action.terminal.focusNext\",\n",
    "    \"when\": \"terminalFocus\"\n",
    "}"
   ]
  },
  {
   "cell_type": "markdown",
   "metadata": {},
   "source": [
    "### 1.4 Keybinding: [Go to next terminal] - screenshot "
   ]
  },
  {
   "cell_type": "markdown",
   "metadata": {},
   "source": [
    "![](imgs/12keyjson.jpg)"
   ]
  },
  {
   "cell_type": "markdown",
   "metadata": {},
   "source": [
    "### 1.5 **[Bonus]** Keybinding: [Kill all terminals] - json code "
   ]
  },
  {
   "cell_type": "code",
   "execution_count": null,
   "metadata": {},
   "outputs": [],
   "source": [
    "{\n",
    "    \"key\": \"ctrl+shift+w\",\n",
    "    \"command\": \"workbench.action.terminal.killAll\",\n",
    "    \"when\": \"terminalHasBeenCreated || terminalIsOpen || terminalProcessSupported\"\n",
    "}"
   ]
  },
  {
   "cell_type": "markdown",
   "metadata": {
    "vscode": {
     "languageId": "sql"
    }
   },
   "source": [
    "### 1.6 **[Bonus]** Keybinding: [Kill all terminals] - screenshot "
   ]
  },
  {
   "cell_type": "markdown",
   "metadata": {
    "vscode": {
     "languageId": "sql"
    }
   },
   "source": [
    "![](imgs/12keybonus.jpg)"
   ]
  }
 ],
 "metadata": {
  "kernelspec": {
   "display_name": "blog-SIEQFZFr",
   "language": "python",
   "name": "python3"
  },
  "language_info": {
   "codemirror_mode": {
    "name": "ipython",
    "version": 3
   },
   "file_extension": ".py",
   "mimetype": "text/x-python",
   "name": "python",
   "nbconvert_exporter": "python",
   "pygments_lexer": "ipython3",
   "version": "3.10.12"
  }
 },
 "nbformat": 4,
 "nbformat_minor": 2
}
