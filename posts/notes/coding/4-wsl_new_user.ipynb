{
 "cells": [
  {
   "cell_type": "raw",
   "metadata": {},
   "source": [
    "---\n",
    "title: \"Create new Users in WSL\"\n",
    "author: \"Tony Phung\"\n",
    "date: \"2024-03-15\"\n",
    "categories: [coding]\n",
    "image: \"imgs/4users.jpg\"\n",
    "toc: true\n",
    "description: \"Quick instructions to set up a new user in wsl\"\n",
    "---"
   ]
  },
  {
   "cell_type": "markdown",
   "metadata": {},
   "source": [
    "# 1. Creating a new user with `sudo` priviledges\n",
    "\n",
    "`sudo`: allows you to run the following command with elevated privileges (like root access).    \n",
    "`adduser`: creates a new user account in your WSL distribution.  \n",
    "`usermod`: modifies existing user accounts.  \n",
    "`-aG`: adds the user to a specific group.    \n",
    "`cut -d: -f1 /etc/passwd`: list users.  \n",
    "`su - username`: login to username.  \n",
    "`groups username`: groups a user belongs to. \n"
   ]
  },
  {
   "cell_type": "markdown",
   "metadata": {},
   "source": [
    "1. `sudo adduser tonyjustkaggles` - add user\n",
    "2. `sudo usermod -aG sudo tonyjustkaggles` - add priviledges\n",
    "3. `sudo visudo` - open nano\n",
    "4. \"tonyjustkaggles ALL=(ALL) NOPASSWD: ALL\" - add more priviledges\n",
    "5. `Ctrl + O`, `Enter`, `Ctrl + X` - save and exit"
   ]
  },
  {
   "cell_type": "markdown",
   "metadata": {},
   "source": [
    "# 3. VS Code (pre-installed on Windows)\n",
    "\n",
    "Add PATH variable in new user so by typing `code .`, VS Code opens for the existing folder.\n",
    " \n",
    "`export PATH=\"$PATH:/mnt/c/Users/tonyp/AppData/Local/Programs/Microsoft VS Code/bin`"
   ]
  },
  {
   "cell_type": "markdown",
   "metadata": {},
   "source": [
    "# 4. [Quick Fire] Other Useful Setup Things to do\n",
    "\n",
    "### 4.1 miniforge\n",
    "1. `su - tonyjustkaggles` - login\n",
    "2. `mkdir downloads` + `cd downloads`\n",
    "3. `wget https://github.com/conda-forge/miniforge/releases/latest/download/Miniforge3-Linux-x86_64.sh`\n",
    "4. `bash Miniforge33-*.sh -b` - run bash script to install\n",
    "5. `~/miniforge3/bin/conda init bash` - add paths\n",
    "6. `which python` - see python is from miniforge\n",
    "\n",
    "### 4.2 conda virtual environment\n",
    "7. `conda create -n kaggle_venv` - create venv for individual projects + avoid dependency issues\n",
    "8. `conda activate kaggle_venv` - create venv for individual projects + avoid dependency issues\n",
    "9. `conda install python` - install python into venv\n",
    "\n",
    "### 4.3 pytorch\n",
    "10. `conda install pytorch torchvision torchaudio cpuonly -c pytorch` - install pytorch from official site\n",
    "11. `ipython` -> `import torch` -> `torch + [tab]` - Test pytorch works\n",
    "\n",
    "### 4.4 jupyter\n",
    "12. `conda install -c conda-forge jupyterlab` - install jlab from official site\n",
    "\n",
    "### 4.5 bash shortcuts\n",
    "13. `vim ~/.bashrc` -> `G`,`i` -> `alias vb=\"vim ~/.bashrc\"` -> `esc :wq`  - shortcut for vim bash\n",
    "14. `vb` -> `i` -> `alias jl=\"jupyterlab --no-browser\"` - jupyter lab short-cut \n",
    "15. `vb` -> `i` -> `alias dl=\"cd ~/downloads\"`  -> `esc :wq` - downloads \n",
    "16. `vb` -> `i` -> `alias bl=\"cd ~/blog\"` -> `esc :wq` - blog `(or :q! - don't save)`\n",
    "17. `vb` -> `i` -> `alias kv=\"conda activate kaggle_venv\"` -> `esc :wq` - activate venv\n",
    "\n",
    "### 4.6 kaggle \n",
    "18. `conda install conda-forge::kaggle` - install kaggle api from official site\n",
    "19. `Kaggle` -> `Settings` -> `Create Token` -> Paste into: `/home/tonyjustkaggles/.kaggle`\n",
    "\n",
    "### 4.7 ssh, github and blog\n",
    "20. `ssh-keygen` -> `cat pub-key` -> copy into `Github`\n",
    "21. `git clone git@github.com:tonyjustdevs/blog.git` with `ssh` option\n",
    "\n",
    "### 4.8 visudo\n",
    "22. `sudo visudo` -> `User privilege specification` ->  `tonyjustkaggles ALL=(ALL) NOPASSWD: ALL` -> `ctrl O + Enter + ctrl X`\n",
    "23. `export PATH=\"$PATH:/mnt/c/Users/tonyp/AppData/Local/Programs/Microsoft VS Code/bin\"`\n",
    "\n",
    "# 5. Complete\n",
    "\n"
   ]
  },
  {
   "cell_type": "raw",
   "metadata": {},
   "source": []
  }
 ],
 "metadata": {
  "kernelspec": {
   "display_name": "fastai",
   "language": "python",
   "name": "python3"
  },
  "language_info": {
   "codemirror_mode": {
    "name": "ipython",
    "version": 3
   },
   "file_extension": ".py",
   "mimetype": "text/x-python",
   "name": "python",
   "nbconvert_exporter": "python",
   "pygments_lexer": "ipython3",
   "version": "3.12.2"
  }
 },
 "nbformat": 4,
 "nbformat_minor": 2
}
