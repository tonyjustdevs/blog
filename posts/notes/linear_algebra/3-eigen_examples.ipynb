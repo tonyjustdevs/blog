{
 "cells": [
  {
   "cell_type": "raw",
   "metadata": {},
   "source": [
    "---\n",
    "title: \"Eigenvales and Eigenvectors Example\"\n",
    "author: \"Tony Phung\"\n",
    "date: \"2024-02-20\"\n",
    "categories: [linear algebra]\n",
    "image: \"imgs/3eigenpower.jpg\"\n",
    "toc: true\n",
    "description: \"Working out some algebraic examples\"\n",
    "---"
   ]
  },
  {
   "cell_type": "markdown",
   "metadata": {},
   "source": [
    "## 1. Dark Mode \n",
    "\n",
    "![](imgs/3eigeneg_reverse.jpg)\n",
    "\n"
   ]
  },
  {
   "cell_type": "markdown",
   "metadata": {},
   "source": [
    "## 2. Normal Mode \n",
    "\n",
    "![](imgs/3eigeneg.jpg)"
   ]
  }
 ],
 "metadata": {
  "kernelspec": {
   "display_name": "fastai",
   "language": "python",
   "name": "python3"
  },
  "language_info": {
   "codemirror_mode": {
    "name": "ipython",
    "version": 3
   },
   "file_extension": ".py",
   "mimetype": "text/x-python",
   "name": "python",
   "nbconvert_exporter": "python",
   "pygments_lexer": "ipython3",
   "version": "3.11.5"
  }
 },
 "nbformat": 4,
 "nbformat_minor": 2
}
