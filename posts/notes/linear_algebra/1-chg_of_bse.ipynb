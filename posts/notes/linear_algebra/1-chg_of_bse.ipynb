{
 "cells": [
  {
   "cell_type": "raw",
   "metadata": {},
   "source": [
    "---\n",
    "title: \"Notes: Change of Basis\"\n",
    "author: \"Tony Phung\"\n",
    "date: \"2024-02-08\"\n",
    "categories: [linear algebra]\n",
    "image: \"change.jpg\"\n",
    "toc: true\n",
    "description: \"An interpretation of change of basis\"\n",
    "---"
   ]
  },
  {
   "cell_type": "markdown",
   "metadata": {},
   "source": [
    "![](imgs/la-change-of-basis.jpg)"
   ]
  }
 ],
 "metadata": {
  "kernelspec": {
   "display_name": "leet_venv",
   "language": "python",
   "name": "python3"
  },
  "language_info": {
   "codemirror_mode": {
    "name": "ipython",
    "version": 3
   },
   "file_extension": ".py",
   "mimetype": "text/x-python",
   "name": "python",
   "nbconvert_exporter": "python",
   "pygments_lexer": "ipython3",
   "version": "3.11.5"
  }
 },
 "nbformat": 4,
 "nbformat_minor": 2
}
