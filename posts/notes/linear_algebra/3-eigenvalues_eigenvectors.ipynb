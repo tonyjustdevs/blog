{
 "cells": [
  {
   "cell_type": "raw",
   "metadata": {},
   "source": [
    "---\n",
    "title: \"Eigenvales and Eigenvectors Example\"\n",
    "author: \"Tony Phung\"\n",
    "date: \"2024-02-20\"\n",
    "categories: [linear algebra]\n",
    "image: \"3eigen.jpg\"\n",
    "toc: true\n",
    "description: \"Algebraic examples\"\n",
    "---"
   ]
  },
  {
   "cell_type": "markdown",
   "metadata": {},
   "source": [
    "## 1. Attempting Issue resolution via Commit Message\n",
    "\n",
    "Testing the automation of closing a issue via vscode commit msg highlighted in [How to Use GitHub for Automated Kanban Project Management](https://youtu.be/YVFa5VljCDY?si=hDLw6jX6ZxVXyDEo)\n",
    "\n",
    "Including \"resolve #58\" in commit message to see if this issue is auto-resolved (quite meta)\n",
    "![](3res.jpg)\n"
   ]
  },
  {
   "cell_type": "markdown",
   "metadata": {},
   "source": [
    "## 2. Issue is Open\n",
    "\n",
    "![](3github.jpg)"
   ]
  },
  {
   "cell_type": "markdown",
   "metadata": {},
   "source": [
    "## 3. Commmited, Staged and Pushed\n",
    "\n"
   ]
  }
 ],
 "metadata": {
  "kernelspec": {
   "display_name": "fastai",
   "language": "python",
   "name": "python3"
  },
  "language_info": {
   "codemirror_mode": {
    "name": "ipython",
    "version": 3
   },
   "file_extension": ".py",
   "mimetype": "text/x-python",
   "name": "python",
   "nbconvert_exporter": "python",
   "pygments_lexer": "ipython3",
   "version": "3.11.5"
  }
 },
 "nbformat": 4,
 "nbformat_minor": 2
}
