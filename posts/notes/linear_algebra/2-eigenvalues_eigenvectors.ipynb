{
 "cells": [
  {
   "cell_type": "raw",
   "metadata": {},
   "source": [
    "---\n",
    "title: \"Eigen is my valentines in 2024\"\n",
    "author: \"Tony Phung\"\n",
    "date: \"2024-02-14\"\n",
    "categories: [linear algebra]\n",
    "image: \"eigen.jpg\"\n",
    "toc: true\n",
    "description: \"Eigenvalues and Eigenvectors Mind-Map\"\n",
    "---"
   ]
  },
  {
   "cell_type": "markdown",
   "metadata": {},
   "source": [
    "Note on Colours:  \n",
    "- I'm colourblind (red-green). [Read more here](https://www.color-blindness.com/deuteranopia-red-green-color-blindness/).  \n",
    "- I'm using Nebo App on a Lenovo Tablet in Dark Mode. The app doesn't actually export the way I see it, it exports in non-dark mode so it looks completely different to how I chose the colours.  If the colours are an eyesore, I apologise 🤭 (It's probably sub-optimal without the export issues already).  \n",
    "- I used a website to reverse colours but it isn't right either.    \n",
    "\n",
    "I'll figure it out... for now I've put up both unwanted versions because I havent posted in 4 days (awful)."
   ]
  },
  {
   "cell_type": "markdown",
   "metadata": {},
   "source": [
    "# 1. Dark-mode\n",
    "\n",
    "![](eigenreversed.jpg)\n"
   ]
  },
  {
   "cell_type": "markdown",
   "metadata": {},
   "source": [
    "# 2. Normal-mode\n",
    "\n",
    "![](eigen.jpg)"
   ]
  }
 ],
 "metadata": {
  "kernelspec": {
   "display_name": "fastai",
   "language": "python",
   "name": "python3"
  },
  "language_info": {
   "codemirror_mode": {
    "name": "ipython",
    "version": 3
   },
   "file_extension": ".py",
   "mimetype": "text/x-python",
   "name": "python",
   "nbconvert_exporter": "python",
   "pygments_lexer": "ipython3",
   "version": "3.11.5"
  }
 },
 "nbformat": 4,
 "nbformat_minor": 2
}
