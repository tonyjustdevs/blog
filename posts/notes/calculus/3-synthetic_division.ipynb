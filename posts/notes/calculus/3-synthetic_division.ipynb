{
 "cells": [
  {
   "cell_type": "raw",
   "metadata": {
    "vscode": {
     "languageId": "raw"
    }
   },
   "source": [
    "---\n",
    "title: \"Calculus: Synthetic Division\"\n",
    "author: \"Tony Phung\"\n",
    "date: \"2024-12-21\"\n",
    "categories: [calculus]\n",
    "image: \"imgs/3_synthetic_division.png\"\n",
    "toc: true\n",
    "description: \"Learning a factoring technique (from Ex 2.3.85, Thomas 13e pp.77)\"\n",
    "---"
   ]
  },
  {
   "cell_type": "markdown",
   "metadata": {},
   "source": [
    "![](imgs/3_synthetic_division.png)"
   ]
  },
  {
   "cell_type": "markdown",
   "metadata": {},
   "source": [
    "# 1. Introduction\n",
    "\n",
    "From `Ex 2.3.85, Thomas 13e pp.77`:\n",
    "\n",
    "$$\\lim_{x\\to-1}\\frac{x^3-x^2-5x-3}{(x+1)^2}$$"
   ]
  },
  {
   "cell_type": "markdown",
   "metadata": {},
   "source": [
    "# 2. Factorising $x^3-x^2-5x-3$\n",
    "Check $x=-1$ is a factor of numerator $x^3-x^2-5x-3$:  \n",
    "\n",
    "- **Step 1**: Confirm denominator $(x+1)^2$ is $zero$ at $x=1$  \n",
    "\n",
    "- **Step 2**: If so, confirm numerator $x^3-x^2-5x-3$ is $zero$ at $x=1$.\n",
    "\n",
    "But here, I got stuck as I do not know (or recall) any method to check this.\n",
    "\n",
    "Hence after some googling/ai-ing, I found a division technique called **Synthetic Division**.\n",
    "\n",
    "Below are two practice examples.\n"
   ]
  },
  {
   "cell_type": "markdown",
   "metadata": {},
   "source": [
    "# 3. Synthetic Division Examples\n",
    "![](imgs/3_synthetic_division.png)"
   ]
  },
  {
   "cell_type": "markdown",
   "metadata": {
    "vscode": {
     "languageId": "raw"
    }
   },
   "source": [
    "# 4. Ex2.3.85 Through Synthetic Division\n",
    "$$\\lim_{x\\to-1}\\frac{x^3-x^2-5x-3}{(x+1)^2}$$"
   ]
  },
  {
   "cell_type": "markdown",
   "metadata": {},
   "source": [
    "## 4.1 Synthetic divison $(x^3-x^2-5x-3)$ by $(x+1)$\n",
    "|-1|+1|-1|-5|-3|\n",
    "|--|--|--|--|--|\n",
    "|$+$|+0|-1|+2|+3|\n",
    "|$/$|+1|-2|-3|+$0$|"
   ]
  },
  {
   "cell_type": "markdown",
   "metadata": {},
   "source": [
    "\n",
    "Remainder is $0$ (bottom right cell).  \n",
    "\n",
    "Therefore $(x+1)$ is a factor of $(x^3-x^2-5x-3)$  \n",
    "\n",
    "The final line represents the $coefficients$ of the other **factor**, that is:  \n",
    "$$x^2-2x-3$$\n",
    "\n",
    "Therefore $$(x^3-x^2-5x-3)$$  \n",
    "$$=(x+1)(x^2-2x-3)$$"
   ]
  },
  {
   "cell_type": "markdown",
   "metadata": {},
   "source": [
    "## 4.2 Back to the question\n",
    "$$\\frac{x^3-x^2-5x-3}{(x+1)^2}$$\n",
    "$$\\frac{(x+1)(x^2-2x-3)}{(x+1)(x+1)}$$\n",
    "$$\\frac{(x^2-2x-3)}{(x+1)}$$\n",
    "$$\\frac{(x-3)(x+1)}{(x+1)}$$\n",
    "$${(x-3)}$$"
   ]
  },
  {
   "cell_type": "markdown",
   "metadata": {},
   "source": [
    "$$\\lim_{x\\to-1}\\frac{x^3-x^2-5x-3}{(x+1)^2}$$\n",
    "$$\\lim_{x\\to-1}(x-3)$$\n",
    "$$(-1-3)$$\n",
    "$$-4$$\n"
   ]
  }
 ],
 "metadata": {
  "kernelspec": {
   "display_name": "blog-T-2huGx2",
   "language": "python",
   "name": "python3"
  },
  "language_info": {
   "codemirror_mode": {
    "name": "ipython",
    "version": 3
   },
   "file_extension": ".py",
   "mimetype": "text/x-python",
   "name": "python",
   "nbconvert_exporter": "python",
   "pygments_lexer": "ipython3",
   "version": "3.10.12"
  }
 },
 "nbformat": 4,
 "nbformat_minor": 2
}
