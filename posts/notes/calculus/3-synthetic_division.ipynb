{
 "cells": [
  {
   "cell_type": "raw",
   "metadata": {
    "vscode": {
     "languageId": "raw"
    }
   },
   "source": [
    "---\n",
    "title: \"Calculus: Synthetic Division\"\n",
    "author: \"Tony Phung\"\n",
    "date: \"2024-12-21\"\n",
    "categories: [calculus]\n",
    "image: \"imgs/3_synthetic_division.png\"\n",
    "toc: true\n",
    "description: \"Learning a factoring technique (from Ex 2.3.85, Thomas 13e pp.77)\"\n",
    "---"
   ]
  },
  {
   "cell_type": "markdown",
   "metadata": {},
   "source": [
    "![](imgs/3_synthetic_division.png)"
   ]
  },
  {
   "cell_type": "markdown",
   "metadata": {},
   "source": [
    "# 1. Introduction\n",
    "\n",
    "From `Ex 2.3.85, Thomas 13e pp.77`:\n",
    "\n",
    "$$\\lim_{x\\to-1}\\frac{x^3-x^2-5x-3}{(x+1)^2}$$"
   ]
  },
  {
   "cell_type": "markdown",
   "metadata": {},
   "source": [
    "# 2. Factorising $x^3-x^2-5x-3$\n",
    "Check $x=-1$ is a factor of numerator $x^3-x^2-5x-3$:  \n",
    "\n",
    "- **Step 1**: Confirm denominator $(x+1)^2$ is $zero$ at $x=1$  \n",
    "\n",
    "- **Step 2**: If so, confirm numerator $x^3-x^2-5x-3$ is $zero$ at $x=1$.\n",
    "\n",
    "But here, I got stuck as I do not know (or recall) any method to check this.\n",
    "\n",
    "Hence after some googling/ai-ing, I found a division technique called **Synthetic Division**.\n",
    "\n",
    "Below are two practice examples.\n"
   ]
  },
  {
   "cell_type": "markdown",
   "metadata": {},
   "source": [
    "# 3. Synthetic Division Examples\n",
    "![](imgs/3_synthetic_division.png)"
   ]
  },
  {
   "cell_type": "markdown",
   "metadata": {
    "vscode": {
     "languageId": "raw"
    }
   },
   "source": [
    "# 4. Ex2.3.85 Through Synthetic Division\n",
    "$$\\lim_{x\\to-1}\\frac{x^3-x^2-5x-3}{(x+1)^2}$$"
   ]
  },
  {
   "cell_type": "markdown",
   "metadata": {},
   "source": [
    "## 4.1 Synthetic divison $(x^3-x^2-5x-3)$ by $(x+1)$\n",
    "|-1|+1|-1|-5|-3|\n",
    "|--|--|--|--|--|\n",
    "|$+$|+0|-1|+2|+3|\n",
    "|$/$|+1|-2|-3|+$0$|"
   ]
  },
  {
   "cell_type": "markdown",
   "metadata": {},
   "source": [
    "\n",
    "Remainder is $0$ (bottom right cell).  \n",
    "\n",
    "Therefore $(x+1)$ is a factor of $(x^3-x^2-5x-3)$  \n",
    "\n",
    "The final line represents the $coefficients$ of the other **factor**, that is:  \n",
    "$$x^2-2x-3$$\n",
    "\n",
    "Therefore $$(x^3-x^2-5x-3)$$  \n",
    "$$=(x+1)(x^2-2x-3)$$"
   ]
  },
  {
   "cell_type": "markdown",
   "metadata": {},
   "source": [
    "## 4.2 Back to the question\n",
    "$$\\frac{x^3-x^2-5x-3}{(x+1)^2}$$\n",
    "$$\\frac{(x+1)(x^2-2x-3)}{(x+1)(x+1)}$$\n",
    "$$\\frac{(x^2-2x-3)}{(x+1)}$$\n",
    "$$\\frac{(x-3)(x+1)}{(x+1)}$$\n",
    "$${(x-3)}$$"
   ]
  },
  {
   "cell_type": "markdown",
   "metadata": {},
   "source": [
    "$$\\lim_{x\\to-1}\\frac{x^3-x^2-5x-3}{(x+1)^2}$$\n",
    "$$\\lim_{x\\to-1}(x-3)$$\n",
    "$$(-1-3)$$\n",
    "$$-4$$\n"
   ]
  },
  {
   "cell_type": "markdown",
   "metadata": {},
   "source": [
    "# 5. Ex2.3.85 Through Plotting"
   ]
  },
  {
   "cell_type": "markdown",
   "metadata": {},
   "source": [
    "## 5.1 Import libraries"
   ]
  },
  {
   "cell_type": "code",
   "execution_count": 1,
   "metadata": {},
   "outputs": [],
   "source": [
    "import numpy as np\n",
    "import matplotlib.pyplot as plt"
   ]
  },
  {
   "cell_type": "markdown",
   "metadata": {},
   "source": [
    "## 5.2 Create x's: `xs`"
   ]
  },
  {
   "cell_type": "code",
   "execution_count": 2,
   "metadata": {},
   "outputs": [
    {
     "data": {
      "text/plain": [
       "array([-1.1 , -1.09, -1.08, -1.07, -1.06, -1.05, -1.04, -1.03, -1.02,\n",
       "       -1.01, -1.  , -0.99, -0.98, -0.97, -0.96, -0.95, -0.94, -0.93,\n",
       "       -0.92, -0.91, -0.9 ])"
      ]
     },
     "execution_count": 2,
     "metadata": {},
     "output_type": "execute_result"
    }
   ],
   "source": [
    "xs = np.linspace(-1.1,-0.9,21)\n",
    "xs"
   ]
  },
  {
   "cell_type": "markdown",
   "metadata": {},
   "source": [
    "## 5.3 Create function: `fx`"
   ]
  },
  {
   "cell_type": "markdown",
   "metadata": {},
   "source": [
    "## 5.3.1 `lambda` method"
   ]
  },
  {
   "cell_type": "code",
   "execution_count": 3,
   "metadata": {},
   "outputs": [],
   "source": [
    "fx = lambda x: (x**3-x**2-5*x-3)/((x+1)**2)\n"
   ]
  },
  {
   "cell_type": "markdown",
   "metadata": {},
   "source": [
    "## 5.3.2 `def` method"
   ]
  },
  {
   "cell_type": "code",
   "execution_count": 4,
   "metadata": {},
   "outputs": [],
   "source": [
    "def fx2(x): return (x**3-x**2-5*x-3)/((x+1)**2)"
   ]
  },
  {
   "cell_type": "markdown",
   "metadata": {},
   "source": [
    "### 5.3.3 Check definitions [optional]"
   ]
  },
  {
   "cell_type": "code",
   "execution_count": 5,
   "metadata": {},
   "outputs": [
    {
     "data": {
      "text/plain": [
       "'def fx2(x): return (x**3-x**2-5*x-3)/((x+1)**2)\\n'"
      ]
     },
     "execution_count": 5,
     "metadata": {},
     "output_type": "execute_result"
    }
   ],
   "source": [
    "import inspect\n",
    "inspect.getsource(fx)\n",
    "inspect.getsource(fx2)"
   ]
  },
  {
   "cell_type": "markdown",
   "metadata": {},
   "source": [
    "## 5.4 Calculate y's: `ys`"
   ]
  },
  {
   "cell_type": "code",
   "execution_count": 6,
   "metadata": {},
   "outputs": [
    {
     "name": "stderr",
     "output_type": "stream",
     "text": [
      "/tmp/ipykernel_62451/871469998.py:1: RuntimeWarning: invalid value encountered in divide\n",
      "  fx = lambda x: (x**3-x**2-5*x-3)/((x+1)**2)\n"
     ]
    },
    {
     "data": {
      "text/plain": [
       "array([-4.1 , -4.09, -4.08, -4.07, -4.06, -4.05, -4.04, -4.03, -4.02,\n",
       "       -4.01,   nan, -3.99, -3.98, -3.97, -3.96, -3.95, -3.94, -3.93,\n",
       "       -3.92, -3.91, -3.9 ])"
      ]
     },
     "execution_count": 6,
     "metadata": {},
     "output_type": "execute_result"
    }
   ],
   "source": [
    "ys = fx(xs)\n",
    "ys"
   ]
  },
  {
   "cell_type": "markdown",
   "metadata": {},
   "source": [
    "## 5.5 Plot"
   ]
  },
  {
   "cell_type": "code",
   "execution_count": 11,
   "metadata": {},
   "outputs": [
    {
     "data": {
      "text/plain": [
       "<matplotlib.legend.Legend at 0x7f55c1ef5030>"
      ]
     },
     "execution_count": 11,
     "metadata": {},
     "output_type": "execute_result"
    },
    {
     "data": {
      "image/png": "[encoded data removed]",
      "text/plain": [
       "<Figure size 640x480 with 1 Axes>"
      ]
     },
     "metadata": {},
     "output_type": "display_data"
    }
   ],
   "source": [
    "# plt.scatter(xs,ys,label=\"Data Points\", color='red')\n",
    "# plt.scatter(xs,ys)\n",
    "plt.vlines(x=-1,ymin=ys[0],ymax=ys[-1],linestyles=\"dotted\", label=\"$x=-1$\", colors=\"red\")\n",
    "\n",
    "# plt.plot(xs, ys, label=r\"$\\lim_{x\\to-1}\\frac{x^3-x^2-5x-3}{(x+1)^2}$\")\n",
    "plt.plot(xs, ys, label=r'$\\lim_{x\\to-1}\\frac{x^3 - x^2 - 5x - 3}{(x+1)^2}=x-3$',)\n",
    "plt.legend()"
   ]
  },
  {
   "cell_type": "markdown",
   "metadata": {},
   "source": [
    "The plot shows limit is $-4$"
   ]
  }
 ],
 "metadata": {
  "kernelspec": {
   "display_name": "blog-T-2huGx2",
   "language": "python",
   "name": "python3"
  },
  "language_info": {
   "codemirror_mode": {
    "name": "ipython",
    "version": 3
   },
   "file_extension": ".py",
   "mimetype": "text/x-python",
   "name": "python",
   "nbconvert_exporter": "python",
   "pygments_lexer": "ipython3",
   "version": "3.10.12"
  }
 },
 "nbformat": 4,
 "nbformat_minor": 2
}
