{
 "cells": [
  {
   "cell_type": "raw",
   "metadata": {
    "vscode": {
     "languageId": "raw"
    }
   },
   "source": [
    "---\n",
    "title: \"Calculus: Synthetic Division\"\n",
    "author: \"Tony Phung\"\n",
    "date: \"2024-12-21\"\n",
    "categories: [calculus]\n",
    "image: \"imgs/3_synthetic_division.png\"\n",
    "toc: true\n",
    "description: \"Learning a factoring technique (from Ex 2.3.85, Thomas 13e pp.77)\"\n",
    "---"
   ]
  },
  {
   "cell_type": "markdown",
   "metadata": {},
   "source": [
    "![](imgs/3_synthetic_division.png)"
   ]
  },
  {
   "cell_type": "markdown",
   "metadata": {},
   "source": [
    "# 1. Introduction\n",
    "\n",
    "From `Ex 2.3.85, Thomas 13e pp.77`:\n",
    "\n",
    "$$\\lim_{x\\to-1}\\frac{x^3-x^2-5x-3}{(x+1)^2}$$"
   ]
  },
  {
   "cell_type": "markdown",
   "metadata": {},
   "source": [
    "# 2. Factorising $x^3-x^2-5x-3$\n",
    "Check $x=-1$ is a factor of numerator $x^3-x^2-5x-3$:  \n",
    "\n",
    "- **Step 1**: Confirm denominator $(x+1)^2$ is $zero$ at $x=1$  \n",
    "\n",
    "- **Step 2**: If so, confirm numerator $x^3-x^2-5x-3$ is $zero$ at $x=1$.\n",
    "\n",
    "But here, I got stuck as I do not know (or recall) any method to check this.\n",
    "\n",
    "Hence after some googling/ai-ing, I found a division technique called **Synthetic Division**.\n",
    "\n",
    "Below are two practice examples.\n"
   ]
  },
  {
   "cell_type": "markdown",
   "metadata": {},
   "source": [
    "# 3. Synthetic Division Examples\n",
    "![](imgs/3_synthetic_division.png)"
   ]
  }
 ],
 "metadata": {
  "kernelspec": {
   "display_name": "blog-T-2huGx2",
   "language": "python",
   "name": "python3"
  },
  "language_info": {
   "codemirror_mode": {
    "name": "ipython",
    "version": 3
   },
   "file_extension": ".py",
   "mimetype": "text/x-python",
   "name": "python",
   "nbconvert_exporter": "python",
   "pygments_lexer": "ipython3",
   "version": "3.10.12"
  }
 },
 "nbformat": 4,
 "nbformat_minor": 2
}
