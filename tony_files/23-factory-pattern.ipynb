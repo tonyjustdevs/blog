{
 "cells": [
  {
   "cell_type": "code",
   "execution_count": 48,
   "metadata": {},
   "outputs": [],
   "source": [
    "from pathlib import Path\n",
    "import json\n",
    "import xml.etree.ElementTree as ET    \n",
    "\n",
    "class JsonExtractor():\n",
    "    def __init__(self, file_path_json: Path):\n",
    "        self.data = {}\n",
    "        with open(file_path_json) as f:\n",
    "            self.data = json.load(f)\n",
    "    @property\n",
    "    def parsed_data(self):\n",
    "        return self.data\n",
    "    \n",
    "class XmlExtractor():\n",
    "    def __init__(self, file_xml_PATH: Path):\n",
    "        self.tree = ET.parse(source=file_xml_PATH)\n",
    "    @property\n",
    "    def parsed_data(self):\n",
    "        return self.tree"
   ]
  },
  {
   "cell_type": "code",
   "execution_count": 49,
   "metadata": {},
   "outputs": [],
   "source": [
    "import os\n",
    "\n",
    "# 1.  get project root directory\n",
    "project_dir_STR = os.getcwd()\n",
    "\n",
    "# 2.  get data file paths\n",
    "# 2a. movies json path\n",
    "movies_json_PATH = project_dir_STR/Path(\"movies.json\")\n",
    "\n",
    "# 2b. person xml path\n",
    "person_xml_relo_PATH = project_dir_STR/Path(\"person.xml\")\n",
    "# person_xml_abs_PATH = Path(\"/home/tonydevs/learn/design_patterns/tony_files/3-Creational-Design-Patterns/3-1-Factory-Pattern/ExtractFactoryApp/person.xml\")\n",
    "\n",
    "# 3. create data instances\n",
    "movies_json_INSTANCE = JsonExtractor(movies_json_PATH)\n",
    "person_xml_INSTANCE = XmlExtractor(person_xml_relo_PATH)"
   ]
  },
  {
   "cell_type": "code",
   "execution_count": 50,
   "metadata": {},
   "outputs": [],
   "source": [
    "# 3. create factory \n",
    "from pathlib import Path\n",
    "def data_extractor_factory(file_path: Path):\n",
    "    ext = file_path.name.split(\".\")[-1] # json or xml\n",
    "    \n",
    "    if ext == 'json':\n",
    "        print(\"processing json\")\n",
    "        return JsonExtractor(file_path)\n",
    "    elif ext == 'xml':\n",
    "        print(\"processing xml\")\n",
    "        return XmlExtractor(file_path)\n",
    "    else:\n",
    "        # raise ValueError(f\"Apologies Master, I do not compute 🤖 .{ext}\")\n",
    "        raise ValueError(f\"Do not compute 🤖 .{ext!r}\")\n"
   ]
  },
  {
   "cell_type": "code",
   "execution_count": 62,
   "metadata": {},
   "outputs": [
    {
     "name": "stdout",
     "output_type": "stream",
     "text": [
      "processing json\n"
     ]
    },
    {
     "data": {
      "text/plain": [
       "{'title': 'After Dark in Central Park',\n",
       " 'year': 1900,\n",
       " 'director': None,\n",
       " 'cast': None,\n",
       " 'genre': None}"
      ]
     },
     "execution_count": 62,
     "metadata": {},
     "output_type": "execute_result"
    }
   ],
   "source": [
    "movies_factory_json_INSTANCE = data_extractor_factory(movies_json_PATH)\n",
    "data_list = movies_factory_json_INSTANCE.parsed_data\n",
    "data_list[0]\n"
   ]
  },
  {
   "cell_type": "code",
   "execution_count": 63,
   "metadata": {},
   "outputs": [
    {
     "name": "stdout",
     "output_type": "stream",
     "text": [
      "processing xml\n"
     ]
    },
    {
     "data": {
      "text/plain": [
       "<Element 'persons' at 0x7f9de0148310>"
      ]
     },
     "execution_count": 63,
     "metadata": {},
     "output_type": "execute_result"
    }
   ],
   "source": [
    "person_factory_xml_INSTANCE = data_extractor_factory(person_xml_relo_PATH)\n",
    "person_factory_xml_INSTANCE.parsed_data.getroot()"
   ]
  },
  {
   "cell_type": "code",
   "execution_count": null,
   "metadata": {},
   "outputs": [],
   "source": []
  },
  {
   "cell_type": "code",
   "execution_count": null,
   "metadata": {},
   "outputs": [],
   "source": []
  },
  {
   "cell_type": "code",
   "execution_count": 35,
   "metadata": {},
   "outputs": [
    {
     "ename": "ValueError",
     "evalue": "Apologies Master, I do not compute 🤖 .'txt'",
     "output_type": "error",
     "traceback": [
      "\u001b[0;31m---------------------------------------------------------------------------\u001b[0m",
      "\u001b[0;31mValueError\u001b[0m                                Traceback (most recent call last)",
      "Cell \u001b[0;32mIn[35], line 4\u001b[0m\n\u001b[1;32m      1\u001b[0m \u001b[38;5;66;03m# data_instance = data_extractor_factory(file_path=movies_json_PATH)\u001b[39;00m\n\u001b[1;32m      2\u001b[0m \u001b[38;5;66;03m# data_instance = data_extractor_factory(file_path=person_xml_relo_PATH)\u001b[39;00m\n\u001b[0;32m----> 4\u001b[0m data_instance \u001b[38;5;241m=\u001b[39m \u001b[43mdata_extractor_factory\u001b[49m\u001b[43m(\u001b[49m\u001b[43mfile_path\u001b[49m\u001b[38;5;241;43m=\u001b[39;49m\u001b[43mproject_dir_STR\u001b[49m\u001b[38;5;241;43m/\u001b[39;49m\u001b[43mPath\u001b[49m\u001b[43m(\u001b[49m\u001b[38;5;124;43m\"\u001b[39;49m\u001b[38;5;124;43myolo.txt\u001b[39;49m\u001b[38;5;124;43m\"\u001b[39;49m\u001b[43m)\u001b[49m\u001b[43m)\u001b[49m\n\u001b[1;32m      6\u001b[0m \u001b[38;5;66;03m# data_instance.parsed_data.getroot()\u001b[39;00m\n",
      "Cell \u001b[0;32mIn[34], line 14\u001b[0m, in \u001b[0;36mdata_extractor_factory\u001b[0;34m(file_path)\u001b[0m\n\u001b[1;32m     11\u001b[0m     \u001b[38;5;28;01mreturn\u001b[39;00m XmlExtractor(file_path)\n\u001b[1;32m     12\u001b[0m \u001b[38;5;28;01melse\u001b[39;00m:\n\u001b[1;32m     13\u001b[0m     \u001b[38;5;66;03m# raise ValueError(f\"Apologies Master, I do not compute 🤖 .{ext}\")\u001b[39;00m\n\u001b[0;32m---> 14\u001b[0m     \u001b[38;5;28;01mraise\u001b[39;00m \u001b[38;5;167;01mValueError\u001b[39;00m(\u001b[38;5;124mf\u001b[39m\u001b[38;5;124m\"\u001b[39m\u001b[38;5;124mApologies Master, I do not compute 🤖 .\u001b[39m\u001b[38;5;132;01m{\u001b[39;00mext\u001b[38;5;132;01m!r}\u001b[39;00m\u001b[38;5;124m\"\u001b[39m)\n",
      "\u001b[0;31mValueError\u001b[0m: Apologies Master, I do not compute 🤖 .'txt'"
     ]
    }
   ],
   "source": [
    "# data_instance = data_extractor_factory(file_path=movies_json_PATH)\n",
    "# data_instance = data_extractor_factory(file_path=person_xml_relo_PATH)\n",
    "\n",
    "data_instance = data_extractor_factory(file_path=project_dir_STR/Path(\"yolo.txt\"))\n",
    "\n",
    "# data_instance.parsed_data.getroot()"
   ]
  },
  {
   "cell_type": "code",
   "execution_count": 5,
   "metadata": {},
   "outputs": [
    {
     "data": {
      "text/plain": [
       "'xml'"
      ]
     },
     "execution_count": 5,
     "metadata": {},
     "output_type": "execute_result"
    }
   ],
   "source": [
    "# movies_json_PATH.name 'movies.json' (str)\n",
    "# person_xml_relo_PATH.name 'person.xml'\n",
    "\n",
    "# ext = movies_json_PATH.name.split(\".\")[-1]\n",
    "ext = person_xml_relo_PATH.name.split(\".\")[-1]\n",
    "ext\n"
   ]
  },
  {
   "cell_type": "code",
   "execution_count": null,
   "metadata": {},
   "outputs": [],
   "source": []
  },
  {
   "cell_type": "code",
   "execution_count": null,
   "metadata": {},
   "outputs": [],
   "source": []
  },
  {
   "cell_type": "code",
   "execution_count": null,
   "metadata": {},
   "outputs": [],
   "source": []
  },
  {
   "cell_type": "code",
   "execution_count": 19,
   "metadata": {},
   "outputs": [],
   "source": [
    "def extract_factory(filepath: Path):\n",
    "    ext = filepath.name.split(\".\")[-1]\n",
    "    if ext == \"json\":\n",
    "        return JSONDataExtractor(filepath)\n",
    "    elif ext == \"xml\":\n",
    "        return XMLDataExtractor(filepath)\n",
    "    else:\n",
    "        raise ValueError(\"Cannot extract data\")"
   ]
  },
  {
   "cell_type": "code",
   "execution_count": 20,
   "metadata": {},
   "outputs": [],
   "source": [
    "# import os\n",
    "# current_directory = os.getcwd()\n",
    "# current_directory"
   ]
  },
  {
   "cell_type": "code",
   "execution_count": 21,
   "metadata": {},
   "outputs": [],
   "source": [
    "def extract(case: str):\n",
    "    import os\n",
    "    current_directory = os.getcwd()\n",
    "    # dir_path = Path(__file__).parent\n",
    "    dir_path = Path(current_directory)\n",
    "    if case == \"json\":\n",
    "        path = dir_path / Path(\"movies.json\")\n",
    "        factory = extract_factory(path)\n",
    "        data = factory.parsed_data\n",
    "        for movie in data:\n",
    "            print(f\"- {movie['title']}\")\n",
    "            director = movie[\"director\"]\n",
    "            if director:\n",
    "                print(f\"   Director: {director}\")\n",
    "            genre = movie[\"genre\"]\n",
    "            if genre:\n",
    "                print(f\"   Genre: {genre}\")\n",
    "    elif case == \"xml\":\n",
    "        path = dir_path / Path(\"person.xml\")\n",
    "        factory = extract_factory(path)\n",
    "        data = factory.parsed_data\n",
    "        search_xpath = \".//person[lastName='Liar']\"\n",
    "        items = data.findall(search_xpath)\n",
    "        for item in items:\n",
    "            first = item.find(\"firstName\").text\n",
    "            last = item.find(\"lastName\").text\n",
    "            print(f\"- {first} {last}\")\n",
    "            for pn in item.find(\"phoneNumbers\"):\n",
    "                pn_type = pn.attrib[\"type\"]\n",
    "                pn_val = pn.text\n",
    "                phone = f\"{pn_type}: {pn_val}\"\n",
    "                print(f\"   {phone}\")"
   ]
  },
  {
   "cell_type": "code",
   "execution_count": null,
   "metadata": {},
   "outputs": [],
   "source": [
    "if __name__ == \"__main__\": # working ok\n",
    "    print(\"* JSON case *\")\n",
    "    extract(case=\"json\")\n",
    "    print(\"* XML case *\")\n",
    "    extract(case=\"xml\")"
   ]
  },
  {
   "cell_type": "code",
   "execution_count": null,
   "metadata": {},
   "outputs": [],
   "source": [
    "# * JSON case *\n",
    "# - After Dark in Central Park\n",
    "# - Boarding School Girls' Pajama Parade\n",
    "# - Buffalo Bill's Wild West Parad\n",
    "# - Caught\n",
    "# - Clowns Spinning Hats\n",
    "# - Capture of Boer Battery by British\n",
    "#    Director: James H. White\n",
    "#    Genre: Short documentary\n",
    "# - The Enchanted Drawing\n",
    "#    Director: J. Stuart Blackton\n",
    "# - Family Troubles\n",
    "# - Feeding Sea Lions\n",
    "# * XML case *\n",
    "# - Jimy Liar\n",
    "#    home: 212 555-1234\n",
    "# - Patty Liar\n",
    "#    home: 212 555-1234\n",
    "#    mobile: 001 452-8819"
   ]
  }
 ],
 "metadata": {
  "kernelspec": {
   "display_name": ".venv",
   "language": "python",
   "name": "python3"
  },
  "language_info": {
   "codemirror_mode": {
    "name": "ipython",
    "version": 3
   },
   "file_extension": ".py",
   "mimetype": "text/x-python",
   "name": "python",
   "nbconvert_exporter": "python",
   "pygments_lexer": "ipython3",
   "version": "3.13.0"
  }
 },
 "nbformat": 4,
 "nbformat_minor": 2
}
